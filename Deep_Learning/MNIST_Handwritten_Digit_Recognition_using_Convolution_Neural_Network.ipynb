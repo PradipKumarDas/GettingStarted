{
 "cells": [
  {
   "cell_type": "code",
   "execution_count": 13,
   "metadata": {},
   "outputs": [],
   "source": [
    "from keras.datasets import mnist\n",
    "from keras import models\n",
    "from keras import layers\n",
    "from keras.utils import to_categorical\n",
    "\n",
    "import numpy as np\n",
    "import matplotlib.pyplot as plt"
   ]
  },
  {
   "cell_type": "code",
   "execution_count": 5,
   "metadata": {},
   "outputs": [],
   "source": [
    "# Loads training and testing data\n",
    "(train_images, train_labels), (test_images, test_labels) = mnist.load_data()"
   ]
  },
  {
   "cell_type": "code",
   "execution_count": 6,
   "metadata": {},
   "outputs": [],
   "source": [
    "# Prepares training data\n",
    "train_images = train_images.reshape((60000, 28, 28, 1))\n",
    "train_images = train_images.astype('float32')/255\n",
    "train_labels = to_categorical(train_labels)\n",
    "\n",
    "test_images = test_images.reshape((10000, 28, 28, 1))\n",
    "test_images = test_images.astype('float32')/255\n",
    "test_labels = to_categorical(test_labels)\n",
    "\n",
    "# Splits training data further into training and validation data sets\n",
    "val_images = train_images[50000:]\n",
    "train_images = train_images[:50000]\n",
    "\n",
    "val_labels = train_labels[50000:]\n",
    "train_labels = train_labels[:50000]"
   ]
  },
  {
   "cell_type": "code",
   "execution_count": 7,
   "metadata": {},
   "outputs": [
    {
     "name": "stdout",
     "output_type": "stream",
     "text": [
      "WARNING:tensorflow:From /home/pradip/anaconda3/lib/python3.7/site-packages/keras/backend/tensorflow_backend.py:4070: The name tf.nn.max_pool is deprecated. Please use tf.nn.max_pool2d instead.\n",
      "\n"
     ]
    }
   ],
   "source": [
    "# Creates ConvNet model\n",
    "\n",
    "model = models.Sequential()\n",
    "model.add(layers.Conv2D(32, (3, 3), activation='relu', input_shape=(28, 28, 1)))\n",
    "model.add(layers.MaxPooling2D((2, 2)))\n",
    "model.add(layers.Conv2D(64, (3, 3), activation='relu'))\n",
    "model.add(layers.MaxPooling2D((2, 2)))\n",
    "model.add(layers.Conv2D(64, (3, 3), activation='relu'))\n",
    "model.add(layers.Flatten())\n",
    "model.add(layers.Dense(64, activation='relu'))\n",
    "model.add(layers.Dense(10, activation='softmax'))\n",
    "\n",
    "model.compile(optimizer='rmsprop', loss='categorical_crossentropy', metrics=['accuracy'])"
   ]
  },
  {
   "cell_type": "code",
   "execution_count": 8,
   "metadata": {},
   "outputs": [
    {
     "name": "stdout",
     "output_type": "stream",
     "text": [
      "WARNING:tensorflow:From /home/pradip/anaconda3/lib/python3.7/site-packages/keras/backend/tensorflow_backend.py:422: The name tf.global_variables is deprecated. Please use tf.compat.v1.global_variables instead.\n",
      "\n",
      "Train on 50000 samples, validate on 10000 samples\n",
      "Epoch 1/5\n",
      "50000/50000 [==============================] - 18s 366us/step - loss: 0.1851 - accuracy: 0.9422 - val_loss: 0.0772 - val_accuracy: 0.9760\n",
      "Epoch 2/5\n",
      "50000/50000 [==============================] - 18s 367us/step - loss: 0.0496 - accuracy: 0.9844 - val_loss: 0.0479 - val_accuracy: 0.9871\n",
      "Epoch 3/5\n",
      "50000/50000 [==============================] - 18s 369us/step - loss: 0.0339 - accuracy: 0.9894 - val_loss: 0.0368 - val_accuracy: 0.9901\n",
      "Epoch 4/5\n",
      "50000/50000 [==============================] - 19s 371us/step - loss: 0.0252 - accuracy: 0.9917 - val_loss: 0.0396 - val_accuracy: 0.9895\n",
      "Epoch 5/5\n",
      "50000/50000 [==============================] - 19s 372us/step - loss: 0.0208 - accuracy: 0.9936 - val_loss: 0.0395 - val_accuracy: 0.9898\n"
     ]
    }
   ],
   "source": [
    "# Trains model\n",
    "history = model.fit(train_images, train_labels, epochs=5, batch_size=64,\n",
    "                   validation_data=(val_images, val_labels))"
   ]
  },
  {
   "cell_type": "code",
   "execution_count": 9,
   "metadata": {},
   "outputs": [
    {
     "data": {
      "image/png": "[encoded data removed]",
      "text/plain": [
       "<Figure size 432x288 with 1 Axes>"
      ]
     },
     "metadata": {
      "needs_background": "light"
     },
     "output_type": "display_data"
    },
    {
     "data": {
      "image/png": "[encoded data removed]",
      "text/plain": [
       "<Figure size 432x288 with 1 Axes>"
      ]
     },
     "metadata": {
      "needs_background": "light"
     },
     "output_type": "display_data"
    }
   ],
   "source": [
    "# Evaluates training and validation performance\n",
    "\n",
    "history_dict = history.history\n",
    "\n",
    "epochs = range(1, len(history_dict[\"accuracy\"]) + 1)\n",
    "\n",
    "val_loss = history_dict[\"val_loss\"]\n",
    "train_loss = history_dict[\"loss\"]\n",
    "\n",
    "val_accuracy = history_dict[\"val_accuracy\"]\n",
    "train_accuracy = history_dict[\"accuracy\"]\n",
    "\n",
    "plt.plot(epochs, val_loss, \"b\", label = \"Validation Loss\")\n",
    "plt.plot(epochs, train_loss, \"bo\", label = \"Training Loss\")\n",
    "plt.xlabel(\"Epochs\")\n",
    "plt.ylabel(\"Loss\")\n",
    "plt.legend()\n",
    "plt.title(\"Validation & Training Loss\")\n",
    "plt.show()\n",
    "\n",
    "plt.plot(epochs, val_accuracy, \"b\", label = \"Validation Accuracy\")\n",
    "plt.plot(epochs, train_accuracy, \"bo\", label = \"Training Accuracy\")\n",
    "plt.xlabel(\"Epochs\")\n",
    "plt.ylabel(\"Loss\")\n",
    "plt.legend()\n",
    "plt.title(\"Validation & Training Accuracy\")\n",
    "plt.show()"
   ]
  },
  {
   "cell_type": "code",
   "execution_count": 10,
   "metadata": {},
   "outputs": [
    {
     "name": "stdout",
     "output_type": "stream",
     "text": [
      "Epoch 1/5\n",
      "60000/60000 [==============================] - 19s 318us/step - loss: 0.0165 - accuracy: 0.9952\n",
      "Epoch 2/5\n",
      "60000/60000 [==============================] - 19s 319us/step - loss: 0.0117 - accuracy: 0.9965\n",
      "Epoch 3/5\n",
      "60000/60000 [==============================] - 19s 320us/step - loss: 0.0093 - accuracy: 0.9972\n",
      "Epoch 4/5\n",
      "60000/60000 [==============================] - 19s 324us/step - loss: 0.0077 - accuracy: 0.9973\n",
      "Epoch 5/5\n",
      "60000/60000 [==============================] - 20s 329us/step - loss: 0.0065 - accuracy: 0.9980\n"
     ]
    },
    {
     "data": {
      "text/plain": [
       "<keras.callbacks.callbacks.History at 0x7f4e1aa07ed0>"
      ]
     },
     "execution_count": 10,
     "metadata": {},
     "output_type": "execute_result"
    }
   ],
   "source": [
    "# Combines back both training and validation and retrains final model\n",
    "\n",
    "train_images = np.append(train_images, val_images, axis=0)\n",
    "train_labels = np.append(train_labels, val_labels, axis=0)\n",
    "\n",
    "model.fit(train_images, train_labels, epochs=5, batch_size=128)"
   ]
  },
  {
   "cell_type": "code",
   "execution_count": 11,
   "metadata": {},
   "outputs": [
    {
     "name": "stdout",
     "output_type": "stream",
     "text": [
      "10000/10000 [==============================] - 1s 147us/step\n",
      "Testing Loss:  0.032281635216591095 , Testing Accuracy:  0.9925000071525574\n"
     ]
    }
   ],
   "source": [
    "# Evaluates model\n",
    "test_loss, test_accuracy = model.evaluate(test_images, test_labels)\n",
    "print(\"Testing Loss: \", test_loss, \", Testing Accuracy: \", test_accuracy)"
   ]
  }
 ],
 "metadata": {
  "kernelspec": {
   "display_name": "Python 3",
   "language": "python",
   "name": "python3"
  },
  "language_info": {
   "codemirror_mode": {
    "name": "ipython",
    "version": 3
   },
   "file_extension": ".py",
   "mimetype": "text/x-python",
   "name": "python",
   "nbconvert_exporter": "python",
   "pygments_lexer": "ipython3",
   "version": "3.7.6"
  }
 },
 "nbformat": 4,
 "nbformat_minor": 4
}
