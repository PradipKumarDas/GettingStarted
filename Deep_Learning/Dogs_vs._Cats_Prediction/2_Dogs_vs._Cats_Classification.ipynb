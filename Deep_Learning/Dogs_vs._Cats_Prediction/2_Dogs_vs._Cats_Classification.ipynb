{
 "cells": [
  {
   "cell_type": "markdown",
   "id": "wound-month",
   "metadata": {
    "id": "wound-month"
   },
   "source": [
    "# This is a Deep Learning based binary classifier that predicts if a picture is of a dog or a cat.\n",
    "\n",
    "### It uses a convolutional neural network for the prediction and prediction accuracy is improved over iterations mentioned below.\n",
    "\n",
    "#### 1. Building baseline model with simple convolutional network\n",
    "#### 2. Improving accuracy by applying dropout and data augmentation\n",
    "#### 3. Improving accuracy further by using pretrained model, and performing\n",
    "    a) fast feature extraction (without data augmentation) and\n",
    "    b) feature extraction with data augmentation\n",
    "#### 4. Improving accuracy even further by applying fine-tuning on pretrained model"
   ]
  },
  {
   "cell_type": "code",
   "execution_count": 7,
   "id": "handy-linux",
   "metadata": {
    "executionInfo": {
     "elapsed": 2828,
     "status": "ok",
     "timestamp": 1616932411652,
     "user": {
      "displayName": "Pradip Kumar Das",
      "photoUrl": "https://lh3.googleusercontent.com/a-/AOh14GhOol7HvwC1mRwKgqTD5gVSvnT40P-7O36m_hHS=s64",
      "userId": "12916671935047684031"
     },
     "user_tz": -330
    },
    "id": "handy-linux"
   },
   "outputs": [],
   "source": [
    "# Imports important packages\n",
    "\n",
    "from tensorflow.keras import models\n",
    "from tensorflow.keras import layers\n",
    "from tensorflow.keras import optimizers\n",
    "from tensorflow.keras.preprocessing.image import ImageDataGenerator\n",
    "\n",
    "import os\n",
    "import numpy as np\n",
    "import matplotlib.pyplot as plt"
   ]
  },
  {
   "cell_type": "markdown",
   "id": "later-factory",
   "metadata": {
    "id": "later-factory"
   },
   "source": [
    "### Building baseline model with simple convolutional network¶"
   ]
  },
  {
   "cell_type": "code",
   "execution_count": null,
   "id": "united-cooling",
   "metadata": {
    "id": "united-cooling",
    "outputId": "5f5e88ed-4075-4ce6-8c9a-c89b29e0dc5f"
   },
   "outputs": [
    {
     "name": "stdout",
     "output_type": "stream",
     "text": [
      "WARNING:tensorflow:From /home/pradip/anaconda3/lib/python3.7/site-packages/keras/backend/tensorflow_backend.py:4070: The name tf.nn.max_pool is deprecated. Please use tf.nn.max_pool2d instead.\n",
      "\n"
     ]
    }
   ],
   "source": [
    "# Creates initial convolution network from scratch\n",
    "\n",
    "model = models.Sequential()\n",
    "model.add(layers.Conv2D(32, (3, 3), activation=\"relu\", input_shape=(150, 150, 3)))\n",
    "model.add(layers.MaxPooling2D((2, 2)))\n",
    "model.add(layers.Conv2D(64, (3, 3), activation=\"relu\"))\n",
    "model.add(layers.MaxPooling2D((2, 2)))\n",
    "model.add(layers.Conv2D(128, (3, 3), activation=\"relu\"))\n",
    "model.add(layers.MaxPooling2D((2, 2)))\n",
    "model.add(layers.Conv2D(128, (3, 3), activation=\"relu\"))\n",
    "model.add(layers.MaxPooling2D((2, 2)))\n",
    "model.add(layers.Flatten())\n",
    "model.add(layers.Dense(512, activation=\"relu\"))\n",
    "model.add(layers.Dense(1, activation=\"sigmoid\"))"
   ]
  },
  {
   "cell_type": "code",
   "execution_count": null,
   "id": "bridal-chart",
   "metadata": {
    "id": "bridal-chart",
    "outputId": "8c8e688e-62c4-4adb-99c8-c0489caed54e"
   },
   "outputs": [
    {
     "name": "stdout",
     "output_type": "stream",
     "text": [
      "Model: \"sequential_1\"\n",
      "_________________________________________________________________\n",
      "Layer (type)                 Output Shape              Param #   \n",
      "=================================================================\n",
      "conv2d_1 (Conv2D)            (None, 148, 148, 32)      896       \n",
      "_________________________________________________________________\n",
      "max_pooling2d_1 (MaxPooling2 (None, 74, 74, 32)        0         \n",
      "_________________________________________________________________\n",
      "conv2d_2 (Conv2D)            (None, 72, 72, 64)        18496     \n",
      "_________________________________________________________________\n",
      "max_pooling2d_2 (MaxPooling2 (None, 36, 36, 64)        0         \n",
      "_________________________________________________________________\n",
      "conv2d_3 (Conv2D)            (None, 34, 34, 128)       73856     \n",
      "_________________________________________________________________\n",
      "max_pooling2d_3 (MaxPooling2 (None, 17, 17, 128)       0         \n",
      "_________________________________________________________________\n",
      "conv2d_4 (Conv2D)            (None, 15, 15, 128)       147584    \n",
      "_________________________________________________________________\n",
      "max_pooling2d_4 (MaxPooling2 (None, 7, 7, 128)         0         \n",
      "_________________________________________________________________\n",
      "flatten_1 (Flatten)          (None, 6272)              0         \n",
      "_________________________________________________________________\n",
      "dense_1 (Dense)              (None, 512)               3211776   \n",
      "_________________________________________________________________\n",
      "dense_2 (Dense)              (None, 1)                 513       \n",
      "=================================================================\n",
      "Total params: 3,453,121\n",
      "Trainable params: 3,453,121\n",
      "Non-trainable params: 0\n",
      "_________________________________________________________________\n"
     ]
    }
   ],
   "source": [
    "# Checks for model summary\n",
    "\n",
    "model.summary()"
   ]
  },
  {
   "cell_type": "code",
   "execution_count": null,
   "id": "confused-pledge",
   "metadata": {
    "id": "confused-pledge",
    "outputId": "d5a9871b-7a52-4daf-912e-9ebe62383ac9"
   },
   "outputs": [
    {
     "name": "stdout",
     "output_type": "stream",
     "text": [
      "WARNING:tensorflow:From /home/pradip/anaconda3/lib/python3.7/site-packages/tensorflow/python/ops/nn_impl.py:180: add_dispatch_support.<locals>.wrapper (from tensorflow.python.ops.array_ops) is deprecated and will be removed in a future version.\n",
      "Instructions for updating:\n",
      "Use tf.where in 2.0, which has the same broadcast rule as np.where\n"
     ]
    }
   ],
   "source": [
    "# Compiles the above ConvNet model\n",
    "\n",
    "model.compile(loss=\"binary_crossentropy\", optimizer=optimizers.RMSprop(lr=1e-4), \n",
    "              metrics=[\"acc\"])"
   ]
  },
  {
   "cell_type": "code",
   "execution_count": null,
   "id": "median-prairie",
   "metadata": {
    "id": "median-prairie",
    "outputId": "911430f8-7c6d-4719-abcd-3ffbd2aa05d0"
   },
   "outputs": [
    {
     "name": "stdout",
     "output_type": "stream",
     "text": [
      "Found 2000 images belonging to 2 classes.\n",
      "Found 1000 images belonging to 2 classes.\n"
     ]
    }
   ],
   "source": [
    "# Sets images path for both training and validation images, and creates respective image data generators\n",
    "\n",
    "train_dir = os.path.join(os.getcwd(), \"Data\", \"train\")\n",
    "val_dir = os.path.join(os.getcwd(), \"Data\", \"validation\")\n",
    "\n",
    "train_generator = ImageDataGenerator(rescale=1./255).flow_from_directory(\n",
    "                    train_dir,\n",
    "                    target_size=(150, 150),\n",
    "                    batch_size=20,\n",
    "                    class_mode=\"binary\")\n",
    "\n",
    "val_generator = ImageDataGenerator(rescale=1./255).flow_from_directory(\n",
    "                    val_dir,\n",
    "                    target_size=(150, 150),\n",
    "                    batch_size=20,\n",
    "                    class_mode=\"binary\")"
   ]
  },
  {
   "cell_type": "code",
   "execution_count": null,
   "id": "warming-isolation",
   "metadata": {
    "id": "warming-isolation",
    "outputId": "4c14709e-7a0a-436d-aec1-e4d20bff5c26"
   },
   "outputs": [
    {
     "name": "stdout",
     "output_type": "stream",
     "text": [
      "WARNING:tensorflow:From /home/pradip/anaconda3/lib/python3.7/site-packages/keras/backend/tensorflow_backend.py:422: The name tf.global_variables is deprecated. Please use tf.compat.v1.global_variables instead.\n",
      "\n",
      "Epoch 1/30\n",
      "100/100 [==============================] - 46s 461ms/step - loss: 0.6918 - acc: 0.5090 - val_loss: 0.6446 - val_acc: 0.5800\n",
      "Epoch 2/30\n",
      "100/100 [==============================] - 47s 467ms/step - loss: 0.6570 - acc: 0.6125 - val_loss: 0.7031 - val_acc: 0.5900\n",
      "Epoch 3/30\n",
      "100/100 [==============================] - 48s 478ms/step - loss: 0.6146 - acc: 0.6685 - val_loss: 0.5187 - val_acc: 0.6600\n",
      "Epoch 4/30\n",
      "100/100 [==============================] - 53s 526ms/step - loss: 0.5767 - acc: 0.6975 - val_loss: 0.5541 - val_acc: 0.6700\n",
      "Epoch 5/30\n",
      "100/100 [==============================] - 57s 565ms/step - loss: 0.5425 - acc: 0.7165 - val_loss: 0.7397 - val_acc: 0.6660\n",
      "Epoch 6/30\n",
      "100/100 [==============================] - 57s 567ms/step - loss: 0.5171 - acc: 0.7490 - val_loss: 0.5425 - val_acc: 0.6530\n",
      "Epoch 7/30\n",
      "100/100 [==============================] - 56s 563ms/step - loss: 0.4920 - acc: 0.7630 - val_loss: 0.5932 - val_acc: 0.6730\n",
      "Epoch 8/30\n",
      "100/100 [==============================] - 57s 566ms/step - loss: 0.4569 - acc: 0.7805 - val_loss: 0.4664 - val_acc: 0.6750\n",
      "Epoch 9/30\n",
      "100/100 [==============================] - 56s 563ms/step - loss: 0.4411 - acc: 0.7870 - val_loss: 0.5078 - val_acc: 0.7040\n",
      "Epoch 10/30\n",
      "100/100 [==============================] - 57s 566ms/step - loss: 0.4116 - acc: 0.8085 - val_loss: 0.6125 - val_acc: 0.7000\n",
      "Epoch 11/30\n",
      "100/100 [==============================] - 57s 569ms/step - loss: 0.3937 - acc: 0.8195 - val_loss: 0.6250 - val_acc: 0.7250\n",
      "Epoch 12/30\n",
      "100/100 [==============================] - 56s 565ms/step - loss: 0.3628 - acc: 0.8435 - val_loss: 0.7488 - val_acc: 0.7320\n",
      "Epoch 13/30\n",
      "100/100 [==============================] - 56s 563ms/step - loss: 0.3431 - acc: 0.8480 - val_loss: 0.5594 - val_acc: 0.7050\n",
      "Epoch 14/30\n",
      "100/100 [==============================] - 57s 567ms/step - loss: 0.3161 - acc: 0.8655 - val_loss: 0.2691 - val_acc: 0.7360\n",
      "Epoch 15/30\n",
      "100/100 [==============================] - 57s 566ms/step - loss: 0.2980 - acc: 0.8715 - val_loss: 0.8617 - val_acc: 0.7270\n",
      "Epoch 16/30\n",
      "100/100 [==============================] - 57s 568ms/step - loss: 0.2719 - acc: 0.8910 - val_loss: 0.6920 - val_acc: 0.7150\n",
      "Epoch 17/30\n",
      "100/100 [==============================] - 57s 570ms/step - loss: 0.2478 - acc: 0.9010 - val_loss: 0.6554 - val_acc: 0.7260\n",
      "Epoch 18/30\n",
      "100/100 [==============================] - 56s 562ms/step - loss: 0.2381 - acc: 0.9135 - val_loss: 0.9690 - val_acc: 0.7290\n",
      "Epoch 19/30\n",
      "100/100 [==============================] - 56s 562ms/step - loss: 0.2111 - acc: 0.9185 - val_loss: 0.8866 - val_acc: 0.7380\n",
      "Epoch 20/30\n",
      "100/100 [==============================] - 57s 569ms/step - loss: 0.1890 - acc: 0.9285 - val_loss: 1.0815 - val_acc: 0.7220\n",
      "Epoch 21/30\n",
      "100/100 [==============================] - 56s 563ms/step - loss: 0.1704 - acc: 0.9390 - val_loss: 0.5078 - val_acc: 0.7330\n",
      "Epoch 22/30\n",
      "100/100 [==============================] - 56s 565ms/step - loss: 0.1523 - acc: 0.9455 - val_loss: 0.5465 - val_acc: 0.7400\n",
      "Epoch 23/30\n",
      "100/100 [==============================] - 56s 564ms/step - loss: 0.1398 - acc: 0.9535 - val_loss: 0.1434 - val_acc: 0.7320\n",
      "Epoch 24/30\n",
      "100/100 [==============================] - 56s 565ms/step - loss: 0.1177 - acc: 0.9620 - val_loss: 0.9024 - val_acc: 0.7170\n",
      "Epoch 25/30\n",
      "100/100 [==============================] - 56s 563ms/step - loss: 0.1037 - acc: 0.9690 - val_loss: 0.5729 - val_acc: 0.7210\n",
      "Epoch 26/30\n",
      "100/100 [==============================] - 56s 563ms/step - loss: 0.0868 - acc: 0.9775 - val_loss: 0.9343 - val_acc: 0.7200\n",
      "Epoch 27/30\n",
      "100/100 [==============================] - 56s 563ms/step - loss: 0.0776 - acc: 0.9750 - val_loss: 1.0275 - val_acc: 0.7340\n",
      "Epoch 28/30\n",
      "100/100 [==============================] - 56s 564ms/step - loss: 0.0685 - acc: 0.9815 - val_loss: 0.7469 - val_acc: 0.7320\n",
      "Epoch 29/30\n",
      "100/100 [==============================] - 56s 564ms/step - loss: 0.0554 - acc: 0.9855 - val_loss: 2.0288 - val_acc: 0.7240\n",
      "Epoch 30/30\n",
      "100/100 [==============================] - 56s 562ms/step - loss: 0.0440 - acc: 0.9890 - val_loss: 2.0577 - val_acc: 0.7200\n"
     ]
    }
   ],
   "source": [
    "# Fits model\n",
    "\n",
    "history = model.fit(train_generator, steps_per_epoch=100, epochs=30,\n",
    "                             validation_data=val_generator, validation_steps=50)"
   ]
  },
  {
   "cell_type": "code",
   "execution_count": null,
   "id": "handmade-detail",
   "metadata": {
    "id": "handmade-detail"
   },
   "outputs": [],
   "source": [
    "# Saves the entire trained model into HDF5 file format.\n",
    "\n",
    "model.save(\"dogs_vs._cats_prediction_baselined_model.h5\")"
   ]
  },
  {
   "cell_type": "code",
   "execution_count": null,
   "id": "american-complaint",
   "metadata": {
    "id": "american-complaint",
    "outputId": "a48f3229-c2d7-40b4-c0f0-b1a846cfaf4c"
   },
   "outputs": [
    {
     "data": {
      "image/png": "[encoded data removed]",
      "text/plain": [
       "<Figure size 432x288 with 1 Axes>"
      ]
     },
     "metadata": {
      "needs_background": "light",
      "tags": []
     },
     "output_type": "display_data"
    },
    {
     "data": {
      "image/png": "[encoded data removed]",
      "text/plain": [
       "<Figure size 432x288 with 1 Axes>"
      ]
     },
     "metadata": {
      "needs_background": "light",
      "tags": []
     },
     "output_type": "display_data"
    }
   ],
   "source": [
    "# Plots the loss and accuracy over training and validation data\n",
    "\n",
    "epochs = len(history.history[\"acc\"])\n",
    "val_accuracy = history.history[\"val_acc\"]\n",
    "train_accuracy = history.history[\"acc\"]\n",
    "val_loss = history.history[\"val_loss\"]\n",
    "train_loss = history.history[\"loss\"]\n",
    "\n",
    "plt.plot(range(1, epochs+1), val_accuracy, \"b\", label=\"Validation Accuracy\")\n",
    "plt.plot(range(1, epochs+1), train_accuracy, \"bo\", label=\"Training Accuracy\")\n",
    "plt.xlabel(\"Epochs\")\n",
    "plt.ylabel(\"Accuracy\")\n",
    "plt.legend()\n",
    "plt.title(\"Validation vs. Training Accuracy\")\n",
    "plt.figure()\n",
    "\n",
    "plt.plot(range(1, epochs+1), val_loss, \"b\", label=\"Validation Loss\")\n",
    "plt.plot(range(1, epochs+1), train_loss, \"bo\", label=\"Training Loss\")\n",
    "plt.xlabel(\"Epochs\")\n",
    "plt.ylabel(\"Loss\")\n",
    "plt.legend()\n",
    "plt.title(\"Validation vs. Training Loss\")\n",
    "plt.show()"
   ]
  },
  {
   "cell_type": "code",
   "execution_count": null,
   "id": "advised-infrastructure",
   "metadata": {
    "id": "advised-infrastructure"
   },
   "outputs": [],
   "source": [
    "# From the above plots, it is evident that training accuracy increased linearly and reached to 100%\n",
    "# where validation accuracy did not reach beyond 70-72%. Also training loss decreased and reached to 0\n",
    "# where kept fluctualing over a large margin. Considering these as characteristics of overfitting, let's\n",
    "# get into next iteration to fight this overfitting."
   ]
  },
  {
   "cell_type": "markdown",
   "id": "owned-powell",
   "metadata": {
    "id": "owned-powell"
   },
   "source": [
    "### Improving Accuracy by Applying Dropout and Data Augmentation¶"
   ]
  },
  {
   "cell_type": "code",
   "execution_count": null,
   "id": "accompanied-forward",
   "metadata": {
    "id": "accompanied-forward"
   },
   "outputs": [],
   "source": [
    "# Create convolution neural network once again, but with a dropout layer this time.\n",
    "\n",
    "model = models.Sequential()\n",
    "model.add(layers.Conv2D(32, (3, 3), activation=\"relu\", input_shape=(150, 150, 3)))\n",
    "model.add(layers.MaxPooling2D((2, 2)))\n",
    "model.add(layers.Conv2D(64, (3, 3), activation=\"relu\"))\n",
    "model.add(layers.MaxPooling2D((2, 2)))\n",
    "model.add(layers.Conv2D(128, (3, 3), activation=\"relu\"))\n",
    "model.add(layers.MaxPooling2D((2, 2)))\n",
    "model.add(layers.Conv2D(128, (3, 3), activation=\"relu\"))\n",
    "model.add(layers.MaxPooling2D((2, 2)))\n",
    "model.add(layers.Flatten())\n",
    "model.add(layers.Dropout(0.5))\n",
    "model.add(layers.Dense(512, activation=\"relu\"))\n",
    "model.add(layers.Dense(1, activation=\"sigmoid\"))"
   ]
  },
  {
   "cell_type": "code",
   "execution_count": null,
   "id": "optional-copying",
   "metadata": {
    "id": "optional-copying",
    "outputId": "615e6f83-eabb-446c-c981-1ca86e73bf48"
   },
   "outputs": [
    {
     "name": "stdout",
     "output_type": "stream",
     "text": [
      "Model: \"sequential_2\"\n",
      "_________________________________________________________________\n",
      "Layer (type)                 Output Shape              Param #   \n",
      "=================================================================\n",
      "conv2d_5 (Conv2D)            (None, 148, 148, 32)      896       \n",
      "_________________________________________________________________\n",
      "max_pooling2d_5 (MaxPooling2 (None, 74, 74, 32)        0         \n",
      "_________________________________________________________________\n",
      "conv2d_6 (Conv2D)            (None, 72, 72, 64)        18496     \n",
      "_________________________________________________________________\n",
      "max_pooling2d_6 (MaxPooling2 (None, 36, 36, 64)        0         \n",
      "_________________________________________________________________\n",
      "conv2d_7 (Conv2D)            (None, 34, 34, 128)       73856     \n",
      "_________________________________________________________________\n",
      "max_pooling2d_7 (MaxPooling2 (None, 17, 17, 128)       0         \n",
      "_________________________________________________________________\n",
      "conv2d_8 (Conv2D)            (None, 15, 15, 128)       147584    \n",
      "_________________________________________________________________\n",
      "max_pooling2d_8 (MaxPooling2 (None, 7, 7, 128)         0         \n",
      "_________________________________________________________________\n",
      "flatten_2 (Flatten)          (None, 6272)              0         \n",
      "_________________________________________________________________\n",
      "dropout_1 (Dropout)          (None, 6272)              0         \n",
      "_________________________________________________________________\n",
      "dense_3 (Dense)              (None, 512)               3211776   \n",
      "_________________________________________________________________\n",
      "dense_4 (Dense)              (None, 1)                 513       \n",
      "=================================================================\n",
      "Total params: 3,453,121\n",
      "Trainable params: 3,453,121\n",
      "Non-trainable params: 0\n",
      "_________________________________________________________________\n"
     ]
    }
   ],
   "source": [
    "# Checks for dropout layer in the model summary\n",
    "\n",
    "model.summary()"
   ]
  },
  {
   "cell_type": "code",
   "execution_count": null,
   "id": "limiting-toyota",
   "metadata": {
    "id": "limiting-toyota"
   },
   "outputs": [],
   "source": [
    "# Compiles the above ConvNet model\n",
    "\n",
    "model.compile(loss=\"binary_crossentropy\", optimizer=optimizers.RMSprop(lr=1e-4), metrics=[\"acc\"])"
   ]
  },
  {
   "cell_type": "code",
   "execution_count": null,
   "id": "harmful-integral",
   "metadata": {
    "id": "harmful-integral",
    "outputId": "46ec517c-3749-4472-b039-37643af7c853"
   },
   "outputs": [
    {
     "name": "stdout",
     "output_type": "stream",
     "text": [
      "Found 2000 images belonging to 2 classes.\n",
      "Found 1000 images belonging to 2 classes.\n"
     ]
    }
   ],
   "source": [
    "# Creates data generator for training images by passing data augmentation parameters.\n",
    "# This is to be noted that data generator for validation images must not be augmented. \n",
    "\n",
    "train_generator = ImageDataGenerator(\n",
    "                    rescale=1./255,\n",
    "                    rotation_range=40,\n",
    "                    width_shift_range=0.2,\n",
    "                    height_shift_range=0.2,\n",
    "                    shear_range=0.2,\n",
    "                    zoom_range=0.2,\n",
    "                    horizontal_flip=True,\n",
    "                    fill_mode=\"nearest\").flow_from_directory(\n",
    "                    train_dir,\n",
    "                    target_size=(150, 150),\n",
    "                    batch_size=32,\n",
    "                    class_mode=\"binary\")\n",
    "\n",
    "val_generator = ImageDataGenerator(rescale=1./255).flow_from_directory(\n",
    "                    val_dir,\n",
    "                    target_size=(150, 150),\n",
    "                    batch_size=20,\n",
    "                    class_mode=\"binary\")"
   ]
  },
  {
   "cell_type": "code",
   "execution_count": null,
   "id": "stretch-separate",
   "metadata": {
    "id": "stretch-separate",
    "outputId": "7e1b41bd-9f34-46ee-f752-bbdf05277f90"
   },
   "outputs": [
    {
     "name": "stdout",
     "output_type": "stream",
     "text": [
      "Epoch 1/100\n",
      "100/100 [==============================] - 73s 732ms/step - loss: 0.6900 - acc: 0.5380 - val_loss: 0.6714 - val_acc: 0.5920\n",
      "Epoch 2/100\n",
      "100/100 [==============================] - 74s 744ms/step - loss: 0.6793 - acc: 0.5780 - val_loss: 0.6447 - val_acc: 0.6050\n",
      "Epoch 3/100\n",
      "100/100 [==============================] - 89s 895ms/step - loss: 0.6597 - acc: 0.6070 - val_loss: 0.6154 - val_acc: 0.5620\n",
      "Epoch 4/100\n",
      "100/100 [==============================] - 90s 899ms/step - loss: 0.6439 - acc: 0.6196 - val_loss: 0.5802 - val_acc: 0.6280\n",
      "Epoch 5/100\n",
      "100/100 [==============================] - 90s 895ms/step - loss: 0.6340 - acc: 0.6291 - val_loss: 0.6827 - val_acc: 0.6690\n",
      "Epoch 6/100\n",
      "100/100 [==============================] - 92s 919ms/step - loss: 0.6113 - acc: 0.6680 - val_loss: 0.7718 - val_acc: 0.6510\n",
      "Epoch 7/100\n",
      "100/100 [==============================] - 90s 901ms/step - loss: 0.5968 - acc: 0.6754 - val_loss: 0.4808 - val_acc: 0.6780\n",
      "Epoch 8/100\n",
      "100/100 [==============================] - 90s 901ms/step - loss: 0.5907 - acc: 0.6766 - val_loss: 0.5628 - val_acc: 0.6720\n",
      "Epoch 9/100\n",
      "100/100 [==============================] - 88s 883ms/step - loss: 0.5892 - acc: 0.6850 - val_loss: 0.5285 - val_acc: 0.6900\n",
      "Epoch 10/100\n",
      "100/100 [==============================] - 88s 884ms/step - loss: 0.5814 - acc: 0.6891 - val_loss: 0.5764 - val_acc: 0.7030\n",
      "Epoch 11/100\n",
      "100/100 [==============================] - 89s 886ms/step - loss: 0.5696 - acc: 0.7093 - val_loss: 0.5894 - val_acc: 0.7160\n",
      "Epoch 12/100\n",
      "100/100 [==============================] - 88s 878ms/step - loss: 0.5697 - acc: 0.6944 - val_loss: 0.5560 - val_acc: 0.7170\n",
      "Epoch 13/100\n",
      "100/100 [==============================] - 88s 880ms/step - loss: 0.5568 - acc: 0.7054 - val_loss: 0.5951 - val_acc: 0.6820\n",
      "Epoch 14/100\n",
      "100/100 [==============================] - 88s 880ms/step - loss: 0.5567 - acc: 0.7068 - val_loss: 0.5472 - val_acc: 0.7130\n",
      "Epoch 15/100\n",
      "100/100 [==============================] - 88s 881ms/step - loss: 0.5548 - acc: 0.7096 - val_loss: 0.6489 - val_acc: 0.7240\n",
      "Epoch 16/100\n",
      "100/100 [==============================] - 88s 877ms/step - loss: 0.5326 - acc: 0.7247 - val_loss: 0.6805 - val_acc: 0.7270\n",
      "Epoch 17/100\n",
      "100/100 [==============================] - 87s 873ms/step - loss: 0.5446 - acc: 0.7202 - val_loss: 0.6411 - val_acc: 0.7110\n",
      "Epoch 18/100\n",
      "100/100 [==============================] - 89s 888ms/step - loss: 0.5418 - acc: 0.7311 - val_loss: 0.6334 - val_acc: 0.6990\n",
      "Epoch 19/100\n",
      "100/100 [==============================] - 88s 883ms/step - loss: 0.5277 - acc: 0.7334 - val_loss: 0.5440 - val_acc: 0.7480\n",
      "Epoch 20/100\n",
      "100/100 [==============================] - 88s 877ms/step - loss: 0.5211 - acc: 0.7402 - val_loss: 0.5694 - val_acc: 0.7430\n",
      "Epoch 21/100\n",
      "100/100 [==============================] - 88s 884ms/step - loss: 0.5232 - acc: 0.7324 - val_loss: 0.5388 - val_acc: 0.7510\n",
      "Epoch 22/100\n",
      "100/100 [==============================] - 88s 876ms/step - loss: 0.5170 - acc: 0.7500 - val_loss: 0.3130 - val_acc: 0.6900\n",
      "Epoch 23/100\n",
      "100/100 [==============================] - 88s 883ms/step - loss: 0.5034 - acc: 0.7528 - val_loss: 0.4696 - val_acc: 0.7340\n",
      "Epoch 24/100\n",
      "100/100 [==============================] - 88s 881ms/step - loss: 0.5197 - acc: 0.7393 - val_loss: 0.5411 - val_acc: 0.7540\n",
      "Epoch 25/100\n",
      "100/100 [==============================] - 88s 876ms/step - loss: 0.5002 - acc: 0.7547 - val_loss: 0.2914 - val_acc: 0.7540\n",
      "Epoch 26/100\n",
      "100/100 [==============================] - 88s 876ms/step - loss: 0.5032 - acc: 0.7468 - val_loss: 0.3627 - val_acc: 0.7560\n",
      "Epoch 27/100\n",
      "100/100 [==============================] - 91s 912ms/step - loss: 0.5005 - acc: 0.7447 - val_loss: 0.4171 - val_acc: 0.7650\n",
      "Epoch 28/100\n",
      "100/100 [==============================] - 89s 890ms/step - loss: 0.4935 - acc: 0.7633 - val_loss: 0.4753 - val_acc: 0.7560\n",
      "Epoch 29/100\n",
      "100/100 [==============================] - 89s 890ms/step - loss: 0.5002 - acc: 0.7522 - val_loss: 0.5978 - val_acc: 0.7540\n",
      "Epoch 30/100\n",
      "100/100 [==============================] - 89s 890ms/step - loss: 0.4924 - acc: 0.7666 - val_loss: 0.5167 - val_acc: 0.7700\n",
      "Epoch 31/100\n",
      "100/100 [==============================] - 89s 887ms/step - loss: 0.4895 - acc: 0.7626 - val_loss: 0.5361 - val_acc: 0.7460\n",
      "Epoch 32/100\n",
      "100/100 [==============================] - 88s 879ms/step - loss: 0.4888 - acc: 0.7544 - val_loss: 0.4848 - val_acc: 0.7740\n",
      "Epoch 33/100\n",
      "100/100 [==============================] - 88s 884ms/step - loss: 0.4804 - acc: 0.7601 - val_loss: 0.6963 - val_acc: 0.7000\n",
      "Epoch 34/100\n",
      "100/100 [==============================] - 87s 875ms/step - loss: 0.4729 - acc: 0.7705 - val_loss: 0.4966 - val_acc: 0.6900\n",
      "Epoch 35/100\n",
      "100/100 [==============================] - 89s 892ms/step - loss: 0.4817 - acc: 0.7701 - val_loss: 0.4770 - val_acc: 0.7570\n",
      "Epoch 36/100\n",
      "100/100 [==============================] - 88s 879ms/step - loss: 0.4669 - acc: 0.7775 - val_loss: 0.4129 - val_acc: 0.7560\n",
      "Epoch 37/100\n",
      "100/100 [==============================] - 88s 883ms/step - loss: 0.4699 - acc: 0.7756 - val_loss: 0.4306 - val_acc: 0.7720\n",
      "Epoch 38/100\n",
      "100/100 [==============================] - 89s 887ms/step - loss: 0.4678 - acc: 0.7780 - val_loss: 0.5468 - val_acc: 0.7670\n",
      "Epoch 39/100\n",
      "100/100 [==============================] - 88s 876ms/step - loss: 0.4590 - acc: 0.7828 - val_loss: 0.5906 - val_acc: 0.7680\n",
      "Epoch 40/100\n",
      "100/100 [==============================] - 92s 915ms/step - loss: 0.4617 - acc: 0.7775 - val_loss: 0.3731 - val_acc: 0.7760\n",
      "Epoch 41/100\n",
      "100/100 [==============================] - 89s 888ms/step - loss: 0.4636 - acc: 0.7792 - val_loss: 0.2031 - val_acc: 0.7720\n",
      "Epoch 42/100\n",
      "100/100 [==============================] - 88s 880ms/step - loss: 0.4623 - acc: 0.7803 - val_loss: 0.4218 - val_acc: 0.7730\n",
      "Epoch 43/100\n",
      "100/100 [==============================] - 88s 880ms/step - loss: 0.4575 - acc: 0.7812 - val_loss: 0.6746 - val_acc: 0.7850\n",
      "Epoch 44/100\n",
      "100/100 [==============================] - 88s 881ms/step - loss: 0.4547 - acc: 0.7849 - val_loss: 0.5205 - val_acc: 0.7200\n",
      "Epoch 45/100\n",
      "100/100 [==============================] - 88s 885ms/step - loss: 0.4571 - acc: 0.7820 - val_loss: 0.4386 - val_acc: 0.7750\n",
      "Epoch 46/100\n",
      "100/100 [==============================] - 88s 880ms/step - loss: 0.4461 - acc: 0.7967 - val_loss: 0.6145 - val_acc: 0.7810\n",
      "Epoch 47/100\n",
      "100/100 [==============================] - 88s 881ms/step - loss: 0.4404 - acc: 0.7999 - val_loss: 0.5593 - val_acc: 0.7930\n",
      "Epoch 48/100\n",
      "100/100 [==============================] - 88s 880ms/step - loss: 0.4375 - acc: 0.7961 - val_loss: 0.4297 - val_acc: 0.7870\n",
      "Epoch 49/100\n",
      "100/100 [==============================] - 88s 882ms/step - loss: 0.4468 - acc: 0.7946 - val_loss: 0.4552 - val_acc: 0.7500\n",
      "Epoch 50/100\n",
      "100/100 [==============================] - 88s 882ms/step - loss: 0.4363 - acc: 0.7921 - val_loss: 0.5735 - val_acc: 0.7770\n",
      "Epoch 51/100\n",
      "100/100 [==============================] - 87s 873ms/step - loss: 0.4341 - acc: 0.7967 - val_loss: 0.9649 - val_acc: 0.7020\n",
      "Epoch 52/100\n",
      "100/100 [==============================] - 89s 893ms/step - loss: 0.4176 - acc: 0.8021 - val_loss: 0.5818 - val_acc: 0.7960\n",
      "Epoch 53/100\n",
      "100/100 [==============================] - 90s 903ms/step - loss: 0.4498 - acc: 0.7882 - val_loss: 0.2584 - val_acc: 0.7960\n",
      "Epoch 54/100\n",
      "100/100 [==============================] - 88s 884ms/step - loss: 0.4172 - acc: 0.8078 - val_loss: 0.4288 - val_acc: 0.7620\n",
      "Epoch 55/100\n",
      "100/100 [==============================] - 89s 888ms/step - loss: 0.4340 - acc: 0.7930 - val_loss: 0.5518 - val_acc: 0.7990\n",
      "Epoch 56/100\n",
      "100/100 [==============================] - 88s 881ms/step - loss: 0.4247 - acc: 0.8034 - val_loss: 0.3803 - val_acc: 0.7780\n",
      "Epoch 57/100\n",
      "100/100 [==============================] - 88s 880ms/step - loss: 0.4159 - acc: 0.8039 - val_loss: 0.6100 - val_acc: 0.7770\n",
      "Epoch 58/100\n",
      "100/100 [==============================] - 89s 888ms/step - loss: 0.4220 - acc: 0.8043 - val_loss: 0.2734 - val_acc: 0.7960\n",
      "Epoch 59/100\n",
      "100/100 [==============================] - 88s 880ms/step - loss: 0.4177 - acc: 0.7999 - val_loss: 0.3231 - val_acc: 0.7940\n",
      "Epoch 60/100\n",
      "100/100 [==============================] - 88s 881ms/step - loss: 0.4110 - acc: 0.8112 - val_loss: 0.2742 - val_acc: 0.8020\n"
     ]
    },
    {
     "name": "stdout",
     "output_type": "stream",
     "text": [
      "Epoch 61/100\n",
      "100/100 [==============================] - 88s 883ms/step - loss: 0.4082 - acc: 0.8122 - val_loss: 0.5367 - val_acc: 0.7880\n",
      "Epoch 62/100\n",
      "100/100 [==============================] - 88s 878ms/step - loss: 0.4039 - acc: 0.8131 - val_loss: 0.7315 - val_acc: 0.7710\n",
      "Epoch 63/100\n",
      "100/100 [==============================] - 87s 874ms/step - loss: 0.4066 - acc: 0.8131 - val_loss: 0.3181 - val_acc: 0.8160\n",
      "Epoch 64/100\n",
      "100/100 [==============================] - 87s 874ms/step - loss: 0.4155 - acc: 0.8002 - val_loss: 0.3204 - val_acc: 0.7920\n",
      "Epoch 65/100\n",
      "100/100 [==============================] - 88s 878ms/step - loss: 0.3986 - acc: 0.8084 - val_loss: 0.3456 - val_acc: 0.7990\n",
      "Epoch 66/100\n",
      "100/100 [==============================] - 87s 874ms/step - loss: 0.3900 - acc: 0.8280 - val_loss: 0.2164 - val_acc: 0.8080\n",
      "Epoch 67/100\n",
      "100/100 [==============================] - 88s 877ms/step - loss: 0.4072 - acc: 0.8150 - val_loss: 0.3895 - val_acc: 0.7990\n",
      "Epoch 68/100\n",
      "100/100 [==============================] - 87s 869ms/step - loss: 0.3819 - acc: 0.8305 - val_loss: 0.3931 - val_acc: 0.8150\n",
      "Epoch 69/100\n",
      "100/100 [==============================] - 88s 880ms/step - loss: 0.3946 - acc: 0.8204 - val_loss: 0.9858 - val_acc: 0.7940\n",
      "Epoch 70/100\n",
      "100/100 [==============================] - 88s 876ms/step - loss: 0.3959 - acc: 0.8232 - val_loss: 0.3883 - val_acc: 0.8090\n",
      "Epoch 71/100\n",
      "100/100 [==============================] - 88s 875ms/step - loss: 0.3874 - acc: 0.8251 - val_loss: 0.3802 - val_acc: 0.8210\n",
      "Epoch 72/100\n",
      "100/100 [==============================] - 90s 903ms/step - loss: 0.3879 - acc: 0.8261 - val_loss: 0.5595 - val_acc: 0.7900\n",
      "Epoch 73/100\n",
      "100/100 [==============================] - 93s 926ms/step - loss: 0.3974 - acc: 0.8235 - val_loss: 0.2803 - val_acc: 0.8180\n",
      "Epoch 74/100\n",
      "100/100 [==============================] - 92s 922ms/step - loss: 0.3790 - acc: 0.8251 - val_loss: 0.4987 - val_acc: 0.8080\n",
      "Epoch 75/100\n",
      "100/100 [==============================] - 89s 887ms/step - loss: 0.3844 - acc: 0.8280 - val_loss: 0.4342 - val_acc: 0.8280\n",
      "Epoch 76/100\n",
      "100/100 [==============================] - 90s 897ms/step - loss: 0.3671 - acc: 0.8302 - val_loss: 0.3286 - val_acc: 0.7970\n",
      "Epoch 77/100\n",
      "100/100 [==============================] - 90s 897ms/step - loss: 0.3674 - acc: 0.8434 - val_loss: 0.5500 - val_acc: 0.7990\n",
      "Epoch 78/100\n",
      "100/100 [==============================] - 90s 897ms/step - loss: 0.3760 - acc: 0.8317 - val_loss: 0.6524 - val_acc: 0.8100\n",
      "Epoch 79/100\n",
      "100/100 [==============================] - 90s 900ms/step - loss: 0.3676 - acc: 0.8409 - val_loss: 0.1254 - val_acc: 0.8020\n",
      "Epoch 80/100\n",
      "100/100 [==============================] - 91s 907ms/step - loss: 0.3745 - acc: 0.8345 - val_loss: 0.2236 - val_acc: 0.7920\n",
      "Epoch 81/100\n",
      "100/100 [==============================] - 92s 918ms/step - loss: 0.3544 - acc: 0.8428 - val_loss: 0.7543 - val_acc: 0.8030\n",
      "Epoch 82/100\n",
      "100/100 [==============================] - 91s 907ms/step - loss: 0.3572 - acc: 0.8430 - val_loss: 0.3938 - val_acc: 0.8230\n",
      "Epoch 83/100\n",
      "100/100 [==============================] - 90s 904ms/step - loss: 0.3647 - acc: 0.8346 - val_loss: 0.8670 - val_acc: 0.8010\n",
      "Epoch 84/100\n",
      "100/100 [==============================] - 92s 922ms/step - loss: 0.3689 - acc: 0.8288 - val_loss: 0.9076 - val_acc: 0.8010\n",
      "Epoch 85/100\n",
      "100/100 [==============================] - 89s 892ms/step - loss: 0.3511 - acc: 0.8393 - val_loss: 0.3989 - val_acc: 0.8080\n",
      "Epoch 86/100\n",
      "100/100 [==============================] - 91s 912ms/step - loss: 0.3495 - acc: 0.8461 - val_loss: 0.4670 - val_acc: 0.8270\n",
      "Epoch 87/100\n",
      "100/100 [==============================] - 89s 894ms/step - loss: 0.3552 - acc: 0.8450 - val_loss: 0.1572 - val_acc: 0.8240\n",
      "Epoch 88/100\n",
      "100/100 [==============================] - 90s 899ms/step - loss: 0.3542 - acc: 0.8405 - val_loss: 0.6762 - val_acc: 0.7840\n",
      "Epoch 89/100\n",
      "100/100 [==============================] - 89s 894ms/step - loss: 0.3580 - acc: 0.8403 - val_loss: 0.5528 - val_acc: 0.8270\n",
      "Epoch 90/100\n",
      "100/100 [==============================] - 90s 898ms/step - loss: 0.3603 - acc: 0.8365 - val_loss: 0.3150 - val_acc: 0.7990\n",
      "Epoch 91/100\n",
      "100/100 [==============================] - 93s 929ms/step - loss: 0.3387 - acc: 0.8492 - val_loss: 0.2412 - val_acc: 0.8190\n",
      "Epoch 92/100\n",
      "100/100 [==============================] - 91s 914ms/step - loss: 0.3359 - acc: 0.8506 - val_loss: 0.7314 - val_acc: 0.7700\n",
      "Epoch 93/100\n",
      "100/100 [==============================] - 90s 897ms/step - loss: 0.3379 - acc: 0.8508 - val_loss: 0.2972 - val_acc: 0.8080\n",
      "Epoch 94/100\n",
      "100/100 [==============================] - 93s 931ms/step - loss: 0.3411 - acc: 0.8492 - val_loss: 0.3184 - val_acc: 0.8020\n",
      "Epoch 95/100\n",
      "100/100 [==============================] - 94s 938ms/step - loss: 0.3403 - acc: 0.8403 - val_loss: 0.2080 - val_acc: 0.7850\n",
      "Epoch 96/100\n",
      "100/100 [==============================] - 92s 915ms/step - loss: 0.3386 - acc: 0.8511 - val_loss: 0.2173 - val_acc: 0.8240\n",
      "Epoch 97/100\n",
      "100/100 [==============================] - 106s 1s/step - loss: 0.3288 - acc: 0.8466 - val_loss: 0.8012 - val_acc: 0.8160\n",
      "Epoch 98/100\n",
      "100/100 [==============================] - 94s 938ms/step - loss: 0.3305 - acc: 0.8577 - val_loss: 0.2796 - val_acc: 0.8060\n",
      "Epoch 99/100\n",
      "100/100 [==============================] - 89s 888ms/step - loss: 0.3350 - acc: 0.8535 - val_loss: 0.6249 - val_acc: 0.8070\n",
      "Epoch 100/100\n",
      "100/100 [==============================] - 89s 891ms/step - loss: 0.3332 - acc: 0.8516 - val_loss: 0.3638 - val_acc: 0.8270\n"
     ]
    }
   ],
   "source": [
    "# Fits model\n",
    "\n",
    "history = model.fit(train_generator, steps_per_epoch=100, epochs=100,\n",
    "                             validation_data=val_generator, validation_steps=50)"
   ]
  },
  {
   "cell_type": "code",
   "execution_count": null,
   "id": "opening-dodge",
   "metadata": {
    "id": "opening-dodge"
   },
   "outputs": [],
   "source": [
    "# Saves the entire trained model into HDF5 file format.\n",
    "\n",
    "model.save(\"dogs_vs._cats_prediction_model_with_dropout_and_data_augmentation.h5\")"
   ]
  },
  {
   "cell_type": "code",
   "execution_count": null,
   "id": "collect-tuning",
   "metadata": {
    "id": "collect-tuning",
    "outputId": "1df18bf9-9ebf-4957-e962-c40b0bb9a2ee"
   },
   "outputs": [
    {
     "data": {
      "image/png": "[encoded data removed]",
      "text/plain": [
       "<Figure size 432x288 with 1 Axes>"
      ]
     },
     "metadata": {
      "needs_background": "light",
      "tags": []
     },
     "output_type": "display_data"
    },
    {
     "data": {
      "image/png": "[encoded data removed]",
      "text/plain": [
       "<Figure size 432x288 with 1 Axes>"
      ]
     },
     "metadata": {
      "needs_background": "light",
      "tags": []
     },
     "output_type": "display_data"
    }
   ],
   "source": [
    "# Plots the loss and accuracy over training and validation data\n",
    "\n",
    "epochs = len(history.history[\"acc\"])\n",
    "val_accuracy = history.history[\"val_acc\"]\n",
    "train_accuracy = history.history[\"acc\"]\n",
    "val_loss = history.history[\"val_loss\"]\n",
    "train_loss = history.history[\"loss\"]\n",
    "\n",
    "plt.plot(range(1, epochs+1), val_accuracy, \"b\", label=\"Validation Accuracy\")\n",
    "plt.plot(range(1, epochs+1), train_accuracy, \"bo\", label=\"Training Accuracy\")\n",
    "plt.xlabel(\"Epochs\")\n",
    "plt.ylabel(\"Accuracy\")\n",
    "plt.legend()\n",
    "plt.title(\"Validation vs. Training Accuracy\")\n",
    "plt.figure()\n",
    "\n",
    "plt.plot(range(1, epochs+1), val_loss, \"b\", label=\"Validation Loss\")\n",
    "plt.plot(range(1, epochs+1), train_loss, \"bo\", label=\"Training Loss\")\n",
    "plt.xlabel(\"Epochs\")\n",
    "plt.ylabel(\"Loss\")\n",
    "plt.legend()\n",
    "plt.title(\"Validation vs. Training Loss\")\n",
    "plt.show()"
   ]
  },
  {
   "cell_type": "markdown",
   "id": "underlying-skiing",
   "metadata": {
    "id": "underlying-skiing"
   },
   "source": [
    "### 3. Improving Accuracy Further by Using Pretrained Model"
   ]
  },
  {
   "cell_type": "markdown",
   "id": "revolutionary-expression",
   "metadata": {
    "id": "revolutionary-expression"
   },
   "source": [
    "    a) Fast Feature Extraction (without data augmentation)"
   ]
  },
  {
   "cell_type": "code",
   "execution_count": null,
   "id": "cloudy-button",
   "metadata": {
    "id": "cloudy-button"
   },
   "outputs": [],
   "source": [
    "# Imports relevant package to use the pretrained model\n",
    "\n",
    "from keras.applications import VGG16"
   ]
  },
  {
   "cell_type": "code",
   "execution_count": null,
   "id": "mexican-wisconsin",
   "metadata": {
    "id": "mexican-wisconsin",
    "outputId": "51ba21a4-a36d-40b9-cab8-63dd98fded9d"
   },
   "outputs": [
    {
     "name": "stdout",
     "output_type": "stream",
     "text": [
      "WARNING:tensorflow:From /home/pradip/anaconda3/lib/python3.7/site-packages/keras/backend/tensorflow_backend.py:4070: The name tf.nn.max_pool is deprecated. Please use tf.nn.max_pool2d instead.\n",
      "\n"
     ]
    }
   ],
   "source": [
    "# Creates base of the model pretrained on ImageNet\n",
    "\n",
    "vgg16_base = VGG16(weights=\"imagenet\", include_top=False, input_shape=(150, 150, 3))"
   ]
  },
  {
   "cell_type": "code",
   "execution_count": null,
   "id": "persistent-journalist",
   "metadata": {
    "id": "persistent-journalist",
    "outputId": "4977768d-fa26-4cfd-89a7-28509f493de3"
   },
   "outputs": [
    {
     "name": "stdout",
     "output_type": "stream",
     "text": [
      "Model: \"vgg16\"\n",
      "_________________________________________________________________\n",
      "Layer (type)                 Output Shape              Param #   \n",
      "=================================================================\n",
      "input_1 (InputLayer)         (None, 150, 150, 3)       0         \n",
      "_________________________________________________________________\n",
      "block1_conv1 (Conv2D)        (None, 150, 150, 64)      1792      \n",
      "_________________________________________________________________\n",
      "block1_conv2 (Conv2D)        (None, 150, 150, 64)      36928     \n",
      "_________________________________________________________________\n",
      "block1_pool (MaxPooling2D)   (None, 75, 75, 64)        0         \n",
      "_________________________________________________________________\n",
      "block2_conv1 (Conv2D)        (None, 75, 75, 128)       73856     \n",
      "_________________________________________________________________\n",
      "block2_conv2 (Conv2D)        (None, 75, 75, 128)       147584    \n",
      "_________________________________________________________________\n",
      "block2_pool (MaxPooling2D)   (None, 37, 37, 128)       0         \n",
      "_________________________________________________________________\n",
      "block3_conv1 (Conv2D)        (None, 37, 37, 256)       295168    \n",
      "_________________________________________________________________\n",
      "block3_conv2 (Conv2D)        (None, 37, 37, 256)       590080    \n",
      "_________________________________________________________________\n",
      "block3_conv3 (Conv2D)        (None, 37, 37, 256)       590080    \n",
      "_________________________________________________________________\n",
      "block3_pool (MaxPooling2D)   (None, 18, 18, 256)       0         \n",
      "_________________________________________________________________\n",
      "block4_conv1 (Conv2D)        (None, 18, 18, 512)       1180160   \n",
      "_________________________________________________________________\n",
      "block4_conv2 (Conv2D)        (None, 18, 18, 512)       2359808   \n",
      "_________________________________________________________________\n",
      "block4_conv3 (Conv2D)        (None, 18, 18, 512)       2359808   \n",
      "_________________________________________________________________\n",
      "block4_pool (MaxPooling2D)   (None, 9, 9, 512)         0         \n",
      "_________________________________________________________________\n",
      "block5_conv1 (Conv2D)        (None, 9, 9, 512)         2359808   \n",
      "_________________________________________________________________\n",
      "block5_conv2 (Conv2D)        (None, 9, 9, 512)         2359808   \n",
      "_________________________________________________________________\n",
      "block5_conv3 (Conv2D)        (None, 9, 9, 512)         2359808   \n",
      "_________________________________________________________________\n",
      "block5_pool (MaxPooling2D)   (None, 4, 4, 512)         0         \n",
      "=================================================================\n",
      "Total params: 14,714,688\n",
      "Trainable params: 14,714,688\n",
      "Non-trainable params: 0\n",
      "_________________________________________________________________\n"
     ]
    }
   ],
   "source": [
    "vgg16_base.summary()"
   ]
  },
  {
   "cell_type": "code",
   "execution_count": null,
   "id": "sunrise-banana",
   "metadata": {
    "id": "sunrise-banana"
   },
   "outputs": [],
   "source": [
    "image_batch_size = 20"
   ]
  },
  {
   "cell_type": "code",
   "execution_count": null,
   "id": "graduate-small",
   "metadata": {
    "id": "graduate-small"
   },
   "outputs": [],
   "source": [
    "def extract_features(image_dir, image_batch_size, sample_count):\n",
    "    generator = ImageDataGenerator(rescale=1./255).flow_from_directory(\n",
    "                    image_dir,\n",
    "                    target_size=(150, 150),\n",
    "                    batch_size=image_batch_size,\n",
    "                    class_mode=\"binary\")\n",
    "    features = np.zeros(shape=(sample_count, 4, 4, 512))\n",
    "    labels = np.zeros(shape=(sample_count))\n",
    "    i = 0\n",
    "    for image_batch, labels_batch in generator:\n",
    "        features_batch = vgg16_base.predict(image_batch)\n",
    "        features[i * image_batch_size :(i + 1) * image_batch_size] = features_batch\n",
    "        labels[ i * image_batch_size : (i + 1) * image_batch_size] = labels_batch\n",
    "        i += 1\n",
    "        if (i * image_batch_size) >= sample_count:\n",
    "            break\n",
    "    return features, labels"
   ]
  },
  {
   "cell_type": "code",
   "execution_count": null,
   "id": "classified-province",
   "metadata": {
    "id": "classified-province"
   },
   "outputs": [],
   "source": [
    "train_dir = os.path.join(os.getcwd(), \"Data\", \"train\")\n",
    "val_dir = os.path.join(os.getcwd(), \"Data\", \"validation\")"
   ]
  },
  {
   "cell_type": "code",
   "execution_count": null,
   "id": "annual-weight",
   "metadata": {
    "id": "annual-weight",
    "outputId": "711912d2-40c8-4e8f-ae29-dea6994fba6d"
   },
   "outputs": [
    {
     "name": "stdout",
     "output_type": "stream",
     "text": [
      "Found 2000 images belonging to 2 classes.\n",
      "WARNING:tensorflow:From /home/pradip/anaconda3/lib/python3.7/site-packages/keras/backend/tensorflow_backend.py:422: The name tf.global_variables is deprecated. Please use tf.compat.v1.global_variables instead.\n",
      "\n"
     ]
    }
   ],
   "source": [
    "train_features, train_labels = extract_features(train_dir, image_batch_size, 2000)"
   ]
  },
  {
   "cell_type": "code",
   "execution_count": null,
   "id": "adaptive-fraud",
   "metadata": {
    "id": "adaptive-fraud",
    "outputId": "05ce3e9b-2681-4645-ad55-0193c0009dd5"
   },
   "outputs": [
    {
     "name": "stdout",
     "output_type": "stream",
     "text": [
      "Found 1000 images belonging to 2 classes.\n"
     ]
    }
   ],
   "source": [
    "val_features, val_labels = extract_features(val_dir, image_batch_size, 1000)"
   ]
  },
  {
   "cell_type": "code",
   "execution_count": null,
   "id": "innovative-gauge",
   "metadata": {
    "id": "innovative-gauge"
   },
   "outputs": [],
   "source": [
    "train_features = np.reshape(train_features, (\n",
    "    train_features.shape[0], \n",
    "    train_features.shape[1] * train_features.shape[2] * train_features.shape[3]))"
   ]
  },
  {
   "cell_type": "code",
   "execution_count": null,
   "id": "organic-pollution",
   "metadata": {
    "id": "organic-pollution"
   },
   "outputs": [],
   "source": [
    "val_features = np.reshape(val_features, (\n",
    "    val_features.shape[0], \n",
    "    val_features.shape[1] * val_features.shape[2] * val_features.shape[3]))"
   ]
  },
  {
   "cell_type": "code",
   "execution_count": null,
   "id": "prompt-airport",
   "metadata": {
    "id": "prompt-airport"
   },
   "outputs": [],
   "source": [
    "model = models.Sequential()\n",
    "model.add(layers.Dense(256, activation=\"relu\", input_dim=train_features.shape[1]))\n",
    "model.add(layers.Dropout(0.5))\n",
    "model.add(layers.Dense(1, activation=\"sigmoid\"))"
   ]
  },
  {
   "cell_type": "code",
   "execution_count": null,
   "id": "young-iraqi",
   "metadata": {
    "id": "young-iraqi",
    "outputId": "d9f6f072-17b5-4c24-cdc1-275c2fd7c119",
    "scrolled": true
   },
   "outputs": [
    {
     "name": "stdout",
     "output_type": "stream",
     "text": [
      "Model: \"sequential_2\"\n",
      "_________________________________________________________________\n",
      "Layer (type)                 Output Shape              Param #   \n",
      "=================================================================\n",
      "dense_1 (Dense)              (None, 256)               2097408   \n",
      "_________________________________________________________________\n",
      "dropout_1 (Dropout)          (None, 256)               0         \n",
      "_________________________________________________________________\n",
      "dense_2 (Dense)              (None, 1)                 257       \n",
      "=================================================================\n",
      "Total params: 2,097,665\n",
      "Trainable params: 2,097,665\n",
      "Non-trainable params: 0\n",
      "_________________________________________________________________\n"
     ]
    }
   ],
   "source": [
    "# Checks for model summary\n",
    "\n",
    "model.summary()"
   ]
  },
  {
   "cell_type": "code",
   "execution_count": null,
   "id": "sized-association",
   "metadata": {
    "id": "sized-association",
    "outputId": "1b18bdcb-33d7-4d4e-8260-86fae2821f9c"
   },
   "outputs": [
    {
     "name": "stdout",
     "output_type": "stream",
     "text": [
      "WARNING:tensorflow:From /home/pradip/anaconda3/lib/python3.7/site-packages/tensorflow/python/ops/nn_impl.py:180: add_dispatch_support.<locals>.wrapper (from tensorflow.python.ops.array_ops) is deprecated and will be removed in a future version.\n",
      "Instructions for updating:\n",
      "Use tf.where in 2.0, which has the same broadcast rule as np.where\n"
     ]
    }
   ],
   "source": [
    "# Compiles the above dense fully connected network model\n",
    "\n",
    "model.compile(loss=\"binary_crossentropy\", optimizer=optimizers.RMSprop(lr=2e-5), metrics=[\"acc\"])"
   ]
  },
  {
   "cell_type": "code",
   "execution_count": null,
   "id": "christian-proportion",
   "metadata": {
    "id": "christian-proportion",
    "outputId": "175c6f50-8775-45bc-bdc9-d603ad48e68c"
   },
   "outputs": [
    {
     "name": "stdout",
     "output_type": "stream",
     "text": [
      "Train on 2000 samples, validate on 1000 samples\n",
      "Epoch 1/30\n",
      "2000/2000 [==============================] - 2s 1ms/step - loss: 0.6137 - acc: 0.6640 - val_loss: 0.4460 - val_acc: 0.8290\n",
      "Epoch 2/30\n",
      "2000/2000 [==============================] - 2s 1ms/step - loss: 0.4249 - acc: 0.8150 - val_loss: 0.3676 - val_acc: 0.8550\n",
      "Epoch 3/30\n",
      "2000/2000 [==============================] - 2s 1ms/step - loss: 0.3460 - acc: 0.8570 - val_loss: 0.3276 - val_acc: 0.8700\n",
      "Epoch 4/30\n",
      "2000/2000 [==============================] - 2s 1ms/step - loss: 0.3091 - acc: 0.8700 - val_loss: 0.3158 - val_acc: 0.8650\n",
      "Epoch 5/30\n",
      "2000/2000 [==============================] - 2s 1ms/step - loss: 0.2813 - acc: 0.8870 - val_loss: 0.2867 - val_acc: 0.8850\n",
      "Epoch 6/30\n",
      "2000/2000 [==============================] - 2s 1ms/step - loss: 0.2642 - acc: 0.8905 - val_loss: 0.2754 - val_acc: 0.8920\n",
      "Epoch 7/30\n",
      "2000/2000 [==============================] - 2s 1ms/step - loss: 0.2418 - acc: 0.9100 - val_loss: 0.2669 - val_acc: 0.8910\n",
      "Epoch 8/30\n",
      "2000/2000 [==============================] - 2s 1ms/step - loss: 0.2325 - acc: 0.9125 - val_loss: 0.2625 - val_acc: 0.8950\n",
      "Epoch 9/30\n",
      "2000/2000 [==============================] - 2s 1ms/step - loss: 0.2189 - acc: 0.9160 - val_loss: 0.2582 - val_acc: 0.8910\n",
      "Epoch 10/30\n",
      "2000/2000 [==============================] - 2s 1ms/step - loss: 0.2037 - acc: 0.9210 - val_loss: 0.2611 - val_acc: 0.8920\n",
      "Epoch 11/30\n",
      "2000/2000 [==============================] - 2s 1ms/step - loss: 0.1941 - acc: 0.9295 - val_loss: 0.2498 - val_acc: 0.8970\n",
      "Epoch 12/30\n",
      "2000/2000 [==============================] - 2s 1ms/step - loss: 0.1876 - acc: 0.9345 - val_loss: 0.2468 - val_acc: 0.9030\n",
      "Epoch 13/30\n",
      "2000/2000 [==============================] - 2s 1ms/step - loss: 0.1769 - acc: 0.9330 - val_loss: 0.2442 - val_acc: 0.9000\n",
      "Epoch 14/30\n",
      "2000/2000 [==============================] - 2s 1ms/step - loss: 0.1682 - acc: 0.9410 - val_loss: 0.2429 - val_acc: 0.9010\n",
      "Epoch 15/30\n",
      "2000/2000 [==============================] - 2s 1ms/step - loss: 0.1627 - acc: 0.9420 - val_loss: 0.2417 - val_acc: 0.9020\n",
      "Epoch 16/30\n",
      "2000/2000 [==============================] - 2s 1ms/step - loss: 0.1498 - acc: 0.9465 - val_loss: 0.2406 - val_acc: 0.8990\n",
      "Epoch 17/30\n",
      "2000/2000 [==============================] - 2s 1ms/step - loss: 0.1487 - acc: 0.9425 - val_loss: 0.2404 - val_acc: 0.8960\n",
      "Epoch 18/30\n",
      "2000/2000 [==============================] - 2s 1ms/step - loss: 0.1425 - acc: 0.9500 - val_loss: 0.2425 - val_acc: 0.8960\n",
      "Epoch 19/30\n",
      "2000/2000 [==============================] - 2s 1ms/step - loss: 0.1439 - acc: 0.9440 - val_loss: 0.2432 - val_acc: 0.8970\n",
      "Epoch 20/30\n",
      "2000/2000 [==============================] - 2s 1ms/step - loss: 0.1333 - acc: 0.9550 - val_loss: 0.2446 - val_acc: 0.8990\n",
      "Epoch 21/30\n",
      "2000/2000 [==============================] - 2s 1ms/step - loss: 0.1241 - acc: 0.9615 - val_loss: 0.2450 - val_acc: 0.8940\n",
      "Epoch 22/30\n",
      "2000/2000 [==============================] - 2s 1ms/step - loss: 0.1223 - acc: 0.9610 - val_loss: 0.2434 - val_acc: 0.8950\n",
      "Epoch 23/30\n",
      "2000/2000 [==============================] - 2s 1ms/step - loss: 0.1174 - acc: 0.9570 - val_loss: 0.2426 - val_acc: 0.8970\n",
      "Epoch 24/30\n",
      "2000/2000 [==============================] - 2s 1ms/step - loss: 0.1083 - acc: 0.9620 - val_loss: 0.2409 - val_acc: 0.8990\n",
      "Epoch 25/30\n",
      "2000/2000 [==============================] - 2s 1ms/step - loss: 0.1102 - acc: 0.9635 - val_loss: 0.2658 - val_acc: 0.8970\n",
      "Epoch 26/30\n",
      "2000/2000 [==============================] - 2s 1ms/step - loss: 0.1050 - acc: 0.9655 - val_loss: 0.2504 - val_acc: 0.9000\n",
      "Epoch 27/30\n",
      "2000/2000 [==============================] - 2s 1ms/step - loss: 0.0986 - acc: 0.9700 - val_loss: 0.2415 - val_acc: 0.8960\n",
      "Epoch 28/30\n",
      "2000/2000 [==============================] - 2s 1ms/step - loss: 0.0947 - acc: 0.9695 - val_loss: 0.2450 - val_acc: 0.8970\n",
      "Epoch 29/30\n",
      "2000/2000 [==============================] - 2s 1ms/step - loss: 0.0906 - acc: 0.9705 - val_loss: 0.2429 - val_acc: 0.8980\n",
      "Epoch 30/30\n",
      "2000/2000 [==============================] - 2s 1ms/step - loss: 0.0879 - acc: 0.9720 - val_loss: 0.2424 - val_acc: 0.8980\n"
     ]
    }
   ],
   "source": [
    "# Fits model\n",
    "\n",
    "history = model.fit(train_features, train_labels, batch_size = 20,\n",
    "                    epochs = 30, validation_data = (val_features, val_labels))"
   ]
  },
  {
   "cell_type": "code",
   "execution_count": null,
   "id": "inappropriate-nicaragua",
   "metadata": {
    "id": "inappropriate-nicaragua",
    "outputId": "9c934b92-b784-4b57-d5c2-86e1c38ab07e"
   },
   "outputs": [
    {
     "data": {
      "image/png": "[encoded data removed]",
      "text/plain": [
       "<Figure size 432x288 with 1 Axes>"
      ]
     },
     "metadata": {
      "needs_background": "light",
      "tags": []
     },
     "output_type": "display_data"
    },
    {
     "data": {
      "image/png": "[encoded data removed]",
      "text/plain": [
       "<Figure size 432x288 with 1 Axes>"
      ]
     },
     "metadata": {
      "needs_background": "light",
      "tags": []
     },
     "output_type": "display_data"
    }
   ],
   "source": [
    "# Plots the loss and accuracy over training and validation data\n",
    "\n",
    "epochs = len(history.history[\"acc\"])\n",
    "val_accuracy = history.history[\"val_acc\"]\n",
    "train_accuracy = history.history[\"acc\"]\n",
    "val_loss = history.history[\"val_loss\"]\n",
    "train_loss = history.history[\"loss\"]\n",
    "\n",
    "plt.plot(range(1, epochs+1), val_accuracy, \"b\", label=\"Validation Accuracy\")\n",
    "plt.plot(range(1, epochs+1), train_accuracy, \"bo\", label=\"Training Accuracy\")\n",
    "plt.xlabel(\"Epochs\")\n",
    "plt.ylabel(\"Accuracy\")\n",
    "plt.legend()\n",
    "plt.title(\"Validation vs. Training Accuracy\")\n",
    "plt.figure()\n",
    "\n",
    "plt.plot(range(1, epochs+1), val_loss, \"b\", label=\"Validation Loss\")\n",
    "plt.plot(range(1, epochs+1), train_loss, \"bo\", label=\"Training Loss\")\n",
    "plt.xlabel(\"Epochs\")\n",
    "plt.ylabel(\"Loss\")\n",
    "plt.legend()\n",
    "plt.title(\"Validation vs. Training Loss\")\n",
    "plt.show()"
   ]
  },
  {
   "cell_type": "markdown",
   "id": "executive-gender",
   "metadata": {
    "id": "executive-gender"
   },
   "source": [
    "It is evident from the above plots that average validation accuracy is around 90% with pretrained model without data augmentation."
   ]
  },
  {
   "cell_type": "markdown",
   "id": "interracial-segment",
   "metadata": {
    "id": "interracial-segment"
   },
   "source": [
    "    b) Feature Extraction with Data Augmentation\n",
    "    \n",
    "    CAUTION: This model training is absolutely intraction in CPU, and hence it is advisable to train the below model in GPU."
   ]
  },
  {
   "cell_type": "code",
   "execution_count": 23,
   "id": "neural-yugoslavia",
   "metadata": {
    "executionInfo": {
     "elapsed": 889,
     "status": "ok",
     "timestamp": 1616936773554,
     "user": {
      "displayName": "Pradip Kumar Das",
      "photoUrl": "https://lh3.googleusercontent.com/a-/AOh14GhOol7HvwC1mRwKgqTD5gVSvnT40P-7O36m_hHS=s64",
      "userId": "12916671935047684031"
     },
     "user_tz": -330
    },
    "id": "neural-yugoslavia"
   },
   "outputs": [],
   "source": [
    "# Creates a new model out of pretrained base model and adds dense fully connected\n",
    "# layer for binary classification\n",
    "\n",
    "model = models.Sequential()\n",
    "model.add(vgg16_base)\n",
    "model.add(layers.Flatten())\n",
    "model.add(layers.Dense(256, activation=\"relu\"))\n",
    "model.add(layers.Dense(1, activation=\"sigmoid\"))"
   ]
  },
  {
   "cell_type": "code",
   "execution_count": 24,
   "id": "willing-restriction",
   "metadata": {
    "colab": {
     "base_uri": "https://localhost:8080/"
    },
    "executionInfo": {
     "elapsed": 1399,
     "status": "ok",
     "timestamp": 1616936777356,
     "user": {
      "displayName": "Pradip Kumar Das",
      "photoUrl": "https://lh3.googleusercontent.com/a-/AOh14GhOol7HvwC1mRwKgqTD5gVSvnT40P-7O36m_hHS=s64",
      "userId": "12916671935047684031"
     },
     "user_tz": -330
    },
    "id": "willing-restriction",
    "outputId": "0e54b7fc-c94e-4191-d6c0-d5f94ddcd3d2"
   },
   "outputs": [
    {
     "name": "stdout",
     "output_type": "stream",
     "text": [
      "Model: \"sequential\"\n",
      "_________________________________________________________________\n",
      "Layer (type)                 Output Shape              Param #   \n",
      "=================================================================\n",
      "vgg16 (Functional)           (None, 4, 4, 512)         14714688  \n",
      "_________________________________________________________________\n",
      "flatten (Flatten)            (None, 8192)              0         \n",
      "_________________________________________________________________\n",
      "dense (Dense)                (None, 256)               2097408   \n",
      "_________________________________________________________________\n",
      "dense_1 (Dense)              (None, 1)                 257       \n",
      "=================================================================\n",
      "Total params: 16,812,353\n",
      "Trainable params: 2,097,665\n",
      "Non-trainable params: 14,714,688\n",
      "_________________________________________________________________\n"
     ]
    }
   ],
   "source": [
    "# Checks for model summary\n",
    "\n",
    "model.summary()"
   ]
  },
  {
   "cell_type": "code",
   "execution_count": 25,
   "id": "precious-utility",
   "metadata": {
    "executionInfo": {
     "elapsed": 1342,
     "status": "ok",
     "timestamp": 1616936785672,
     "user": {
      "displayName": "Pradip Kumar Das",
      "photoUrl": "https://lh3.googleusercontent.com/a-/AOh14GhOol7HvwC1mRwKgqTD5gVSvnT40P-7O36m_hHS=s64",
      "userId": "12916671935047684031"
     },
     "user_tz": -330
    },
    "id": "precious-utility"
   },
   "outputs": [],
   "source": [
    "# Freezes convolutional base before starting training\n",
    "\n",
    "vgg16_base.trainable = False"
   ]
  },
  {
   "cell_type": "code",
   "execution_count": 26,
   "id": "canadian-forum",
   "metadata": {
    "executionInfo": {
     "elapsed": 1181,
     "status": "ok",
     "timestamp": 1616936787591,
     "user": {
      "displayName": "Pradip Kumar Das",
      "photoUrl": "https://lh3.googleusercontent.com/a-/AOh14GhOol7HvwC1mRwKgqTD5gVSvnT40P-7O36m_hHS=s64",
      "userId": "12916671935047684031"
     },
     "user_tz": -330
    },
    "id": "canadian-forum"
   },
   "outputs": [],
   "source": [
    "train_dir = os.path.join(os.getcwd(), \"Data\", \"train\")\n",
    "val_dir = os.path.join(os.getcwd(), \"Data\", \"validation\")"
   ]
  },
  {
   "cell_type": "code",
   "execution_count": 27,
   "id": "sapphire-regression",
   "metadata": {
    "colab": {
     "base_uri": "https://localhost:8080/"
    },
    "executionInfo": {
     "elapsed": 1082,
     "status": "ok",
     "timestamp": 1616936790480,
     "user": {
      "displayName": "Pradip Kumar Das",
      "photoUrl": "https://lh3.googleusercontent.com/a-/AOh14GhOol7HvwC1mRwKgqTD5gVSvnT40P-7O36m_hHS=s64",
      "userId": "12916671935047684031"
     },
     "user_tz": -330
    },
    "id": "sapphire-regression",
    "outputId": "7f269cc5-ad2e-448a-b128-be2e1755bef3"
   },
   "outputs": [
    {
     "name": "stdout",
     "output_type": "stream",
     "text": [
      "Found 2000 images belonging to 2 classes.\n",
      "Found 1000 images belonging to 2 classes.\n"
     ]
    }
   ],
   "source": [
    "# Creates data generator for training images by passing data augmentation parameters.\n",
    "# This is to be noted that data generator for validation images must not be augmented. \n",
    "\n",
    "train_generator = ImageDataGenerator(\n",
    "                    rescale=1./255,\n",
    "                    rotation_range=40,\n",
    "                    width_shift_range=0.2,\n",
    "                    height_shift_range=0.2,\n",
    "                    shear_range=0.2,\n",
    "                    zoom_range=0.2,\n",
    "                    horizontal_flip=True,\n",
    "                    fill_mode=\"nearest\").flow_from_directory(\n",
    "                    train_dir,\n",
    "                    target_size=(150, 150),\n",
    "                    batch_size=20,\n",
    "                    class_mode=\"binary\")\n",
    "\n",
    "val_generator = ImageDataGenerator(rescale=1./255).flow_from_directory(\n",
    "                    val_dir,\n",
    "                    target_size=(150, 150),\n",
    "                    batch_size=20,\n",
    "                    class_mode=\"binary\")"
   ]
  },
  {
   "cell_type": "code",
   "execution_count": 29,
   "id": "peXVQyqD8fdM",
   "metadata": {
    "executionInfo": {
     "elapsed": 1003,
     "status": "ok",
     "timestamp": 1616936945026,
     "user": {
      "displayName": "Pradip Kumar Das",
      "photoUrl": "https://lh3.googleusercontent.com/a-/AOh14GhOol7HvwC1mRwKgqTD5gVSvnT40P-7O36m_hHS=s64",
      "userId": "12916671935047684031"
     },
     "user_tz": -330
    },
    "id": "peXVQyqD8fdM"
   },
   "outputs": [],
   "source": [
    "# Compiles the model\n",
    "model.compile(loss=\"binary_crossentropy\", optimizer=optimizers.RMSprop(lr=2e-5), metrics=[\"acc\"])"
   ]
  },
  {
   "cell_type": "code",
   "execution_count": 30,
   "id": "ultimate-auditor",
   "metadata": {
    "colab": {
     "base_uri": "https://localhost:8080/"
    },
    "executionInfo": {
     "elapsed": 2125270,
     "status": "ok",
     "timestamp": 1616939096859,
     "user": {
      "displayName": "Pradip Kumar Das",
      "photoUrl": "https://lh3.googleusercontent.com/a-/AOh14GhOol7HvwC1mRwKgqTD5gVSvnT40P-7O36m_hHS=s64",
      "userId": "12916671935047684031"
     },
     "user_tz": -330
    },
    "id": "ultimate-auditor",
    "outputId": "4e97c16d-36a2-47f0-e1e5-605e0cfd0526"
   },
   "outputs": [
    {
     "name": "stdout",
     "output_type": "stream",
     "text": [
      "Epoch 1/100\n",
      "100/100 [==============================] - 22s 215ms/step - loss: 0.1386 - acc: 0.9702 - val_loss: 0.0753 - val_acc: 0.9710\n",
      "Epoch 2/100\n",
      "100/100 [==============================] - 21s 210ms/step - loss: 0.0276 - acc: 0.9928 - val_loss: 0.0827 - val_acc: 0.9710\n",
      "Epoch 3/100\n",
      "100/100 [==============================] - 21s 215ms/step - loss: 0.0160 - acc: 0.9968 - val_loss: 0.0873 - val_acc: 0.9720\n",
      "Epoch 4/100\n",
      "100/100 [==============================] - 21s 212ms/step - loss: 0.0189 - acc: 0.9959 - val_loss: 0.0913 - val_acc: 0.9720\n",
      "Epoch 5/100\n",
      "100/100 [==============================] - 21s 211ms/step - loss: 0.0234 - acc: 0.9939 - val_loss: 0.0913 - val_acc: 0.9720\n",
      "Epoch 6/100\n",
      "100/100 [==============================] - 21s 213ms/step - loss: 0.0095 - acc: 0.9958 - val_loss: 0.0933 - val_acc: 0.9710\n",
      "Epoch 7/100\n",
      "100/100 [==============================] - 21s 212ms/step - loss: 0.0045 - acc: 0.9995 - val_loss: 0.0986 - val_acc: 0.9720\n",
      "Epoch 8/100\n",
      "100/100 [==============================] - 21s 213ms/step - loss: 0.0125 - acc: 0.9966 - val_loss: 0.0986 - val_acc: 0.9750\n",
      "Epoch 9/100\n",
      "100/100 [==============================] - 21s 212ms/step - loss: 0.0137 - acc: 0.9957 - val_loss: 0.0897 - val_acc: 0.9770\n",
      "Epoch 10/100\n",
      "100/100 [==============================] - 21s 213ms/step - loss: 0.0060 - acc: 0.9986 - val_loss: 0.0912 - val_acc: 0.9780\n",
      "Epoch 11/100\n",
      "100/100 [==============================] - 21s 212ms/step - loss: 0.0093 - acc: 0.9969 - val_loss: 0.0946 - val_acc: 0.9780\n",
      "Epoch 12/100\n",
      "100/100 [==============================] - 21s 212ms/step - loss: 0.0103 - acc: 0.9967 - val_loss: 0.0978 - val_acc: 0.9770\n",
      "Epoch 13/100\n",
      "100/100 [==============================] - 21s 211ms/step - loss: 0.0055 - acc: 0.9985 - val_loss: 0.1049 - val_acc: 0.9750\n",
      "Epoch 14/100\n",
      "100/100 [==============================] - 21s 211ms/step - loss: 0.0121 - acc: 0.9951 - val_loss: 0.0958 - val_acc: 0.9780\n",
      "Epoch 15/100\n",
      "100/100 [==============================] - 21s 212ms/step - loss: 0.0054 - acc: 0.9984 - val_loss: 0.0958 - val_acc: 0.9760\n",
      "Epoch 16/100\n",
      "100/100 [==============================] - 21s 211ms/step - loss: 0.0051 - acc: 0.9992 - val_loss: 0.0984 - val_acc: 0.9770\n",
      "Epoch 17/100\n",
      "100/100 [==============================] - 21s 213ms/step - loss: 0.0099 - acc: 0.9968 - val_loss: 0.1004 - val_acc: 0.9780\n",
      "Epoch 18/100\n",
      "100/100 [==============================] - 21s 215ms/step - loss: 0.0087 - acc: 0.9974 - val_loss: 0.0981 - val_acc: 0.9790\n",
      "Epoch 19/100\n",
      "100/100 [==============================] - 21s 213ms/step - loss: 0.0035 - acc: 0.9992 - val_loss: 0.1035 - val_acc: 0.9790\n",
      "Epoch 20/100\n",
      "100/100 [==============================] - 21s 213ms/step - loss: 0.0196 - acc: 0.9936 - val_loss: 0.1059 - val_acc: 0.9770\n",
      "Epoch 21/100\n",
      "100/100 [==============================] - 21s 211ms/step - loss: 0.0129 - acc: 0.9933 - val_loss: 0.1112 - val_acc: 0.9790\n",
      "Epoch 22/100\n",
      "100/100 [==============================] - 21s 213ms/step - loss: 0.0157 - acc: 0.9955 - val_loss: 0.1123 - val_acc: 0.9790\n",
      "Epoch 23/100\n",
      "100/100 [==============================] - 21s 212ms/step - loss: 0.0094 - acc: 0.9968 - val_loss: 0.1101 - val_acc: 0.9800\n",
      "Epoch 24/100\n",
      "100/100 [==============================] - 21s 211ms/step - loss: 0.0018 - acc: 0.9999 - val_loss: 0.1122 - val_acc: 0.9780\n",
      "Epoch 25/100\n",
      "100/100 [==============================] - 21s 212ms/step - loss: 0.0035 - acc: 0.9995 - val_loss: 0.1154 - val_acc: 0.9770\n",
      "Epoch 26/100\n",
      "100/100 [==============================] - 21s 212ms/step - loss: 0.0093 - acc: 0.9979 - val_loss: 0.1279 - val_acc: 0.9740\n",
      "Epoch 27/100\n",
      "100/100 [==============================] - 21s 211ms/step - loss: 0.0113 - acc: 0.9966 - val_loss: 0.1216 - val_acc: 0.9770\n",
      "Epoch 28/100\n",
      "100/100 [==============================] - 21s 212ms/step - loss: 0.0024 - acc: 0.9999 - val_loss: 0.1263 - val_acc: 0.9750\n",
      "Epoch 29/100\n",
      "100/100 [==============================] - 21s 211ms/step - loss: 0.0075 - acc: 0.9976 - val_loss: 0.1250 - val_acc: 0.9750\n",
      "Epoch 30/100\n",
      "100/100 [==============================] - 21s 213ms/step - loss: 0.0183 - acc: 0.9938 - val_loss: 0.1157 - val_acc: 0.9780\n",
      "Epoch 31/100\n",
      "100/100 [==============================] - 21s 213ms/step - loss: 0.0039 - acc: 0.9984 - val_loss: 0.1154 - val_acc: 0.9790\n",
      "Epoch 32/100\n",
      "100/100 [==============================] - 21s 211ms/step - loss: 0.0091 - acc: 0.9965 - val_loss: 0.1213 - val_acc: 0.9780\n",
      "Epoch 33/100\n",
      "100/100 [==============================] - 21s 213ms/step - loss: 0.0222 - acc: 0.9930 - val_loss: 0.1209 - val_acc: 0.9790\n",
      "Epoch 34/100\n",
      "100/100 [==============================] - 21s 212ms/step - loss: 0.0072 - acc: 0.9973 - val_loss: 0.1208 - val_acc: 0.9770\n",
      "Epoch 35/100\n",
      "100/100 [==============================] - 21s 211ms/step - loss: 0.0083 - acc: 0.9963 - val_loss: 0.1209 - val_acc: 0.9780\n",
      "Epoch 36/100\n",
      "100/100 [==============================] - 21s 210ms/step - loss: 0.0054 - acc: 0.9977 - val_loss: 0.1235 - val_acc: 0.9780\n",
      "Epoch 37/100\n",
      "100/100 [==============================] - 21s 214ms/step - loss: 0.0067 - acc: 0.9965 - val_loss: 0.1256 - val_acc: 0.9780\n",
      "Epoch 38/100\n",
      "100/100 [==============================] - 21s 212ms/step - loss: 0.0124 - acc: 0.9957 - val_loss: 0.1217 - val_acc: 0.9780\n",
      "Epoch 39/100\n",
      "100/100 [==============================] - 21s 211ms/step - loss: 0.0078 - acc: 0.9972 - val_loss: 0.1272 - val_acc: 0.9760\n",
      "Epoch 40/100\n",
      "100/100 [==============================] - 21s 214ms/step - loss: 0.0022 - acc: 1.0000 - val_loss: 0.1231 - val_acc: 0.9770\n",
      "Epoch 41/100\n",
      "100/100 [==============================] - 21s 211ms/step - loss: 0.0100 - acc: 0.9966 - val_loss: 0.1218 - val_acc: 0.9790\n",
      "Epoch 42/100\n",
      "100/100 [==============================] - 21s 212ms/step - loss: 0.0071 - acc: 0.9968 - val_loss: 0.1209 - val_acc: 0.9770\n",
      "Epoch 43/100\n",
      "100/100 [==============================] - 21s 213ms/step - loss: 0.0054 - acc: 0.9983 - val_loss: 0.1201 - val_acc: 0.9790\n",
      "Epoch 44/100\n",
      "100/100 [==============================] - 21s 211ms/step - loss: 0.0060 - acc: 0.9979 - val_loss: 0.1201 - val_acc: 0.9760\n",
      "Epoch 45/100\n",
      "100/100 [==============================] - 21s 212ms/step - loss: 0.0042 - acc: 0.9984 - val_loss: 0.1277 - val_acc: 0.9750\n",
      "Epoch 46/100\n",
      "100/100 [==============================] - 21s 212ms/step - loss: 0.0050 - acc: 0.9986 - val_loss: 0.1239 - val_acc: 0.9780\n",
      "Epoch 47/100\n",
      "100/100 [==============================] - 21s 211ms/step - loss: 0.0030 - acc: 0.9995 - val_loss: 0.1203 - val_acc: 0.9790\n",
      "Epoch 48/100\n",
      "100/100 [==============================] - 21s 213ms/step - loss: 0.0091 - acc: 0.9968 - val_loss: 0.1214 - val_acc: 0.9790\n",
      "Epoch 49/100\n",
      "100/100 [==============================] - 21s 212ms/step - loss: 0.0018 - acc: 0.9999 - val_loss: 0.1287 - val_acc: 0.9740\n",
      "Epoch 50/100\n",
      "100/100 [==============================] - 21s 209ms/step - loss: 0.0169 - acc: 0.9955 - val_loss: 0.1209 - val_acc: 0.9790\n",
      "Epoch 51/100\n",
      "100/100 [==============================] - 21s 214ms/step - loss: 0.0148 - acc: 0.9967 - val_loss: 0.1212 - val_acc: 0.9780\n",
      "Epoch 52/100\n",
      "100/100 [==============================] - 21s 209ms/step - loss: 0.0082 - acc: 0.9973 - val_loss: 0.1211 - val_acc: 0.9790\n",
      "Epoch 53/100\n",
      "100/100 [==============================] - 21s 210ms/step - loss: 0.0071 - acc: 0.9980 - val_loss: 0.1289 - val_acc: 0.9750\n",
      "Epoch 54/100\n",
      "100/100 [==============================] - 21s 209ms/step - loss: 0.0082 - acc: 0.9953 - val_loss: 0.1216 - val_acc: 0.9770\n",
      "Epoch 55/100\n",
      "100/100 [==============================] - 21s 208ms/step - loss: 0.0081 - acc: 0.9969 - val_loss: 0.1208 - val_acc: 0.9770\n",
      "Epoch 56/100\n",
      "100/100 [==============================] - 21s 210ms/step - loss: 0.0044 - acc: 0.9982 - val_loss: 0.1256 - val_acc: 0.9800\n",
      "Epoch 57/100\n",
      "100/100 [==============================] - 21s 210ms/step - loss: 0.0129 - acc: 0.9930 - val_loss: 0.1250 - val_acc: 0.9800\n",
      "Epoch 58/100\n",
      "100/100 [==============================] - 21s 208ms/step - loss: 0.0291 - acc: 0.9938 - val_loss: 0.1225 - val_acc: 0.9780\n",
      "Epoch 59/100\n",
      "100/100 [==============================] - 21s 210ms/step - loss: 0.0096 - acc: 0.9947 - val_loss: 0.1253 - val_acc: 0.9790\n",
      "Epoch 60/100\n",
      "100/100 [==============================] - 21s 210ms/step - loss: 0.0045 - acc: 0.9982 - val_loss: 0.1225 - val_acc: 0.9770\n",
      "Epoch 61/100\n",
      "100/100 [==============================] - 21s 209ms/step - loss: 0.0098 - acc: 0.9960 - val_loss: 0.1229 - val_acc: 0.9800\n",
      "Epoch 62/100\n",
      "100/100 [==============================] - 22s 216ms/step - loss: 0.0078 - acc: 0.9962 - val_loss: 0.1244 - val_acc: 0.9800\n",
      "Epoch 63/100\n",
      "100/100 [==============================] - 21s 211ms/step - loss: 0.0137 - acc: 0.9961 - val_loss: 0.1316 - val_acc: 0.9770\n",
      "Epoch 64/100\n",
      "100/100 [==============================] - 21s 211ms/step - loss: 0.0069 - acc: 0.9979 - val_loss: 0.1302 - val_acc: 0.9770\n",
      "Epoch 65/100\n",
      "100/100 [==============================] - 21s 214ms/step - loss: 0.0040 - acc: 0.9986 - val_loss: 0.1396 - val_acc: 0.9770\n",
      "Epoch 66/100\n",
      "100/100 [==============================] - 22s 217ms/step - loss: 0.0063 - acc: 0.9973 - val_loss: 0.1348 - val_acc: 0.9780\n",
      "Epoch 67/100\n",
      "100/100 [==============================] - 21s 215ms/step - loss: 0.0153 - acc: 0.9957 - val_loss: 0.1347 - val_acc: 0.9770\n",
      "Epoch 68/100\n",
      "100/100 [==============================] - 21s 213ms/step - loss: 0.0089 - acc: 0.9972 - val_loss: 0.1335 - val_acc: 0.9770\n",
      "Epoch 69/100\n",
      "100/100 [==============================] - 21s 212ms/step - loss: 0.0057 - acc: 0.9985 - val_loss: 0.1344 - val_acc: 0.9760\n",
      "Epoch 70/100\n",
      "100/100 [==============================] - 22s 216ms/step - loss: 0.0047 - acc: 0.9979 - val_loss: 0.1311 - val_acc: 0.9780\n",
      "Epoch 71/100\n",
      "100/100 [==============================] - 22s 217ms/step - loss: 0.0189 - acc: 0.9949 - val_loss: 0.1315 - val_acc: 0.9760\n",
      "Epoch 72/100\n",
      "100/100 [==============================] - 21s 214ms/step - loss: 0.0054 - acc: 0.9970 - val_loss: 0.1367 - val_acc: 0.9760\n",
      "Epoch 73/100\n",
      "100/100 [==============================] - 21s 213ms/step - loss: 0.0054 - acc: 0.9982 - val_loss: 0.1313 - val_acc: 0.9780\n",
      "Epoch 74/100\n",
      "100/100 [==============================] - 21s 213ms/step - loss: 0.0045 - acc: 0.9982 - val_loss: 0.1384 - val_acc: 0.9760\n",
      "Epoch 75/100\n",
      "100/100 [==============================] - 21s 211ms/step - loss: 0.0106 - acc: 0.9974 - val_loss: 0.1340 - val_acc: 0.9770\n",
      "Epoch 76/100\n",
      "100/100 [==============================] - 21s 213ms/step - loss: 0.0180 - acc: 0.9952 - val_loss: 0.1328 - val_acc: 0.9780\n",
      "Epoch 77/100\n",
      "100/100 [==============================] - 21s 212ms/step - loss: 0.0162 - acc: 0.9942 - val_loss: 0.1390 - val_acc: 0.9760\n",
      "Epoch 78/100\n",
      "100/100 [==============================] - 21s 209ms/step - loss: 0.0276 - acc: 0.9956 - val_loss: 0.1265 - val_acc: 0.9780\n",
      "Epoch 79/100\n",
      "100/100 [==============================] - 21s 212ms/step - loss: 0.0053 - acc: 0.9975 - val_loss: 0.1270 - val_acc: 0.9750\n",
      "Epoch 80/100\n",
      "100/100 [==============================] - 21s 214ms/step - loss: 0.0129 - acc: 0.9952 - val_loss: 0.1259 - val_acc: 0.9760\n",
      "Epoch 81/100\n",
      "100/100 [==============================] - 21s 213ms/step - loss: 0.0051 - acc: 0.9982 - val_loss: 0.1286 - val_acc: 0.9760\n",
      "Epoch 82/100\n",
      "100/100 [==============================] - 22s 216ms/step - loss: 0.0040 - acc: 0.9986 - val_loss: 0.1319 - val_acc: 0.9790\n",
      "Epoch 83/100\n",
      "100/100 [==============================] - 21s 210ms/step - loss: 0.0035 - acc: 0.9994 - val_loss: 0.1367 - val_acc: 0.9780\n",
      "Epoch 84/100\n",
      "100/100 [==============================] - 21s 210ms/step - loss: 0.0044 - acc: 0.9992 - val_loss: 0.1321 - val_acc: 0.9780\n",
      "Epoch 85/100\n",
      "100/100 [==============================] - 21s 212ms/step - loss: 0.0072 - acc: 0.9971 - val_loss: 0.1398 - val_acc: 0.9760\n",
      "Epoch 86/100\n",
      "100/100 [==============================] - 21s 210ms/step - loss: 0.0078 - acc: 0.9987 - val_loss: 0.1324 - val_acc: 0.9760\n",
      "Epoch 87/100\n",
      "100/100 [==============================] - 22s 216ms/step - loss: 0.0083 - acc: 0.9969 - val_loss: 0.1303 - val_acc: 0.9790\n",
      "Epoch 88/100\n",
      "100/100 [==============================] - 21s 211ms/step - loss: 0.0085 - acc: 0.9975 - val_loss: 0.1333 - val_acc: 0.9780\n",
      "Epoch 89/100\n",
      "100/100 [==============================] - 21s 213ms/step - loss: 0.0032 - acc: 0.9990 - val_loss: 0.1353 - val_acc: 0.9780\n",
      "Epoch 90/100\n",
      "100/100 [==============================] - 22s 220ms/step - loss: 0.0069 - acc: 0.9983 - val_loss: 0.1427 - val_acc: 0.9760\n",
      "Epoch 91/100\n",
      "100/100 [==============================] - 22s 224ms/step - loss: 0.0183 - acc: 0.9938 - val_loss: 0.1359 - val_acc: 0.9780\n",
      "Epoch 92/100\n",
      "100/100 [==============================] - 22s 215ms/step - loss: 0.0026 - acc: 0.9999 - val_loss: 0.1424 - val_acc: 0.9760\n",
      "Epoch 93/100\n",
      "100/100 [==============================] - 21s 213ms/step - loss: 0.0098 - acc: 0.9978 - val_loss: 0.1386 - val_acc: 0.9780\n",
      "Epoch 94/100\n",
      "100/100 [==============================] - 21s 212ms/step - loss: 0.0150 - acc: 0.9971 - val_loss: 0.1437 - val_acc: 0.9770\n",
      "Epoch 95/100\n",
      "100/100 [==============================] - 21s 211ms/step - loss: 0.0147 - acc: 0.9967 - val_loss: 0.1417 - val_acc: 0.9780\n",
      "Epoch 96/100\n",
      "100/100 [==============================] - 21s 213ms/step - loss: 0.0092 - acc: 0.9969 - val_loss: 0.1409 - val_acc: 0.9770\n",
      "Epoch 97/100\n",
      "100/100 [==============================] - 21s 212ms/step - loss: 0.0125 - acc: 0.9963 - val_loss: 0.1374 - val_acc: 0.9780\n",
      "Epoch 98/100\n",
      "100/100 [==============================] - 21s 212ms/step - loss: 0.0058 - acc: 0.9990 - val_loss: 0.1417 - val_acc: 0.9790\n",
      "Epoch 99/100\n",
      "100/100 [==============================] - 21s 214ms/step - loss: 0.0020 - acc: 0.9993 - val_loss: 0.1422 - val_acc: 0.9800\n",
      "Epoch 100/100\n",
      "100/100 [==============================] - 21s 211ms/step - loss: 0.0129 - acc: 0.9949 - val_loss: 0.1424 - val_acc: 0.9750\n"
     ]
    }
   ],
   "source": [
    "# Fits model\n",
    "\n",
    "history = model.fit(train_generator, steps_per_epoch = 100, epochs = 100, \n",
    "                              validation_data=val_generator, validation_steps = 50)"
   ]
  },
  {
   "cell_type": "code",
   "execution_count": 31,
   "id": "tracked-parliament",
   "metadata": {
    "executionInfo": {
     "elapsed": 1273,
     "status": "ok",
     "timestamp": 1616939243762,
     "user": {
      "displayName": "Pradip Kumar Das",
      "photoUrl": "https://lh3.googleusercontent.com/a-/AOh14GhOol7HvwC1mRwKgqTD5gVSvnT40P-7O36m_hHS=s64",
      "userId": "12916671935047684031"
     },
     "user_tz": -330
    },
    "id": "tracked-parliament"
   },
   "outputs": [],
   "source": [
    "# Saves the entire trained model into HDF5 file format.\n",
    "\n",
    "model.save(\"dogs_vs._cats_prediction_using_pretrained_model_with_feature_extraction_and_data_augmentation.h5\")"
   ]
  },
  {
   "cell_type": "code",
   "execution_count": 32,
   "id": "eleven-laundry",
   "metadata": {
    "colab": {
     "base_uri": "https://localhost:8080/",
     "height": 573
    },
    "executionInfo": {
     "elapsed": 1367,
     "status": "ok",
     "timestamp": 1616939269393,
     "user": {
      "displayName": "Pradip Kumar Das",
      "photoUrl": "https://lh3.googleusercontent.com/a-/AOh14GhOol7HvwC1mRwKgqTD5gVSvnT40P-7O36m_hHS=s64",
      "userId": "12916671935047684031"
     },
     "user_tz": -330
    },
    "id": "eleven-laundry",
    "outputId": "b43b24cc-b0ef-4917-cc30-57658c2a9093",
    "scrolled": true
   },
   "outputs": [
    {
     "data": {
      "image/png": "[encoded data removed]",
      "text/plain": [
       "<Figure size 432x288 with 1 Axes>"
      ]
     },
     "metadata": {
      "needs_background": "light",
      "tags": []
     },
     "output_type": "display_data"
    },
    {
     "data": {
      "image/png": "[encoded data removed]",
      "text/plain": [
       "<Figure size 432x288 with 1 Axes>"
      ]
     },
     "metadata": {
      "needs_background": "light",
      "tags": []
     },
     "output_type": "display_data"
    }
   ],
   "source": [
    "# Plots the loss and accuracy over training and validation data\n",
    "\n",
    "epochs = len(history.history[\"acc\"])\n",
    "val_accuracy = history.history[\"val_acc\"]\n",
    "train_accuracy = history.history[\"acc\"]\n",
    "val_loss = history.history[\"val_loss\"]\n",
    "train_loss = history.history[\"loss\"]\n",
    "\n",
    "plt.plot(range(1, epochs+1), val_accuracy, \"b\", label=\"Validation Accuracy\")\n",
    "plt.plot(range(1, epochs+1), train_accuracy, \"bo\", label=\"Training Accuracy\")\n",
    "plt.xlabel(\"Epochs\")\n",
    "plt.ylabel(\"Accuracy\")\n",
    "plt.legend()\n",
    "plt.title(\"Validation vs. Training Accuracy\")\n",
    "plt.figure()\n",
    "\n",
    "plt.plot(range(1, epochs+1), val_loss, \"b\", label=\"Validation Loss\")\n",
    "plt.plot(range(1, epochs+1), train_loss, \"bo\", label=\"Training Loss\")\n",
    "plt.xlabel(\"Epochs\")\n",
    "plt.ylabel(\"Loss\")\n",
    "plt.legend()\n",
    "plt.title(\"Validation vs. Training Loss\")\n",
    "plt.show()"
   ]
  },
  {
   "cell_type": "markdown",
   "id": "medieval-civilian",
   "metadata": {
    "id": "medieval-civilian"
   },
   "source": [
    "As this part of the computation was carried out in GPU based machine, the the validation and loss plots couldn't be shown here. But it was observed that average validation accuracy was increased from 90% to 96% using pretrained convolutional neural network with data augmentation."
   ]
  },
  {
   "cell_type": "markdown",
   "id": "pediatric-lafayette",
   "metadata": {
    "id": "pediatric-lafayette"
   },
   "source": [
    "### 4. Improving Accuracy Even Further by Fine Tuning on Pretrained Model"
   ]
  },
  {
   "cell_type": "code",
   "execution_count": 10,
   "id": "individual-hello",
   "metadata": {
    "colab": {
     "base_uri": "https://localhost:8080/"
    },
    "executionInfo": {
     "elapsed": 7892,
     "status": "ok",
     "timestamp": 1616932486529,
     "user": {
      "displayName": "Pradip Kumar Das",
      "photoUrl": "https://lh3.googleusercontent.com/a-/AOh14GhOol7HvwC1mRwKgqTD5gVSvnT40P-7O36m_hHS=s64",
      "userId": "12916671935047684031"
     },
     "user_tz": -330
    },
    "id": "individual-hello",
    "outputId": "be7f0714-ed01-40fb-8f62-eceaab3b28b9"
   },
   "outputs": [
    {
     "name": "stdout",
     "output_type": "stream",
     "text": [
      "WARNING:tensorflow:Error in loading the saved optimizer state. As a result, your model is starting with a freshly initialized optimizer.\n"
     ]
    }
   ],
   "source": [
    "# Loads the saved model created in previous steps\n",
    "\n",
    "model = models.load_model(\n",
    "    \"dogs_vs._cats_prediction_using_pretrained_model_with_feature_extraction_and_data_augmentation.h5\")"
   ]
  },
  {
   "cell_type": "code",
   "execution_count": 18,
   "id": "received-canon",
   "metadata": {
    "colab": {
     "base_uri": "https://localhost:8080/"
    },
    "executionInfo": {
     "elapsed": 1431,
     "status": "ok",
     "timestamp": 1616930175108,
     "user": {
      "displayName": "Pradip Kumar Das",
      "photoUrl": "https://lh3.googleusercontent.com/a-/AOh14GhOol7HvwC1mRwKgqTD5gVSvnT40P-7O36m_hHS=s64",
      "userId": "12916671935047684031"
     },
     "user_tz": -330
    },
    "id": "received-canon",
    "outputId": "701e4b05-34cd-4c10-e70f-9581a8cbc56f"
   },
   "outputs": [
    {
     "name": "stdout",
     "output_type": "stream",
     "text": [
      "Model: \"sequential\"\n",
      "_________________________________________________________________\n",
      "Layer (type)                 Output Shape              Param #   \n",
      "=================================================================\n",
      "vgg16 (Functional)           (None, 4, 4, 512)         14714688  \n",
      "_________________________________________________________________\n",
      "flatten (Flatten)            (None, 8192)              0         \n",
      "_________________________________________________________________\n",
      "dense (Dense)                (None, 256)               2097408   \n",
      "_________________________________________________________________\n",
      "dense_1 (Dense)              (None, 1)                 257       \n",
      "=================================================================\n",
      "Total params: 16,812,353\n",
      "Trainable params: 2,097,665\n",
      "Non-trainable params: 14,714,688\n",
      "_________________________________________________________________\n"
     ]
    }
   ],
   "source": [
    "# As part of fine-tuning process, only top "
   ]
  },
  {
   "cell_type": "code",
   "execution_count": 11,
   "id": "RX2GhfqWhjIw",
   "metadata": {
    "colab": {
     "base_uri": "https://localhost:8080/"
    },
    "executionInfo": {
     "elapsed": 947,
     "status": "ok",
     "timestamp": 1616932494093,
     "user": {
      "displayName": "Pradip Kumar Das",
      "photoUrl": "https://lh3.googleusercontent.com/a-/AOh14GhOol7HvwC1mRwKgqTD5gVSvnT40P-7O36m_hHS=s64",
      "userId": "12916671935047684031"
     },
     "user_tz": -330
    },
    "id": "RX2GhfqWhjIw",
    "outputId": "27ede76c-e956-4508-ca21-398876efd01a"
   },
   "outputs": [
    {
     "name": "stdout",
     "output_type": "stream",
     "text": [
      "Model: \"vgg16\"\n",
      "_________________________________________________________________\n",
      "Layer (type)                 Output Shape              Param #   \n",
      "=================================================================\n",
      "input_1 (InputLayer)         [(None, 150, 150, 3)]     0         \n",
      "_________________________________________________________________\n",
      "block1_conv1 (Conv2D)        (None, 150, 150, 64)      1792      \n",
      "_________________________________________________________________\n",
      "block1_conv2 (Conv2D)        (None, 150, 150, 64)      36928     \n",
      "_________________________________________________________________\n",
      "block1_pool (MaxPooling2D)   (None, 75, 75, 64)        0         \n",
      "_________________________________________________________________\n",
      "block2_conv1 (Conv2D)        (None, 75, 75, 128)       73856     \n",
      "_________________________________________________________________\n",
      "block2_conv2 (Conv2D)        (None, 75, 75, 128)       147584    \n",
      "_________________________________________________________________\n",
      "block2_pool (MaxPooling2D)   (None, 37, 37, 128)       0         \n",
      "_________________________________________________________________\n",
      "block3_conv1 (Conv2D)        (None, 37, 37, 256)       295168    \n",
      "_________________________________________________________________\n",
      "block3_conv2 (Conv2D)        (None, 37, 37, 256)       590080    \n",
      "_________________________________________________________________\n",
      "block3_conv3 (Conv2D)        (None, 37, 37, 256)       590080    \n",
      "_________________________________________________________________\n",
      "block3_pool (MaxPooling2D)   (None, 18, 18, 256)       0         \n",
      "_________________________________________________________________\n",
      "block4_conv1 (Conv2D)        (None, 18, 18, 512)       1180160   \n",
      "_________________________________________________________________\n",
      "block4_conv2 (Conv2D)        (None, 18, 18, 512)       2359808   \n",
      "_________________________________________________________________\n",
      "block4_conv3 (Conv2D)        (None, 18, 18, 512)       2359808   \n",
      "_________________________________________________________________\n",
      "block4_pool (MaxPooling2D)   (None, 9, 9, 512)         0         \n",
      "_________________________________________________________________\n",
      "block5_conv1 (Conv2D)        (None, 9, 9, 512)         2359808   \n",
      "_________________________________________________________________\n",
      "block5_conv2 (Conv2D)        (None, 9, 9, 512)         2359808   \n",
      "_________________________________________________________________\n",
      "block5_conv3 (Conv2D)        (None, 9, 9, 512)         2359808   \n",
      "_________________________________________________________________\n",
      "block5_pool (MaxPooling2D)   (None, 4, 4, 512)         0         \n",
      "=================================================================\n",
      "Total params: 14,714,688\n",
      "Trainable params: 0\n",
      "Non-trainable params: 14,714,688\n",
      "_________________________________________________________________\n"
     ]
    }
   ],
   "source": [
    "# Gets reference to VGG16 base convolutional netowork and gets summary\n",
    "\n",
    "vgg16_base = model.layers[0]\n",
    "vgg16_base.summary()"
   ]
  },
  {
   "cell_type": "code",
   "execution_count": 12,
   "id": "6Gbh3Tgil6fO",
   "metadata": {
    "executionInfo": {
     "elapsed": 941,
     "status": "ok",
     "timestamp": 1616932505726,
     "user": {
      "displayName": "Pradip Kumar Das",
      "photoUrl": "https://lh3.googleusercontent.com/a-/AOh14GhOol7HvwC1mRwKgqTD5gVSvnT40P-7O36m_hHS=s64",
      "userId": "12916671935047684031"
     },
     "user_tz": -330
    },
    "id": "6Gbh3Tgil6fO"
   },
   "outputs": [],
   "source": [
    "# Sets base network as non-trainable\n",
    "\n",
    "vgg16_base.trainable = False"
   ]
  },
  {
   "cell_type": "code",
   "execution_count": 13,
   "id": "9pxKT4jAhjAB",
   "metadata": {
    "executionInfo": {
     "elapsed": 1189,
     "status": "ok",
     "timestamp": 1616932537075,
     "user": {
      "displayName": "Pradip Kumar Das",
      "photoUrl": "https://lh3.googleusercontent.com/a-/AOh14GhOol7HvwC1mRwKgqTD5gVSvnT40P-7O36m_hHS=s64",
      "userId": "12916671935047684031"
     },
     "user_tz": -330
    },
    "id": "9pxKT4jAhjAB"
   },
   "outputs": [],
   "source": [
    "# Sets only top three convolutional network in the base network as trainable\n",
    "\n",
    "vgg16_base.get_layer(\"block5_conv1\").trainable = True\n",
    "vgg16_base.get_layer(\"block5_conv2\").trainable = True\n",
    "vgg16_base.get_layer(\"block5_conv3\").trainable = True"
   ]
  },
  {
   "cell_type": "code",
   "execution_count": 14,
   "id": "EpXMhx7Klawg",
   "metadata": {
    "executionInfo": {
     "elapsed": 1126,
     "status": "ok",
     "timestamp": 1616932541235,
     "user": {
      "displayName": "Pradip Kumar Das",
      "photoUrl": "https://lh3.googleusercontent.com/a-/AOh14GhOol7HvwC1mRwKgqTD5gVSvnT40P-7O36m_hHS=s64",
      "userId": "12916671935047684031"
     },
     "user_tz": -330
    },
    "id": "EpXMhx7Klawg"
   },
   "outputs": [],
   "source": [
    "# Compiles model\n",
    "\n",
    "model.compile(loss=\"binary_crossentropy\", optimizer=optimizers.RMSprop(lr=1e-5), metrics=[\"acc\"])"
   ]
  },
  {
   "cell_type": "code",
   "execution_count": 15,
   "id": "YESD-kBomGQn",
   "metadata": {
    "colab": {
     "base_uri": "https://localhost:8080/"
    },
    "executionInfo": {
     "elapsed": 2760363,
     "status": "ok",
     "timestamp": 1616935319840,
     "user": {
      "displayName": "Pradip Kumar Das",
      "photoUrl": "https://lh3.googleusercontent.com/a-/AOh14GhOol7HvwC1mRwKgqTD5gVSvnT40P-7O36m_hHS=s64",
      "userId": "12916671935047684031"
     },
     "user_tz": -330
    },
    "id": "YESD-kBomGQn",
    "outputId": "cc74a3fa-4e79-4e46-8364-39398c030e26"
   },
   "outputs": [
    {
     "name": "stdout",
     "output_type": "stream",
     "text": [
      "Epoch 1/100\n",
      "100/100 [==============================] - 643s 6s/step - loss: 0.0144 - acc: 0.9955 - val_loss: 0.1136 - val_acc: 0.9720\n",
      "Epoch 2/100\n",
      "100/100 [==============================] - 22s 215ms/step - loss: 0.0091 - acc: 0.9961 - val_loss: 0.1158 - val_acc: 0.9710\n",
      "Epoch 3/100\n",
      "100/100 [==============================] - 21s 214ms/step - loss: 0.0203 - acc: 0.9962 - val_loss: 0.1192 - val_acc: 0.9720\n",
      "Epoch 4/100\n",
      "100/100 [==============================] - 21s 213ms/step - loss: 0.0175 - acc: 0.9969 - val_loss: 0.1234 - val_acc: 0.9710\n",
      "Epoch 5/100\n",
      "100/100 [==============================] - 21s 213ms/step - loss: 0.0144 - acc: 0.9951 - val_loss: 0.1120 - val_acc: 0.9730\n",
      "Epoch 6/100\n",
      "100/100 [==============================] - 22s 216ms/step - loss: 0.0090 - acc: 0.9952 - val_loss: 0.1115 - val_acc: 0.9730\n",
      "Epoch 7/100\n",
      "100/100 [==============================] - 21s 214ms/step - loss: 0.0132 - acc: 0.9943 - val_loss: 0.1204 - val_acc: 0.9720\n",
      "Epoch 8/100\n",
      "100/100 [==============================] - 21s 213ms/step - loss: 0.0079 - acc: 0.9986 - val_loss: 0.1213 - val_acc: 0.9730\n",
      "Epoch 9/100\n",
      "100/100 [==============================] - 21s 212ms/step - loss: 0.0170 - acc: 0.9954 - val_loss: 0.1129 - val_acc: 0.9720\n",
      "Epoch 10/100\n",
      "100/100 [==============================] - 21s 211ms/step - loss: 0.0086 - acc: 0.9958 - val_loss: 0.1131 - val_acc: 0.9720\n",
      "Epoch 11/100\n",
      "100/100 [==============================] - 21s 213ms/step - loss: 0.0037 - acc: 0.9989 - val_loss: 0.1130 - val_acc: 0.9740\n",
      "Epoch 12/100\n",
      "100/100 [==============================] - 21s 211ms/step - loss: 0.0118 - acc: 0.9940 - val_loss: 0.1115 - val_acc: 0.9740\n",
      "Epoch 13/100\n",
      "100/100 [==============================] - 21s 213ms/step - loss: 0.0171 - acc: 0.9957 - val_loss: 0.1108 - val_acc: 0.9730\n",
      "Epoch 14/100\n",
      "100/100 [==============================] - 21s 213ms/step - loss: 0.0127 - acc: 0.9971 - val_loss: 0.1130 - val_acc: 0.9720\n",
      "Epoch 15/100\n",
      "100/100 [==============================] - 21s 213ms/step - loss: 0.0156 - acc: 0.9925 - val_loss: 0.1059 - val_acc: 0.9750\n",
      "Epoch 16/100\n",
      "100/100 [==============================] - 21s 213ms/step - loss: 0.0091 - acc: 0.9969 - val_loss: 0.1094 - val_acc: 0.9730\n",
      "Epoch 17/100\n",
      "100/100 [==============================] - 21s 213ms/step - loss: 0.0141 - acc: 0.9946 - val_loss: 0.1076 - val_acc: 0.9730\n",
      "Epoch 18/100\n",
      "100/100 [==============================] - 21s 214ms/step - loss: 0.0202 - acc: 0.9932 - val_loss: 0.1087 - val_acc: 0.9740\n",
      "Epoch 19/100\n",
      "100/100 [==============================] - 21s 213ms/step - loss: 0.0117 - acc: 0.9964 - val_loss: 0.1066 - val_acc: 0.9750\n",
      "Epoch 20/100\n",
      "100/100 [==============================] - 21s 214ms/step - loss: 0.0219 - acc: 0.9960 - val_loss: 0.1064 - val_acc: 0.9740\n",
      "Epoch 21/100\n",
      "100/100 [==============================] - 21s 213ms/step - loss: 0.0037 - acc: 0.9978 - val_loss: 0.1077 - val_acc: 0.9740\n",
      "Epoch 22/100\n",
      "100/100 [==============================] - 21s 213ms/step - loss: 0.0092 - acc: 0.9959 - val_loss: 0.1135 - val_acc: 0.9740\n",
      "Epoch 23/100\n",
      "100/100 [==============================] - 21s 211ms/step - loss: 0.0099 - acc: 0.9950 - val_loss: 0.1130 - val_acc: 0.9740\n",
      "Epoch 24/100\n",
      "100/100 [==============================] - 21s 213ms/step - loss: 0.0093 - acc: 0.9955 - val_loss: 0.1133 - val_acc: 0.9730\n",
      "Epoch 25/100\n",
      "100/100 [==============================] - 21s 213ms/step - loss: 0.0101 - acc: 0.9955 - val_loss: 0.1106 - val_acc: 0.9750\n",
      "Epoch 26/100\n",
      "100/100 [==============================] - 21s 213ms/step - loss: 0.0158 - acc: 0.9970 - val_loss: 0.1091 - val_acc: 0.9750\n",
      "Epoch 27/100\n",
      "100/100 [==============================] - 21s 212ms/step - loss: 0.0063 - acc: 0.9987 - val_loss: 0.1121 - val_acc: 0.9750\n",
      "Epoch 28/100\n",
      "100/100 [==============================] - 21s 214ms/step - loss: 0.0079 - acc: 0.9980 - val_loss: 0.1149 - val_acc: 0.9750\n",
      "Epoch 29/100\n",
      "100/100 [==============================] - 21s 210ms/step - loss: 0.0073 - acc: 0.9966 - val_loss: 0.1117 - val_acc: 0.9770\n",
      "Epoch 30/100\n",
      "100/100 [==============================] - 21s 212ms/step - loss: 0.0134 - acc: 0.9945 - val_loss: 0.1184 - val_acc: 0.9730\n",
      "Epoch 31/100\n",
      "100/100 [==============================] - 21s 214ms/step - loss: 0.0114 - acc: 0.9947 - val_loss: 0.1179 - val_acc: 0.9730\n",
      "Epoch 32/100\n",
      "100/100 [==============================] - 21s 212ms/step - loss: 0.0129 - acc: 0.9955 - val_loss: 0.1126 - val_acc: 0.9790\n",
      "Epoch 33/100\n",
      "100/100 [==============================] - 21s 212ms/step - loss: 0.0149 - acc: 0.9958 - val_loss: 0.1137 - val_acc: 0.9760\n",
      "Epoch 34/100\n",
      "100/100 [==============================] - 21s 213ms/step - loss: 0.0023 - acc: 0.9993 - val_loss: 0.1132 - val_acc: 0.9780\n",
      "Epoch 35/100\n",
      "100/100 [==============================] - 22s 216ms/step - loss: 0.0032 - acc: 0.9985 - val_loss: 0.1227 - val_acc: 0.9740\n",
      "Epoch 36/100\n",
      "100/100 [==============================] - 21s 212ms/step - loss: 0.0098 - acc: 0.9971 - val_loss: 0.1192 - val_acc: 0.9720\n",
      "Epoch 37/100\n",
      "100/100 [==============================] - 21s 212ms/step - loss: 0.0201 - acc: 0.9933 - val_loss: 0.1217 - val_acc: 0.9730\n",
      "Epoch 38/100\n",
      "100/100 [==============================] - 21s 214ms/step - loss: 0.0082 - acc: 0.9970 - val_loss: 0.1170 - val_acc: 0.9730\n",
      "Epoch 39/100\n",
      "100/100 [==============================] - 21s 213ms/step - loss: 0.0079 - acc: 0.9958 - val_loss: 0.1129 - val_acc: 0.9800\n",
      "Epoch 40/100\n",
      "100/100 [==============================] - 21s 212ms/step - loss: 0.0141 - acc: 0.9950 - val_loss: 0.1225 - val_acc: 0.9740\n",
      "Epoch 41/100\n",
      "100/100 [==============================] - 21s 213ms/step - loss: 0.0102 - acc: 0.9966 - val_loss: 0.1160 - val_acc: 0.9740\n",
      "Epoch 42/100\n",
      "100/100 [==============================] - 21s 212ms/step - loss: 0.0107 - acc: 0.9973 - val_loss: 0.1168 - val_acc: 0.9740\n",
      "Epoch 43/100\n",
      "100/100 [==============================] - 21s 213ms/step - loss: 0.0065 - acc: 0.9992 - val_loss: 0.1137 - val_acc: 0.9770\n",
      "Epoch 44/100\n",
      "100/100 [==============================] - 21s 212ms/step - loss: 0.0100 - acc: 0.9954 - val_loss: 0.1179 - val_acc: 0.9740\n",
      "Epoch 45/100\n",
      "100/100 [==============================] - 21s 213ms/step - loss: 0.0081 - acc: 0.9965 - val_loss: 0.1215 - val_acc: 0.9730\n",
      "Epoch 46/100\n",
      "100/100 [==============================] - 21s 212ms/step - loss: 0.0105 - acc: 0.9955 - val_loss: 0.1218 - val_acc: 0.9730\n",
      "Epoch 47/100\n",
      "100/100 [==============================] - 21s 212ms/step - loss: 0.0081 - acc: 0.9963 - val_loss: 0.1158 - val_acc: 0.9760\n",
      "Epoch 48/100\n",
      "100/100 [==============================] - 21s 211ms/step - loss: 0.0044 - acc: 0.9975 - val_loss: 0.1168 - val_acc: 0.9760\n",
      "Epoch 49/100\n",
      "100/100 [==============================] - 21s 212ms/step - loss: 0.0111 - acc: 0.9948 - val_loss: 0.1158 - val_acc: 0.9790\n",
      "Epoch 50/100\n",
      "100/100 [==============================] - 22s 215ms/step - loss: 0.0139 - acc: 0.9965 - val_loss: 0.1168 - val_acc: 0.9790\n",
      "Epoch 51/100\n",
      "100/100 [==============================] - 21s 213ms/step - loss: 0.0143 - acc: 0.9950 - val_loss: 0.1228 - val_acc: 0.9720\n",
      "Epoch 52/100\n",
      "100/100 [==============================] - 21s 214ms/step - loss: 0.0101 - acc: 0.9975 - val_loss: 0.1191 - val_acc: 0.9740\n",
      "Epoch 53/100\n",
      "100/100 [==============================] - 21s 214ms/step - loss: 0.0227 - acc: 0.9925 - val_loss: 0.1172 - val_acc: 0.9790\n",
      "Epoch 54/100\n",
      "100/100 [==============================] - 21s 212ms/step - loss: 0.0097 - acc: 0.9959 - val_loss: 0.1163 - val_acc: 0.9780\n",
      "Epoch 55/100\n",
      "100/100 [==============================] - 21s 213ms/step - loss: 0.0073 - acc: 0.9974 - val_loss: 0.1214 - val_acc: 0.9750\n",
      "Epoch 56/100\n",
      "100/100 [==============================] - 21s 214ms/step - loss: 0.0055 - acc: 0.9988 - val_loss: 0.1205 - val_acc: 0.9740\n",
      "Epoch 57/100\n",
      "100/100 [==============================] - 22s 215ms/step - loss: 0.0159 - acc: 0.9952 - val_loss: 0.1183 - val_acc: 0.9780\n",
      "Epoch 58/100\n",
      "100/100 [==============================] - 21s 212ms/step - loss: 0.0065 - acc: 0.9982 - val_loss: 0.1159 - val_acc: 0.9780\n",
      "Epoch 59/100\n",
      "100/100 [==============================] - 21s 212ms/step - loss: 0.0060 - acc: 0.9980 - val_loss: 0.1166 - val_acc: 0.9780\n",
      "Epoch 60/100\n",
      "100/100 [==============================] - 21s 214ms/step - loss: 0.0046 - acc: 0.9975 - val_loss: 0.1180 - val_acc: 0.9770\n",
      "Epoch 61/100\n",
      "100/100 [==============================] - 21s 214ms/step - loss: 0.0028 - acc: 0.9994 - val_loss: 0.1251 - val_acc: 0.9730\n",
      "Epoch 62/100\n",
      "100/100 [==============================] - 21s 211ms/step - loss: 0.0114 - acc: 0.9988 - val_loss: 0.1253 - val_acc: 0.9730\n",
      "Epoch 63/100\n",
      "100/100 [==============================] - 21s 213ms/step - loss: 0.0057 - acc: 0.9991 - val_loss: 0.1302 - val_acc: 0.9740\n",
      "Epoch 64/100\n",
      "100/100 [==============================] - 22s 217ms/step - loss: 0.0028 - acc: 0.9996 - val_loss: 0.1277 - val_acc: 0.9740\n",
      "Epoch 65/100\n",
      "100/100 [==============================] - 21s 215ms/step - loss: 0.0104 - acc: 0.9970 - val_loss: 0.1210 - val_acc: 0.9760\n",
      "Epoch 66/100\n",
      "100/100 [==============================] - 21s 214ms/step - loss: 0.0110 - acc: 0.9969 - val_loss: 0.1231 - val_acc: 0.9760\n",
      "Epoch 67/100\n",
      "100/100 [==============================] - 21s 212ms/step - loss: 0.0069 - acc: 0.9974 - val_loss: 0.1232 - val_acc: 0.9760\n",
      "Epoch 68/100\n",
      "100/100 [==============================] - 21s 213ms/step - loss: 0.0077 - acc: 0.9984 - val_loss: 0.1320 - val_acc: 0.9740\n",
      "Epoch 69/100\n",
      "100/100 [==============================] - 21s 212ms/step - loss: 0.0042 - acc: 0.9982 - val_loss: 0.1299 - val_acc: 0.9730\n",
      "Epoch 70/100\n",
      "100/100 [==============================] - 21s 213ms/step - loss: 0.0047 - acc: 0.9989 - val_loss: 0.1224 - val_acc: 0.9750\n",
      "Epoch 71/100\n",
      "100/100 [==============================] - 21s 213ms/step - loss: 0.0057 - acc: 0.9983 - val_loss: 0.1224 - val_acc: 0.9750\n",
      "Epoch 72/100\n",
      "100/100 [==============================] - 21s 213ms/step - loss: 0.0035 - acc: 0.9996 - val_loss: 0.1258 - val_acc: 0.9740\n",
      "Epoch 73/100\n",
      "100/100 [==============================] - 21s 213ms/step - loss: 0.0076 - acc: 0.9972 - val_loss: 0.1228 - val_acc: 0.9760\n",
      "Epoch 74/100\n",
      "100/100 [==============================] - 21s 212ms/step - loss: 0.0113 - acc: 0.9967 - val_loss: 0.1231 - val_acc: 0.9750\n",
      "Epoch 75/100\n",
      "100/100 [==============================] - 21s 214ms/step - loss: 0.0063 - acc: 0.9976 - val_loss: 0.1216 - val_acc: 0.9760\n",
      "Epoch 76/100\n",
      "100/100 [==============================] - 21s 214ms/step - loss: 0.0054 - acc: 0.9986 - val_loss: 0.1205 - val_acc: 0.9760\n",
      "Epoch 77/100\n",
      "100/100 [==============================] - 21s 214ms/step - loss: 0.0075 - acc: 0.9975 - val_loss: 0.1241 - val_acc: 0.9750\n",
      "Epoch 78/100\n",
      "100/100 [==============================] - 21s 214ms/step - loss: 0.0030 - acc: 0.9990 - val_loss: 0.1230 - val_acc: 0.9760\n",
      "Epoch 79/100\n",
      "100/100 [==============================] - 22s 217ms/step - loss: 0.0133 - acc: 0.9961 - val_loss: 0.1209 - val_acc: 0.9770\n",
      "Epoch 80/100\n",
      "100/100 [==============================] - 21s 213ms/step - loss: 0.0079 - acc: 0.9981 - val_loss: 0.1187 - val_acc: 0.9780\n",
      "Epoch 81/100\n",
      "100/100 [==============================] - 21s 214ms/step - loss: 0.0031 - acc: 0.9990 - val_loss: 0.1198 - val_acc: 0.9760\n",
      "Epoch 82/100\n",
      "100/100 [==============================] - 22s 215ms/step - loss: 0.0054 - acc: 0.9979 - val_loss: 0.1190 - val_acc: 0.9760\n",
      "Epoch 83/100\n",
      "100/100 [==============================] - 21s 214ms/step - loss: 0.0110 - acc: 0.9940 - val_loss: 0.1177 - val_acc: 0.9790\n",
      "Epoch 84/100\n",
      "100/100 [==============================] - 21s 214ms/step - loss: 0.0044 - acc: 0.9980 - val_loss: 0.1188 - val_acc: 0.9780\n",
      "Epoch 85/100\n",
      "100/100 [==============================] - 21s 214ms/step - loss: 0.0098 - acc: 0.9985 - val_loss: 0.1192 - val_acc: 0.9760\n",
      "Epoch 86/100\n",
      "100/100 [==============================] - 21s 213ms/step - loss: 0.0046 - acc: 0.9985 - val_loss: 0.1217 - val_acc: 0.9760\n",
      "Epoch 87/100\n",
      "100/100 [==============================] - 21s 213ms/step - loss: 0.0231 - acc: 0.9948 - val_loss: 0.1229 - val_acc: 0.9750\n",
      "Epoch 88/100\n",
      "100/100 [==============================] - 21s 212ms/step - loss: 0.0077 - acc: 0.9961 - val_loss: 0.1179 - val_acc: 0.9780\n",
      "Epoch 89/100\n",
      "100/100 [==============================] - 21s 214ms/step - loss: 0.0109 - acc: 0.9975 - val_loss: 0.1199 - val_acc: 0.9780\n",
      "Epoch 90/100\n",
      "100/100 [==============================] - 21s 213ms/step - loss: 0.0069 - acc: 0.9983 - val_loss: 0.1217 - val_acc: 0.9780\n",
      "Epoch 91/100\n",
      "100/100 [==============================] - 21s 213ms/step - loss: 0.0129 - acc: 0.9968 - val_loss: 0.1201 - val_acc: 0.9780\n",
      "Epoch 92/100\n",
      "100/100 [==============================] - 21s 214ms/step - loss: 0.0106 - acc: 0.9948 - val_loss: 0.1229 - val_acc: 0.9780\n",
      "Epoch 93/100\n",
      "100/100 [==============================] - 22s 215ms/step - loss: 0.0049 - acc: 0.9996 - val_loss: 0.1211 - val_acc: 0.9780\n",
      "Epoch 94/100\n",
      "100/100 [==============================] - 21s 215ms/step - loss: 0.0095 - acc: 0.9972 - val_loss: 0.1218 - val_acc: 0.9780\n",
      "Epoch 95/100\n",
      "100/100 [==============================] - 21s 214ms/step - loss: 0.0100 - acc: 0.9975 - val_loss: 0.1228 - val_acc: 0.9770\n",
      "Epoch 96/100\n",
      "100/100 [==============================] - 21s 213ms/step - loss: 0.0208 - acc: 0.9942 - val_loss: 0.1258 - val_acc: 0.9760\n",
      "Epoch 97/100\n",
      "100/100 [==============================] - 21s 213ms/step - loss: 0.0015 - acc: 1.0000 - val_loss: 0.1225 - val_acc: 0.9760\n",
      "Epoch 98/100\n",
      "100/100 [==============================] - 22s 216ms/step - loss: 0.0223 - acc: 0.9954 - val_loss: 0.1223 - val_acc: 0.9760\n",
      "Epoch 99/100\n",
      "100/100 [==============================] - 21s 214ms/step - loss: 0.0097 - acc: 0.9969 - val_loss: 0.1251 - val_acc: 0.9770\n",
      "Epoch 100/100\n",
      "100/100 [==============================] - 21s 214ms/step - loss: 0.0136 - acc: 0.9968 - val_loss: 0.1227 - val_acc: 0.9760\n"
     ]
    }
   ],
   "source": [
    "# Fits model from generator\n",
    "\n",
    "history = model.fit(train_generator, steps_per_epoch=100, epochs=100, \n",
    "                    validation_data=val_generator, validation_steps=50)"
   ]
  },
  {
   "cell_type": "code",
   "execution_count": 16,
   "id": "pxEHwNskxU21",
   "metadata": {
    "executionInfo": {
     "elapsed": 1556,
     "status": "ok",
     "timestamp": 1616935585967,
     "user": {
      "displayName": "Pradip Kumar Das",
      "photoUrl": "https://lh3.googleusercontent.com/a-/AOh14GhOol7HvwC1mRwKgqTD5gVSvnT40P-7O36m_hHS=s64",
      "userId": "12916671935047684031"
     },
     "user_tz": -330
    },
    "id": "pxEHwNskxU21"
   },
   "outputs": [],
   "source": [
    "# Saves the entire trained model into HDF5 file format.\n",
    "\n",
    "model.save(\n",
    "    \"dogs_vs._cats_prediction_using_pretrained_model_with_fine-tuning_and_data_augmentation.h5\")"
   ]
  },
  {
   "cell_type": "code",
   "execution_count": 17,
   "id": "F100h3JSqaZJ",
   "metadata": {
    "colab": {
     "base_uri": "https://localhost:8080/",
     "height": 573
    },
    "executionInfo": {
     "elapsed": 1220,
     "status": "ok",
     "timestamp": 1616935591356,
     "user": {
      "displayName": "Pradip Kumar Das",
      "photoUrl": "https://lh3.googleusercontent.com/a-/AOh14GhOol7HvwC1mRwKgqTD5gVSvnT40P-7O36m_hHS=s64",
      "userId": "12916671935047684031"
     },
     "user_tz": -330
    },
    "id": "F100h3JSqaZJ",
    "outputId": "1ac77a3c-f5aa-4d20-99b1-05c1a72f8be7",
    "scrolled": true
   },
   "outputs": [
    {
     "data": {
      "image/png": "[encoded data removed]",
      "text/plain": [
       "<Figure size 432x288 with 1 Axes>"
      ]
     },
     "metadata": {
      "needs_background": "light",
      "tags": []
     },
     "output_type": "display_data"
    },
    {
     "data": {
      "image/png": "[encoded data removed]",
      "text/plain": [
       "<Figure size 432x288 with 1 Axes>"
      ]
     },
     "metadata": {
      "needs_background": "light",
      "tags": []
     },
     "output_type": "display_data"
    }
   ],
   "source": [
    "# Plots the loss and accuracy over training and validation data\n",
    "\n",
    "epochs = len(history.history[\"acc\"])\n",
    "val_accuracy = history.history[\"val_acc\"]\n",
    "train_accuracy = history.history[\"acc\"]\n",
    "val_loss = history.history[\"val_loss\"]\n",
    "train_loss = history.history[\"loss\"]\n",
    "\n",
    "plt.plot(range(1, epochs+1), val_accuracy, \"b\", label=\"Validation Accuracy\")\n",
    "plt.plot(range(1, epochs+1), train_accuracy, \"bo\", label=\"Training Accuracy\")\n",
    "plt.xlabel(\"Epochs\")\n",
    "plt.ylabel(\"Accuracy\")\n",
    "plt.legend()\n",
    "plt.title(\"Validation vs. Training Accuracy\")\n",
    "plt.figure()\n",
    "\n",
    "plt.plot(range(1, epochs+1), val_loss, \"b\", label=\"Validation Loss\")\n",
    "plt.plot(range(1, epochs+1), train_loss, \"bo\", label=\"Training Loss\")\n",
    "plt.xlabel(\"Epochs\")\n",
    "plt.ylabel(\"Loss\")\n",
    "plt.legend()\n",
    "plt.title(\"Validation vs. Training Loss\")\n",
    "plt.show()"
   ]
  },
  {
   "cell_type": "code",
   "execution_count": 18,
   "id": "fsJho-vz4She",
   "metadata": {
    "colab": {
     "base_uri": "https://localhost:8080/"
    },
    "executionInfo": {
     "elapsed": 176927,
     "status": "ok",
     "timestamp": 1616936386612,
     "user": {
      "displayName": "Pradip Kumar Das",
      "photoUrl": "https://lh3.googleusercontent.com/a-/AOh14GhOol7HvwC1mRwKgqTD5gVSvnT40P-7O36m_hHS=s64",
      "userId": "12916671935047684031"
     },
     "user_tz": -330
    },
    "id": "fsJho-vz4She",
    "outputId": "a477e371-5bfb-48db-a1d8-c0cf467a784f"
   },
   "outputs": [
    {
     "name": "stdout",
     "output_type": "stream",
     "text": [
      "Found 1000 images belonging to 2 classes.\n",
      "50/50 [==============================] - 172s 4s/step - loss: 0.2172 - acc: 0.9740\n"
     ]
    }
   ],
   "source": [
    "# Now, tests the final model\n",
    "\n",
    "test_dir = os.path.join(os.getcwd(), \"Data\", \"test\")\n",
    "\n",
    "test_generator = ImageDataGenerator(rescale=1./255).flow_from_directory(\n",
    "                    test_dir,\n",
    "                    target_size=(150, 150),\n",
    "                    batch_size=20,\n",
    "                    class_mode=\"binary\")\n",
    "\n",
    "test_loss, test_acc = model.evaluate(test_generator, steps=50)"
   ]
  },
  {
   "cell_type": "code",
   "execution_count": 22,
   "id": "U4NlnV-87JmD",
   "metadata": {
    "colab": {
     "base_uri": "https://localhost:8080/"
    },
    "executionInfo": {
     "elapsed": 1623,
     "status": "ok",
     "timestamp": 1616936595282,
     "user": {
      "displayName": "Pradip Kumar Das",
      "photoUrl": "https://lh3.googleusercontent.com/a-/AOh14GhOol7HvwC1mRwKgqTD5gVSvnT40P-7O36m_hHS=s64",
      "userId": "12916671935047684031"
     },
     "user_tz": -330
    },
    "id": "U4NlnV-87JmD",
    "outputId": "55d9fba5-bb79-4fa5-8b35-45f805fd3320"
   },
   "outputs": [
    {
     "name": "stdout",
     "output_type": "stream",
     "text": [
      "Test Loss: 0.2171642780303955 \n",
      "Test Accuracy: 0.9739999771118164\n"
     ]
    }
   ],
   "source": [
    "print(\"Test Loss:\", test_loss, \"\\nTest Accuracy:\", test_acc)"
   ]
  }
 ],
 "metadata": {
  "accelerator": "GPU",
  "colab": {
   "name": "2_Dogs_vs._Cats_Classification.ipynb",
   "provenance": []
  },
  "kernelspec": {
   "display_name": "Python 3",
   "language": "python",
   "name": "python3"
  },
  "language_info": {
   "codemirror_mode": {
    "name": "ipython",
    "version": 3
   },
   "file_extension": ".py",
   "mimetype": "text/x-python",
   "name": "python",
   "nbconvert_exporter": "python",
   "pygments_lexer": "ipython3",
   "version": "3.7.10"
  }
 },
 "nbformat": 4,
 "nbformat_minor": 5
}
