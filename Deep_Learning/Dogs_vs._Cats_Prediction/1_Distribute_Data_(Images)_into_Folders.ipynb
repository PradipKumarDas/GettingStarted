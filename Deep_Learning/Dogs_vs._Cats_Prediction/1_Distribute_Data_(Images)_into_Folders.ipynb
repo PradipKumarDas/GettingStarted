{
 "cells": [
  {
   "cell_type": "markdown",
   "id": "presidential-stewart",
   "metadata": {},
   "source": [
    "# Dogs vs. Cats Prediction\n",
    "\n",
    "## This prediction was a challenge published in Kaggle in 2013.\n",
    "\n",
    "https://www.kaggle.com/c/dogs-vs-cats\n",
    "\n",
    "### NOTE: Dataset being used in this prediction problem is also from the same Kaggle competition.\n",
    "\n",
    "# "
   ]
  },
  {
   "cell_type": "code",
   "execution_count": null,
   "id": "experienced-heaven",
   "metadata": {},
   "outputs": [],
   "source": [
    "import os, shutil"
   ]
  },
  {
   "cell_type": "markdown",
   "id": "charming-orlando",
   "metadata": {},
   "source": [
    "## Copies extracted data files (images) into respective folders for training, valdiation and testing purposes."
   ]
  },
  {
   "cell_type": "code",
   "execution_count": 2,
   "id": "hundred-island",
   "metadata": {},
   "outputs": [
    {
     "data": {
      "text/plain": [
       "'/home/pradip/Development/GettingStarted/Deep_Learning/Dogs_vs_Cats_Prediction'"
      ]
     },
     "execution_count": 2,
     "metadata": {},
     "output_type": "execute_result"
    }
   ],
   "source": [
    "# Checks for current working directory\n",
    "\n",
    "os.getcwd()"
   ]
  },
  {
   "cell_type": "code",
   "execution_count": 3,
   "id": "straight-least",
   "metadata": {},
   "outputs": [],
   "source": [
    "# Creates base directory for data\n",
    "\n",
    "original_dataset_dir = os.path.join(os.getcwd(), \"dogs-vs-cats\")\n",
    "\n",
    "base_dataset_dir = os.path.join(os.getcwd(), \"Data\")\n",
    "\n",
    "os.mkdir(base_dataset_dir)"
   ]
  },
  {
   "cell_type": "code",
   "execution_count": 8,
   "id": "honey-record",
   "metadata": {},
   "outputs": [],
   "source": [
    "# Creates sub-directories in base data directory for the purpose of training, validation and testing\n",
    "\n",
    "train_dir = os.path.join(base_dataset_dir, \"train\")\n",
    "os.mkdir(train_dir)\n",
    "\n",
    "validation_dir = os.path.join(base_dataset_dir, \"validation\")\n",
    "os.mkdir(validation_dir)\n",
    "\n",
    "test_dir = os.path.join(base_dataset_dir, \"test\")\n",
    "os.mkdir(test_dir)\n",
    "\n",
    "train_dogs_dir = os.path.join(train_dir, \"dogs\")\n",
    "os.mkdir(train_dogs_dir)\n",
    "\n",
    "train_cats_dir = os.path.join(train_dir, \"cats\")\n",
    "os.mkdir(train_cats_dir)\n",
    "\n",
    "validation_dogs_dir = os.path.join(validation_dir, \"dogs\")\n",
    "os.mkdir(validation_dogs_dir)\n",
    "\n",
    "validation_cats_dir = os.path.join(validation_dir, \"cats\")\n",
    "os.mkdir(validation_cats_dir)\n",
    "\n",
    "test_dogs_dir = os.path.join(test_dir, \"dogs\")\n",
    "os.mkdir(test_dogs_dir)\n",
    "\n",
    "test_cats_dir = os.path.join(test_dir, \"cats\")\n",
    "os.mkdir(test_cats_dir)"
   ]
  },
  {
   "cell_type": "code",
   "execution_count": 18,
   "id": "external-compilation",
   "metadata": {},
   "outputs": [],
   "source": [
    "# Copies first 1000 images for both dog and cat category into respective folders in \"train\" folder\n",
    "\n",
    "file_names = ['dog.{}.jpg'.format(i) for i in range(0, 1000)]\n",
    "\n",
    "for file_name in file_names:\n",
    "    source = os.path.join(original_dataset_dir, \"train\", file_name)\n",
    "    dest = os.path.join(train_dogs_dir, file_name)\n",
    "    shutil.copyfile(source, dest)\n",
    "    \n",
    "file_names = ['cat.{}.jpg'.format(i) for i in range(0, 1000)]\n",
    "\n",
    "for file_name in file_names:\n",
    "    source = os.path.join(original_dataset_dir, \"train\", file_name)\n",
    "    dest = os.path.join(train_cats_dir, file_name)\n",
    "    shutil.copyfile(source, dest)"
   ]
  },
  {
   "cell_type": "code",
   "execution_count": 22,
   "id": "progressive-shadow",
   "metadata": {},
   "outputs": [],
   "source": [
    "# Copies next 500 images for both dog and cat category into respective folders in \"validation\" folder\n",
    "\n",
    "file_names = ['dog.{}.jpg'.format(i) for i in range(1000, 1500)]\n",
    "\n",
    "for file_name in file_names:\n",
    "    source = os.path.join(original_dataset_dir, \"train\", file_name)\n",
    "    dest = os.path.join(validation_dogs_dir, file_name)\n",
    "    shutil.copyfile(source, dest)\n",
    "    \n",
    "file_names = ['cat.{}.jpg'.format(i) for i in range(1000, 1500)]\n",
    "\n",
    "for file_name in file_names:\n",
    "    source = os.path.join(original_dataset_dir, \"train\", file_name)\n",
    "    dest = os.path.join(validation_cats_dir, file_name)\n",
    "    shutil.copyfile(source, dest)"
   ]
  },
  {
   "cell_type": "code",
   "execution_count": 29,
   "id": "billion-jaguar",
   "metadata": {},
   "outputs": [],
   "source": [
    "# Copies next 500 images for both dog and cat category into respective folders in \"test\" folder\n",
    "\n",
    "file_names = ['dog.{}.jpg'.format(i) for i in range(1500, 2000)]\n",
    "\n",
    "for file_name in file_names:\n",
    "    source = os.path.join(original_dataset_dir, \"train\", file_name)\n",
    "    dest = os.path.join(test_dogs_dir, file_name)\n",
    "    shutil.copyfile(source, dest)\n",
    "    \n",
    "file_names = ['cat.{}.jpg'.format(i) for i in range(1500, 2000)]\n",
    "\n",
    "for file_name in file_names:\n",
    "    source = os.path.join(original_dataset_dir, \"train\", file_name)\n",
    "    dest = os.path.join(test_cats_dir, file_name)\n",
    "    shutil.copyfile(source, dest)"
   ]
  },
  {
   "cell_type": "markdown",
   "id": "interim-connecticut",
   "metadata": {},
   "source": [
    "## Performs sanity checks for distribution of images across testing, validation and testing"
   ]
  },
  {
   "cell_type": "code",
   "execution_count": 30,
   "id": "transparent-transport",
   "metadata": {},
   "outputs": [
    {
     "name": "stdout",
     "output_type": "stream",
     "text": [
      "======== Training ========\n",
      "No. of dogs images:  1000\n",
      "No. of cats images:  1000\n",
      "\n",
      "======== Validation ========\n",
      "No. of dogs images:  500\n",
      "No. of cats images:  500\n",
      "\n",
      "======== Testing ========\n",
      "No. of dogs images:  500\n",
      "No. of cats images:  500\n"
     ]
    }
   ],
   "source": [
    "print(\"======== Training ========\")\n",
    "print(\"No. of dogs images: \", len(os.listdir(train_dogs_dir)))\n",
    "print(\"No. of cats images: \", len(os.listdir(train_cats_dir)))\n",
    "print(\"\")\n",
    "print(\"======== Validation ========\")\n",
    "print(\"No. of dogs images: \", len(os.listdir(validation_dogs_dir)))\n",
    "print(\"No. of cats images: \", len(os.listdir(validation_cats_dir)))\n",
    "print()\n",
    "print(\"======== Testing ========\")\n",
    "print(\"No. of dogs images: \", len(os.listdir(test_dogs_dir)))\n",
    "print(\"No. of cats images: \", len(os.listdir(test_cats_dir)))"
   ]
  },
  {
   "cell_type": "code",
   "execution_count": null,
   "id": "ahead-heading",
   "metadata": {},
   "outputs": [],
   "source": []
  }
 ],
 "metadata": {
  "kernelspec": {
   "display_name": "Python 3",
   "language": "python",
   "name": "python3"
  },
  "language_info": {
   "codemirror_mode": {
    "name": "ipython",
    "version": 3
   },
   "file_extension": ".py",
   "mimetype": "text/x-python",
   "name": "python",
   "nbconvert_exporter": "python",
   "pygments_lexer": "ipython3",
   "version": "3.7.10"
  }
 },
 "nbformat": 4,
 "nbformat_minor": 5
}
