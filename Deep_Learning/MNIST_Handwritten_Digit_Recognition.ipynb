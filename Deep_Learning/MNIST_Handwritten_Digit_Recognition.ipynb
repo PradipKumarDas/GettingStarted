{
 "cells": [
  {
   "cell_type": "code",
   "execution_count": 1,
   "metadata": {},
   "outputs": [],
   "source": [
    "from keras.datasets import mnist\n",
    "from keras import models\n",
    "from keras import layers\n",
    "from keras.utils import to_categorical\n",
    "import matplotlib.pyplot as plt"
   ]
  },
  {
   "cell_type": "code",
   "execution_count": 2,
   "metadata": {},
   "outputs": [],
   "source": [
    "# Loads training and testing data\n",
    "(training_images, training_labels), (testing_images, testing_labels) = mnist.load_data()"
   ]
  },
  {
   "cell_type": "code",
   "execution_count": 3,
   "metadata": {},
   "outputs": [],
   "source": [
    "# Prepars training data\n",
    "training_images = training_images.reshape((60000, 28*28))\n",
    "training_images = training_images.astype('float32')/255\n",
    "training_labels = to_categorical(training_labels)\n",
    "\n",
    "testing_images = testing_images.reshape((10000, 28*28))\n",
    "testing_images = testing_images.astype('float32')/255\n",
    "testing_labels = to_categorical(testing_labels)"
   ]
  },
  {
   "cell_type": "code",
   "execution_count": 4,
   "metadata": {},
   "outputs": [],
   "source": [
    "# Creates model\n",
    "model = models.Sequential()\n",
    "model.add(layers.Dense(512, activation='relu', input_shape=((28*28),)))\n",
    "model.add(layers.Dense(10, activation='softmax'))\n",
    "model.compile(optimizer='rmsprop', loss='categorical_crossentropy', metrics=['accuracy'])"
   ]
  },
  {
   "cell_type": "code",
   "execution_count": 5,
   "metadata": {},
   "outputs": [
    {
     "name": "stdout",
     "output_type": "stream",
     "text": [
      "Epoch 1/5\n",
      "469/469 [==============================] - 8s 16ms/step - loss: 0.2569 - accuracy: 0.9252\n",
      "Epoch 2/5\n",
      "469/469 [==============================] - 7s 16ms/step - loss: 0.1040 - accuracy: 0.9696\n",
      "Epoch 3/5\n",
      "469/469 [==============================] - 8s 17ms/step - loss: 0.0687 - accuracy: 0.9795\n",
      "Epoch 4/5\n",
      "469/469 [==============================] - 8s 17ms/step - loss: 0.0495 - accuracy: 0.9853\n",
      "Epoch 5/5\n",
      "469/469 [==============================] - 8s 17ms/step - loss: 0.0366 - accuracy: 0.9888\n"
     ]
    },
    {
     "data": {
      "text/plain": [
       "<tensorflow.python.keras.callbacks.History at 0x7f80d46e38d0>"
      ]
     },
     "execution_count": 5,
     "metadata": {},
     "output_type": "execute_result"
    }
   ],
   "source": [
    "# Trains model\n",
    "model.fit(training_images, training_labels, epochs=5, batch_size=128)"
   ]
  },
  {
   "cell_type": "code",
   "execution_count": 6,
   "metadata": {},
   "outputs": [
    {
     "name": "stdout",
     "output_type": "stream",
     "text": [
      "313/313 [==============================] - 1s 5ms/step - loss: 0.0645 - accuracy: 0.9800\n",
      "Testing Loss:  0.06453818082809448 , Testing Accuracy:  0.9800000190734863\n"
     ]
    }
   ],
   "source": [
    "# Evaluates model\n",
    "testing_loss, testing_accuracy = model.evaluate(testing_images, testing_labels)\n",
    "print(\"Testing Loss: \", testing_loss, \", Testing Accuracy: \", testing_accuracy)"
   ]
  },
  {
   "cell_type": "code",
   "execution_count": null,
   "metadata": {},
   "outputs": [],
   "source": []
  }
 ],
 "metadata": {
  "kernelspec": {
   "display_name": "Python 3",
   "language": "python",
   "name": "python3"
  },
  "language_info": {
   "codemirror_mode": {
    "name": "ipython",
    "version": 3
   },
   "file_extension": ".py",
   "mimetype": "text/x-python",
   "name": "python",
   "nbconvert_exporter": "python",
   "pygments_lexer": "ipython3",
   "version": "3.7.6"
  }
 },
 "nbformat": 4,
 "nbformat_minor": 4
}
