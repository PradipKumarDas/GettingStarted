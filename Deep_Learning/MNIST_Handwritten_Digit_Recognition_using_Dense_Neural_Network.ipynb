{
 "cells": [
  {
   "cell_type": "code",
   "execution_count": 39,
   "metadata": {},
   "outputs": [],
   "source": [
    "from keras.datasets import mnist\n",
    "from keras import models\n",
    "from keras import layers\n",
    "from keras.utils import to_categorical\n",
    "\n",
    "import numpy as np\n",
    "import matplotlib.pyplot as plt"
   ]
  },
  {
   "cell_type": "code",
   "execution_count": 40,
   "metadata": {},
   "outputs": [],
   "source": [
    "# Loads training and testing data\n",
    "(train_images, train_labels), (test_images, test_labels) = mnist.load_data()"
   ]
  },
  {
   "cell_type": "code",
   "execution_count": 41,
   "metadata": {},
   "outputs": [],
   "source": [
    "# Prepares training data\n",
    "train_images = train_images.reshape((60000, 28*28))\n",
    "train_images = train_images.astype('float32')/255\n",
    "train_labels = to_categorical(train_labels)\n",
    "\n",
    "test_images = test_images.reshape((10000, 28*28))\n",
    "test_images = test_images.astype('float32')/255\n",
    "test_labels = to_categorical(test_labels)\n",
    "\n",
    "# Splits training data further into training and validation data sets\n",
    "val_images = train_images[50000:]\n",
    "train_images = train_images[:50000]\n",
    "\n",
    "val_labels = train_labels[50000:]\n",
    "train_labels = train_labels[:50000]"
   ]
  },
  {
   "cell_type": "code",
   "execution_count": 42,
   "metadata": {},
   "outputs": [],
   "source": [
    "# Creates model\n",
    "model = models.Sequential()\n",
    "model.add(layers.Dense(512, activation='relu', input_shape=((28*28),)))\n",
    "model.add(layers.Dense(10, activation='softmax'))\n",
    "model.compile(optimizer='rmsprop', loss='categorical_crossentropy', metrics=['accuracy'])"
   ]
  },
  {
   "cell_type": "code",
   "execution_count": 43,
   "metadata": {},
   "outputs": [
    {
     "name": "stdout",
     "output_type": "stream",
     "text": [
      "Train on 50000 samples, validate on 10000 samples\n",
      "Epoch 1/5\n",
      "50000/50000 [==============================] - 3s 61us/step - loss: 0.2851 - accuracy: 0.9171 - val_loss: 0.1483 - val_accuracy: 0.9578\n",
      "Epoch 2/5\n",
      "50000/50000 [==============================] - 3s 61us/step - loss: 0.1162 - accuracy: 0.9650 - val_loss: 0.1085 - val_accuracy: 0.9676\n",
      "Epoch 3/5\n",
      "50000/50000 [==============================] - 3s 62us/step - loss: 0.0765 - accuracy: 0.9774 - val_loss: 0.0859 - val_accuracy: 0.9752\n",
      "Epoch 4/5\n",
      "50000/50000 [==============================] - 3s 60us/step - loss: 0.0549 - accuracy: 0.9837 - val_loss: 0.0809 - val_accuracy: 0.9759\n",
      "Epoch 5/5\n",
      "50000/50000 [==============================] - 3s 59us/step - loss: 0.0414 - accuracy: 0.9876 - val_loss: 0.0756 - val_accuracy: 0.9788\n"
     ]
    }
   ],
   "source": [
    "# Trains model\n",
    "history = model.fit(train_images, train_labels, epochs=5, batch_size=128,\n",
    "                   validation_data=(val_images, val_labels))"
   ]
  },
  {
   "cell_type": "code",
   "execution_count": 46,
   "metadata": {},
   "outputs": [
    {
     "data": {
      "image/png": "[encoded data removed]",
      "text/plain": [
       "<Figure size 432x288 with 1 Axes>"
      ]
     },
     "metadata": {
      "needs_background": "light"
     },
     "output_type": "display_data"
    },
    {
     "data": {
      "image/png": "[encoded data removed]",
      "text/plain": [
       "<Figure size 432x288 with 1 Axes>"
      ]
     },
     "metadata": {
      "needs_background": "light"
     },
     "output_type": "display_data"
    }
   ],
   "source": [
    "# Evaluates training and validation performance\n",
    "\n",
    "history_dict = history.history\n",
    "\n",
    "epochs = range(1, len(history_dict[\"accuracy\"]) + 1)\n",
    "\n",
    "val_loss = history_dict[\"val_loss\"]\n",
    "train_loss = history_dict[\"loss\"]\n",
    "\n",
    "val_accuracy = history_dict[\"val_accuracy\"]\n",
    "train_accuracy = history_dict[\"accuracy\"]\n",
    "\n",
    "plt.plot(epochs, val_loss, \"b\", label = \"Validation Loss\")\n",
    "plt.plot(epochs, train_loss, \"bo\", label = \"Training Loss\")\n",
    "plt.xlabel(\"Epochs\")\n",
    "plt.ylabel(\"Loss\")\n",
    "plt.legend()\n",
    "plt.title(\"Validation & Training Loss\")\n",
    "plt.show()\n",
    "\n",
    "plt.plot(epochs, val_accuracy, \"b\", label = \"Validation Accuracy\")\n",
    "plt.plot(epochs, train_accuracy, \"bo\", label = \"Training Accuracy\")\n",
    "plt.xlabel(\"Epochs\")\n",
    "plt.ylabel(\"Loss\")\n",
    "plt.legend()\n",
    "plt.title(\"Validation & Training Accuracy\")\n",
    "plt.show()"
   ]
  },
  {
   "cell_type": "code",
   "execution_count": 47,
   "metadata": {},
   "outputs": [
    {
     "name": "stdout",
     "output_type": "stream",
     "text": [
      "Epoch 1/5\n",
      "60000/60000 [==============================] - 3s 53us/step - loss: 0.0388 - accuracy: 0.9889\n",
      "Epoch 2/5\n",
      "60000/60000 [==============================] - 3s 53us/step - loss: 0.0297 - accuracy: 0.9911\n",
      "Epoch 3/5\n",
      "60000/60000 [==============================] - 3s 53us/step - loss: 0.0227 - accuracy: 0.9934\n",
      "Epoch 4/5\n",
      "60000/60000 [==============================] - 3s 54us/step - loss: 0.0165 - accuracy: 0.9955\n",
      "Epoch 5/5\n",
      "60000/60000 [==============================] - 3s 54us/step - loss: 0.0132 - accuracy: 0.9965\n"
     ]
    },
    {
     "data": {
      "text/plain": [
       "<keras.callbacks.callbacks.History at 0x7f5e744d8690>"
      ]
     },
     "execution_count": 47,
     "metadata": {},
     "output_type": "execute_result"
    }
   ],
   "source": [
    "# Combines back both training and validation and retrains final model\n",
    "\n",
    "train_images = np.append(train_images, val_images, axis=0)\n",
    "train_labels = np.append(train_labels, val_labels, axis=0)\n",
    "\n",
    "model.fit(train_images, train_labels, epochs=5, batch_size=128)"
   ]
  },
  {
   "cell_type": "code",
   "execution_count": 49,
   "metadata": {},
   "outputs": [
    {
     "name": "stdout",
     "output_type": "stream",
     "text": [
      "10000/10000 [==============================] - 0s 48us/step\n",
      "Testing Loss:  0.06706174692784916 , Testing Accuracy:  0.9818000197410583\n"
     ]
    }
   ],
   "source": [
    "# Evaluates model\n",
    "test_loss, test_accuracy = model.evaluate(test_images, test_labels)\n",
    "print(\"Testing Loss: \", test_loss, \", Testing Accuracy: \", test_accuracy)"
   ]
  }
 ],
 "metadata": {
  "kernelspec": {
   "display_name": "Python 3",
   "language": "python",
   "name": "python3"
  },
  "language_info": {
   "codemirror_mode": {
    "name": "ipython",
    "version": 3
   },
   "file_extension": ".py",
   "mimetype": "text/x-python",
   "name": "python",
   "nbconvert_exporter": "python",
   "pygments_lexer": "ipython3",
   "version": "3.7.6"
  }
 },
 "nbformat": 4,
 "nbformat_minor": 4
}
