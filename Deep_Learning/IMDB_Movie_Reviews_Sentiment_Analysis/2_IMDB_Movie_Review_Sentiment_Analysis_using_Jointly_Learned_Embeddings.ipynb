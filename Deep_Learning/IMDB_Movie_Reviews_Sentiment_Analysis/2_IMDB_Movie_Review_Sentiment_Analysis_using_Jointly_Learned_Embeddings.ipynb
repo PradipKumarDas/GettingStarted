{
 "cells": [
  {
   "cell_type": "markdown",
   "id": "ca47af58",
   "metadata": {},
   "source": [
    "# IMDB Movie Reviews Sentiment Analysis using Jointly Learned Embeddings"
   ]
  },
  {
   "cell_type": "markdown",
   "id": "ed39a739",
   "metadata": {},
   "source": [
    "#### Preprocessed IMDB data that comes packaged with Keras is used here."
   ]
  },
  {
   "cell_type": "code",
   "execution_count": 1,
   "id": "c1462ef0",
   "metadata": {},
   "outputs": [],
   "source": [
    "# Imports required packages\n",
    "\n",
    "from tensorflow.keras.datasets import imdb\n",
    "from tensorflow.keras.preprocessing.sequence import pad_sequences\n",
    "from tensorflow.keras.models import Sequential\n",
    "from tensorflow.keras.layers import Embedding, Flatten, Dense\n",
    "\n",
    "import matplotlib.pyplot as plt"
   ]
  },
  {
   "cell_type": "code",
   "execution_count": 2,
   "id": "2f577b1e",
   "metadata": {},
   "outputs": [],
   "source": [
    "max_features = 10000     # count of most common words\n",
    "embedding_dim = 100      # dimension of embedding\n",
    "max_input_length = 500   # number of review words to into consideration"
   ]
  },
  {
   "cell_type": "code",
   "execution_count": 3,
   "id": "1d722f97",
   "metadata": {},
   "outputs": [
    {
     "name": "stderr",
     "output_type": "stream",
     "text": [
      "<string>:6: VisibleDeprecationWarning: Creating an ndarray from ragged nested sequences (which is a list-or-tuple of lists-or-tuples-or ndarrays with different lengths or shapes) is deprecated. If you meant to do this, you must specify 'dtype=object' when creating the ndarray\n",
      "/home/pradip/anaconda3/lib/python3.7/site-packages/tensorflow/python/keras/datasets/imdb.py:159: VisibleDeprecationWarning: Creating an ndarray from ragged nested sequences (which is a list-or-tuple of lists-or-tuples-or ndarrays with different lengths or shapes) is deprecated. If you meant to do this, you must specify 'dtype=object' when creating the ndarray\n",
      "  x_train, y_train = np.array(xs[:idx]), np.array(labels[:idx])\n",
      "/home/pradip/anaconda3/lib/python3.7/site-packages/tensorflow/python/keras/datasets/imdb.py:160: VisibleDeprecationWarning: Creating an ndarray from ragged nested sequences (which is a list-or-tuple of lists-or-tuples-or ndarrays with different lengths or shapes) is deprecated. If you meant to do this, you must specify 'dtype=object' when creating the ndarray\n",
      "  x_test, y_test = np.array(xs[idx:]), np.array(labels[idx:])\n"
     ]
    }
   ],
   "source": [
    "# Loads train and test data from preprocessed IMDB database that comes with Keras\n",
    "\n",
    "(x_train, y_train), (x_test, y_test) = imdb.load_data(num_words = max_features)"
   ]
  },
  {
   "cell_type": "code",
   "execution_count": 4,
   "id": "d3e97b26",
   "metadata": {},
   "outputs": [
    {
     "name": "stdout",
     "output_type": "stream",
     "text": [
      "Train samples count: 25000 \n",
      "Test samples count: 25000\n"
     ]
    }
   ],
   "source": [
    "print(\"Train samples count:\", x_train.shape[0],\n",
    "      \"\\nTest samples count:\", x_test.shape[0])"
   ]
  },
  {
   "cell_type": "code",
   "execution_count": 5,
   "id": "64a5ca8c",
   "metadata": {},
   "outputs": [],
   "source": [
    "# Pads reviews to be of same size\n",
    "\n",
    "x_train = pad_sequences(x_train, maxlen = max_input_length)\n",
    "x_test = pad_sequences(x_test, maxlen = max_input_length)"
   ]
  },
  {
   "cell_type": "code",
   "execution_count": 6,
   "id": "b84f09b5",
   "metadata": {},
   "outputs": [],
   "source": [
    "# Creates model\n",
    "\n",
    "model = Sequential()\n",
    "model.add(Embedding(max_features, embedding_dim, input_length = max_input_length))\n",
    "model.add(Flatten())\n",
    "model.add(Dense(32, activation = \"relu\"))\n",
    "model.add(Dense(1, activation = \"sigmoid\"))\n",
    "\n",
    "model.compile(optimizer = \"rmsprop\", loss = \"binary_crossentropy\", metrics = [\"acc\"])"
   ]
  },
  {
   "cell_type": "code",
   "execution_count": 7,
   "id": "22e504c7",
   "metadata": {},
   "outputs": [
    {
     "name": "stdout",
     "output_type": "stream",
     "text": [
      "Model: \"sequential\"\n",
      "_________________________________________________________________\n",
      "Layer (type)                 Output Shape              Param #   \n",
      "=================================================================\n",
      "embedding (Embedding)        (None, 500, 100)          1000000   \n",
      "_________________________________________________________________\n",
      "flatten (Flatten)            (None, 50000)             0         \n",
      "_________________________________________________________________\n",
      "dense (Dense)                (None, 32)                1600032   \n",
      "_________________________________________________________________\n",
      "dense_1 (Dense)              (None, 1)                 33        \n",
      "=================================================================\n",
      "Total params: 2,600,065\n",
      "Trainable params: 2,600,065\n",
      "Non-trainable params: 0\n",
      "_________________________________________________________________\n"
     ]
    }
   ],
   "source": [
    "# Shows the model summary\n",
    "\n",
    "model.summary()"
   ]
  },
  {
   "cell_type": "code",
   "execution_count": 8,
   "id": "e0fc9627",
   "metadata": {
    "scrolled": true
   },
   "outputs": [
    {
     "name": "stdout",
     "output_type": "stream",
     "text": [
      "Epoch 1/10\n",
      "625/625 [==============================] - 35s 54ms/step - loss: 0.6087 - acc: 0.6090 - val_loss: 0.3345 - val_acc: 0.8612\n",
      "Epoch 2/10\n",
      "625/625 [==============================] - 36s 58ms/step - loss: 0.1435 - acc: 0.9463 - val_loss: 0.3867 - val_acc: 0.8558\n",
      "Epoch 3/10\n",
      "625/625 [==============================] - 35s 56ms/step - loss: 0.0203 - acc: 0.9953 - val_loss: 0.6084 - val_acc: 0.8504\n",
      "Epoch 4/10\n",
      "625/625 [==============================] - 36s 57ms/step - loss: 0.0023 - acc: 0.9995 - val_loss: 0.9210 - val_acc: 0.8412\n",
      "Epoch 5/10\n",
      "625/625 [==============================] - 37s 58ms/step - loss: 7.7602e-04 - acc: 0.9998 - val_loss: 1.1116 - val_acc: 0.8350\n",
      "Epoch 6/10\n",
      "625/625 [==============================] - 37s 60ms/step - loss: 6.9336e-05 - acc: 1.0000 - val_loss: 1.2923 - val_acc: 0.8248\n",
      "Epoch 7/10\n",
      "625/625 [==============================] - 40s 63ms/step - loss: 4.8027e-07 - acc: 1.0000 - val_loss: 1.4125 - val_acc: 0.8348\n",
      "Epoch 8/10\n",
      "625/625 [==============================] - 40s 64ms/step - loss: 2.8354e-08 - acc: 1.0000 - val_loss: 1.4526 - val_acc: 0.8344\n",
      "Epoch 9/10\n",
      "625/625 [==============================] - 41s 65ms/step - loss: 2.4252e-09 - acc: 1.0000 - val_loss: 1.4728 - val_acc: 0.8334\n",
      "Epoch 10/10\n",
      "625/625 [==============================] - 39s 63ms/step - loss: 1.4462e-09 - acc: 1.0000 - val_loss: 1.4922 - val_acc: 0.8356\n"
     ]
    }
   ],
   "source": [
    "epochs = 10\n",
    "batch_size = 32\n",
    "\n",
    "history = model.fit(x_train, y_train, epochs = epochs, batch_size = batch_size, validation_split = .2)"
   ]
  },
  {
   "cell_type": "code",
   "execution_count": 9,
   "id": "0a7f1ff5",
   "metadata": {},
   "outputs": [
    {
     "data": {
      "image/png": "[encoded data removed]",
      "text/plain": [
       "<Figure size 432x288 with 1 Axes>"
      ]
     },
     "metadata": {
      "needs_background": "light"
     },
     "output_type": "display_data"
    },
    {
     "data": {
      "image/png": "[encoded data removed]",
      "text/plain": [
       "<Figure size 432x288 with 1 Axes>"
      ]
     },
     "metadata": {
      "needs_background": "light"
     },
     "output_type": "display_data"
    }
   ],
   "source": [
    "# Evaluates training and validation performance\n",
    "\n",
    "history_dict = history.history\n",
    "\n",
    "epoch_range = range(1, len(history_dict[\"acc\"]) + 1)\n",
    "\n",
    "train_losses = history_dict[\"loss\"]\n",
    "val_losses = history_dict[\"val_loss\"]\n",
    "\n",
    "train_accuracies = history_dict[\"acc\"]\n",
    "val_accuracies = history_dict[\"val_acc\"]\n",
    "\n",
    "plt.plot(epoch_range, val_losses, \"b\", label = \"Validation Loss\")\n",
    "plt.plot(epoch_range, train_losses, \"bo\", label = \"Training Loss\")\n",
    "plt.xlabel(\"Epochs\")\n",
    "plt.ylabel(\"Loss\")\n",
    "plt.legend()\n",
    "plt.title(\"Validation & Training Loss\")\n",
    "\n",
    "\n",
    "plt.figure()\n",
    "\n",
    "plt.plot(epoch_range, val_accuracies, \"b\", label = \"Validation Accuracy\")\n",
    "plt.plot(epoch_range, train_accuracies, \"bo\", label = \"Training Accuracy\")\n",
    "plt.xlabel(\"Epochs\")\n",
    "plt.ylabel(\"Accuracy\")\n",
    "plt.legend()\n",
    "plt.title(\"Validation & Training Accuracy\")\n",
    "\n",
    "plt.show()"
   ]
  },
  {
   "cell_type": "code",
   "execution_count": 10,
   "id": "07044db2",
   "metadata": {},
   "outputs": [
    {
     "name": "stdout",
     "output_type": "stream",
     "text": [
      "Validation Loss: 1.4921764135360718 \n",
      "Validation Accuracy: 0.8356000185012817\n"
     ]
    }
   ],
   "source": [
    "print(\"Validation Loss:\", history_dict[\"val_loss\"][-1],\n",
    "      \"\\nValidation Accuracy:\", history_dict[\"val_acc\"][-1])"
   ]
  },
  {
   "cell_type": "code",
   "execution_count": 11,
   "id": "1e735d4c",
   "metadata": {},
   "outputs": [
    {
     "name": "stdout",
     "output_type": "stream",
     "text": [
      "782/782 [==============================] - 20s 26ms/step - loss: 1.4251 - acc: 0.8328\n"
     ]
    }
   ],
   "source": [
    "eval_result = model.evaluate(x_test, y_test)"
   ]
  },
  {
   "cell_type": "code",
   "execution_count": 12,
   "id": "51dea28e",
   "metadata": {},
   "outputs": [
    {
     "name": "stdout",
     "output_type": "stream",
     "text": [
      "Test Loss: 1.425144076347351 \n",
      "Test Accuracy: 0.8327999711036682\n"
     ]
    }
   ],
   "source": [
    "print(\"Test Loss:\", eval_result[0],\n",
    "      \"\\nTest Accuracy:\", eval_result[1])"
   ]
  },
  {
   "cell_type": "markdown",
   "id": "edf90f2c",
   "metadata": {},
   "source": [
    "### COMMENTs:\n",
    "\n",
    "#### With jointly learned 100-dimension word embeddings and 500 review words, the model could achieve 83% accuracy on test data, and it is to be noted that it is less than the test accuracy achieved in baselined model in notebook <em>1_IMDB_Movie_Review_Sentiment_Analysis_using_Densed_Neural_Network.ipynb</em>. Refer the next notebook <em>3_IMDB_Movie_Review_Sentiment_Analysis_using_Pretrained_Embeddings.ipynb</em> to compare the other model performance with pretrained word embeddings."
   ]
  }
 ],
 "metadata": {
  "kernelspec": {
   "display_name": "Python 3",
   "language": "python",
   "name": "python3"
  },
  "language_info": {
   "codemirror_mode": {
    "name": "ipython",
    "version": 3
   },
   "file_extension": ".py",
   "mimetype": "text/x-python",
   "name": "python",
   "nbconvert_exporter": "python",
   "pygments_lexer": "ipython3",
   "version": "3.7.10"
  }
 },
 "nbformat": 4,
 "nbformat_minor": 5
}
