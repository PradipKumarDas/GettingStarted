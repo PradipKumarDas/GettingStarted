{
 "cells": [
  {
   "cell_type": "markdown",
   "id": "ca47af58",
   "metadata": {},
   "source": [
    "# IMDB Movie Reviews Sentiment Analysis using Jointly Learned Embeddings"
   ]
  },
  {
   "cell_type": "markdown",
   "id": "ed39a739",
   "metadata": {},
   "source": [
    "#### Preprocessed IMDB data that comes packaged with Keras is used here."
   ]
  },
  {
   "cell_type": "code",
   "execution_count": 1,
   "id": "c1462ef0",
   "metadata": {},
   "outputs": [],
   "source": [
    "# Imports required packages\n",
    "\n",
    "from tensorflow.keras.datasets import imdb\n",
    "from tensorflow.keras.preprocessing.sequence import pad_sequences\n",
    "from tensorflow.keras.models import Sequential\n",
    "from tensorflow.keras.layers import Embedding, Flatten, Dense\n",
    "\n",
    "import matplotlib.pyplot as plt"
   ]
  },
  {
   "cell_type": "code",
   "execution_count": 20,
   "id": "2f577b1e",
   "metadata": {},
   "outputs": [],
   "source": [
    "max_features = 10000     # count of most common words\n",
    "embedding_dim = 100      # dimension of embedding\n",
    "max_input_length = 100   # number of review words to into consideration"
   ]
  },
  {
   "cell_type": "code",
   "execution_count": 21,
   "id": "1d722f97",
   "metadata": {},
   "outputs": [
    {
     "name": "stderr",
     "output_type": "stream",
     "text": [
      "<string>:6: VisibleDeprecationWarning: Creating an ndarray from ragged nested sequences (which is a list-or-tuple of lists-or-tuples-or ndarrays with different lengths or shapes) is deprecated. If you meant to do this, you must specify 'dtype=object' when creating the ndarray\n",
      "/home/pradip/anaconda3/lib/python3.7/site-packages/tensorflow/python/keras/datasets/imdb.py:159: VisibleDeprecationWarning: Creating an ndarray from ragged nested sequences (which is a list-or-tuple of lists-or-tuples-or ndarrays with different lengths or shapes) is deprecated. If you meant to do this, you must specify 'dtype=object' when creating the ndarray\n",
      "  x_train, y_train = np.array(xs[:idx]), np.array(labels[:idx])\n",
      "/home/pradip/anaconda3/lib/python3.7/site-packages/tensorflow/python/keras/datasets/imdb.py:160: VisibleDeprecationWarning: Creating an ndarray from ragged nested sequences (which is a list-or-tuple of lists-or-tuples-or ndarrays with different lengths or shapes) is deprecated. If you meant to do this, you must specify 'dtype=object' when creating the ndarray\n",
      "  x_test, y_test = np.array(xs[idx:]), np.array(labels[idx:])\n"
     ]
    }
   ],
   "source": [
    "# Loads train and test data from preprocessed IMDB database that comes with Keras\n",
    "\n",
    "(x_train, y_train), (x_test, y_test) = imdb.load_data(num_words = max_features)"
   ]
  },
  {
   "cell_type": "code",
   "execution_count": 22,
   "id": "d3e97b26",
   "metadata": {},
   "outputs": [
    {
     "name": "stdout",
     "output_type": "stream",
     "text": [
      "Train samples count: 25000 \n",
      "Test samples count: 25000\n"
     ]
    }
   ],
   "source": [
    "print(\"Train samples count:\", x_train.shape[0],\n",
    "      \"\\nTest samples count:\", x_test.shape[0])"
   ]
  },
  {
   "cell_type": "code",
   "execution_count": 23,
   "id": "64a5ca8c",
   "metadata": {},
   "outputs": [],
   "source": [
    "# Pads reviews to be of same size\n",
    "\n",
    "x_train = pad_sequences(x_train, maxlen = max_input_length)\n",
    "x_test = pad_sequences(x_test, maxlen = max_input_length)"
   ]
  },
  {
   "cell_type": "code",
   "execution_count": 24,
   "id": "b84f09b5",
   "metadata": {},
   "outputs": [],
   "source": [
    "# Creates model\n",
    "\n",
    "model = Sequential()\n",
    "model.add(Embedding(max_features, embedding_dim, input_length = max_input_length))\n",
    "model.add(Flatten())\n",
    "model.add(Dense(32, activation = \"relu\"))\n",
    "model.add(Dense(1, activation = \"sigmoid\"))\n",
    "\n",
    "model.compile(optimizer = \"rmsprop\", loss = \"binary_crossentropy\", metrics = [\"acc\"])"
   ]
  },
  {
   "cell_type": "code",
   "execution_count": 25,
   "id": "22e504c7",
   "metadata": {},
   "outputs": [
    {
     "name": "stdout",
     "output_type": "stream",
     "text": [
      "Model: \"sequential_2\"\n",
      "_________________________________________________________________\n",
      "Layer (type)                 Output Shape              Param #   \n",
      "=================================================================\n",
      "embedding_2 (Embedding)      (None, 100, 100)          1000000   \n",
      "_________________________________________________________________\n",
      "flatten_2 (Flatten)          (None, 10000)             0         \n",
      "_________________________________________________________________\n",
      "dense_4 (Dense)              (None, 32)                320032    \n",
      "_________________________________________________________________\n",
      "dense_5 (Dense)              (None, 1)                 33        \n",
      "=================================================================\n",
      "Total params: 1,320,065\n",
      "Trainable params: 1,320,065\n",
      "Non-trainable params: 0\n",
      "_________________________________________________________________\n"
     ]
    }
   ],
   "source": [
    "# Shows the model summary\n",
    "\n",
    "model.summary()"
   ]
  },
  {
   "cell_type": "code",
   "execution_count": 26,
   "id": "e0fc9627",
   "metadata": {
    "scrolled": true
   },
   "outputs": [
    {
     "name": "stdout",
     "output_type": "stream",
     "text": [
      "Epoch 1/10\n",
      "625/625 [==============================] - 25s 39ms/step - loss: 0.5385 - acc: 0.7046 - val_loss: 0.3464 - val_acc: 0.8476\n",
      "Epoch 2/10\n",
      "625/625 [==============================] - 24s 39ms/step - loss: 0.1577 - acc: 0.9446 - val_loss: 0.4326 - val_acc: 0.8252\n",
      "Epoch 3/10\n",
      "625/625 [==============================] - 24s 39ms/step - loss: 0.0161 - acc: 0.9964 - val_loss: 0.6394 - val_acc: 0.8168\n",
      "Epoch 4/10\n",
      "625/625 [==============================] - 25s 39ms/step - loss: 0.0012 - acc: 0.9997 - val_loss: 0.8616 - val_acc: 0.8190\n",
      "Epoch 5/10\n",
      "625/625 [==============================] - 24s 38ms/step - loss: 8.7617e-05 - acc: 1.0000 - val_loss: 1.0331 - val_acc: 0.8156\n",
      "Epoch 6/10\n",
      "625/625 [==============================] - 25s 40ms/step - loss: 3.1594e-07 - acc: 1.0000 - val_loss: 1.1889 - val_acc: 0.8208\n",
      "Epoch 7/10\n",
      "625/625 [==============================] - 26s 41ms/step - loss: 7.1849e-09 - acc: 1.0000 - val_loss: 1.2222 - val_acc: 0.8206\n",
      "Epoch 8/10\n",
      "625/625 [==============================] - 28s 45ms/step - loss: 3.7718e-09 - acc: 1.0000 - val_loss: 1.2468 - val_acc: 0.8222\n",
      "Epoch 9/10\n",
      "625/625 [==============================] - 33s 53ms/step - loss: 2.4896e-09 - acc: 1.0000 - val_loss: 1.2527 - val_acc: 0.8224\n",
      "Epoch 10/10\n",
      "625/625 [==============================] - 26s 42ms/step - loss: 2.0235e-09 - acc: 1.0000 - val_loss: 1.2611 - val_acc: 0.8212\n"
     ]
    }
   ],
   "source": [
    "epochs = 10\n",
    "batch_size = 32\n",
    "\n",
    "history = model.fit(x_train, y_train, epochs = epochs, batch_size = batch_size, validation_split = .2)"
   ]
  },
  {
   "cell_type": "code",
   "execution_count": 27,
   "id": "0a7f1ff5",
   "metadata": {},
   "outputs": [
    {
     "data": {
      "image/png": "[encoded data removed]",
      "text/plain": [
       "<Figure size 432x288 with 1 Axes>"
      ]
     },
     "metadata": {
      "needs_background": "light"
     },
     "output_type": "display_data"
    },
    {
     "data": {
      "image/png": "[encoded data removed]",
      "text/plain": [
       "<Figure size 432x288 with 1 Axes>"
      ]
     },
     "metadata": {
      "needs_background": "light"
     },
     "output_type": "display_data"
    }
   ],
   "source": [
    "# Evaluates training and validation performance\n",
    "\n",
    "history_dict = history.history\n",
    "\n",
    "epoch_range = range(1, len(history_dict[\"acc\"]) + 1)\n",
    "\n",
    "train_losses = history_dict[\"loss\"]\n",
    "val_losses = history_dict[\"val_loss\"]\n",
    "\n",
    "train_accuracies = history_dict[\"acc\"]\n",
    "val_accuracies = history_dict[\"val_acc\"]\n",
    "\n",
    "plt.plot(epoch_range, val_losses, \"b\", label = \"Validation Loss\")\n",
    "plt.plot(epoch_range, train_losses, \"bo\", label = \"Training Loss\")\n",
    "plt.xlabel(\"Epochs\")\n",
    "plt.ylabel(\"Loss\")\n",
    "plt.legend()\n",
    "plt.title(\"Validation & Training Loss\")\n",
    "\n",
    "\n",
    "plt.figure()\n",
    "\n",
    "plt.plot(epoch_range, val_accuracies, \"b\", label = \"Validation Accuracy\")\n",
    "plt.plot(epoch_range, train_accuracies, \"bo\", label = \"Training Accuracy\")\n",
    "plt.xlabel(\"Epochs\")\n",
    "plt.ylabel(\"Accuracy\")\n",
    "plt.legend()\n",
    "plt.title(\"Validation & Training Accuracy\")\n",
    "\n",
    "plt.show()"
   ]
  },
  {
   "cell_type": "code",
   "execution_count": 28,
   "id": "07044db2",
   "metadata": {},
   "outputs": [
    {
     "name": "stdout",
     "output_type": "stream",
     "text": [
      "Validation Loss: 1.2611371278762817 \n",
      "Validation Accuracy: 0.8212000131607056\n"
     ]
    }
   ],
   "source": [
    "print(\"Validation Loss:\", history_dict[\"val_loss\"][-1],\n",
    "      \"\\nValidation Accuracy:\", history_dict[\"val_acc\"][-1])"
   ]
  },
  {
   "cell_type": "code",
   "execution_count": 29,
   "id": "1e735d4c",
   "metadata": {},
   "outputs": [
    {
     "name": "stdout",
     "output_type": "stream",
     "text": [
      "782/782 [==============================] - 9s 11ms/step - loss: 1.2754 - acc: 0.8233\n"
     ]
    }
   ],
   "source": [
    "eval_result = model.evaluate(x_test, y_test)"
   ]
  },
  {
   "cell_type": "code",
   "execution_count": 30,
   "id": "51dea28e",
   "metadata": {},
   "outputs": [
    {
     "name": "stdout",
     "output_type": "stream",
     "text": [
      "Test Loss: 1.2753734588623047 \n",
      "Test Accuracy: 0.8232799768447876\n"
     ]
    }
   ],
   "source": [
    "print(\"Test Loss:\", eval_result[0],\n",
    "      \"\\nTest Accuracy:\", eval_result[1])"
   ]
  },
  {
   "cell_type": "markdown",
   "id": "edf90f2c",
   "metadata": {},
   "source": [
    "### Refer the next notebook for comparison amongst models."
   ]
  },
  {
   "cell_type": "code",
   "execution_count": null,
   "id": "a62fbf3b",
   "metadata": {},
   "outputs": [],
   "source": []
  }
 ],
 "metadata": {
  "kernelspec": {
   "display_name": "Python 3",
   "language": "python",
   "name": "python3"
  },
  "language_info": {
   "codemirror_mode": {
    "name": "ipython",
    "version": 3
   },
   "file_extension": ".py",
   "mimetype": "text/x-python",
   "name": "python",
   "nbconvert_exporter": "python",
   "pygments_lexer": "ipython3",
   "version": "3.7.10"
  }
 },
 "nbformat": 4,
 "nbformat_minor": 5
}
