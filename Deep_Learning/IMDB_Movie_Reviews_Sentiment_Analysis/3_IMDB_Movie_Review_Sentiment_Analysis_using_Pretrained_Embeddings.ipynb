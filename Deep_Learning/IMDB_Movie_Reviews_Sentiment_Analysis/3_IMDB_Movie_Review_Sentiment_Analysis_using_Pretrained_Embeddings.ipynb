{
 "cells": [
  {
   "cell_type": "markdown",
   "id": "2221e54b",
   "metadata": {},
   "source": [
    "# IMDB Movie Reviews Sentiment Analysis using Pretrained Word Embeddings"
   ]
  },
  {
   "cell_type": "markdown",
   "id": "70582e36",
   "metadata": {},
   "source": [
    "### Pretrained word embeddings are said to be useful only if available data is very less and pretrained word embeddings. To prove this, this model will trained with small subset of IMDB train data and its evaluation performance on test data will be compared with that of model created with Jointly Learned word embeddings and trained with full training data.\n",
    "\n",
    "### Preprocessed IMDB data that comes packaged with Keras is used here.\n"
   ]
  },
  {
   "cell_type": "code",
   "execution_count": 1,
   "id": "5affafb8",
   "metadata": {},
   "outputs": [],
   "source": [
    "# Imports required packages\n",
    "\n",
    "from tensorflow.keras.datasets import imdb\n",
    "from tensorflow.keras.preprocessing.sequence import pad_sequences\n",
    "from tensorflow.keras.models import Sequential\n",
    "from tensorflow.keras.layers import Embedding, Flatten, Dense\n",
    "\n",
    "import numpy as np\n",
    "import matplotlib.pyplot as plt\n",
    "import os"
   ]
  },
  {
   "cell_type": "code",
   "execution_count": 2,
   "id": "ecc4793d",
   "metadata": {},
   "outputs": [],
   "source": [
    "max_features = 10000    # count of most common words\n",
    "embedding_dim = 100     # dimension of embedding\n",
    "max_input_length = 500  # number of review words to into consideration"
   ]
  },
  {
   "cell_type": "code",
   "execution_count": 3,
   "id": "8c38a98a",
   "metadata": {},
   "outputs": [
    {
     "name": "stderr",
     "output_type": "stream",
     "text": [
      "<string>:6: VisibleDeprecationWarning: Creating an ndarray from ragged nested sequences (which is a list-or-tuple of lists-or-tuples-or ndarrays with different lengths or shapes) is deprecated. If you meant to do this, you must specify 'dtype=object' when creating the ndarray\n",
      "/home/pradip/anaconda3/lib/python3.7/site-packages/tensorflow/python/keras/datasets/imdb.py:159: VisibleDeprecationWarning: Creating an ndarray from ragged nested sequences (which is a list-or-tuple of lists-or-tuples-or ndarrays with different lengths or shapes) is deprecated. If you meant to do this, you must specify 'dtype=object' when creating the ndarray\n",
      "  x_train, y_train = np.array(xs[:idx]), np.array(labels[:idx])\n",
      "/home/pradip/anaconda3/lib/python3.7/site-packages/tensorflow/python/keras/datasets/imdb.py:160: VisibleDeprecationWarning: Creating an ndarray from ragged nested sequences (which is a list-or-tuple of lists-or-tuples-or ndarrays with different lengths or shapes) is deprecated. If you meant to do this, you must specify 'dtype=object' when creating the ndarray\n",
      "  x_test, y_test = np.array(xs[idx:]), np.array(labels[idx:])\n"
     ]
    }
   ],
   "source": [
    "# Loads train and test data from preprocessed IMDB database that comes with Keras\n",
    "\n",
    "(x_train, y_train), (x_test, y_test) = imdb.load_data(num_words = max_features)"
   ]
  },
  {
   "cell_type": "code",
   "execution_count": 4,
   "id": "8f3f6896",
   "metadata": {},
   "outputs": [
    {
     "name": "stdout",
     "output_type": "stream",
     "text": [
      "Train samples count: 25000 \n",
      "Test samples count: 25000\n"
     ]
    }
   ],
   "source": [
    "print(\"Train samples count:\", x_train.shape[0],\n",
    "      \"\\nTest samples count:\", x_test.shape[0])"
   ]
  },
  {
   "cell_type": "code",
   "execution_count": 5,
   "id": "a917e40c",
   "metadata": {},
   "outputs": [],
   "source": [
    "# Pads reviews to be of same size\n",
    "\n",
    "x_train = pad_sequences(x_train, maxlen = max_input_length)\n",
    "x_test = pad_sequences(x_test, maxlen = max_input_length)"
   ]
  },
  {
   "cell_type": "code",
   "execution_count": 6,
   "id": "56dcb967",
   "metadata": {},
   "outputs": [],
   "source": [
    "# Restricts number of training samples to 200 to prove the understanding mentioned in the title of this notebook\n",
    "\n",
    "training_sample_count = 200\n",
    "\n",
    "x_val = x_train[training_sample_count:]\n",
    "y_val = y_train[training_sample_count:]\n",
    "\n",
    "x_train = x_train[:training_sample_count]\n",
    "y_train = y_train[:training_sample_count]"
   ]
  },
  {
   "cell_type": "code",
   "execution_count": 3,
   "id": "8bc5dc33",
   "metadata": {},
   "outputs": [
    {
     "name": "stdout",
     "output_type": "stream",
     "text": [
      "--2021-04-09 18:31:06--  http://nlp.stanford.edu/data/glove.6B.zip\n",
      "Resolving nlp.stanford.edu (nlp.stanford.edu)... 171.64.67.140\n",
      "Connecting to nlp.stanford.edu (nlp.stanford.edu)|171.64.67.140|:80... connected.\n",
      "HTTP request sent, awaiting response... 302 Found\n",
      "Location: https://nlp.stanford.edu/data/glove.6B.zip [following]\n",
      "--2021-04-09 18:31:07--  https://nlp.stanford.edu/data/glove.6B.zip\n",
      "Connecting to nlp.stanford.edu (nlp.stanford.edu)|171.64.67.140|:443... connected.\n",
      "HTTP request sent, awaiting response... 301 Moved Permanently\n",
      "Location: http://downloads.cs.stanford.edu/nlp/data/glove.6B.zip [following]\n",
      "--2021-04-09 18:31:08--  http://downloads.cs.stanford.edu/nlp/data/glove.6B.zip\n",
      "Resolving downloads.cs.stanford.edu (downloads.cs.stanford.edu)... 171.64.64.22\n",
      "Connecting to downloads.cs.stanford.edu (downloads.cs.stanford.edu)|171.64.64.22|:80... connected.\n",
      "HTTP request sent, awaiting response... 200 OK\n",
      "Length: 862182613 (822M) [application/zip]\n",
      "Saving to: ‘glove.6B.zip’\n",
      "\n",
      "glove.6B.zip        100%[===================>] 822.24M  1.13MB/s    in 10m 52s \n",
      "\n",
      "2021-04-09 18:42:01 (1.26 MB/s) - ‘glove.6B.zip’ saved [862182613/862182613]\n",
      "\n"
     ]
    }
   ],
   "source": [
    "# Downloads and unzip GloVe - the pretrained word embeddings\n",
    "\n",
    "!wget http://nlp.stanford.edu/data/glove.6B.zip\n",
    "!unzip -q glove.6B.zip"
   ]
  },
  {
   "cell_type": "code",
   "execution_count": 7,
   "id": "c3563d95",
   "metadata": {},
   "outputs": [],
   "source": [
    "# Creates embedding index\n",
    "\n",
    "embedding_index = {}\n",
    "\n",
    "glove_file_name = \"glove.6B.100d.txt\"\n",
    "glove_file_path = os.path.join(os.getcwd(), glove_file_name)\n",
    "\n",
    "file_stream = open(glove_file_path)\n",
    "for line in file_stream:\n",
    "    values = line.split()\n",
    "    embedding_index[values[0]] = np.asarray(values[1:], dtype = \"float32\")\n",
    "    \n",
    "file_stream.close()"
   ]
  },
  {
   "cell_type": "code",
   "execution_count": 8,
   "id": "ac1cdcfa",
   "metadata": {},
   "outputs": [
    {
     "name": "stdout",
     "output_type": "stream",
     "text": [
      "Number of words in the embedding index is: 400000\n"
     ]
    }
   ],
   "source": [
    "print(\"Number of words in the embedding index is:\", len(embedding_index))"
   ]
  },
  {
   "cell_type": "code",
   "execution_count": 9,
   "id": "c977f023",
   "metadata": {},
   "outputs": [],
   "source": [
    "# Below steps prepare embedding matrix to be used to load the weights of embedding layer from\n",
    "\n",
    "\n",
    "\n",
    "# Reverses the order of key and value pairs to consider only top 10000 (var max_features) words\n",
    "index_word_dict = dict([(index, word) for (word, index) in imdb.get_word_index().items()])\n",
    "\n",
    "# Creates embedding matrix with zero (0) as placeholder\n",
    "embedding_matrix = np.zeros((max_features, embedding_dim))\n",
    "\n",
    "for word_index in range(1, max_features+1):\n",
    "    embedding_vector = embedding_index.get(index_word_dict[word_index])\n",
    "    if embedding_vector is not None:\n",
    "        embedding_matrix[word_index - 1] = embedding_vector"
   ]
  },
  {
   "cell_type": "code",
   "execution_count": 10,
   "id": "ba4fd596",
   "metadata": {},
   "outputs": [],
   "source": [
    "# Creates same model that was used with jointly learned embedding (refer other notebook)inde\n",
    "\n",
    "model = Sequential()\n",
    "model.add(Embedding(max_features, embedding_dim, input_length = max_input_length))\n",
    "model.add(Flatten())\n",
    "model.add(Dense(32, activation = \"relu\"))\n",
    "model.add(Dense(1, activation = \"sigmoid\"))"
   ]
  },
  {
   "cell_type": "code",
   "execution_count": 11,
   "id": "756d8cd5",
   "metadata": {},
   "outputs": [
    {
     "name": "stdout",
     "output_type": "stream",
     "text": [
      "Model: \"sequential\"\n",
      "_________________________________________________________________\n",
      "Layer (type)                 Output Shape              Param #   \n",
      "=================================================================\n",
      "embedding (Embedding)        (None, 500, 100)          1000000   \n",
      "_________________________________________________________________\n",
      "flatten (Flatten)            (None, 50000)             0         \n",
      "_________________________________________________________________\n",
      "dense (Dense)                (None, 32)                1600032   \n",
      "_________________________________________________________________\n",
      "dense_1 (Dense)              (None, 1)                 33        \n",
      "=================================================================\n",
      "Total params: 2,600,065\n",
      "Trainable params: 2,600,065\n",
      "Non-trainable params: 0\n",
      "_________________________________________________________________\n"
     ]
    }
   ],
   "source": [
    "# Shows the model summary\n",
    "\n",
    "model.summary()"
   ]
  },
  {
   "cell_type": "code",
   "execution_count": 12,
   "id": "c3d8db40",
   "metadata": {},
   "outputs": [],
   "source": [
    "# Sets GloVe embedding matrix as weigths of the embedding layer and sets the layer as non-trainable\n",
    "\n",
    "model.layers[0].set_weights([embedding_matrix])\n",
    "model.layers[0].trainable = False"
   ]
  },
  {
   "cell_type": "code",
   "execution_count": 13,
   "id": "cbe71fad",
   "metadata": {},
   "outputs": [],
   "source": [
    "# Compiles the model\n",
    "\n",
    "model.compile(optimizer = \"rmsprop\", loss = \"binary_crossentropy\", metrics = [\"acc\"])"
   ]
  },
  {
   "cell_type": "code",
   "execution_count": 14,
   "id": "12525a1e",
   "metadata": {},
   "outputs": [
    {
     "name": "stdout",
     "output_type": "stream",
     "text": [
      "Epoch 1/10\n",
      "7/7 [==============================] - 18s 3s/step - loss: 7.2438 - acc: 0.5809 - val_loss: 0.7042 - val_acc: 0.5061\n",
      "Epoch 2/10\n",
      "7/7 [==============================] - 17s 3s/step - loss: 0.8562 - acc: 0.6378 - val_loss: 0.7210 - val_acc: 0.4992\n",
      "Epoch 3/10\n",
      "7/7 [==============================] - 16s 3s/step - loss: 0.6045 - acc: 0.6103 - val_loss: 0.7082 - val_acc: 0.5157\n",
      "Epoch 4/10\n",
      "7/7 [==============================] - 17s 3s/step - loss: 0.7248 - acc: 0.6265 - val_loss: 0.7962 - val_acc: 0.4984\n",
      "Epoch 5/10\n",
      "7/7 [==============================] - 19s 3s/step - loss: 0.6249 - acc: 0.6381 - val_loss: 2.5979 - val_acc: 0.4994\n",
      "Epoch 6/10\n",
      "7/7 [==============================] - 18s 3s/step - loss: 0.9514 - acc: 0.7138 - val_loss: 0.9374 - val_acc: 0.4994\n",
      "Epoch 7/10\n",
      "7/7 [==============================] - 17s 3s/step - loss: 0.5516 - acc: 0.7200 - val_loss: 0.7583 - val_acc: 0.4994\n",
      "Epoch 8/10\n",
      "7/7 [==============================] - 16s 3s/step - loss: 0.4887 - acc: 0.6692 - val_loss: 0.7154 - val_acc: 0.5085\n",
      "Epoch 9/10\n",
      "7/7 [==============================] - 18s 3s/step - loss: 0.4474 - acc: 0.6947 - val_loss: 0.8300 - val_acc: 0.5015\n",
      "Epoch 10/10\n",
      "7/7 [==============================] - 12s 2s/step - loss: 0.4593 - acc: 0.7363 - val_loss: 1.4653 - val_acc: 0.4994\n"
     ]
    }
   ],
   "source": [
    "# Fits the model\n",
    "\n",
    "epochs = 10\n",
    "batch_size = 32\n",
    "\n",
    "history = model.fit(x_train, y_train, \n",
    "                    epochs=epochs, \n",
    "                    batch_size=batch_size, \n",
    "                    validation_data=(x_val, y_val))"
   ]
  },
  {
   "cell_type": "code",
   "execution_count": 15,
   "id": "4437d9b7",
   "metadata": {},
   "outputs": [
    {
     "data": {
      "image/png": "[encoded data removed]",
      "text/plain": [
       "<Figure size 432x288 with 1 Axes>"
      ]
     },
     "metadata": {
      "needs_background": "light"
     },
     "output_type": "display_data"
    },
    {
     "data": {
      "image/png": "[encoded data removed]",
      "text/plain": [
       "<Figure size 432x288 with 1 Axes>"
      ]
     },
     "metadata": {
      "needs_background": "light"
     },
     "output_type": "display_data"
    }
   ],
   "source": [
    "# Evaluates training and validation performance\n",
    "\n",
    "history_dict = history.history\n",
    "\n",
    "epoch_range = range(1, len(history_dict[\"acc\"]) + 1)\n",
    "\n",
    "train_losses = history_dict[\"loss\"]\n",
    "val_losses = history_dict[\"val_loss\"]\n",
    "\n",
    "train_accuracies = history_dict[\"acc\"]\n",
    "val_accuracies = history_dict[\"val_acc\"]\n",
    "\n",
    "plt.plot(epoch_range, val_losses, \"b\", label = \"Validation Loss\")\n",
    "plt.plot(epoch_range, train_losses, \"bo\", label = \"Training Loss\")\n",
    "plt.xlabel(\"Epochs\")\n",
    "plt.ylabel(\"Loss\")\n",
    "plt.legend()\n",
    "plt.title(\"Validation & Training Loss\")\n",
    "\n",
    "\n",
    "plt.figure()\n",
    "\n",
    "plt.plot(epoch_range, val_accuracies, \"b\", label = \"Validation Accuracy\")\n",
    "plt.plot(epoch_range, train_accuracies, \"bo\", label = \"Training Accuracy\")\n",
    "plt.xlabel(\"Epochs\")\n",
    "plt.ylabel(\"Accuracy\")\n",
    "plt.legend()\n",
    "plt.title(\"Validation & Training Accuracy\")\n",
    "\n",
    "plt.show()"
   ]
  },
  {
   "cell_type": "code",
   "execution_count": 16,
   "id": "d42e8866",
   "metadata": {},
   "outputs": [
    {
     "name": "stdout",
     "output_type": "stream",
     "text": [
      "Validation Loss: 1.465273141860962 \n",
      "Validation Accuracy: 0.4993951618671417\n"
     ]
    }
   ],
   "source": [
    "# Prints the validation performance\n",
    "\n",
    "print(\"Validation Loss:\", history_dict[\"val_loss\"][-1],\n",
    "      \"\\nValidation Accuracy:\", history_dict[\"val_acc\"][-1])"
   ]
  },
  {
   "cell_type": "code",
   "execution_count": 17,
   "id": "e1b54f06",
   "metadata": {},
   "outputs": [
    {
     "name": "stdout",
     "output_type": "stream",
     "text": [
      "782/782 [==============================] - 21s 26ms/step - loss: 1.4764 - acc: 0.5000\n",
      "Test Loss: 1.4763959646224976 \n",
      "Test Accuracy: 0.5000399947166443\n"
     ]
    }
   ],
   "source": [
    "# Prints the test performance\n",
    "\n",
    "eval_result = model.evaluate(x_test, y_test)\n",
    "\n",
    "print(\"Test Loss:\", eval_result[0],\n",
    "      \"\\nTest Accuracy:\", eval_result[1])"
   ]
  },
  {
   "cell_type": "markdown",
   "id": "93849fa1",
   "metadata": {},
   "source": [
    "### Now, fit the model with same training data, but without the weights from the pretrained embeddings and find if pretrained embeddings actually helped to score any better on the same training set."
   ]
  },
  {
   "cell_type": "code",
   "execution_count": 18,
   "id": "7c6e5095",
   "metadata": {},
   "outputs": [
    {
     "name": "stdout",
     "output_type": "stream",
     "text": [
      "Epoch 1/10\n",
      "7/7 [==============================] - 15s 2s/step - loss: 1.2355 - acc: 0.5290 - val_loss: 0.7237 - val_acc: 0.4933\n",
      "Epoch 2/10\n",
      "7/7 [==============================] - 15s 3s/step - loss: 0.4826 - acc: 0.7369 - val_loss: 0.9322 - val_acc: 0.5015\n",
      "Epoch 3/10\n",
      "7/7 [==============================] - 18s 3s/step - loss: 0.4231 - acc: 0.7978 - val_loss: 1.1195 - val_acc: 0.5031\n",
      "Epoch 4/10\n",
      "7/7 [==============================] - 14s 2s/step - loss: 0.2172 - acc: 0.8955 - val_loss: 0.7748 - val_acc: 0.5195\n",
      "Epoch 5/10\n",
      "7/7 [==============================] - 19s 3s/step - loss: 0.0827 - acc: 0.9854 - val_loss: 0.7387 - val_acc: 0.5341\n",
      "Epoch 6/10\n",
      "7/7 [==============================] - 19s 3s/step - loss: 0.0452 - acc: 0.9944 - val_loss: 0.8121 - val_acc: 0.5233\n",
      "Epoch 7/10\n",
      "7/7 [==============================] - 16s 3s/step - loss: 0.0303 - acc: 0.9963 - val_loss: 0.8300 - val_acc: 0.5259\n",
      "Epoch 8/10\n",
      "7/7 [==============================] - 17s 3s/step - loss: 0.0179 - acc: 1.0000 - val_loss: 0.7673 - val_acc: 0.5318\n",
      "Epoch 9/10\n",
      "7/7 [==============================] - 15s 2s/step - loss: 0.0094 - acc: 1.0000 - val_loss: 0.8300 - val_acc: 0.5283\n",
      "Epoch 10/10\n",
      "7/7 [==============================] - 16s 3s/step - loss: 0.0039 - acc: 1.0000 - val_loss: 0.7916 - val_acc: 0.5322\n"
     ]
    }
   ],
   "source": [
    "# Re-creates the same model\n",
    "\n",
    "model = Sequential()\n",
    "model.add(Embedding(max_features, embedding_dim, input_length = max_input_length))\n",
    "model.add(Flatten())\n",
    "model.add(Dense(32, activation = \"relu\"))\n",
    "model.add(Dense(1, activation = \"sigmoid\"))\n",
    "\n",
    "# Compiles the model\n",
    "\n",
    "model.compile(optimizer = \"rmsprop\", loss = \"binary_crossentropy\", metrics = [\"acc\"])\n",
    "\n",
    "# Fits the model\n",
    "history = model.fit(x_train, y_train, \n",
    "                    epochs=epochs, \n",
    "                    batch_size=batch_size, \n",
    "                    validation_data=(x_val, y_val))"
   ]
  },
  {
   "cell_type": "code",
   "execution_count": 19,
   "id": "d6f74dc6",
   "metadata": {},
   "outputs": [
    {
     "data": {
      "image/png": "[encoded data removed]",
      "text/plain": [
       "<Figure size 432x288 with 1 Axes>"
      ]
     },
     "metadata": {
      "needs_background": "light"
     },
     "output_type": "display_data"
    },
    {
     "data": {
      "image/png": "[encoded data removed]",
      "text/plain": [
       "<Figure size 432x288 with 1 Axes>"
      ]
     },
     "metadata": {
      "needs_background": "light"
     },
     "output_type": "display_data"
    }
   ],
   "source": [
    "# Plots the training and validation performance, once again\n",
    "\n",
    "history_dict = history.history\n",
    "\n",
    "epoch_range = range(1, len(history_dict[\"acc\"]) + 1)\n",
    "\n",
    "train_losses = history_dict[\"loss\"]\n",
    "val_losses = history_dict[\"val_loss\"]\n",
    "\n",
    "train_accuracies = history_dict[\"acc\"]\n",
    "val_accuracies = history_dict[\"val_acc\"]\n",
    "\n",
    "plt.plot(epoch_range, val_losses, \"b\", label = \"Validation Loss\")\n",
    "plt.plot(epoch_range, train_losses, \"bo\", label = \"Training Loss\")\n",
    "plt.xlabel(\"Epochs\")\n",
    "plt.ylabel(\"Loss\")\n",
    "plt.legend()\n",
    "plt.title(\"Validation & Training Loss\")\n",
    "\n",
    "\n",
    "plt.figure()\n",
    "\n",
    "plt.plot(epoch_range, val_accuracies, \"b\", label = \"Validation Accuracy\")\n",
    "plt.plot(epoch_range, train_accuracies, \"bo\", label = \"Training Accuracy\")\n",
    "plt.xlabel(\"Epochs\")\n",
    "plt.ylabel(\"Accuracy\")\n",
    "plt.legend()\n",
    "plt.title(\"Validation & Training Accuracy\")\n",
    "\n",
    "plt.show()"
   ]
  },
  {
   "cell_type": "code",
   "execution_count": 20,
   "id": "018b1745",
   "metadata": {},
   "outputs": [
    {
     "name": "stdout",
     "output_type": "stream",
     "text": [
      "Validation Loss: 0.791610062122345 \n",
      "Validation Accuracy: 0.5322177410125732\n"
     ]
    }
   ],
   "source": [
    "# Prints the validation performance\n",
    "\n",
    "print(\"Validation Loss:\", history_dict[\"val_loss\"][-1],\n",
    "      \"\\nValidation Accuracy:\", history_dict[\"val_acc\"][-1])"
   ]
  },
  {
   "cell_type": "code",
   "execution_count": 21,
   "id": "e49855c2",
   "metadata": {},
   "outputs": [
    {
     "name": "stdout",
     "output_type": "stream",
     "text": [
      "782/782 [==============================] - 19s 24ms/step - loss: 0.8030 - acc: 0.5254\n",
      "Test Loss: 0.8030348420143127 \n",
      "Test Accuracy: 0.525439977645874\n"
     ]
    }
   ],
   "source": [
    "# Prints the test performance\n",
    "\n",
    "eval_result = model.evaluate(x_test, y_test)\n",
    "\n",
    "print(\"Test Loss:\", eval_result[0],\n",
    "      \"\\nTest Accuracy:\", eval_result[1])"
   ]
  },
  {
   "cell_type": "markdown",
   "id": "507e566b",
   "metadata": {},
   "source": [
    "### CONCLUSION:\n",
    "\n",
    "#### There are two observations.\n",
    "\n",
    "#### 1) When data is scarce - 200 training samples in this case, there was no significant gain in terms of achieving higher test accuracy when pretained word embeddings were used, and test performance of the model with jointly learned word embeddings even did little better!. In fact latter one did well by 2% (~52% vs. ~50%).\n",
    "\n",
    "#### 2) When word embeddings were jointly learned in the previous notebook with all 25000 training data, test accuracy as high as ~83% was achieved. But it could not beat the baselined model (in notebook <em>1_IMDB_Movie_Review_Sentiment_Analysis_using_Densed_Neural_Network.ipynb</em>) that achieved ~85% test accuracy.\n",
    "\n",
    "#### It is clear from the above test data evaluation result that task specific joinltly learned embeddings perfor better when data is not scarce, and pretrained might (or might not) be of help when less data is available.\n",
    "\n",
    "#### Other configuration such as 100 dimentional embedding vectors, top 10000 words and first 500 top review words were kept common for all the models.\n",
    "\n",
    "#### Refer next notebook that will use Recurrent Neural Networks (RNN) to check if it performs better than any of these approaches used so far."
   ]
  }
 ],
 "metadata": {
  "kernelspec": {
   "display_name": "Python 3",
   "language": "python",
   "name": "python3"
  },
  "language_info": {
   "codemirror_mode": {
    "name": "ipython",
    "version": 3
   },
   "file_extension": ".py",
   "mimetype": "text/x-python",
   "name": "python",
   "nbconvert_exporter": "python",
   "pygments_lexer": "ipython3",
   "version": "3.7.10"
  }
 },
 "nbformat": 4,
 "nbformat_minor": 5
}
