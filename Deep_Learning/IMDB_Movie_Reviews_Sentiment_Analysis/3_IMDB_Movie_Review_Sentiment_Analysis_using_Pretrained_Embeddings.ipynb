{
 "cells": [
  {
   "cell_type": "markdown",
   "id": "2221e54b",
   "metadata": {},
   "source": [
    "# IMDB Movie Reviews Sentiment Analysis using Pretrained Word Embeddings"
   ]
  },
  {
   "cell_type": "markdown",
   "id": "70582e36",
   "metadata": {},
   "source": [
    "### Pretrained word embeddings are said to be useful only if available data is very less and pretrained word embeddings. To prove this, this model will trained with small subset of IMDB train data and its evaluation performance on test data will be compared with that of model created with Jointly Learned word embeddings and trained with full training data.\n",
    "\n",
    "### Preprocessed IMDB data that comes packaged with Keras is used here.\n"
   ]
  },
  {
   "cell_type": "code",
   "execution_count": 2,
   "id": "5affafb8",
   "metadata": {},
   "outputs": [],
   "source": [
    "# Imports required packages\n",
    "\n",
    "from tensorflow.keras.datasets import imdb\n",
    "from tensorflow.keras.preprocessing.sequence import pad_sequences\n",
    "from tensorflow.keras.models import Sequential\n",
    "from tensorflow.keras.layers import Embedding, Flatten, Dense\n",
    "\n",
    "import numpy as np\n",
    "import matplotlib.pyplot as plt\n",
    "import os"
   ]
  },
  {
   "cell_type": "code",
   "execution_count": 3,
   "id": "ecc4793d",
   "metadata": {},
   "outputs": [],
   "source": [
    "max_features = 10000    # count of most common words\n",
    "embedding_dim = 100     # dimension of embedding\n",
    "max_input_length = 100  # number of review words to into consideration"
   ]
  },
  {
   "cell_type": "code",
   "execution_count": 4,
   "id": "8c38a98a",
   "metadata": {},
   "outputs": [
    {
     "name": "stderr",
     "output_type": "stream",
     "text": [
      "<string>:6: VisibleDeprecationWarning: Creating an ndarray from ragged nested sequences (which is a list-or-tuple of lists-or-tuples-or ndarrays with different lengths or shapes) is deprecated. If you meant to do this, you must specify 'dtype=object' when creating the ndarray\n",
      "/home/pradip/anaconda3/lib/python3.7/site-packages/tensorflow/python/keras/datasets/imdb.py:159: VisibleDeprecationWarning: Creating an ndarray from ragged nested sequences (which is a list-or-tuple of lists-or-tuples-or ndarrays with different lengths or shapes) is deprecated. If you meant to do this, you must specify 'dtype=object' when creating the ndarray\n",
      "  x_train, y_train = np.array(xs[:idx]), np.array(labels[:idx])\n",
      "/home/pradip/anaconda3/lib/python3.7/site-packages/tensorflow/python/keras/datasets/imdb.py:160: VisibleDeprecationWarning: Creating an ndarray from ragged nested sequences (which is a list-or-tuple of lists-or-tuples-or ndarrays with different lengths or shapes) is deprecated. If you meant to do this, you must specify 'dtype=object' when creating the ndarray\n",
      "  x_test, y_test = np.array(xs[idx:]), np.array(labels[idx:])\n"
     ]
    }
   ],
   "source": [
    "# Loads train and test data from preprocessed IMDB database that comes with Keras\n",
    "\n",
    "(x_train, y_train), (x_test, y_test) = imdb.load_data(num_words = max_features)"
   ]
  },
  {
   "cell_type": "code",
   "execution_count": 5,
   "id": "8f3f6896",
   "metadata": {},
   "outputs": [
    {
     "name": "stdout",
     "output_type": "stream",
     "text": [
      "Train samples count: 25000 \n",
      "Test samples count: 25000\n"
     ]
    }
   ],
   "source": [
    "print(\"Train samples count:\", x_train.shape[0],\n",
    "      \"\\nTest samples count:\", x_test.shape[0])"
   ]
  },
  {
   "cell_type": "code",
   "execution_count": 6,
   "id": "a917e40c",
   "metadata": {},
   "outputs": [],
   "source": [
    "# Pads reviews to be of same size\n",
    "\n",
    "x_train = pad_sequences(x_train, maxlen = max_input_length)\n",
    "x_test = pad_sequences(x_test, maxlen = max_input_length)"
   ]
  },
  {
   "cell_type": "code",
   "execution_count": 7,
   "id": "56dcb967",
   "metadata": {},
   "outputs": [],
   "source": [
    "# Restricts number of training samples to 200 to proof the understanding mentioned in the title of this notebook\n",
    "\n",
    "training_sample_count = 200\n",
    "\n",
    "x_val = x_train[training_sample_count:]\n",
    "y_val = y_train[training_sample_count:]\n",
    "\n",
    "x_train = x_train[:training_sample_count]\n",
    "y_train = y_train[:training_sample_count]"
   ]
  },
  {
   "cell_type": "code",
   "execution_count": 3,
   "id": "8bc5dc33",
   "metadata": {},
   "outputs": [
    {
     "name": "stdout",
     "output_type": "stream",
     "text": [
      "--2021-04-09 18:31:06--  http://nlp.stanford.edu/data/glove.6B.zip\n",
      "Resolving nlp.stanford.edu (nlp.stanford.edu)... 171.64.67.140\n",
      "Connecting to nlp.stanford.edu (nlp.stanford.edu)|171.64.67.140|:80... connected.\n",
      "HTTP request sent, awaiting response... 302 Found\n",
      "Location: https://nlp.stanford.edu/data/glove.6B.zip [following]\n",
      "--2021-04-09 18:31:07--  https://nlp.stanford.edu/data/glove.6B.zip\n",
      "Connecting to nlp.stanford.edu (nlp.stanford.edu)|171.64.67.140|:443... connected.\n",
      "HTTP request sent, awaiting response... 301 Moved Permanently\n",
      "Location: http://downloads.cs.stanford.edu/nlp/data/glove.6B.zip [following]\n",
      "--2021-04-09 18:31:08--  http://downloads.cs.stanford.edu/nlp/data/glove.6B.zip\n",
      "Resolving downloads.cs.stanford.edu (downloads.cs.stanford.edu)... 171.64.64.22\n",
      "Connecting to downloads.cs.stanford.edu (downloads.cs.stanford.edu)|171.64.64.22|:80... connected.\n",
      "HTTP request sent, awaiting response... 200 OK\n",
      "Length: 862182613 (822M) [application/zip]\n",
      "Saving to: ‘glove.6B.zip’\n",
      "\n",
      "glove.6B.zip        100%[===================>] 822.24M  1.13MB/s    in 10m 52s \n",
      "\n",
      "2021-04-09 18:42:01 (1.26 MB/s) - ‘glove.6B.zip’ saved [862182613/862182613]\n",
      "\n"
     ]
    }
   ],
   "source": [
    "# Downloads and unzip GloVe - the pretrained word embeddings\n",
    "\n",
    "!wget http://nlp.stanford.edu/data/glove.6B.zip\n",
    "!unzip -q glove.6B.zip"
   ]
  },
  {
   "cell_type": "code",
   "execution_count": 8,
   "id": "c3563d95",
   "metadata": {},
   "outputs": [],
   "source": [
    "# Creates embedding index\n",
    "\n",
    "embedding_index = {}\n",
    "\n",
    "glove_file_name = \"glove.6B.100d.txt\"\n",
    "glove_file_path = os.path.join(os.getcwd(), glove_file_name)\n",
    "\n",
    "file_stream = open(glove_file_path)\n",
    "for line in file_stream:\n",
    "    values = line.split()\n",
    "    embedding_index[values[0]] = np.asarray(values[1:], dtype = \"float32\")\n",
    "    \n",
    "file_stream.close()"
   ]
  },
  {
   "cell_type": "code",
   "execution_count": 9,
   "id": "ac1cdcfa",
   "metadata": {},
   "outputs": [
    {
     "name": "stdout",
     "output_type": "stream",
     "text": [
      "Number of words in the embedding index is: 400000\n"
     ]
    }
   ],
   "source": [
    "print(\"Number of words in the embedding index is:\", len(embedding_index))"
   ]
  },
  {
   "cell_type": "code",
   "execution_count": 10,
   "id": "c977f023",
   "metadata": {},
   "outputs": [],
   "source": [
    "# Below steps prepare embedding matrix to be used to load the weights of embedding layer from\n",
    "\n",
    "\n",
    "\n",
    "# Reverses the order of key and value pairs to consider only top 10000 (var max_features) words\n",
    "index_word_dict = dict([(index, word) for (word, index) in imdb.get_word_index().items()])\n",
    "\n",
    "# Creates embedding matrix with zero (0) as placeholder\n",
    "embedding_matrix = np.zeros((max_features, embedding_dim))\n",
    "\n",
    "for word_index in range(1, max_features+1):\n",
    "    embedding_vector = embedding_index.get(index_word_dict[word_index])\n",
    "    if embedding_vector is not None:\n",
    "        embedding_matrix[word_index - 1] = embedding_vector"
   ]
  },
  {
   "cell_type": "code",
   "execution_count": 11,
   "id": "ba4fd596",
   "metadata": {},
   "outputs": [],
   "source": [
    "# Creates same model that was used with jointly learned embedding (refer other notebook)inde\n",
    "\n",
    "model = Sequential()\n",
    "model.add(Embedding(max_features, embedding_dim, input_length = max_input_length))\n",
    "model.add(Flatten())\n",
    "model.add(Dense(32, activation = \"relu\"))\n",
    "model.add(Dense(1, activation = \"sigmoid\"))"
   ]
  },
  {
   "cell_type": "code",
   "execution_count": 12,
   "id": "756d8cd5",
   "metadata": {},
   "outputs": [
    {
     "name": "stdout",
     "output_type": "stream",
     "text": [
      "Model: \"sequential\"\n",
      "_________________________________________________________________\n",
      "Layer (type)                 Output Shape              Param #   \n",
      "=================================================================\n",
      "embedding (Embedding)        (None, 100, 100)          1000000   \n",
      "_________________________________________________________________\n",
      "flatten (Flatten)            (None, 10000)             0         \n",
      "_________________________________________________________________\n",
      "dense (Dense)                (None, 32)                320032    \n",
      "_________________________________________________________________\n",
      "dense_1 (Dense)              (None, 1)                 33        \n",
      "=================================================================\n",
      "Total params: 1,320,065\n",
      "Trainable params: 1,320,065\n",
      "Non-trainable params: 0\n",
      "_________________________________________________________________\n"
     ]
    }
   ],
   "source": [
    "# Shows the model summary\n",
    "\n",
    "model.summary()"
   ]
  },
  {
   "cell_type": "code",
   "execution_count": 13,
   "id": "c3d8db40",
   "metadata": {},
   "outputs": [],
   "source": [
    "# Sets GloVe embedding matrix as weigths of the embedding layer and sets the layer as non-trainable\n",
    "\n",
    "model.layers[0].set_weights([embedding_matrix])\n",
    "model.layers[0].trainable = False"
   ]
  },
  {
   "cell_type": "code",
   "execution_count": 14,
   "id": "cbe71fad",
   "metadata": {},
   "outputs": [],
   "source": [
    "# Compiles the model\n",
    "\n",
    "model.compile(optimizer = \"rmsprop\", loss = \"binary_crossentropy\", metrics = [\"acc\"])"
   ]
  },
  {
   "cell_type": "code",
   "execution_count": 15,
   "id": "12525a1e",
   "metadata": {},
   "outputs": [
    {
     "name": "stdout",
     "output_type": "stream",
     "text": [
      "Epoch 1/10\n",
      "7/7 [==============================] - 15s 2s/step - loss: 1.7703 - acc: 0.5603 - val_loss: 0.6960 - val_acc: 0.4918\n",
      "Epoch 2/10\n",
      "7/7 [==============================] - 17s 3s/step - loss: 0.6092 - acc: 0.6496 - val_loss: 0.7235 - val_acc: 0.4977\n",
      "Epoch 3/10\n",
      "7/7 [==============================] - 12s 2s/step - loss: 0.5331 - acc: 0.6916 - val_loss: 0.9532 - val_acc: 0.4994\n",
      "Epoch 4/10\n",
      "7/7 [==============================] - 12s 2s/step - loss: 0.4787 - acc: 0.7805 - val_loss: 1.3646 - val_acc: 0.4994\n",
      "Epoch 5/10\n",
      "7/7 [==============================] - 15s 2s/step - loss: 0.3919 - acc: 0.8516 - val_loss: 0.7788 - val_acc: 0.5113\n",
      "Epoch 6/10\n",
      "7/7 [==============================] - 16s 3s/step - loss: 0.2191 - acc: 0.9823 - val_loss: 1.4242 - val_acc: 0.4993\n",
      "Epoch 7/10\n",
      "7/7 [==============================] - 10s 2s/step - loss: 0.3088 - acc: 0.8324 - val_loss: 0.7503 - val_acc: 0.5126\n",
      "Epoch 8/10\n",
      "7/7 [==============================] - 5s 805ms/step - loss: 0.1637 - acc: 0.9590 - val_loss: 0.8439 - val_acc: 0.5171\n",
      "Epoch 9/10\n",
      "7/7 [==============================] - 13s 2s/step - loss: 0.1026 - acc: 0.9988 - val_loss: 0.9847 - val_acc: 0.5039\n",
      "Epoch 10/10\n",
      "7/7 [==============================] - 13s 2s/step - loss: 0.2187 - acc: 0.9388 - val_loss: 0.8672 - val_acc: 0.5181\n"
     ]
    }
   ],
   "source": [
    "# Fits the model\n",
    "\n",
    "epochs = 10\n",
    "batch_size = 32\n",
    "\n",
    "history = model.fit(x_train, y_train, \n",
    "                    epochs=epochs, \n",
    "                    batch_size=batch_size, \n",
    "                    validation_data=(x_val, y_val))"
   ]
  },
  {
   "cell_type": "code",
   "execution_count": 16,
   "id": "4437d9b7",
   "metadata": {},
   "outputs": [
    {
     "data": {
      "image/png": "[encoded data removed]",
      "text/plain": [
       "<Figure size 432x288 with 1 Axes>"
      ]
     },
     "metadata": {
      "needs_background": "light"
     },
     "output_type": "display_data"
    },
    {
     "data": {
      "image/png": "[encoded data removed]",
      "text/plain": [
       "<Figure size 432x288 with 1 Axes>"
      ]
     },
     "metadata": {
      "needs_background": "light"
     },
     "output_type": "display_data"
    }
   ],
   "source": [
    "# Evaluates training and validation performance\n",
    "\n",
    "history_dict = history.history\n",
    "\n",
    "epoch_range = range(1, len(history_dict[\"acc\"]) + 1)\n",
    "\n",
    "train_losses = history_dict[\"loss\"]\n",
    "val_losses = history_dict[\"val_loss\"]\n",
    "\n",
    "train_accuracies = history_dict[\"acc\"]\n",
    "val_accuracies = history_dict[\"val_acc\"]\n",
    "\n",
    "plt.plot(epoch_range, val_losses, \"b\", label = \"Validation Loss\")\n",
    "plt.plot(epoch_range, train_losses, \"bo\", label = \"Training Loss\")\n",
    "plt.xlabel(\"Epochs\")\n",
    "plt.ylabel(\"Loss\")\n",
    "plt.legend()\n",
    "plt.title(\"Validation & Training Loss\")\n",
    "\n",
    "\n",
    "plt.figure()\n",
    "\n",
    "plt.plot(epoch_range, val_accuracies, \"b\", label = \"Validation Accuracy\")\n",
    "plt.plot(epoch_range, train_accuracies, \"bo\", label = \"Training Accuracy\")\n",
    "plt.xlabel(\"Epochs\")\n",
    "plt.ylabel(\"Accuracy\")\n",
    "plt.legend()\n",
    "plt.title(\"Validation & Training Accuracy\")\n",
    "\n",
    "plt.show()"
   ]
  },
  {
   "cell_type": "code",
   "execution_count": 17,
   "id": "d42e8866",
   "metadata": {},
   "outputs": [
    {
     "name": "stdout",
     "output_type": "stream",
     "text": [
      "Validation Loss: 0.8672168850898743 \n",
      "Validation Accuracy: 0.5181048512458801\n"
     ]
    }
   ],
   "source": [
    "# Prints the validation performance\n",
    "\n",
    "print(\"Validation Loss:\", history_dict[\"val_loss\"][-1],\n",
    "      \"\\nValidation Accuracy:\", history_dict[\"val_acc\"][-1])"
   ]
  },
  {
   "cell_type": "code",
   "execution_count": 18,
   "id": "e1b54f06",
   "metadata": {},
   "outputs": [
    {
     "name": "stdout",
     "output_type": "stream",
     "text": [
      "782/782 [==============================] - 19s 24ms/step - loss: 0.8656 - acc: 0.5186\n",
      "Test Loss: 0.8656035661697388 \n",
      "Test Accuracy: 0.518559992313385\n"
     ]
    }
   ],
   "source": [
    "# Prints the test performance\n",
    "\n",
    "eval_result = model.evaluate(x_test, y_test)\n",
    "\n",
    "print(\"Test Loss:\", eval_result[0],\n",
    "      \"\\nTest Accuracy:\", eval_result[1])"
   ]
  },
  {
   "cell_type": "markdown",
   "id": "93849fa1",
   "metadata": {},
   "source": [
    "### Now, fit the model with same training data, but without the weights from the pretrained embeddings and find if pretrained embeddings actually helped to score any better. "
   ]
  },
  {
   "cell_type": "code",
   "execution_count": 19,
   "id": "7c6e5095",
   "metadata": {},
   "outputs": [
    {
     "name": "stdout",
     "output_type": "stream",
     "text": [
      "Epoch 1/10\n",
      "7/7 [==============================] - 12s 2s/step - loss: 0.6857 - acc: 0.6250 - val_loss: 0.6975 - val_acc: 0.5119\n",
      "Epoch 2/10\n",
      "7/7 [==============================] - 7s 1s/step - loss: 0.4487 - acc: 0.9550 - val_loss: 0.7266 - val_acc: 0.5132\n",
      "Epoch 3/10\n",
      "7/7 [==============================] - 14s 2s/step - loss: 0.2312 - acc: 0.9901 - val_loss: 0.7201 - val_acc: 0.5278\n",
      "Epoch 4/10\n",
      "7/7 [==============================] - 6s 1s/step - loss: 0.1023 - acc: 0.9931 - val_loss: 0.7352 - val_acc: 0.5255\n",
      "Epoch 5/10\n",
      "7/7 [==============================] - 13s 2s/step - loss: 0.0510 - acc: 1.0000 - val_loss: 0.7570 - val_acc: 0.5202\n",
      "Epoch 6/10\n",
      "7/7 [==============================] - 11s 2s/step - loss: 0.0246 - acc: 1.0000 - val_loss: 0.7520 - val_acc: 0.5264\n",
      "Epoch 7/10\n",
      "7/7 [==============================] - 15s 2s/step - loss: 0.0144 - acc: 1.0000 - val_loss: 0.7827 - val_acc: 0.5230\n",
      "Epoch 8/10\n",
      "7/7 [==============================] - 14s 2s/step - loss: 0.0081 - acc: 1.0000 - val_loss: 0.8088 - val_acc: 0.5222\n",
      "Epoch 9/10\n",
      "7/7 [==============================] - 16s 3s/step - loss: 0.0050 - acc: 1.0000 - val_loss: 0.7922 - val_acc: 0.5274\n",
      "Epoch 10/10\n",
      "7/7 [==============================] - 14s 2s/step - loss: 0.0030 - acc: 1.0000 - val_loss: 0.8503 - val_acc: 0.5210\n"
     ]
    }
   ],
   "source": [
    "# Re-creates the same model\n",
    "\n",
    "model = Sequential()\n",
    "model.add(Embedding(max_features, embedding_dim, input_length = max_input_length))\n",
    "model.add(Flatten())\n",
    "model.add(Dense(32, activation = \"relu\"))\n",
    "model.add(Dense(1, activation = \"sigmoid\"))\n",
    "\n",
    "# Compiles the model\n",
    "\n",
    "model.compile(optimizer = \"rmsprop\", loss = \"binary_crossentropy\", metrics = [\"acc\"])\n",
    "\n",
    "# Fits the model\n",
    "history = model.fit(x_train, y_train, \n",
    "                    epochs=epochs, \n",
    "                    batch_size=batch_size, \n",
    "                    validation_data=(x_val, y_val))"
   ]
  },
  {
   "cell_type": "code",
   "execution_count": 20,
   "id": "d6f74dc6",
   "metadata": {},
   "outputs": [
    {
     "data": {
      "image/png": "[encoded data removed]",
      "text/plain": [
       "<Figure size 432x288 with 1 Axes>"
      ]
     },
     "metadata": {
      "needs_background": "light"
     },
     "output_type": "display_data"
    },
    {
     "data": {
      "image/png": "[encoded data removed]",
      "text/plain": [
       "<Figure size 432x288 with 1 Axes>"
      ]
     },
     "metadata": {
      "needs_background": "light"
     },
     "output_type": "display_data"
    }
   ],
   "source": [
    "# Plots the training and validation performance, once again\n",
    "\n",
    "history_dict = history.history\n",
    "\n",
    "epoch_range = range(1, len(history_dict[\"acc\"]) + 1)\n",
    "\n",
    "train_losses = history_dict[\"loss\"]\n",
    "val_losses = history_dict[\"val_loss\"]\n",
    "\n",
    "train_accuracies = history_dict[\"acc\"]\n",
    "val_accuracies = history_dict[\"val_acc\"]\n",
    "\n",
    "plt.plot(epoch_range, val_losses, \"b\", label = \"Validation Loss\")\n",
    "plt.plot(epoch_range, train_losses, \"bo\", label = \"Training Loss\")\n",
    "plt.xlabel(\"Epochs\")\n",
    "plt.ylabel(\"Loss\")\n",
    "plt.legend()\n",
    "plt.title(\"Validation & Training Loss\")\n",
    "\n",
    "\n",
    "plt.figure()\n",
    "\n",
    "plt.plot(epoch_range, val_accuracies, \"b\", label = \"Validation Accuracy\")\n",
    "plt.plot(epoch_range, train_accuracies, \"bo\", label = \"Training Accuracy\")\n",
    "plt.xlabel(\"Epochs\")\n",
    "plt.ylabel(\"Accuracy\")\n",
    "plt.legend()\n",
    "plt.title(\"Validation & Training Accuracy\")\n",
    "\n",
    "plt.show()"
   ]
  },
  {
   "cell_type": "code",
   "execution_count": 21,
   "id": "018b1745",
   "metadata": {},
   "outputs": [
    {
     "name": "stdout",
     "output_type": "stream",
     "text": [
      "Validation Loss: 0.850325882434845 \n",
      "Validation Accuracy: 0.521048367023468\n"
     ]
    }
   ],
   "source": [
    "# Prints the validation performance\n",
    "\n",
    "print(\"Validation Loss:\", history_dict[\"val_loss\"][-1],\n",
    "      \"\\nValidation Accuracy:\", history_dict[\"val_acc\"][-1])"
   ]
  },
  {
   "cell_type": "code",
   "execution_count": 22,
   "id": "e49855c2",
   "metadata": {},
   "outputs": [
    {
     "name": "stdout",
     "output_type": "stream",
     "text": [
      "782/782 [==============================] - 17s 22ms/step - loss: 0.8455 - acc: 0.5210\n",
      "Test Loss: 0.8455103039741516 \n",
      "Test Accuracy: 0.5209599733352661\n"
     ]
    }
   ],
   "source": [
    "# Prints the test performance\n",
    "\n",
    "eval_result = model.evaluate(x_test, y_test)\n",
    "\n",
    "print(\"Test Loss:\", eval_result[0],\n",
    "      \"\\nTest Accuracy:\", eval_result[1])"
   ]
  },
  {
   "cell_type": "markdown",
   "id": "507e566b",
   "metadata": {},
   "source": [
    "### CONCLUSION:\n",
    "\n",
    "#### There are two observations.\n",
    "\n",
    "#### 1) When data is scarce - 200 training samples in this case, there was no significant gain in terms of achieving higher test accuracy when pretained word embeddings were used, and test performance of the model with jointly learned word embeddings was at par. In fact latter one did well by 1% (~51% vs. ~52%).\n",
    "\n",
    "#### 2) When word embeddings were jointly learned in the previous notebook with all 25000 training data, test accuracy as high as ~82% was achieved. \n",
    "\n",
    "#### It is clear from the above test data evaluation result that task specific joinltly learned embeddings performs better when data is not scarce, and pretrained might (or might not) be of help when less data is available.\n",
    "\n",
    "#### Other configuration such as 100 dimentional embedding vectors, top 10000 words and first 100 review words were kept common for both the models."
   ]
  },
  {
   "cell_type": "code",
   "execution_count": null,
   "id": "3245e0e8",
   "metadata": {},
   "outputs": [],
   "source": []
  }
 ],
 "metadata": {
  "kernelspec": {
   "display_name": "Python 3",
   "language": "python",
   "name": "python3"
  },
  "language_info": {
   "codemirror_mode": {
    "name": "ipython",
    "version": 3
   },
   "file_extension": ".py",
   "mimetype": "text/x-python",
   "name": "python",
   "nbconvert_exporter": "python",
   "pygments_lexer": "ipython3",
   "version": "3.7.10"
  }
 },
 "nbformat": 4,
 "nbformat_minor": 5
}
