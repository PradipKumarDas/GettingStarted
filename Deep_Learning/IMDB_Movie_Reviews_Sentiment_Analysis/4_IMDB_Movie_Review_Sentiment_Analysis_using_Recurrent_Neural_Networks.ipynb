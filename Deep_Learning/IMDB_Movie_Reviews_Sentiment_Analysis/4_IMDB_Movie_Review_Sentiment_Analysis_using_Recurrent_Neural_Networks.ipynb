{
 "cells": [
  {
   "cell_type": "markdown",
   "id": "763772f1",
   "metadata": {
    "id": "763772f1"
   },
   "source": [
    "# IMDB Movie Reviews Sentiment Analysis using Recurrent Neural Networks (RNN)\n",
    "\n",
    "### Both Simple RNN and Long Short-term Memory will be tried here and their test performances will be compared with that of the baselined and other models created in notebooks in this folder. "
   ]
  },
  {
   "cell_type": "markdown",
   "id": "a62cc544",
   "metadata": {},
   "source": [
    "### ALERT: This notebook is recommended to be run on GPU."
   ]
  },
  {
   "cell_type": "markdown",
   "id": "756392eb",
   "metadata": {
    "id": "756392eb"
   },
   "source": [
    "### Let's get started with Simple RNN first."
   ]
  },
  {
   "cell_type": "code",
   "execution_count": 1,
   "id": "8314cce3",
   "metadata": {
    "executionInfo": {
     "elapsed": 2805,
     "status": "ok",
     "timestamp": 1618459760449,
     "user": {
      "displayName": "Pradip Kumar Das",
      "photoUrl": "https://lh3.googleusercontent.com/a-/AOh14GhOol7HvwC1mRwKgqTD5gVSvnT40P-7O36m_hHS=s64",
      "userId": "12916671935047684031"
     },
     "user_tz": -330
    },
    "id": "8314cce3"
   },
   "outputs": [],
   "source": [
    "# Imports required packages\n",
    "\n",
    "from tensorflow.keras.models import Sequential\n",
    "from tensorflow.keras.layers import Embedding, SimpleRNN, LSTM, Dense\n",
    "\n",
    "from tensorflow.keras.datasets import imdb\n",
    "from tensorflow.keras.preprocessing.sequence import pad_sequences\n",
    "\n",
    "import matplotlib.pyplot as plt"
   ]
  },
  {
   "cell_type": "code",
   "execution_count": 2,
   "id": "c980f276",
   "metadata": {
    "executionInfo": {
     "elapsed": 955,
     "status": "ok",
     "timestamp": 1618459762478,
     "user": {
      "displayName": "Pradip Kumar Das",
      "photoUrl": "https://lh3.googleusercontent.com/a-/AOh14GhOol7HvwC1mRwKgqTD5gVSvnT40P-7O36m_hHS=s64",
      "userId": "12916671935047684031"
     },
     "user_tz": -330
    },
    "id": "c980f276"
   },
   "outputs": [],
   "source": [
    "max_features = 10000        # count of most common words\n",
    "embedding_dim = 100         # dimension of embedding\n",
    "max_input_length = 500      # number of review words to into consideration\n",
    "simplernn_output_dim = 32   # dimension of Simple RNN output space\n",
    "lstm_output_dim = 32        # dimension of LSTM output space"
   ]
  },
  {
   "cell_type": "code",
   "execution_count": 3,
   "id": "693711f1",
   "metadata": {
    "colab": {
     "base_uri": "https://localhost:8080/"
    },
    "executionInfo": {
     "elapsed": 7468,
     "status": "ok",
     "timestamp": 1618459771926,
     "user": {
      "displayName": "Pradip Kumar Das",
      "photoUrl": "https://lh3.googleusercontent.com/a-/AOh14GhOol7HvwC1mRwKgqTD5gVSvnT40P-7O36m_hHS=s64",
      "userId": "12916671935047684031"
     },
     "user_tz": -330
    },
    "id": "693711f1",
    "outputId": "6d2392ee-28b9-4379-cf86-2af011932cda"
   },
   "outputs": [
    {
     "name": "stdout",
     "output_type": "stream",
     "text": [
      "Downloading data from https://storage.googleapis.com/tensorflow/tf-keras-datasets/imdb.npz\n",
      "17465344/17464789 [==============================] - 0s 0us/step\n"
     ]
    },
    {
     "name": "stderr",
     "output_type": "stream",
     "text": [
      "<string>:6: VisibleDeprecationWarning: Creating an ndarray from ragged nested sequences (which is a list-or-tuple of lists-or-tuples-or ndarrays with different lengths or shapes) is deprecated. If you meant to do this, you must specify 'dtype=object' when creating the ndarray\n",
      "/usr/local/lib/python3.7/dist-packages/tensorflow/python/keras/datasets/imdb.py:159: VisibleDeprecationWarning: Creating an ndarray from ragged nested sequences (which is a list-or-tuple of lists-or-tuples-or ndarrays with different lengths or shapes) is deprecated. If you meant to do this, you must specify 'dtype=object' when creating the ndarray\n",
      "  x_train, y_train = np.array(xs[:idx]), np.array(labels[:idx])\n",
      "/usr/local/lib/python3.7/dist-packages/tensorflow/python/keras/datasets/imdb.py:160: VisibleDeprecationWarning: Creating an ndarray from ragged nested sequences (which is a list-or-tuple of lists-or-tuples-or ndarrays with different lengths or shapes) is deprecated. If you meant to do this, you must specify 'dtype=object' when creating the ndarray\n",
      "  x_test, y_test = np.array(xs[idx:]), np.array(labels[idx:])\n"
     ]
    }
   ],
   "source": [
    "# Loads training and test data\n",
    "\n",
    "(x_train, y_train), (x_test, y_test) = imdb.load_data(num_words = max_input_length)"
   ]
  },
  {
   "cell_type": "code",
   "execution_count": 4,
   "id": "2b0172c9",
   "metadata": {
    "colab": {
     "base_uri": "https://localhost:8080/"
    },
    "executionInfo": {
     "elapsed": 1006,
     "status": "ok",
     "timestamp": 1618459792662,
     "user": {
      "displayName": "Pradip Kumar Das",
      "photoUrl": "https://lh3.googleusercontent.com/a-/AOh14GhOol7HvwC1mRwKgqTD5gVSvnT40P-7O36m_hHS=s64",
      "userId": "12916671935047684031"
     },
     "user_tz": -330
    },
    "id": "2b0172c9",
    "outputId": "20839769-1794-446f-d037-f96513410432"
   },
   "outputs": [
    {
     "name": "stdout",
     "output_type": "stream",
     "text": [
      "Train samples count: 25000 \n",
      "Test samples count: 25000\n"
     ]
    }
   ],
   "source": [
    "print(\"Train samples count:\", x_train.shape[0],\n",
    "      \"\\nTest samples count:\", x_test.shape[0])"
   ]
  },
  {
   "cell_type": "code",
   "execution_count": 5,
   "id": "d83f3154",
   "metadata": {
    "executionInfo": {
     "elapsed": 2966,
     "status": "ok",
     "timestamp": 1618459796483,
     "user": {
      "displayName": "Pradip Kumar Das",
      "photoUrl": "https://lh3.googleusercontent.com/a-/AOh14GhOol7HvwC1mRwKgqTD5gVSvnT40P-7O36m_hHS=s64",
      "userId": "12916671935047684031"
     },
     "user_tz": -330
    },
    "id": "d83f3154"
   },
   "outputs": [],
   "source": [
    "# Pads reviews to be of same size\n",
    "\n",
    "x_train = pad_sequences(x_train, maxlen = max_input_length)\n",
    "x_test = pad_sequences(x_test, maxlen = max_input_length)"
   ]
  },
  {
   "cell_type": "code",
   "execution_count": null,
   "id": "ac0b81ce",
   "metadata": {
    "id": "ac0b81ce",
    "outputId": "062e1542-6b40-40b9-ef7d-9e15e5dcd1b8"
   },
   "outputs": [
    {
     "name": "stdout",
     "output_type": "stream",
     "text": [
      "Model: \"sequential\"\n",
      "_________________________________________________________________\n",
      "Layer (type)                 Output Shape              Param #   \n",
      "=================================================================\n",
      "embedding (Embedding)        (None, 500, 100)          1000000   \n",
      "_________________________________________________________________\n",
      "simple_rnn (SimpleRNN)       (None, 32)                4256      \n",
      "_________________________________________________________________\n",
      "dense (Dense)                (None, 1)                 33        \n",
      "=================================================================\n",
      "Total params: 1,004,289\n",
      "Trainable params: 1,004,289\n",
      "Non-trainable params: 0\n",
      "_________________________________________________________________\n"
     ]
    }
   ],
   "source": [
    "# Creates Simple RNN model\n",
    "\n",
    "model = Sequential()\n",
    "model.add(Embedding(max_features, embedding_dim, input_length = max_input_length))\n",
    "model.add(SimpleRNN(simplernn_output_dim))\n",
    "model.add(Dense(1, activation=\"sigmoid\"))\n",
    "\n",
    "model.summary()"
   ]
  },
  {
   "cell_type": "code",
   "execution_count": null,
   "id": "97b01e2b",
   "metadata": {
    "id": "97b01e2b"
   },
   "outputs": [],
   "source": [
    "# Compiles the model\n",
    "\n",
    "model.compile(optimizer = \"rmsprop\", loss = \"binary_crossentropy\", metrics = [\"acc\"])"
   ]
  },
  {
   "cell_type": "code",
   "execution_count": null,
   "id": "08528ba4",
   "metadata": {
    "id": "08528ba4",
    "outputId": "2384e5f5-5ee6-49f3-f6f6-f815a674c581"
   },
   "outputs": [
    {
     "name": "stdout",
     "output_type": "stream",
     "text": [
      "Epoch 1/10\n",
      "625/625 [==============================] - 237s 378ms/step - loss: 0.6186 - acc: 0.6461 - val_loss: 0.6983 - val_acc: 0.6286\n",
      "Epoch 2/10\n",
      "625/625 [==============================] - 261s 417ms/step - loss: 0.5107 - acc: 0.7578 - val_loss: 0.4922 - val_acc: 0.7706\n",
      "Epoch 3/10\n",
      "625/625 [==============================] - 262s 419ms/step - loss: 0.4702 - acc: 0.7867 - val_loss: 0.4784 - val_acc: 0.7816\n",
      "Epoch 4/10\n",
      "625/625 [==============================] - 264s 422ms/step - loss: 0.4572 - acc: 0.7946 - val_loss: 0.4651 - val_acc: 0.7834\n",
      "Epoch 5/10\n",
      "625/625 [==============================] - 261s 418ms/step - loss: 0.4127 - acc: 0.8177 - val_loss: 0.4711 - val_acc: 0.7780\n",
      "Epoch 6/10\n",
      "625/625 [==============================] - 277s 444ms/step - loss: 0.4001 - acc: 0.8259 - val_loss: 0.4588 - val_acc: 0.7902\n",
      "Epoch 7/10\n",
      "625/625 [==============================] - 260s 417ms/step - loss: 0.3964 - acc: 0.8275 - val_loss: 0.4741 - val_acc: 0.7980\n",
      "Epoch 8/10\n",
      "625/625 [==============================] - 252s 403ms/step - loss: 0.3893 - acc: 0.8305 - val_loss: 0.6223 - val_acc: 0.7558\n",
      "Epoch 9/10\n",
      "625/625 [==============================] - 268s 429ms/step - loss: 0.3868 - acc: 0.8310 - val_loss: 0.5166 - val_acc: 0.7398\n",
      "Epoch 10/10\n",
      "625/625 [==============================] - 280s 448ms/step - loss: 0.3848 - acc: 0.8353 - val_loss: 0.4882 - val_acc: 0.8016\n"
     ]
    }
   ],
   "source": [
    "# Fits the model\n",
    "\n",
    "epochs = 10\n",
    "batch_size = 32\n",
    "\n",
    "history = model.fit(x_train, y_train, batch_size = batch_size, epochs = epochs, validation_split = 0.2)"
   ]
  },
  {
   "cell_type": "code",
   "execution_count": null,
   "id": "c23e6a85",
   "metadata": {
    "id": "c23e6a85",
    "outputId": "849b0b74-b989-4905-9906-f400c9fb2322"
   },
   "outputs": [
    {
     "data": {
      "image/png": "[encoded data removed]",
      "text/plain": [
       "<Figure size 432x288 with 1 Axes>"
      ]
     },
     "metadata": {
      "needs_background": "light",
      "tags": []
     },
     "output_type": "display_data"
    },
    {
     "data": {
      "image/png": "[encoded data removed]",
      "text/plain": [
       "<Figure size 432x288 with 1 Axes>"
      ]
     },
     "metadata": {
      "needs_background": "light",
      "tags": []
     },
     "output_type": "display_data"
    }
   ],
   "source": [
    "# Evaluates training and validation performance\n",
    "\n",
    "history_dict = history.history\n",
    "\n",
    "epoch_range = range(1, len(history_dict[\"acc\"]) + 1)\n",
    "\n",
    "train_losses = history_dict[\"loss\"]\n",
    "val_losses = history_dict[\"val_loss\"]\n",
    "\n",
    "train_accuracies = history_dict[\"acc\"]\n",
    "val_accuracies = history_dict[\"val_acc\"]\n",
    "\n",
    "plt.plot(epoch_range, val_losses, \"b\", label = \"Validation Loss\")\n",
    "plt.plot(epoch_range, train_losses, \"bo\", label = \"Training Loss\")\n",
    "plt.xlabel(\"Epochs\")\n",
    "plt.ylabel(\"Loss\")\n",
    "plt.legend()\n",
    "plt.title(\"Validation & Training Loss\")\n",
    "\n",
    "\n",
    "plt.figure()\n",
    "\n",
    "plt.plot(epoch_range, val_accuracies, \"b\", label = \"Validation Accuracy\")\n",
    "plt.plot(epoch_range, train_accuracies, \"bo\", label = \"Training Accuracy\")\n",
    "plt.xlabel(\"Epochs\")\n",
    "plt.ylabel(\"Accuracy\")\n",
    "plt.legend()\n",
    "plt.title(\"Validation & Training Accuracy\")\n",
    "\n",
    "plt.show()"
   ]
  },
  {
   "cell_type": "code",
   "execution_count": null,
   "id": "5088d154",
   "metadata": {
    "id": "5088d154",
    "outputId": "ace826ff-1780-4e7b-c8b2-1ca57d2004ae"
   },
   "outputs": [
    {
     "name": "stdout",
     "output_type": "stream",
     "text": [
      "Validation Loss: 0.4881557524204254 \n",
      "Validation Accuracy: 0.8015999794006348\n"
     ]
    }
   ],
   "source": [
    "# Prints the validation performance\n",
    "\n",
    "print(\"Validation Loss:\", history_dict[\"val_loss\"][-1],\n",
    "      \"\\nValidation Accuracy:\", history_dict[\"val_acc\"][-1])"
   ]
  },
  {
   "cell_type": "code",
   "execution_count": null,
   "id": "5665c639",
   "metadata": {
    "id": "5665c639",
    "outputId": "c1d3bc2f-4579-4c85-b596-7d5bcdb01bee"
   },
   "outputs": [
    {
     "name": "stdout",
     "output_type": "stream",
     "text": [
      "782/782 [==============================] - 66s 84ms/step - loss: 0.4882 - acc: 0.7984\n",
      "Test Loss: 0.4881662130355835 \n",
      "Test Accuracy: 0.7983999848365784\n"
     ]
    }
   ],
   "source": [
    "# Prints the test performance\n",
    "\n",
    "eval_result = model.evaluate(x_test, y_test)\n",
    "\n",
    "print(\"Test Loss:\", eval_result[0],\n",
    "      \"\\nTest Accuracy:\", eval_result[1])"
   ]
  },
  {
   "cell_type": "markdown",
   "id": "c0d385c5",
   "metadata": {
    "id": "c0d385c5"
   },
   "source": [
    "### Now, let's try Long Short-term Memory (LSTM) out."
   ]
  },
  {
   "cell_type": "code",
   "execution_count": 6,
   "id": "6fa240b3",
   "metadata": {
    "colab": {
     "base_uri": "https://localhost:8080/"
    },
    "executionInfo": {
     "elapsed": 1293,
     "status": "ok",
     "timestamp": 1618459811356,
     "user": {
      "displayName": "Pradip Kumar Das",
      "photoUrl": "https://lh3.googleusercontent.com/a-/AOh14GhOol7HvwC1mRwKgqTD5gVSvnT40P-7O36m_hHS=s64",
      "userId": "12916671935047684031"
     },
     "user_tz": -330
    },
    "id": "6fa240b3",
    "outputId": "8a0107d1-f06a-4332-fa07-2fa609db0c5f"
   },
   "outputs": [
    {
     "name": "stdout",
     "output_type": "stream",
     "text": [
      "Model: \"sequential\"\n",
      "_________________________________________________________________\n",
      "Layer (type)                 Output Shape              Param #   \n",
      "=================================================================\n",
      "embedding (Embedding)        (None, 500, 100)          1000000   \n",
      "_________________________________________________________________\n",
      "lstm (LSTM)                  (None, 32)                17024     \n",
      "_________________________________________________________________\n",
      "dense (Dense)                (None, 1)                 33        \n",
      "=================================================================\n",
      "Total params: 1,017,057\n",
      "Trainable params: 1,017,057\n",
      "Non-trainable params: 0\n",
      "_________________________________________________________________\n"
     ]
    }
   ],
   "source": [
    "# Creates LSTM model\n",
    "\n",
    "model = Sequential()\n",
    "model.add(Embedding(max_features, embedding_dim, input_length = max_input_length))\n",
    "model.add(LSTM(lstm_output_dim))\n",
    "model.add(Dense(1, activation = \"sigmoid\"))\n",
    "\n",
    "# Checks for model summary\n",
    "model.summary()"
   ]
  },
  {
   "cell_type": "code",
   "execution_count": 7,
   "id": "6a609b4a",
   "metadata": {
    "executionInfo": {
     "elapsed": 1212,
     "status": "ok",
     "timestamp": 1618459819270,
     "user": {
      "displayName": "Pradip Kumar Das",
      "photoUrl": "https://lh3.googleusercontent.com/a-/AOh14GhOol7HvwC1mRwKgqTD5gVSvnT40P-7O36m_hHS=s64",
      "userId": "12916671935047684031"
     },
     "user_tz": -330
    },
    "id": "6a609b4a"
   },
   "outputs": [],
   "source": [
    "# Compiles the model\n",
    "\n",
    "model.compile(optimizer = \"rmsprop\", loss = \"binary_crossentropy\", metrics = [\"acc\"])"
   ]
  },
  {
   "cell_type": "code",
   "execution_count": 8,
   "id": "0b1e7832",
   "metadata": {
    "colab": {
     "base_uri": "https://localhost:8080/"
    },
    "executionInfo": {
     "elapsed": 1172860,
     "status": "ok",
     "timestamp": 1618460997040,
     "user": {
      "displayName": "Pradip Kumar Das",
      "photoUrl": "https://lh3.googleusercontent.com/a-/AOh14GhOol7HvwC1mRwKgqTD5gVSvnT40P-7O36m_hHS=s64",
      "userId": "12916671935047684031"
     },
     "user_tz": -330
    },
    "id": "0b1e7832",
    "outputId": "2a1e546b-3b3d-4c4f-a353-9981ffc23a80"
   },
   "outputs": [
    {
     "name": "stdout",
     "output_type": "stream",
     "text": [
      "Epoch 1/10\n",
      "625/625 [==============================] - 118s 186ms/step - loss: 0.5763 - acc: 0.6866 - val_loss: 0.4247 - val_acc: 0.8114\n",
      "Epoch 2/10\n",
      "625/625 [==============================] - 117s 186ms/step - loss: 0.4211 - acc: 0.8118 - val_loss: 0.4636 - val_acc: 0.7868\n",
      "Epoch 3/10\n",
      "625/625 [==============================] - 117s 187ms/step - loss: 0.3932 - acc: 0.8295 - val_loss: 0.3995 - val_acc: 0.8260\n",
      "Epoch 4/10\n",
      "625/625 [==============================] - 117s 188ms/step - loss: 0.3749 - acc: 0.8375 - val_loss: 0.4066 - val_acc: 0.8282\n",
      "Epoch 5/10\n",
      "625/625 [==============================] - 117s 188ms/step - loss: 0.3606 - acc: 0.8444 - val_loss: 0.4083 - val_acc: 0.8232\n",
      "Epoch 6/10\n",
      "625/625 [==============================] - 117s 187ms/step - loss: 0.3462 - acc: 0.8516 - val_loss: 0.3740 - val_acc: 0.8442\n",
      "Epoch 7/10\n",
      "625/625 [==============================] - 117s 187ms/step - loss: 0.3409 - acc: 0.8553 - val_loss: 0.3725 - val_acc: 0.8346\n",
      "Epoch 8/10\n",
      "625/625 [==============================] - 117s 187ms/step - loss: 0.3242 - acc: 0.8616 - val_loss: 0.3686 - val_acc: 0.8356\n",
      "Epoch 9/10\n",
      "625/625 [==============================] - 117s 188ms/step - loss: 0.3169 - acc: 0.8677 - val_loss: 0.3826 - val_acc: 0.8470\n",
      "Epoch 10/10\n",
      "625/625 [==============================] - 117s 187ms/step - loss: 0.3110 - acc: 0.8676 - val_loss: 0.4055 - val_acc: 0.8166\n"
     ]
    }
   ],
   "source": [
    "# Fits the model\n",
    "\n",
    "epochs = 10\n",
    "batch_size = 32\n",
    "\n",
    "history = model.fit(x_train, y_train, batch_size = batch_size, epochs = epochs, validation_split = 0.2)"
   ]
  },
  {
   "cell_type": "code",
   "execution_count": 9,
   "id": "b41e7b40",
   "metadata": {
    "colab": {
     "base_uri": "https://localhost:8080/",
     "height": 573
    },
    "executionInfo": {
     "elapsed": 1258,
     "status": "ok",
     "timestamp": 1618461583641,
     "user": {
      "displayName": "Pradip Kumar Das",
      "photoUrl": "https://lh3.googleusercontent.com/a-/AOh14GhOol7HvwC1mRwKgqTD5gVSvnT40P-7O36m_hHS=s64",
      "userId": "12916671935047684031"
     },
     "user_tz": -330
    },
    "id": "b41e7b40",
    "outputId": "dad1a5b2-6573-4555-baf4-8e7eb0bf45eb"
   },
   "outputs": [
    {
     "data": {
      "image/png": "[encoded data removed]",
      "text/plain": [
       "<Figure size 432x288 with 1 Axes>"
      ]
     },
     "metadata": {
      "needs_background": "light",
      "tags": []
     },
     "output_type": "display_data"
    },
    {
     "data": {
      "image/png": "[encoded data removed]",
      "text/plain": [
       "<Figure size 432x288 with 1 Axes>"
      ]
     },
     "metadata": {
      "needs_background": "light",
      "tags": []
     },
     "output_type": "display_data"
    }
   ],
   "source": [
    "# Evaluates training and validation performance\n",
    "\n",
    "history_dict = history.history\n",
    "\n",
    "epoch_range = range(1, len(history_dict[\"acc\"]) + 1)\n",
    "\n",
    "train_losses = history_dict[\"loss\"]\n",
    "val_losses = history_dict[\"val_loss\"]\n",
    "\n",
    "train_accuracies = history_dict[\"acc\"]\n",
    "val_accuracies = history_dict[\"val_acc\"]\n",
    "\n",
    "plt.plot(epoch_range, val_losses, \"b\", label = \"Validation Loss\")\n",
    "plt.plot(epoch_range, train_losses, \"bo\", label = \"Training Loss\")\n",
    "plt.xlabel(\"Epochs\")\n",
    "plt.ylabel(\"Loss\")\n",
    "plt.legend()\n",
    "plt.title(\"Validation & Training Loss\")\n",
    "\n",
    "\n",
    "plt.figure()\n",
    "\n",
    "plt.plot(epoch_range, val_accuracies, \"b\", label = \"Validation Accuracy\")\n",
    "plt.plot(epoch_range, train_accuracies, \"bo\", label = \"Training Accuracy\")\n",
    "plt.xlabel(\"Epochs\")\n",
    "plt.ylabel(\"Accuracy\")\n",
    "plt.legend()\n",
    "plt.title(\"Validation & Training Accuracy\")\n",
    "\n",
    "plt.show()"
   ]
  },
  {
   "cell_type": "code",
   "execution_count": 10,
   "id": "d311b9c4",
   "metadata": {
    "colab": {
     "base_uri": "https://localhost:8080/"
    },
    "executionInfo": {
     "elapsed": 1095,
     "status": "ok",
     "timestamp": 1618461586973,
     "user": {
      "displayName": "Pradip Kumar Das",
      "photoUrl": "https://lh3.googleusercontent.com/a-/AOh14GhOol7HvwC1mRwKgqTD5gVSvnT40P-7O36m_hHS=s64",
      "userId": "12916671935047684031"
     },
     "user_tz": -330
    },
    "id": "d311b9c4",
    "outputId": "baef44e7-e59a-4de9-9874-725c1b2696ab"
   },
   "outputs": [
    {
     "name": "stdout",
     "output_type": "stream",
     "text": [
      "Validation Loss: 0.40545952320098877 \n",
      "Validation Accuracy: 0.8166000247001648\n"
     ]
    }
   ],
   "source": [
    "# Prints the validation performance\n",
    "\n",
    "print(\"Validation Loss:\", history_dict[\"val_loss\"][-1],\n",
    "      \"\\nValidation Accuracy:\", history_dict[\"val_acc\"][-1])"
   ]
  },
  {
   "cell_type": "code",
   "execution_count": 11,
   "id": "e1e09dee",
   "metadata": {
    "colab": {
     "base_uri": "https://localhost:8080/"
    },
    "executionInfo": {
     "elapsed": 34188,
     "status": "ok",
     "timestamp": 1618461621904,
     "user": {
      "displayName": "Pradip Kumar Das",
      "photoUrl": "https://lh3.googleusercontent.com/a-/AOh14GhOol7HvwC1mRwKgqTD5gVSvnT40P-7O36m_hHS=s64",
      "userId": "12916671935047684031"
     },
     "user_tz": -330
    },
    "id": "e1e09dee",
    "outputId": "037e407b-687e-463f-e564-67ddf09a259a"
   },
   "outputs": [
    {
     "name": "stdout",
     "output_type": "stream",
     "text": [
      "782/782 [==============================] - 33s 42ms/step - loss: 0.3959 - acc: 0.8241\n",
      "Test Loss: 0.39587143063545227 \n",
      "Test Accuracy: 0.8240799903869629\n"
     ]
    }
   ],
   "source": [
    "# Prints the test performance\n",
    "\n",
    "eval_result = model.evaluate(x_test, y_test)\n",
    "\n",
    "print(\"Test Loss:\", eval_result[0],\n",
    "      \"\\nTest Accuracy:\", eval_result[1])"
   ]
  },
  {
   "cell_type": "markdown",
   "id": "f5d055ee",
   "metadata": {
    "id": "f5d055ee"
   },
   "source": [
    "### COMMENTS:\n",
    "\n",
    "#### Test accuracy of this Simple RNN model is around 80% and it could not beat the 85% accuracy of the fully connected baselined model created previous notebook <em>1_IMDB_Movie_Review_Sentiment_Analysis_using_Densed_Neural_Network.ipynb</em> . Surprisingly, this model could not perform event better than the joinly learned word embeddings based model created in notebook <em>1_IMDB_Movie_Review_Sentiment_Analysis_using_Densed_Neural_Network.ipynb</em>.\n",
    "\n",
    "#### There could be two reasons behind the fact that Simple RNN based model failed to outferform baselined model. First of all, only 500 review words were considered as input in the Simple RNN based model whereas Fully-connected model considered all the review words in the form of one-hot vector. Secondly, Simple RNN is not capable enough to remember long sequences.\n",
    "\n",
    "#### Long Short-term Memory (LSTM) model scored 82% accuracy on test data and did well than Simple RNN based model and is at par with joinly learned embedding based model that achieved 83% test accuracy. But it is to note here that LSTM model still count not beat baselined model that clocked 85% accuracy."
   ]
  }
 ],
 "metadata": {
  "colab": {
   "name": "4_IMDB_Movie_Review_Sentiment_Analysis_using_Recurrent_Neural_Networks.ipynb",
   "provenance": []
  },
  "kernelspec": {
   "display_name": "Python 3",
   "language": "python",
   "name": "python3"
  },
  "language_info": {
   "codemirror_mode": {
    "name": "ipython",
    "version": 3
   },
   "file_extension": ".py",
   "mimetype": "text/x-python",
   "name": "python",
   "nbconvert_exporter": "python",
   "pygments_lexer": "ipython3",
   "version": "3.7.10"
  }
 },
 "nbformat": 4,
 "nbformat_minor": 5
}
