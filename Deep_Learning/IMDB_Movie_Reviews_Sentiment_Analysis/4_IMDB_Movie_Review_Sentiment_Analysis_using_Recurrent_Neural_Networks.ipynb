{
 "cells": [
  {
   "cell_type": "markdown",
   "id": "763772f1",
   "metadata": {},
   "source": [
    "# IMDB Movie Reviews Sentiment Analysis using Recurrent Neural Networks (RNN)\n",
    "\n",
    "### Both Simple RNN and Long Short-term Memory will be tried here and their test performances will be compared with that of the baselined and other models created in notebooks in this folder. "
   ]
  },
  {
   "cell_type": "code",
   "execution_count": 13,
   "id": "8314cce3",
   "metadata": {},
   "outputs": [],
   "source": [
    "# Imports required packages\n",
    "\n",
    "from tensorflow.keras.models import Sequential\n",
    "from tensorflow.keras.layers import Embedding,SimpleRNN, Dense\n",
    "\n",
    "from tensorflow.keras.datasets import imdb\n",
    "from tensorflow.keras.preprocessing.sequence import pad_sequences\n",
    "\n",
    "import matplotlib.pyplot as plt"
   ]
  },
  {
   "cell_type": "code",
   "execution_count": 6,
   "id": "c980f276",
   "metadata": {},
   "outputs": [],
   "source": [
    "max_features = 10000    # count of most common words\n",
    "embedding_dim = 100     # dimension of embedding\n",
    "max_input_length = 500  # number of review words to into consideration"
   ]
  },
  {
   "cell_type": "code",
   "execution_count": 7,
   "id": "693711f1",
   "metadata": {},
   "outputs": [
    {
     "name": "stderr",
     "output_type": "stream",
     "text": [
      "<string>:6: VisibleDeprecationWarning: Creating an ndarray from ragged nested sequences (which is a list-or-tuple of lists-or-tuples-or ndarrays with different lengths or shapes) is deprecated. If you meant to do this, you must specify 'dtype=object' when creating the ndarray\n",
      "/home/pradip/anaconda3/lib/python3.7/site-packages/tensorflow/python/keras/datasets/imdb.py:159: VisibleDeprecationWarning: Creating an ndarray from ragged nested sequences (which is a list-or-tuple of lists-or-tuples-or ndarrays with different lengths or shapes) is deprecated. If you meant to do this, you must specify 'dtype=object' when creating the ndarray\n",
      "  x_train, y_train = np.array(xs[:idx]), np.array(labels[:idx])\n",
      "/home/pradip/anaconda3/lib/python3.7/site-packages/tensorflow/python/keras/datasets/imdb.py:160: VisibleDeprecationWarning: Creating an ndarray from ragged nested sequences (which is a list-or-tuple of lists-or-tuples-or ndarrays with different lengths or shapes) is deprecated. If you meant to do this, you must specify 'dtype=object' when creating the ndarray\n",
      "  x_test, y_test = np.array(xs[idx:]), np.array(labels[idx:])\n"
     ]
    }
   ],
   "source": [
    "# Loads training and test data\n",
    "\n",
    "(x_train, y_train), (x_test, y_test) = imdb.load_data(num_words = max_input_length)"
   ]
  },
  {
   "cell_type": "code",
   "execution_count": 11,
   "id": "2b0172c9",
   "metadata": {},
   "outputs": [
    {
     "name": "stdout",
     "output_type": "stream",
     "text": [
      "Train samples count: 25000 \n",
      "Test samples count: 25000\n"
     ]
    }
   ],
   "source": [
    "print(\"Train samples count:\", x_train.shape[0],\n",
    "      \"\\nTest samples count:\", x_test.shape[0])"
   ]
  },
  {
   "cell_type": "code",
   "execution_count": 14,
   "id": "d83f3154",
   "metadata": {},
   "outputs": [],
   "source": [
    "# Pads reviews to be of same size\n",
    "\n",
    "x_train = pad_sequences(x_train, maxlen = max_input_length)\n",
    "x_test = pad_sequences(x_test, maxlen = max_input_length)"
   ]
  },
  {
   "cell_type": "code",
   "execution_count": 8,
   "id": "ac0b81ce",
   "metadata": {},
   "outputs": [
    {
     "name": "stdout",
     "output_type": "stream",
     "text": [
      "Model: \"sequential\"\n",
      "_________________________________________________________________\n",
      "Layer (type)                 Output Shape              Param #   \n",
      "=================================================================\n",
      "embedding (Embedding)        (None, 500, 100)          1000000   \n",
      "_________________________________________________________________\n",
      "simple_rnn (SimpleRNN)       (None, 32)                4256      \n",
      "_________________________________________________________________\n",
      "dense (Dense)                (None, 1)                 33        \n",
      "=================================================================\n",
      "Total params: 1,004,289\n",
      "Trainable params: 1,004,289\n",
      "Non-trainable params: 0\n",
      "_________________________________________________________________\n"
     ]
    }
   ],
   "source": [
    "# Creates model\n",
    "\n",
    "model = Sequential()\n",
    "model.add(Embedding(max_features, embedding_dim, input_length = max_input_length))\n",
    "model.add(SimpleRNN(32))\n",
    "model.add(Dense(1, activation=\"sigmoid\"))\n",
    "\n",
    "model.summary()"
   ]
  },
  {
   "cell_type": "code",
   "execution_count": 9,
   "id": "97b01e2b",
   "metadata": {},
   "outputs": [],
   "source": [
    "# Compiles the model\n",
    "\n",
    "model.compile(optimizer = \"rmsprop\", loss = \"binary_crossentropy\", metrics = [\"acc\"])"
   ]
  },
  {
   "cell_type": "code",
   "execution_count": 15,
   "id": "08528ba4",
   "metadata": {},
   "outputs": [
    {
     "name": "stdout",
     "output_type": "stream",
     "text": [
      "Epoch 1/10\n",
      "625/625 [==============================] - 237s 378ms/step - loss: 0.6186 - acc: 0.6461 - val_loss: 0.6983 - val_acc: 0.6286\n",
      "Epoch 2/10\n",
      "625/625 [==============================] - 261s 417ms/step - loss: 0.5107 - acc: 0.7578 - val_loss: 0.4922 - val_acc: 0.7706\n",
      "Epoch 3/10\n",
      "625/625 [==============================] - 262s 419ms/step - loss: 0.4702 - acc: 0.7867 - val_loss: 0.4784 - val_acc: 0.7816\n",
      "Epoch 4/10\n",
      "625/625 [==============================] - 264s 422ms/step - loss: 0.4572 - acc: 0.7946 - val_loss: 0.4651 - val_acc: 0.7834\n",
      "Epoch 5/10\n",
      "625/625 [==============================] - 261s 418ms/step - loss: 0.4127 - acc: 0.8177 - val_loss: 0.4711 - val_acc: 0.7780\n",
      "Epoch 6/10\n",
      "625/625 [==============================] - 277s 444ms/step - loss: 0.4001 - acc: 0.8259 - val_loss: 0.4588 - val_acc: 0.7902\n",
      "Epoch 7/10\n",
      "625/625 [==============================] - 260s 417ms/step - loss: 0.3964 - acc: 0.8275 - val_loss: 0.4741 - val_acc: 0.7980\n",
      "Epoch 8/10\n",
      "625/625 [==============================] - 252s 403ms/step - loss: 0.3893 - acc: 0.8305 - val_loss: 0.6223 - val_acc: 0.7558\n",
      "Epoch 9/10\n",
      "625/625 [==============================] - 268s 429ms/step - loss: 0.3868 - acc: 0.8310 - val_loss: 0.5166 - val_acc: 0.7398\n",
      "Epoch 10/10\n",
      "625/625 [==============================] - 280s 448ms/step - loss: 0.3848 - acc: 0.8353 - val_loss: 0.4882 - val_acc: 0.8016\n"
     ]
    }
   ],
   "source": [
    "# Fits the model\n",
    "\n",
    "epochs = 10\n",
    "batch_size = 32\n",
    "\n",
    "history = model.fit(x_train, y_train, batch_size = batch_size, epochs = epochs, validation_split = 0.2)"
   ]
  },
  {
   "cell_type": "code",
   "execution_count": 16,
   "id": "c23e6a85",
   "metadata": {},
   "outputs": [
    {
     "data": {
      "image/png": "[encoded data removed]",
      "text/plain": [
       "<Figure size 432x288 with 1 Axes>"
      ]
     },
     "metadata": {
      "needs_background": "light"
     },
     "output_type": "display_data"
    },
    {
     "data": {
      "image/png": "[encoded data removed]",
      "text/plain": [
       "<Figure size 432x288 with 1 Axes>"
      ]
     },
     "metadata": {
      "needs_background": "light"
     },
     "output_type": "display_data"
    }
   ],
   "source": [
    "# Evaluates training and validation performance\n",
    "\n",
    "history_dict = history.history\n",
    "\n",
    "epoch_range = range(1, len(history_dict[\"acc\"]) + 1)\n",
    "\n",
    "train_losses = history_dict[\"loss\"]\n",
    "val_losses = history_dict[\"val_loss\"]\n",
    "\n",
    "train_accuracies = history_dict[\"acc\"]\n",
    "val_accuracies = history_dict[\"val_acc\"]\n",
    "\n",
    "plt.plot(epoch_range, val_losses, \"b\", label = \"Validation Loss\")\n",
    "plt.plot(epoch_range, train_losses, \"bo\", label = \"Training Loss\")\n",
    "plt.xlabel(\"Epochs\")\n",
    "plt.ylabel(\"Loss\")\n",
    "plt.legend()\n",
    "plt.title(\"Validation & Training Loss\")\n",
    "\n",
    "\n",
    "plt.figure()\n",
    "\n",
    "plt.plot(epoch_range, val_accuracies, \"b\", label = \"Validation Accuracy\")\n",
    "plt.plot(epoch_range, train_accuracies, \"bo\", label = \"Training Accuracy\")\n",
    "plt.xlabel(\"Epochs\")\n",
    "plt.ylabel(\"Accuracy\")\n",
    "plt.legend()\n",
    "plt.title(\"Validation & Training Accuracy\")\n",
    "\n",
    "plt.show()"
   ]
  },
  {
   "cell_type": "code",
   "execution_count": 17,
   "id": "5088d154",
   "metadata": {},
   "outputs": [
    {
     "name": "stdout",
     "output_type": "stream",
     "text": [
      "Validation Loss: 0.4881557524204254 \n",
      "Validation Accuracy: 0.8015999794006348\n"
     ]
    }
   ],
   "source": [
    "# Prints the validation performance\n",
    "\n",
    "print(\"Validation Loss:\", history_dict[\"val_loss\"][-1],\n",
    "      \"\\nValidation Accuracy:\", history_dict[\"val_acc\"][-1])"
   ]
  },
  {
   "cell_type": "code",
   "execution_count": 18,
   "id": "5665c639",
   "metadata": {},
   "outputs": [
    {
     "name": "stdout",
     "output_type": "stream",
     "text": [
      "782/782 [==============================] - 66s 84ms/step - loss: 0.4882 - acc: 0.7984\n",
      "Test Loss: 0.4881662130355835 \n",
      "Test Accuracy: 0.7983999848365784\n"
     ]
    }
   ],
   "source": [
    "# Prints the test performance\n",
    "\n",
    "eval_result = model.evaluate(x_test, y_test)\n",
    "\n",
    "print(\"Test Loss:\", eval_result[0],\n",
    "      \"\\nTest Accuracy:\", eval_result[1])"
   ]
  },
  {
   "cell_type": "markdown",
   "id": "f5d055ee",
   "metadata": {},
   "source": [
    "### COMMENTS:\n",
    "\n",
    "#### Test accuracy of this Simple RNN model is around 80% and it could not beat the 85% accuracy of the fully connected baselined model created previous notebook <em>1_IMDB_Movie_Review_Sentiment_Analysis_using_Densed_Neural_Network.ipynb</em> . Surprisingly, this model could not perform event better than the joinly learned word embeddings based model created in notebook <em>1_IMDB_Movie_Review_Sentiment_Analysis_using_Densed_Neural_Network.ipynb</em>.\n",
    "\n",
    "#### There could be two reasons behind the fact that Simple RNN based model failed to outferform baselined model. First of all, only 500 review words were considered as input in the Simple RNN based model whereas Fully-connected model considered all the review words in the form of one-hot vector. Secondly, Simple RNN is not capable enough to remember long sequences, and hence we might need to try out Long Short-term Memory (LSTM) here."
   ]
  },
  {
   "cell_type": "code",
   "execution_count": null,
   "id": "c2828bfd",
   "metadata": {},
   "outputs": [],
   "source": []
  }
 ],
 "metadata": {
  "kernelspec": {
   "display_name": "Python 3",
   "language": "python",
   "name": "python3"
  },
  "language_info": {
   "codemirror_mode": {
    "name": "ipython",
    "version": 3
   },
   "file_extension": ".py",
   "mimetype": "text/x-python",
   "name": "python",
   "nbconvert_exporter": "python",
   "pygments_lexer": "ipython3",
   "version": "3.7.10"
  }
 },
 "nbformat": 4,
 "nbformat_minor": 5
}
