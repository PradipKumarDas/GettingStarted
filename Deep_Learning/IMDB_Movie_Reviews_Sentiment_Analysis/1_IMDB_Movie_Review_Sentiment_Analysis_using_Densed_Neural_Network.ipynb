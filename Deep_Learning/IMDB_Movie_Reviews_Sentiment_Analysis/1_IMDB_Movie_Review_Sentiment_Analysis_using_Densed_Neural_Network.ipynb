{
 "cells": [
  {
   "cell_type": "code",
   "execution_count": 20,
   "metadata": {},
   "outputs": [],
   "source": [
    "from keras import models\n",
    "from keras import layers\n",
    "from keras.datasets import imdb"
   ]
  },
  {
   "cell_type": "code",
   "execution_count": 21,
   "metadata": {},
   "outputs": [],
   "source": [
    "import matplotlib.pyplot as plt\n",
    "import numpy as np"
   ]
  },
  {
   "cell_type": "code",
   "execution_count": 22,
   "metadata": {},
   "outputs": [],
   "source": [
    "# Utility function to vectorize the words in each sequence\n",
    "def vectorize_sequences(sequences, dimension=10000):\n",
    "    vectorized_sequences = np.zeros((len(sequences), dimension), dtype='float32')\n",
    "    for i, sequence in enumerate(sequences, start=0):\n",
    "        vectorized_sequences[i, sequence] = 1.\n",
    "    return vectorized_sequences"
   ]
  },
  {
   "cell_type": "code",
   "execution_count": 23,
   "metadata": {},
   "outputs": [],
   "source": [
    "# Loads and prepares data\n",
    "(train_data, train_labels), (test_data, test_labels) = imdb.load_data(num_words=10000)"
   ]
  },
  {
   "cell_type": "code",
   "execution_count": 24,
   "metadata": {},
   "outputs": [
    {
     "name": "stdout",
     "output_type": "stream",
     "text": [
      "Maximum word index in training data:  9999\n"
     ]
    }
   ],
   "source": [
    "# Checks the maximum word index in training data\n",
    "print(\"Maximum word index in training data: \", max([np.max(seq) for seq in train_data]))"
   ]
  },
  {
   "cell_type": "markdown",
   "metadata": {},
   "source": [
    "#### Gets the review comment in English just for reference"
   ]
  },
  {
   "cell_type": "code",
   "execution_count": 25,
   "metadata": {},
   "outputs": [],
   "source": [
    "# Gets database dictionary\n",
    "word_index_dict = imdb.get_word_index()\n",
    "\n",
    "# Reverses the order of key and value pairs to search word against its index found in training data \n",
    "index_word_dict = dict([(key, word) for (word, key) in word_index_dict.items()])"
   ]
  },
  {
   "cell_type": "code",
   "execution_count": 27,
   "metadata": {},
   "outputs": [
    {
     "data": {
      "text/plain": [
       "\"? this film was just brilliant casting location scenery story direction everyone's really suited the part they played and you could just imagine being there robert ? is an amazing actor and now the same being director ? father came from the same scottish island as myself so i loved the fact there was a real connection with this film the witty remarks throughout the film were great it was just brilliant so much that i bought the film as soon as it was released for ? and would recommend it to everyone to watch and the fly fishing was amazing really cried at the end it was so sad and you know what they say if you cry at a film it must have been good and this definitely was also ? to the two little boy's that played the ? of norman and paul they were just brilliant children are often left out of the ? list i think because the stars that play them all grown up are such a big profile for the whole film but these children are amazing and should be praised for what they have done don't you think the whole story was so lovely because it was true and was someone's life after all that was shared with us all\""
      ]
     },
     "execution_count": 27,
     "metadata": {},
     "output_type": "execute_result"
    }
   ],
   "source": [
    "# Just checking for training data after joining words after mapping word with its index.\n",
    "# Note that indices in the training data are offset by 3\n",
    "' '.join([index_word_dict.get(index-3, '?') for index in train_data[0]])"
   ]
  },
  {
   "cell_type": "markdown",
   "metadata": {},
   "source": [
    "#### Preparing data and training model"
   ]
  },
  {
   "cell_type": "code",
   "execution_count": 28,
   "metadata": {},
   "outputs": [],
   "source": [
    "# Encodes words into vector\n",
    "train_data = vectorize_sequences(train_data)\n",
    "test_data = vectorize_sequences(test_data)\n",
    "\n",
    "# Splits data training and validation data sets\n",
    "validation_data = train_data[15000:]\n",
    "train_data = train_data[0:15000]\n",
    "\n",
    "train_labels = train_labels.astype(dtype='float32')\n",
    "# train_labels = np.asarray(train_labels).astype('float32')\n",
    "test_labels = test_labels.astype(dtype='float32')\n",
    "# test_labels = np.asarray(test_labels).astype('float32')\n",
    "\n",
    "validation_labels = train_labels[15000:]\n",
    "train_labels = train_labels[0:15000]"
   ]
  },
  {
   "cell_type": "code",
   "execution_count": 29,
   "metadata": {},
   "outputs": [
    {
     "name": "stdout",
     "output_type": "stream",
     "text": [
      "WARNING:tensorflow:From /home/pradip/anaconda3/lib/python3.7/site-packages/tensorflow/python/ops/nn_impl.py:180: add_dispatch_support.<locals>.wrapper (from tensorflow.python.ops.array_ops) is deprecated and will be removed in a future version.\n",
      "Instructions for updating:\n",
      "Use tf.where in 2.0, which has the same broadcast rule as np.where\n"
     ]
    }
   ],
   "source": [
    "# Creates model\n",
    "model = models.Sequential()\n",
    "model.add(layers.Dense(16, activation='relu', input_shape=(10000,)))\n",
    "model.add(layers.Dense(16, activation='relu'))\n",
    "model.add(layers.Dense(1, activation='sigmoid'))\n",
    "\n",
    "model.compile(optimizer='rmsprop', loss='binary_crossentropy', metrics=['accuracy'])"
   ]
  },
  {
   "cell_type": "code",
   "execution_count": 30,
   "metadata": {},
   "outputs": [
    {
     "name": "stdout",
     "output_type": "stream",
     "text": [
      "WARNING:tensorflow:From /home/pradip/anaconda3/lib/python3.7/site-packages/keras/backend/tensorflow_backend.py:422: The name tf.global_variables is deprecated. Please use tf.compat.v1.global_variables instead.\n",
      "\n",
      "Train on 15000 samples, validate on 10000 samples\n",
      "Epoch 1/20\n",
      "15000/15000 [==============================] - 1s 51us/step - loss: 0.5052 - accuracy: 0.7910 - val_loss: 0.3773 - val_accuracy: 0.8748\n",
      "Epoch 2/20\n",
      "15000/15000 [==============================] - 1s 42us/step - loss: 0.3018 - accuracy: 0.8992 - val_loss: 0.3018 - val_accuracy: 0.8878\n",
      "Epoch 3/20\n",
      "15000/15000 [==============================] - 1s 42us/step - loss: 0.2190 - accuracy: 0.9278 - val_loss: 0.2750 - val_accuracy: 0.8941\n",
      "Epoch 4/20\n",
      "15000/15000 [==============================] - 1s 42us/step - loss: 0.1690 - accuracy: 0.9467 - val_loss: 0.2828 - val_accuracy: 0.8879\n",
      "Epoch 5/20\n",
      "15000/15000 [==============================] - 1s 42us/step - loss: 0.1387 - accuracy: 0.9563 - val_loss: 0.2860 - val_accuracy: 0.8884\n",
      "Epoch 6/20\n",
      "15000/15000 [==============================] - 1s 42us/step - loss: 0.1136 - accuracy: 0.9658 - val_loss: 0.2981 - val_accuracy: 0.8875\n",
      "Epoch 7/20\n",
      "15000/15000 [==============================] - 1s 42us/step - loss: 0.0943 - accuracy: 0.9723 - val_loss: 0.3163 - val_accuracy: 0.8845\n",
      "Epoch 8/20\n",
      "15000/15000 [==============================] - 1s 43us/step - loss: 0.0784 - accuracy: 0.9771 - val_loss: 0.3707 - val_accuracy: 0.8749\n",
      "Epoch 9/20\n",
      "15000/15000 [==============================] - 1s 41us/step - loss: 0.0629 - accuracy: 0.9832 - val_loss: 0.3643 - val_accuracy: 0.8808\n",
      "Epoch 10/20\n",
      "15000/15000 [==============================] - 1s 42us/step - loss: 0.0540 - accuracy: 0.9863 - val_loss: 0.3901 - val_accuracy: 0.8784\n",
      "Epoch 11/20\n",
      "15000/15000 [==============================] - 1s 42us/step - loss: 0.0433 - accuracy: 0.9889 - val_loss: 0.4206 - val_accuracy: 0.8771\n",
      "Epoch 12/20\n",
      "15000/15000 [==============================] - 1s 41us/step - loss: 0.0346 - accuracy: 0.9924 - val_loss: 0.4444 - val_accuracy: 0.8760\n",
      "Epoch 13/20\n",
      "15000/15000 [==============================] - 1s 42us/step - loss: 0.0275 - accuracy: 0.9940 - val_loss: 0.4737 - val_accuracy: 0.8744\n",
      "Epoch 14/20\n",
      "15000/15000 [==============================] - 1s 43us/step - loss: 0.0210 - accuracy: 0.9962 - val_loss: 0.5142 - val_accuracy: 0.8734\n",
      "Epoch 15/20\n",
      "15000/15000 [==============================] - 1s 42us/step - loss: 0.0170 - accuracy: 0.9975 - val_loss: 0.5487 - val_accuracy: 0.8712\n",
      "Epoch 16/20\n",
      "15000/15000 [==============================] - 1s 42us/step - loss: 0.0161 - accuracy: 0.9965 - val_loss: 0.5808 - val_accuracy: 0.8705\n",
      "Epoch 17/20\n",
      "15000/15000 [==============================] - 1s 44us/step - loss: 0.0079 - accuracy: 0.9993 - val_loss: 0.6456 - val_accuracy: 0.8635\n",
      "Epoch 18/20\n",
      "15000/15000 [==============================] - 1s 43us/step - loss: 0.0104 - accuracy: 0.9983 - val_loss: 0.6549 - val_accuracy: 0.8691\n",
      "Epoch 19/20\n",
      "15000/15000 [==============================] - 1s 42us/step - loss: 0.0044 - accuracy: 0.9997 - val_loss: 0.6925 - val_accuracy: 0.8672\n",
      "Epoch 20/20\n",
      "15000/15000 [==============================] - 1s 44us/step - loss: 0.0082 - accuracy: 0.9985 - val_loss: 0.7242 - val_accuracy: 0.8670\n"
     ]
    }
   ],
   "source": [
    "# Trains model with bath size of 512 and 20 epochs\n",
    "history = model.fit(train_data, train_labels, batch_size=512, epochs=20, \n",
    "                    validation_data=(validation_data, validation_labels))"
   ]
  },
  {
   "cell_type": "code",
   "execution_count": 31,
   "metadata": {},
   "outputs": [
    {
     "data": {
      "image/png": "[encoded data removed]",
      "text/plain": [
       "<Figure size 432x288 with 1 Axes>"
      ]
     },
     "metadata": {
      "needs_background": "light"
     },
     "output_type": "display_data"
    }
   ],
   "source": [
    "# Evaluates training and validation performance\n",
    "history_dict = history.history\n",
    "\n",
    "epochs = range(1, len(history_dict[\"accuracy\"]) + 1)\n",
    "validation_losses = history_dict[\"val_loss\"]\n",
    "training_losses = history_dict[\"loss\"]\n",
    "\n",
    "plt.plot(epochs, validation_losses, \"b\", label=\"Validation Loss\")\n",
    "plt.plot(epochs, training_losses, \"bo\", label=\"Training Loss\")\n",
    "plt.title(\"Training and Validation Loss\")\n",
    "plt.xlabel(\"Epochs\")\n",
    "plt.ylabel(\"Loss\")\n",
    "plt.legend()\n",
    "plt.show()"
   ]
  },
  {
   "cell_type": "code",
   "execution_count": 32,
   "metadata": {},
   "outputs": [
    {
     "data": {
      "image/png": "[encoded data removed]",
      "text/plain": [
       "<Figure size 432x288 with 1 Axes>"
      ]
     },
     "metadata": {
      "needs_background": "light"
     },
     "output_type": "display_data"
    }
   ],
   "source": [
    "training_accuracies = history_dict[\"accuracy\"]\n",
    "validation_accuracies = history_dict[\"val_accuracy\"]\n",
    "\n",
    "plt.clf()\n",
    "plt.plot(epochs, training_accuracies, 'bo', label=\"Training Accuracy\")\n",
    "plt.plot(epochs, validation_accuracies, 'b', label=\"Validation Accuracy\")\n",
    "plt.title(\"Training and Validation Accuracy\")\n",
    "plt.xlabel(\"Epochs\")\n",
    "plt.ylabel(\"Accuracy\")\n",
    "plt.legend()\n",
    "plt.show()"
   ]
  },
  {
   "cell_type": "code",
   "execution_count": 33,
   "metadata": {
    "scrolled": true
   },
   "outputs": [
    {
     "name": "stdout",
     "output_type": "stream",
     "text": [
      "Train on 15000 samples, validate on 10000 samples\n",
      "Epoch 1/4\n",
      "15000/15000 [==============================] - 1s 41us/step - loss: 0.0026 - accuracy: 0.9998 - val_loss: 0.7544 - val_accuracy: 0.8654\n",
      "Epoch 2/4\n",
      "15000/15000 [==============================] - 1s 43us/step - loss: 0.0046 - accuracy: 0.9993 - val_loss: 0.7896 - val_accuracy: 0.8642\n",
      "Epoch 3/4\n",
      "15000/15000 [==============================] - 1s 46us/step - loss: 0.0016 - accuracy: 0.9999 - val_loss: 0.8232 - val_accuracy: 0.8631\n",
      "Epoch 4/4\n",
      "15000/15000 [==============================] - 1s 43us/step - loss: 0.0045 - accuracy: 0.9988 - val_loss: 0.8653 - val_accuracy: 0.8631\n"
     ]
    }
   ],
   "source": [
    "# After observing overfitting beyond 4 epochs, model is retrained with 4 epoch only.\n",
    "\n",
    "history = model.fit(train_data, train_labels, batch_size=512, epochs=4, \n",
    "                    validation_data=(validation_data, validation_labels))"
   ]
  },
  {
   "cell_type": "code",
   "execution_count": 34,
   "metadata": {},
   "outputs": [
    {
     "name": "stdout",
     "output_type": "stream",
     "text": [
      "Model: \"sequential_1\"\n",
      "_________________________________________________________________\n",
      "Layer (type)                 Output Shape              Param #   \n",
      "=================================================================\n",
      "dense_1 (Dense)              (None, 16)                160016    \n",
      "_________________________________________________________________\n",
      "dense_2 (Dense)              (None, 16)                272       \n",
      "_________________________________________________________________\n",
      "dense_3 (Dense)              (None, 1)                 17        \n",
      "=================================================================\n",
      "Total params: 160,305\n",
      "Trainable params: 160,305\n",
      "Non-trainable params: 0\n",
      "_________________________________________________________________\n"
     ]
    }
   ],
   "source": [
    "model.summary()"
   ]
  },
  {
   "cell_type": "markdown",
   "metadata": {},
   "source": [
    "#### Evaluating model performance"
   ]
  },
  {
   "cell_type": "code",
   "execution_count": 82,
   "metadata": {},
   "outputs": [
    {
     "name": "stdout",
     "output_type": "stream",
     "text": [
      "25000/25000 [==============================] - 1s 55us/step\n",
      "Model Performance on Test Data: Loss is  0.9150699216455221  and accuracy is  0.8450400233268738\n"
     ]
    }
   ],
   "source": [
    "# Evaluates testing performance\n",
    "evaluation = model.evaluate(test_data, test_labels)\n",
    "print(\"Model Performance on Test Data: Loss is \", evaluation[0], \" and accuracy is \", evaluation[1])"
   ]
  },
  {
   "cell_type": "code",
   "execution_count": 83,
   "metadata": {},
   "outputs": [
    {
     "data": {
      "text/plain": [
       "array([[7.9205930e-03],\n",
       "       [9.9999988e-01],\n",
       "       [1.1920929e-07],\n",
       "       ...,\n",
       "       [4.5494694e-01],\n",
       "       [5.1259995e-05],\n",
       "       [5.5426657e-03]], dtype=float32)"
      ]
     },
     "execution_count": 83,
     "metadata": {},
     "output_type": "execute_result"
    }
   ],
   "source": [
    "# Predicting reviews\n",
    "model.predict(test_data)"
   ]
  },
  {
   "cell_type": "markdown",
   "metadata": {},
   "source": [
    "# Now, consider the above model is baselined and let's experiment with different number hiddent layers, hidden units, optimizers and activation functions."
   ]
  },
  {
   "cell_type": "markdown",
   "metadata": {},
   "source": [
    "## Increasing and decreasing hidden layers"
   ]
  },
  {
   "cell_type": "markdown",
   "metadata": {},
   "source": [
    "#### Increasing hidden layers from 2 to 3"
   ]
  },
  {
   "cell_type": "code",
   "execution_count": 84,
   "metadata": {},
   "outputs": [
    {
     "name": "stdout",
     "output_type": "stream",
     "text": [
      "Train on 15000 samples, validate on 10000 samples\n",
      "Epoch 1/6\n",
      "15000/15000 [==============================] - 1s 52us/step - loss: 0.5462 - accuracy: 0.7620 - val_loss: 0.4023 - val_accuracy: 0.8674\n",
      "Epoch 2/6\n",
      "15000/15000 [==============================] - 1s 39us/step - loss: 0.3162 - accuracy: 0.9014 - val_loss: 0.3060 - val_accuracy: 0.8859\n",
      "Epoch 3/6\n",
      "15000/15000 [==============================] - 1s 39us/step - loss: 0.2218 - accuracy: 0.9258 - val_loss: 0.2882 - val_accuracy: 0.8851\n",
      "Epoch 4/6\n",
      "15000/15000 [==============================] - 1s 39us/step - loss: 0.1678 - accuracy: 0.9455 - val_loss: 0.2790 - val_accuracy: 0.8877\n",
      "Epoch 5/6\n",
      "15000/15000 [==============================] - 1s 39us/step - loss: 0.1330 - accuracy: 0.9557 - val_loss: 0.3118 - val_accuracy: 0.8826\n",
      "Epoch 6/6\n",
      "15000/15000 [==============================] - 1s 39us/step - loss: 0.1028 - accuracy: 0.9677 - val_loss: 0.3170 - val_accuracy: 0.8833\n"
     ]
    }
   ],
   "source": [
    "# Creates model\n",
    "model = models.Sequential()\n",
    "model.add(layers.Dense(16, activation='relu', input_shape=(10000,)))\n",
    "model.add(layers.Dense(16, activation='relu'))\n",
    "model.add(layers.Dense(16, activation='relu'))\n",
    "model.add(layers.Dense(1, activation='sigmoid'))\n",
    "\n",
    "model.compile(optimizer='rmsprop', loss='binary_crossentropy', metrics=['accuracy'])\n",
    "history = model.fit(train_data, train_labels, batch_size=512, epochs=6, validation_data=(validation_data, validation_labels))"
   ]
  },
  {
   "cell_type": "code",
   "execution_count": 85,
   "metadata": {},
   "outputs": [
    {
     "name": "stdout",
     "output_type": "stream",
     "text": [
      "25000/25000 [==============================] - 1s 53us/step\n",
      "Model Performance on Test Data: Loss is  0.34693423069953916  and accuracy is  0.8737199902534485\n"
     ]
    }
   ],
   "source": [
    "# Evaluates testing performance\n",
    "evaluation = model.evaluate(test_data, test_labels)\n",
    "print(\"Model Performance on Test Data: Loss is \", evaluation[0], \" and accuracy is \", evaluation[1])"
   ]
  },
  {
   "cell_type": "markdown",
   "metadata": {},
   "source": [
    "#### Decreasing hidden layers from 2 to 1"
   ]
  },
  {
   "cell_type": "code",
   "execution_count": 86,
   "metadata": {},
   "outputs": [
    {
     "name": "stdout",
     "output_type": "stream",
     "text": [
      "Train on 15000 samples, validate on 10000 samples\n",
      "Epoch 1/6\n",
      "15000/15000 [==============================] - 1s 51us/step - loss: 0.4989 - accuracy: 0.7941 - val_loss: 0.3907 - val_accuracy: 0.8659\n",
      "Epoch 2/6\n",
      "15000/15000 [==============================] - 1s 38us/step - loss: 0.3152 - accuracy: 0.9054 - val_loss: 0.3207 - val_accuracy: 0.8814\n",
      "Epoch 3/6\n",
      "15000/15000 [==============================] - 1s 38us/step - loss: 0.2448 - accuracy: 0.9229 - val_loss: 0.3078 - val_accuracy: 0.8801\n",
      "Epoch 4/6\n",
      "15000/15000 [==============================] - 1s 38us/step - loss: 0.1999 - accuracy: 0.9392 - val_loss: 0.2760 - val_accuracy: 0.8938\n",
      "Epoch 5/6\n",
      "15000/15000 [==============================] - 1s 38us/step - loss: 0.1686 - accuracy: 0.9503 - val_loss: 0.2748 - val_accuracy: 0.8918\n",
      "Epoch 6/6\n",
      "15000/15000 [==============================] - 1s 38us/step - loss: 0.1459 - accuracy: 0.9573 - val_loss: 0.2785 - val_accuracy: 0.8896\n"
     ]
    }
   ],
   "source": [
    "# Creates model\n",
    "model = models.Sequential()\n",
    "model.add(layers.Dense(16, activation='relu', input_shape=(10000,)))\n",
    "model.add(layers.Dense(1, activation='sigmoid'))\n",
    "\n",
    "model.compile(optimizer='rmsprop', loss='binary_crossentropy', metrics=['accuracy'])\n",
    "history = model.fit(train_data, train_labels, batch_size=512, epochs=6, validation_data=(validation_data, validation_labels))"
   ]
  },
  {
   "cell_type": "code",
   "execution_count": 87,
   "metadata": {},
   "outputs": [
    {
     "name": "stdout",
     "output_type": "stream",
     "text": [
      "25000/25000 [==============================] - 1s 54us/step\n",
      "Model Performance on Test Data: Loss is  0.30089749811172484  and accuracy is  0.8781200051307678\n"
     ]
    }
   ],
   "source": [
    "# Evaluates testing performance\n",
    "evaluation = model.evaluate(test_data, test_labels)\n",
    "print(\"Model Performance on Test Data: Loss is \", evaluation[0], \" and accuracy is \", evaluation[1])"
   ]
  },
  {
   "cell_type": "markdown",
   "metadata": {},
   "source": [
    "## Increasing and decreasing hidden units"
   ]
  },
  {
   "cell_type": "markdown",
   "metadata": {},
   "source": [
    "#### Increasing hidden units from 16 to 32"
   ]
  },
  {
   "cell_type": "code",
   "execution_count": 88,
   "metadata": {},
   "outputs": [
    {
     "name": "stdout",
     "output_type": "stream",
     "text": [
      "Train on 15000 samples, validate on 10000 samples\n",
      "Epoch 1/6\n",
      "15000/15000 [==============================] - 1s 62us/step - loss: 0.5031 - accuracy: 0.7781 - val_loss: 0.3566 - val_accuracy: 0.8782\n",
      "Epoch 2/6\n",
      "15000/15000 [==============================] - 1s 48us/step - loss: 0.2825 - accuracy: 0.9042 - val_loss: 0.2884 - val_accuracy: 0.8921\n",
      "Epoch 3/6\n",
      "15000/15000 [==============================] - 1s 48us/step - loss: 0.2048 - accuracy: 0.9304 - val_loss: 0.2755 - val_accuracy: 0.8933\n",
      "Epoch 4/6\n",
      "15000/15000 [==============================] - 1s 48us/step - loss: 0.1578 - accuracy: 0.9485 - val_loss: 0.3075 - val_accuracy: 0.8763\n",
      "Epoch 5/6\n",
      "15000/15000 [==============================] - 1s 48us/step - loss: 0.1250 - accuracy: 0.9591 - val_loss: 0.3065 - val_accuracy: 0.8841\n",
      "Epoch 6/6\n",
      "15000/15000 [==============================] - 1s 49us/step - loss: 0.1041 - accuracy: 0.9661 - val_loss: 0.3209 - val_accuracy: 0.8849\n"
     ]
    }
   ],
   "source": [
    "# Creates model\n",
    "model = models.Sequential()\n",
    "model.add(layers.Dense(32, activation='relu', input_shape=(10000,)))\n",
    "model.add(layers.Dense(32, activation='relu'))\n",
    "model.add(layers.Dense(1, activation='sigmoid'))\n",
    "\n",
    "model.compile(optimizer='rmsprop', loss='binary_crossentropy', metrics=['accuracy'])\n",
    "history = model.fit(train_data, train_labels, batch_size=512, epochs=6, validation_data=(validation_data, validation_labels))"
   ]
  },
  {
   "cell_type": "code",
   "execution_count": 89,
   "metadata": {},
   "outputs": [
    {
     "name": "stdout",
     "output_type": "stream",
     "text": [
      "25000/25000 [==============================] - 1s 60us/step\n",
      "Model Performance on Test Data: Loss is  0.3442298119544983  and accuracy is  0.8732399940490723\n"
     ]
    }
   ],
   "source": [
    "# Evaluates testing performance\n",
    "evaluation = model.evaluate(test_data, test_labels)\n",
    "print(\"Model Performance on Test Data: Loss is \", evaluation[0], \" and accuracy is \", evaluation[1])"
   ]
  },
  {
   "cell_type": "markdown",
   "metadata": {},
   "source": [
    "#### Increasing hidden units from 16 to 64"
   ]
  },
  {
   "cell_type": "code",
   "execution_count": 90,
   "metadata": {},
   "outputs": [
    {
     "name": "stdout",
     "output_type": "stream",
     "text": [
      "Train on 15000 samples, validate on 10000 samples\n",
      "Epoch 1/6\n",
      "15000/15000 [==============================] - 1s 79us/step - loss: 0.4802 - accuracy: 0.7817 - val_loss: 0.3173 - val_accuracy: 0.8844\n",
      "Epoch 2/6\n",
      "15000/15000 [==============================] - 1s 66us/step - loss: 0.2556 - accuracy: 0.9057 - val_loss: 0.3117 - val_accuracy: 0.8758\n",
      "Epoch 3/6\n",
      "15000/15000 [==============================] - 1s 66us/step - loss: 0.1949 - accuracy: 0.9270 - val_loss: 0.2873 - val_accuracy: 0.8869\n",
      "Epoch 4/6\n",
      "15000/15000 [==============================] - 1s 66us/step - loss: 0.1431 - accuracy: 0.9506 - val_loss: 0.2927 - val_accuracy: 0.8895\n",
      "Epoch 5/6\n",
      "15000/15000 [==============================] - 1s 69us/step - loss: 0.1125 - accuracy: 0.9613 - val_loss: 0.3211 - val_accuracy: 0.8847\n",
      "Epoch 6/6\n",
      "15000/15000 [==============================] - 1s 70us/step - loss: 0.0767 - accuracy: 0.9747 - val_loss: 0.3994 - val_accuracy: 0.8710\n"
     ]
    }
   ],
   "source": [
    "# Creates model\n",
    "model = models.Sequential()\n",
    "model.add(layers.Dense(64, activation='relu', input_shape=(10000,)))\n",
    "model.add(layers.Dense(64, activation='relu'))\n",
    "model.add(layers.Dense(1, activation='sigmoid'))\n",
    "\n",
    "model.compile(optimizer='rmsprop', loss='binary_crossentropy', metrics=['accuracy'])\n",
    "history = model.fit(train_data, train_labels, batch_size=512, epochs=6, validation_data=(validation_data, validation_labels))"
   ]
  },
  {
   "cell_type": "code",
   "execution_count": 91,
   "metadata": {},
   "outputs": [
    {
     "name": "stdout",
     "output_type": "stream",
     "text": [
      "25000/25000 [==============================] - 2s 74us/step\n",
      "Model Performance on Test Data: Loss is  0.4535508701610565  and accuracy is  0.8525599837303162\n"
     ]
    }
   ],
   "source": [
    "# Evaluates testing performance\n",
    "evaluation = model.evaluate(test_data, test_labels)\n",
    "print(\"Model Performance on Test Data: Loss is \", evaluation[0], \" and accuracy is \", evaluation[1])"
   ]
  },
  {
   "cell_type": "markdown",
   "metadata": {},
   "source": [
    "## Using diffrent loss functions"
   ]
  },
  {
   "cell_type": "markdown",
   "metadata": {},
   "source": [
    "#### Using 'mse' loss function instead of 'binary_crossentropy'"
   ]
  },
  {
   "cell_type": "code",
   "execution_count": 92,
   "metadata": {
    "scrolled": true
   },
   "outputs": [
    {
     "name": "stdout",
     "output_type": "stream",
     "text": [
      "Train on 15000 samples, validate on 10000 samples\n",
      "Epoch 1/6\n",
      "15000/15000 [==============================] - 1s 53us/step - loss: 0.1706 - accuracy: 0.7834 - val_loss: 0.1199 - val_accuracy: 0.8753\n",
      "Epoch 2/6\n",
      "15000/15000 [==============================] - 1s 40us/step - loss: 0.0931 - accuracy: 0.9053 - val_loss: 0.0928 - val_accuracy: 0.8912\n",
      "Epoch 3/6\n",
      "15000/15000 [==============================] - 1s 38us/step - loss: 0.0671 - accuracy: 0.9297 - val_loss: 0.0848 - val_accuracy: 0.8937\n",
      "Epoch 4/6\n",
      "15000/15000 [==============================] - 1s 39us/step - loss: 0.0518 - accuracy: 0.9463 - val_loss: 0.0819 - val_accuracy: 0.8938\n",
      "Epoch 5/6\n",
      "15000/15000 [==============================] - 1s 38us/step - loss: 0.0428 - accuracy: 0.9568 - val_loss: 0.0830 - val_accuracy: 0.8889\n",
      "Epoch 6/6\n",
      "15000/15000 [==============================] - 1s 37us/step - loss: 0.0346 - accuracy: 0.9664 - val_loss: 0.0865 - val_accuracy: 0.8843\n"
     ]
    }
   ],
   "source": [
    "# Creates model\n",
    "model = models.Sequential()\n",
    "model.add(layers.Dense(16, activation='relu', input_shape=(10000,)))\n",
    "model.add(layers.Dense(16, activation='relu'))\n",
    "model.add(layers.Dense(1, activation='sigmoid'))\n",
    "\n",
    "model.compile(optimizer='rmsprop', loss='mse', metrics=['accuracy'])\n",
    "history = model.fit(train_data, train_labels, batch_size=512, epochs=6, validation_data=(validation_data, validation_labels))"
   ]
  },
  {
   "cell_type": "code",
   "execution_count": 93,
   "metadata": {},
   "outputs": [
    {
     "name": "stdout",
     "output_type": "stream",
     "text": [
      "25000/25000 [==============================] - 1s 52us/step\n",
      "Model Performance on Test Data: Loss is  0.09658927468061447  and accuracy is  0.8686000108718872\n"
     ]
    }
   ],
   "source": [
    "# Evaluates testing performance\n",
    "evaluation = model.evaluate(test_data, test_labels)\n",
    "print(\"Model Performance on Test Data: Loss is \", evaluation[0], \" and accuracy is \", evaluation[1])"
   ]
  },
  {
   "cell_type": "markdown",
   "metadata": {},
   "source": [
    "## Using different activtion functions"
   ]
  },
  {
   "cell_type": "markdown",
   "metadata": {},
   "source": [
    "#### Using 'tanh' activation function instead of 'relu'"
   ]
  },
  {
   "cell_type": "code",
   "execution_count": 94,
   "metadata": {},
   "outputs": [
    {
     "name": "stdout",
     "output_type": "stream",
     "text": [
      "Train on 15000 samples, validate on 10000 samples\n",
      "Epoch 1/6\n",
      "15000/15000 [==============================] - 1s 54us/step - loss: 0.4782 - accuracy: 0.7935 - val_loss: 0.3582 - val_accuracy: 0.8651\n",
      "Epoch 2/6\n",
      "15000/15000 [==============================] - 1s 40us/step - loss: 0.2689 - accuracy: 0.9071 - val_loss: 0.2849 - val_accuracy: 0.8878\n",
      "Epoch 3/6\n",
      "15000/15000 [==============================] - 1s 42us/step - loss: 0.1898 - accuracy: 0.9351 - val_loss: 0.3257 - val_accuracy: 0.8658\n",
      "Epoch 4/6\n",
      "15000/15000 [==============================] - 1s 38us/step - loss: 0.1460 - accuracy: 0.9499 - val_loss: 0.2964 - val_accuracy: 0.8825\n",
      "Epoch 5/6\n",
      "15000/15000 [==============================] - 1s 40us/step - loss: 0.1121 - accuracy: 0.9623 - val_loss: 0.3450 - val_accuracy: 0.8755\n",
      "Epoch 6/6\n",
      "15000/15000 [==============================] - 1s 44us/step - loss: 0.0843 - accuracy: 0.9725 - val_loss: 0.3661 - val_accuracy: 0.8772\n"
     ]
    }
   ],
   "source": [
    "# Creates model\n",
    "model = models.Sequential()\n",
    "model.add(layers.Dense(16, activation='tanh', input_shape=(10000,)))\n",
    "model.add(layers.Dense(16, activation='tanh'))\n",
    "model.add(layers.Dense(1, activation='sigmoid'))\n",
    "\n",
    "model.compile(optimizer='rmsprop', loss='binary_crossentropy', metrics=['accuracy'])\n",
    "history = model.fit(train_data, train_labels, batch_size=512, epochs=6, validation_data=(validation_data, validation_labels))"
   ]
  },
  {
   "cell_type": "code",
   "execution_count": 95,
   "metadata": {},
   "outputs": [
    {
     "name": "stdout",
     "output_type": "stream",
     "text": [
      "25000/25000 [==============================] - 1s 55us/step\n",
      "Model Performance on Test Data: Loss is  0.39115401850700376  and accuracy is  0.8659200072288513\n"
     ]
    }
   ],
   "source": [
    "# Evaluates testing performance\n",
    "evaluation = model.evaluate(test_data, test_labels)\n",
    "print(\"Model Performance on Test Data: Loss is \", evaluation[0], \" and accuracy is \", evaluation[1])"
   ]
  },
  {
   "cell_type": "code",
   "execution_count": null,
   "metadata": {},
   "outputs": [],
   "source": []
  }
 ],
 "metadata": {
  "kernelspec": {
   "display_name": "Python 3",
   "language": "python",
   "name": "python3"
  },
  "language_info": {
   "codemirror_mode": {
    "name": "ipython",
    "version": 3
   },
   "file_extension": ".py",
   "mimetype": "text/x-python",
   "name": "python",
   "nbconvert_exporter": "python",
   "pygments_lexer": "ipython3",
   "version": "3.7.10"
  }
 },
 "nbformat": 4,
 "nbformat_minor": 4
}
