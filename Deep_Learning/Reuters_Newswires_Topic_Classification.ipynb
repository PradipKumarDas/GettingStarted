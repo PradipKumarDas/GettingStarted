{
 "cells": [
  {
   "cell_type": "code",
   "execution_count": 9,
   "metadata": {},
   "outputs": [],
   "source": [
    "import numpy as np\n",
    "from keras.datasets import reuters\n",
    "from keras import models\n",
    "from keras import layers\n",
    "from keras.utils.np_utils import to_categorical\n",
    "import matplotlib.pyplot as plt"
   ]
  },
  {
   "cell_type": "code",
   "execution_count": 2,
   "metadata": {},
   "outputs": [],
   "source": [
    "# Utility functions\n",
    "def vectorize_sequences(sequences, dimension=10000):\n",
    "    vectorized_sequences = np.zeros((len(sequences), dimension), dtype='float32')\n",
    "    for i, sequence in enumerate(sequences, start=0):\n",
    "        vectorized_sequences[i, sequence] = 1.\n",
    "    return vectorized_sequences"
   ]
  },
  {
   "cell_type": "code",
   "execution_count": 3,
   "metadata": {},
   "outputs": [],
   "source": [
    "# Loads and prepares data\n",
    "(train_data, train_labels), (test_data, test_labels) = reuters.load_data(num_words=10000)\n",
    "\n",
    "train_data = vectorize_sequences(train_data)\n",
    "test_data = vectorize_sequences(test_data)\n",
    "\n",
    "validation_data = train_data[:1000]\n",
    "train_data = train_data[1000:]\n",
    "\n",
    "one_hot_train_labels = to_categorical(train_labels)\n",
    "one_hot_validation_labels = one_hot_train_labels[:1000]\n",
    "one_hot_train_labels = one_hot_train_labels[1000:]\n",
    "\n",
    "one_hot_test_labels = to_categorical(test_labels)"
   ]
  },
  {
   "cell_type": "code",
   "execution_count": 4,
   "metadata": {},
   "outputs": [],
   "source": [
    "# Creates model\n",
    "model = models.Sequential()\n",
    "model.add(layers.Dense(64, activation='relu', input_shape=(10000,)))\n",
    "model.add(layers.Dense(64, activation='relu'))\n",
    "model.add(layers.Dense(46, activation='softmax'))\n",
    "\n",
    "model.compile(optimizer='rmsprop', loss='categorical_crossentropy', metrics=['accuracy'])"
   ]
  },
  {
   "cell_type": "code",
   "execution_count": 5,
   "metadata": {},
   "outputs": [
    {
     "name": "stdout",
     "output_type": "stream",
     "text": [
      "Epoch 1/20\n",
      "16/16 [==============================] - 1s 87ms/step - loss: 2.7782 - accuracy: 0.4503 - val_loss: 1.8769 - val_accuracy: 0.6190\n",
      "Epoch 2/20\n",
      "16/16 [==============================] - 1s 65ms/step - loss: 1.4976 - accuracy: 0.6939 - val_loss: 1.3411 - val_accuracy: 0.7180\n",
      "Epoch 3/20\n",
      "16/16 [==============================] - 1s 71ms/step - loss: 1.0751 - accuracy: 0.7671 - val_loss: 1.1496 - val_accuracy: 0.7510\n",
      "Epoch 4/20\n",
      "16/16 [==============================] - 1s 64ms/step - loss: 0.8459 - accuracy: 0.8190 - val_loss: 1.0575 - val_accuracy: 0.7700\n",
      "Epoch 5/20\n",
      "16/16 [==============================] - 1s 81ms/step - loss: 0.6814 - accuracy: 0.8557 - val_loss: 0.9812 - val_accuracy: 0.8050\n",
      "Epoch 6/20\n",
      "16/16 [==============================] - 1s 71ms/step - loss: 0.5471 - accuracy: 0.8849 - val_loss: 0.9289 - val_accuracy: 0.8080\n",
      "Epoch 7/20\n",
      "16/16 [==============================] - 1s 62ms/step - loss: 0.4452 - accuracy: 0.9073 - val_loss: 0.9132 - val_accuracy: 0.8210\n",
      "Epoch 8/20\n",
      "16/16 [==============================] - 1s 69ms/step - loss: 0.3626 - accuracy: 0.9231 - val_loss: 0.9065 - val_accuracy: 0.8200\n",
      "Epoch 9/20\n",
      "16/16 [==============================] - 1s 78ms/step - loss: 0.3003 - accuracy: 0.9328 - val_loss: 0.9256 - val_accuracy: 0.8040\n",
      "Epoch 10/20\n",
      "16/16 [==============================] - 1s 70ms/step - loss: 0.2506 - accuracy: 0.9411 - val_loss: 0.9278 - val_accuracy: 0.8170\n",
      "Epoch 11/20\n",
      "16/16 [==============================] - 1s 68ms/step - loss: 0.2140 - accuracy: 0.9485 - val_loss: 0.9209 - val_accuracy: 0.8270\n",
      "Epoch 12/20\n",
      "16/16 [==============================] - 1s 73ms/step - loss: 0.1905 - accuracy: 0.9500 - val_loss: 0.9553 - val_accuracy: 0.8180\n",
      "Epoch 13/20\n",
      "16/16 [==============================] - 1s 74ms/step - loss: 0.1679 - accuracy: 0.9529 - val_loss: 0.9693 - val_accuracy: 0.8110\n",
      "Epoch 14/20\n",
      "16/16 [==============================] - 1s 74ms/step - loss: 0.1546 - accuracy: 0.9531 - val_loss: 0.9715 - val_accuracy: 0.8140\n",
      "Epoch 15/20\n",
      "16/16 [==============================] - 1s 70ms/step - loss: 0.1444 - accuracy: 0.9541 - val_loss: 1.0263 - val_accuracy: 0.8110\n",
      "Epoch 16/20\n",
      "16/16 [==============================] - 1s 80ms/step - loss: 0.1378 - accuracy: 0.9550 - val_loss: 1.0413 - val_accuracy: 0.8090\n",
      "Epoch 17/20\n",
      "16/16 [==============================] - 1s 68ms/step - loss: 0.1228 - accuracy: 0.9555 - val_loss: 1.0523 - val_accuracy: 0.8110\n",
      "Epoch 18/20\n",
      "16/16 [==============================] - 1s 80ms/step - loss: 0.1217 - accuracy: 0.9570 - val_loss: 1.0797 - val_accuracy: 0.7970\n",
      "Epoch 19/20\n",
      "16/16 [==============================] - 1s 66ms/step - loss: 0.1140 - accuracy: 0.9584 - val_loss: 1.0805 - val_accuracy: 0.8020\n",
      "Epoch 20/20\n",
      "16/16 [==============================] - 1s 62ms/step - loss: 0.1156 - accuracy: 0.9594 - val_loss: 1.0666 - val_accuracy: 0.8120\n"
     ]
    }
   ],
   "source": [
    "# Trains model\n",
    "history = model.fit(train_data, one_hot_train_labels, batch_size=512, epochs=20, validation_data=(validation_data, one_hot_validation_labels))\n"
   ]
  },
  {
   "cell_type": "code",
   "execution_count": 10,
   "metadata": {},
   "outputs": [
    {
     "data": {
      "image/png": "[encoded data removed]",
      "text/plain": [
       "<Figure size 432x288 with 1 Axes>"
      ]
     },
     "metadata": {
      "needs_background": "light"
     },
     "output_type": "display_data"
    }
   ],
   "source": [
    "# Evaluates training and validation performance\n",
    "history_dict = history.history\n",
    "\n",
    "epochs = range(1, len(history_dict[\"accuracy\"]) + 1)\n",
    "validation_losses = history_dict[\"val_loss\"]\n",
    "training_losses = history_dict[\"loss\"]\n",
    "\n",
    "plt.plot(epochs, validation_losses, \"bo\", label=\"Validation Loss\")\n",
    "plt.plot(epochs, training_losses, \"b\", label=\"Training Loss\")\n",
    "plt.title(\"Training and Validation Loss\")\n",
    "plt.xlabel(\"Epochs\")\n",
    "plt.ylabel(\"Loss\")\n",
    "plt.legend()\n",
    "plt.show()"
   ]
  },
  {
   "cell_type": "code",
   "execution_count": 11,
   "metadata": {},
   "outputs": [
    {
     "data": {
      "image/png": "[encoded data removed]",
      "text/plain": [
       "<Figure size 432x288 with 1 Axes>"
      ]
     },
     "metadata": {
      "needs_background": "light"
     },
     "output_type": "display_data"
    }
   ],
   "source": [
    "training_accuracies = history_dict[\"accuracy\"]\n",
    "validation_accuracies = history_dict[\"val_accuracy\"]\n",
    "plt.clf()\n",
    "plt.plot(epochs, training_accuracies, 'bo', label=\"Training Accuracy\")\n",
    "plt.plot(epochs, validation_accuracies, 'b', label=\"Validation Accuracy\")\n",
    "plt.title(\"Training and Validation Accuracy\")\n",
    "plt.xlabel(\"Epochs\")\n",
    "plt.ylabel(\"Accuracy\")\n",
    "plt.legend()\n",
    "plt.show()"
   ]
  },
  {
   "cell_type": "code",
   "execution_count": 12,
   "metadata": {},
   "outputs": [
    {
     "name": "stdout",
     "output_type": "stream",
     "text": [
      "71/71 [==============================] - 1s 19ms/step - loss: 1.2025 - accuracy: 0.7912\n",
      "Model Performance on Test Data: Loss is  1.2025026082992554  and accuracy is  0.7911843061447144\n"
     ]
    }
   ],
   "source": [
    "# Evaluates testing performance\n",
    "evaluation = model.evaluate(test_data, one_hot_test_labels)\n",
    "print(\"Model Performance on Test Data: Loss is \", evaluation[0], \" and accuracy is \", evaluation[1])"
   ]
  },
  {
   "cell_type": "code",
   "execution_count": 13,
   "metadata": {},
   "outputs": [],
   "source": [
    "# Performs predictions\n",
    "predictions = model.predict(test_data)"
   ]
  },
  {
   "cell_type": "code",
   "execution_count": 20,
   "metadata": {},
   "outputs": [
    {
     "data": {
      "text/plain": [
       "(46,)"
      ]
     },
     "execution_count": 20,
     "metadata": {},
     "output_type": "execute_result"
    }
   ],
   "source": [
    "# Checks if the dimension is same as that of number of topics i.e. 46\n",
    "predictions[0].shape"
   ]
  },
  {
   "cell_type": "code",
   "execution_count": 17,
   "metadata": {},
   "outputs": [
    {
     "data": {
      "text/plain": [
       "0.99999994"
      ]
     },
     "execution_count": 17,
     "metadata": {},
     "output_type": "execute_result"
    }
   ],
   "source": [
    "## To check predicted probability distributions for all topics for 0th newswire are summed up to 1\n",
    "np.sum(predictions[0])"
   ]
  },
  {
   "cell_type": "code",
   "execution_count": 18,
   "metadata": {},
   "outputs": [
    {
     "data": {
      "text/plain": [
       "3"
      ]
     },
     "execution_count": 18,
     "metadata": {},
     "output_type": "execute_result"
    }
   ],
   "source": [
    "# Gets the ID of topic that has highest predicted probability\n",
    "np.argmax(predictions[0])"
   ]
  },
  {
   "cell_type": "code",
   "execution_count": null,
   "metadata": {},
   "outputs": [],
   "source": []
  }
 ],
 "metadata": {
  "kernelspec": {
   "display_name": "Python 3",
   "language": "python",
   "name": "python3"
  },
  "language_info": {
   "codemirror_mode": {
    "name": "ipython",
    "version": 3
   },
   "file_extension": ".py",
   "mimetype": "text/x-python",
   "name": "python",
   "nbconvert_exporter": "python",
   "pygments_lexer": "ipython3",
   "version": "3.7.6"
  }
 },
 "nbformat": 4,
 "nbformat_minor": 4
}
