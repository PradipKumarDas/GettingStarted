{
 "cells": [
  {
   "cell_type": "markdown",
   "metadata": {},
   "source": [
    "# Reuters Newswires Topic Classification using Densely Connected Neural Network"
   ]
  },
  {
   "cell_type": "code",
   "execution_count": 1,
   "metadata": {},
   "outputs": [],
   "source": [
    "from tensorflow.keras import models\n",
    "from tensorflow.keras import layers\n",
    "from tensorflow.keras.datasets import reuters\n",
    "from tensorflow.keras.utils import to_categorical\n",
    "\n",
    "import numpy as np\n",
    "import matplotlib.pyplot as plt"
   ]
  },
  {
   "cell_type": "code",
   "execution_count": 2,
   "metadata": {},
   "outputs": [],
   "source": [
    "# Utility function to vectorize the words in each sequence\n",
    "\n",
    "def vectorize_sequences(sequences, dimension=10000):\n",
    "    vectorized_sequences = np.zeros((len(sequences), dimension), dtype='float32')\n",
    "    for i, sequence in enumerate(sequences, start=0):\n",
    "        vectorized_sequences[i, sequence] = 1.\n",
    "    return vectorized_sequences"
   ]
  },
  {
   "cell_type": "code",
   "execution_count": 3,
   "metadata": {},
   "outputs": [
    {
     "name": "stderr",
     "output_type": "stream",
     "text": [
      "/home/pradip/anaconda3/lib/python3.7/site-packages/tensorflow/python/keras/datasets/reuters.py:148: VisibleDeprecationWarning: Creating an ndarray from ragged nested sequences (which is a list-or-tuple of lists-or-tuples-or ndarrays with different lengths or shapes) is deprecated. If you meant to do this, you must specify 'dtype=object' when creating the ndarray\n",
      "  x_train, y_train = np.array(xs[:idx]), np.array(labels[:idx])\n",
      "/home/pradip/anaconda3/lib/python3.7/site-packages/tensorflow/python/keras/datasets/reuters.py:149: VisibleDeprecationWarning: Creating an ndarray from ragged nested sequences (which is a list-or-tuple of lists-or-tuples-or ndarrays with different lengths or shapes) is deprecated. If you meant to do this, you must specify 'dtype=object' when creating the ndarray\n",
      "  x_test, y_test = np.array(xs[idx:]), np.array(labels[idx:])\n"
     ]
    }
   ],
   "source": [
    "# Loads training and testing data\n",
    "\n",
    "(x_train, y_train), (x_test, y_test) = reuters.load_data(num_words=10000)"
   ]
  },
  {
   "cell_type": "code",
   "execution_count": 5,
   "metadata": {},
   "outputs": [
    {
     "name": "stdout",
     "output_type": "stream",
     "text": [
      "Maximum word index in training data:  9999\n"
     ]
    }
   ],
   "source": [
    "# Checks the maximum word index in training data\n",
    "\n",
    "print(\"Maximum word index in training data: \", max([np.max(seq) for seq in x_train]))"
   ]
  },
  {
   "cell_type": "markdown",
   "metadata": {},
   "source": [
    "#### Gets the review comment in English just for reference"
   ]
  },
  {
   "cell_type": "code",
   "execution_count": 6,
   "metadata": {},
   "outputs": [
    {
     "data": {
      "text/plain": [
       "'? ? ? said as a result of its december acquisition of space co it expects earnings per share in 1987 of 1 15 to 1 30 dlrs per share up from 70 cts in 1986 the company said pretax net should rise to nine to 10 mln dlrs from six mln dlrs in 1986 and rental operation revenues to 19 to 22 mln dlrs from 12 5 mln dlrs it said cash flow per share this year should be 2 50 to three dlrs reuter 3'"
      ]
     },
     "execution_count": 6,
     "metadata": {},
     "output_type": "execute_result"
    }
   ],
   "source": [
    "# Gets database dictionary\n",
    "word_index_dict = reuters.get_word_index()\n",
    "\n",
    "# Reverses the order of key and value pairs to search word against its index found in training data \n",
    "index_word_dict = dict([(key, word) for (word, key) in word_index_dict.items()])\n",
    "\n",
    "# Just checking for training data after joining words after mapping word with its index.\n",
    "# Note that indices in the training data are offset by 3\n",
    "' '.join([index_word_dict.get(index-3, '?') for index in x_train[0]])"
   ]
  },
  {
   "cell_type": "code",
   "execution_count": 7,
   "metadata": {},
   "outputs": [],
   "source": [
    "# Encodes words into vector\n",
    "x_train = vectorize_sequences(x_train)\n",
    "x_test = vectorize_sequences(x_test)\n",
    "\n",
    "x_val = x_train[:1000]\n",
    "x_train = x_train[1000:]\n",
    "\n",
    "y_train_one_hot = to_categorical(y_train)\n",
    "y_val_one_hot = y_train_one_hot[:1000]\n",
    "y_train_one_hot = y_train_one_hot[1000:]\n",
    "\n",
    "y_test_one_hot = to_categorical(y_test)"
   ]
  },
  {
   "cell_type": "code",
   "execution_count": 8,
   "metadata": {},
   "outputs": [],
   "source": [
    "# Creates and compiles the model\n",
    "\n",
    "model = models.Sequential()\n",
    "model.add(layers.Dense(64, activation='relu', input_shape=(10000,)))\n",
    "model.add(layers.Dense(64, activation='relu'))\n",
    "model.add(layers.Dense(46, activation='softmax'))\n",
    "\n",
    "model.compile(optimizer='rmsprop', loss='categorical_crossentropy', metrics=['accuracy'])"
   ]
  },
  {
   "cell_type": "code",
   "execution_count": 9,
   "metadata": {},
   "outputs": [
    {
     "name": "stdout",
     "output_type": "stream",
     "text": [
      "Epoch 1/20\n",
      "16/16 [==============================] - 2s 59ms/step - loss: 3.2601 - accuracy: 0.3566 - val_loss: 1.7885 - val_accuracy: 0.6520\n",
      "Epoch 2/20\n",
      "16/16 [==============================] - 1s 49ms/step - loss: 1.5487 - accuracy: 0.6896 - val_loss: 1.2735 - val_accuracy: 0.7260\n",
      "Epoch 3/20\n",
      "16/16 [==============================] - 1s 47ms/step - loss: 1.0638 - accuracy: 0.7733 - val_loss: 1.1220 - val_accuracy: 0.7440\n",
      "Epoch 4/20\n",
      "16/16 [==============================] - 1s 44ms/step - loss: 0.8097 - accuracy: 0.8274 - val_loss: 1.0228 - val_accuracy: 0.7870\n",
      "Epoch 5/20\n",
      "16/16 [==============================] - 1s 46ms/step - loss: 0.6553 - accuracy: 0.8638 - val_loss: 0.9600 - val_accuracy: 0.7980\n",
      "Epoch 6/20\n",
      "16/16 [==============================] - 1s 49ms/step - loss: 0.5126 - accuracy: 0.8934 - val_loss: 0.9174 - val_accuracy: 0.8130\n",
      "Epoch 7/20\n",
      "16/16 [==============================] - 1s 42ms/step - loss: 0.4055 - accuracy: 0.9165 - val_loss: 0.8923 - val_accuracy: 0.8160\n",
      "Epoch 8/20\n",
      "16/16 [==============================] - 1s 43ms/step - loss: 0.3347 - accuracy: 0.9280 - val_loss: 0.8904 - val_accuracy: 0.8180\n",
      "Epoch 9/20\n",
      "16/16 [==============================] - 1s 49ms/step - loss: 0.2769 - accuracy: 0.9398 - val_loss: 0.8967 - val_accuracy: 0.8120\n",
      "Epoch 10/20\n",
      "16/16 [==============================] - 1s 42ms/step - loss: 0.2378 - accuracy: 0.9463 - val_loss: 0.8952 - val_accuracy: 0.8180\n",
      "Epoch 11/20\n",
      "16/16 [==============================] - 1s 46ms/step - loss: 0.1926 - accuracy: 0.9544 - val_loss: 0.9287 - val_accuracy: 0.8180\n",
      "Epoch 12/20\n",
      "16/16 [==============================] - 1s 43ms/step - loss: 0.1776 - accuracy: 0.9560 - val_loss: 0.9460 - val_accuracy: 0.8140\n",
      "Epoch 13/20\n",
      "16/16 [==============================] - 1s 42ms/step - loss: 0.1562 - accuracy: 0.9549 - val_loss: 0.9563 - val_accuracy: 0.8050\n",
      "Epoch 14/20\n",
      "16/16 [==============================] - 1s 40ms/step - loss: 0.1476 - accuracy: 0.9579 - val_loss: 1.0179 - val_accuracy: 0.8010\n",
      "Epoch 15/20\n",
      "16/16 [==============================] - 1s 39ms/step - loss: 0.1320 - accuracy: 0.9590 - val_loss: 0.9978 - val_accuracy: 0.8150\n",
      "Epoch 16/20\n",
      "16/16 [==============================] - 1s 42ms/step - loss: 0.1241 - accuracy: 0.9588 - val_loss: 1.0286 - val_accuracy: 0.8040\n",
      "Epoch 17/20\n",
      "16/16 [==============================] - 1s 55ms/step - loss: 0.1179 - accuracy: 0.9629 - val_loss: 1.0422 - val_accuracy: 0.8190\n",
      "Epoch 18/20\n",
      "16/16 [==============================] - 1s 55ms/step - loss: 0.1097 - accuracy: 0.9605 - val_loss: 1.0530 - val_accuracy: 0.8210\n",
      "Epoch 19/20\n",
      "16/16 [==============================] - 1s 46ms/step - loss: 0.1060 - accuracy: 0.9611 - val_loss: 1.0399 - val_accuracy: 0.8120\n",
      "Epoch 20/20\n",
      "16/16 [==============================] - 1s 48ms/step - loss: 0.0980 - accuracy: 0.9655 - val_loss: 1.0694 - val_accuracy: 0.8160\n"
     ]
    }
   ],
   "source": [
    "# Trains model with 512 batch size and 20 epochs, and performs validation\n",
    "\n",
    "history = model.fit(x_train, y_train_one_hot, batch_size=512, epochs=20, \n",
    "                    validation_data=(x_val, y_val_one_hot))"
   ]
  },
  {
   "cell_type": "code",
   "execution_count": 11,
   "metadata": {},
   "outputs": [
    {
     "data": {
      "image/png": "[encoded data removed]",
      "text/plain": [
       "<Figure size 432x288 with 1 Axes>"
      ]
     },
     "metadata": {
      "needs_background": "light"
     },
     "output_type": "display_data"
    },
    {
     "data": {
      "image/png": "[encoded data removed]",
      "text/plain": [
       "<Figure size 432x288 with 1 Axes>"
      ]
     },
     "metadata": {
      "needs_background": "light"
     },
     "output_type": "display_data"
    }
   ],
   "source": [
    "# Evaluates training and validation performance\n",
    "\n",
    "history_dict = history.history\n",
    "\n",
    "epochs = range(1, len(history_dict[\"accuracy\"]) + 1)\n",
    "\n",
    "val_loss = history_dict[\"val_loss\"]\n",
    "train_loss = history_dict[\"loss\"]\n",
    "\n",
    "train_accuracy = history_dict[\"accuracy\"]\n",
    "val_accuracy = history_dict[\"val_accuracy\"]\n",
    "\n",
    "plt.plot(epochs, val_loss, \"b\", label=\"Validation Loss\")\n",
    "plt.plot(epochs, train_loss, \"bo\", label=\"Training Loss\")\n",
    "plt.title(\"Training and Validation Loss\")\n",
    "plt.xlabel(\"Epochs\")\n",
    "plt.ylabel(\"Loss\")\n",
    "plt.legend()\n",
    "plt.figure()\n",
    "\n",
    "plt.plot(epochs, train_accuracy, 'bo', label=\"Training Accuracy\")\n",
    "plt.plot(epochs, val_accuracy, 'b', label=\"Validation Accuracy\")\n",
    "plt.title(\"Training and Validation Accuracy\")\n",
    "plt.xlabel(\"Epochs\")\n",
    "plt.ylabel(\"Accuracy\")\n",
    "plt.legend()\n",
    "plt.show()"
   ]
  },
  {
   "cell_type": "code",
   "execution_count": 12,
   "metadata": {
    "scrolled": true
   },
   "outputs": [
    {
     "name": "stdout",
     "output_type": "stream",
     "text": [
      "71/71 [==============================] - 1s 16ms/step - loss: 1.1922 - accuracy: 0.7907\n",
      "Model Performance on Test Data: Loss is  1.1922276020050049  and accuracy is  0.790739119052887\n"
     ]
    }
   ],
   "source": [
    "# Evaluates testing performance\n",
    "\n",
    "evaluation = model.evaluate(x_test, y_test_one_hot)\n",
    "\n",
    "print(\"Model Performance on Test Data: Loss is \", evaluation[0], \" and accuracy is \", evaluation[1])"
   ]
  },
  {
   "cell_type": "markdown",
   "metadata": {},
   "source": [
    "## Now, consider the above model is baselined and let's experiment with different number hiddent layers, hidden units, optimizers and activation functions."
   ]
  },
  {
   "cell_type": "code",
   "execution_count": 13,
   "metadata": {},
   "outputs": [
    {
     "name": "stdout",
     "output_type": "stream",
     "text": [
      "71/71 [==============================] - 2s 27ms/step - loss: 1.1686 - accuracy: 0.7752\n",
      "Model Performance on Test Data:\n",
      "Loss: 1.1686413288116455 \n",
      "Accuracy: 0.7751558423042297\n"
     ]
    }
   ],
   "source": [
    "# Recreates and trains model with 32 hidden units\n",
    "\n",
    "model = models.Sequential()\n",
    "model.add(layers.Dense(32, activation='relu', input_shape=(10000,)))\n",
    "model.add(layers.Dense(32, activation='relu'))\n",
    "model.add(layers.Dense(46, activation='softmax'))\n",
    "\n",
    "model.compile(optimizer='rmsprop', loss='categorical_crossentropy', metrics=['accuracy'])\n",
    "\n",
    "history = model.fit(x_train, y_train_one_hot, batch_size=512, epochs=20, \n",
    "                    validation_data=(x_val, y_val_one_hot), verbose=0)\n",
    "\n",
    "# Evaluates testing performance\n",
    "\n",
    "evaluation = model.evaluate(x_test, y_test_one_hot)\n",
    "\n",
    "print(\"Model Performance on Test Data:\\nLoss:\", evaluation[0], \"\\nAccuracy:\", evaluation[1])"
   ]
  },
  {
   "cell_type": "code",
   "execution_count": 15,
   "metadata": {},
   "outputs": [
    {
     "name": "stdout",
     "output_type": "stream",
     "text": [
      "71/71 [==============================] - 1s 13ms/step - loss: 1.3024 - accuracy: 0.7787\n",
      "Model Performance on Test Data: \n",
      "Loss: 1.30235755443573 \n",
      "Accuracy: 0.7787176966667175\n"
     ]
    }
   ],
   "source": [
    "# Recreates and trains model with 128 hidden units\n",
    "model = models.Sequential()\n",
    "model.add(layers.Dense(128, activation='relu', input_shape=(10000,)))\n",
    "model.add(layers.Dense(128, activation='relu'))\n",
    "model.add(layers.Dense(46, activation='softmax'))\n",
    "\n",
    "model.compile(optimizer='rmsprop', loss='categorical_crossentropy', metrics=['accuracy'])\n",
    "\n",
    "history = model.fit(x_train, y_train_one_hot, batch_size=512, epochs=20, \n",
    "                    validation_data=(x_val, y_val_one_hot), verbose=0)\n",
    "\n",
    "# Evaluates testing performance\n",
    "\n",
    "evaluation = model.evaluate(x_test, y_test_one_hot)\n",
    "\n",
    "print(\"Model Performance on Test Data: \\nLoss:\", evaluation[0], \"\\nAccuracy:\", evaluation[1])"
   ]
  },
  {
   "cell_type": "code",
   "execution_count": 16,
   "metadata": {},
   "outputs": [
    {
     "name": "stdout",
     "output_type": "stream",
     "text": [
      "71/71 [==============================] - 2s 23ms/step - loss: 1.0219 - accuracy: 0.8019\n",
      "Model Performance on Test Data: Loss is  1.021880865097046  and accuracy is  0.8018699884414673\n"
     ]
    }
   ],
   "source": [
    "# Recreates and trains model with 1 hidden unit\n",
    "\n",
    "model = models.Sequential()\n",
    "model.add(layers.Dense(64, activation='relu', input_shape=(10000,)))\n",
    "model.add(layers.Dense(46, activation='softmax'))\n",
    "\n",
    "model.compile(optimizer='rmsprop', loss='categorical_crossentropy', metrics=['accuracy'])\n",
    "\n",
    "history = model.fit(x_train, y_train_one_hot, batch_size=512, epochs=20, \n",
    "                    validation_data=(x_val, y_val_one_hot), verbose=0)\n",
    "\n",
    "# Evaluates testing performance\n",
    "\n",
    "evaluation = model.evaluate(x_test, y_test_one_hot)\n",
    "\n",
    "print(\"Model Performance on Test Data:\\nLoss:\", evaluation[0], \"\\nAccuracy:\", evaluation[1])"
   ]
  },
  {
   "cell_type": "code",
   "execution_count": 17,
   "metadata": {},
   "outputs": [
    {
     "name": "stdout",
     "output_type": "stream",
     "text": [
      "71/71 [==============================] - 2s 25ms/step - loss: 1.4169 - accuracy: 0.7685\n",
      "Model Performance on Test Data: Loss is  1.4168580770492554  and accuracy is  0.7684773206710815\n"
     ]
    }
   ],
   "source": [
    "# Recreates and trains model with 3 hidden units\n",
    "\n",
    "model = models.Sequential()\n",
    "model.add(layers.Dense(64, activation='relu', input_shape=(10000,)))\n",
    "model.add(layers.Dense(64, activation='relu'))\n",
    "model.add(layers.Dense(64, activation='relu'))\n",
    "model.add(layers.Dense(46, activation='softmax'))\n",
    "\n",
    "model.compile(optimizer='rmsprop', loss='categorical_crossentropy', metrics=['accuracy'])\n",
    "\n",
    "history = model.fit(x_train, y_train_one_hot, batch_size=512, epochs=20, \n",
    "                    validation_data=(x_val, y_val_one_hot), verbose=0)\n",
    "\n",
    "# Evaluates testing performance\n",
    "\n",
    "evaluation = model.evaluate(x_test, y_test_one_hot)\n",
    "\n",
    "print(\"Model Performance on Test Data:\\nLoss:\", evaluation[0], \"\\nAccuracy:\", evaluation[1])"
   ]
  },
  {
   "cell_type": "markdown",
   "metadata": {},
   "source": [
    "### CONCLUSION:\n",
    "\n",
    "#### Below are the observations.\n",
    "\n",
    "    1. Reducing hiddent units to less than the number of classification categories is not a good idea as it looses the data representations.\n",
    "    2. There is slight improvement in accuracy with just one hiddent layer.\n",
    "    3. Increasing hidden layers is not improving accuracy."
   ]
  },
  {
   "cell_type": "code",
   "execution_count": null,
   "metadata": {},
   "outputs": [],
   "source": []
  }
 ],
 "metadata": {
  "kernelspec": {
   "display_name": "Python 3",
   "language": "python",
   "name": "python3"
  },
  "language_info": {
   "codemirror_mode": {
    "name": "ipython",
    "version": 3
   },
   "file_extension": ".py",
   "mimetype": "text/x-python",
   "name": "python",
   "nbconvert_exporter": "python",
   "pygments_lexer": "ipython3",
   "version": "3.7.10"
  }
 },
 "nbformat": 4,
 "nbformat_minor": 4
}
