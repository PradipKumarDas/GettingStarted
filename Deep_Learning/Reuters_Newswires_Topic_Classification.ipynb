{
 "cells": [
  {
   "cell_type": "code",
   "execution_count": 38,
   "metadata": {},
   "outputs": [],
   "source": [
    "from keras import models\n",
    "from keras import layers\n",
    "from keras.datasets import reuters\n",
    "from keras.utils.np_utils import to_categorical\n",
    "\n",
    "import numpy as np\n",
    "import matplotlib.pyplot as plt"
   ]
  },
  {
   "cell_type": "code",
   "execution_count": 39,
   "metadata": {},
   "outputs": [],
   "source": [
    "# Utility function to vectorize the words in each sequence\n",
    "def vectorize_sequences(sequences, dimension=10000):\n",
    "    vectorized_sequences = np.zeros((len(sequences), dimension), dtype='float32')\n",
    "    for i, sequence in enumerate(sequences, start=0):\n",
    "        vectorized_sequences[i, sequence] = 1.\n",
    "    return vectorized_sequences"
   ]
  },
  {
   "cell_type": "code",
   "execution_count": 40,
   "metadata": {},
   "outputs": [
    {
     "name": "stderr",
     "output_type": "stream",
     "text": [
      "/home/pradip/anaconda3/lib/python3.7/site-packages/keras/datasets/reuters.py:85: VisibleDeprecationWarning: Creating an ndarray from ragged nested sequences (which is a list-or-tuple of lists-or-tuples-or ndarrays with different lengths or shapes) is deprecated. If you meant to do this, you must specify 'dtype=object' when creating the ndarray\n",
      "  x_train, y_train = np.array(xs[:idx]), np.array(labels[:idx])\n",
      "/home/pradip/anaconda3/lib/python3.7/site-packages/keras/datasets/reuters.py:86: VisibleDeprecationWarning: Creating an ndarray from ragged nested sequences (which is a list-or-tuple of lists-or-tuples-or ndarrays with different lengths or shapes) is deprecated. If you meant to do this, you must specify 'dtype=object' when creating the ndarray\n",
      "  x_test, y_test = np.array(xs[idx:]), np.array(labels[idx:])\n"
     ]
    }
   ],
   "source": [
    "# Loads and prepares data\n",
    "(train_data, train_labels), (test_data, test_labels) = reuters.load_data(num_words=10000)"
   ]
  },
  {
   "cell_type": "code",
   "execution_count": 41,
   "metadata": {},
   "outputs": [
    {
     "name": "stdout",
     "output_type": "stream",
     "text": [
      "Maximum word index in training data:  9999\n"
     ]
    }
   ],
   "source": [
    "# Checks the maximum word index in training data\n",
    "print(\"Maximum word index in training data: \", max([np.max(seq) for seq in train_data]))"
   ]
  },
  {
   "cell_type": "markdown",
   "metadata": {},
   "source": [
    "#### Gets the review comment in English just for reference"
   ]
  },
  {
   "cell_type": "code",
   "execution_count": 42,
   "metadata": {},
   "outputs": [
    {
     "data": {
      "text/plain": [
       "'? ? ? said as a result of its december acquisition of space co it expects earnings per share in 1987 of 1 15 to 1 30 dlrs per share up from 70 cts in 1986 the company said pretax net should rise to nine to 10 mln dlrs from six mln dlrs in 1986 and rental operation revenues to 19 to 22 mln dlrs from 12 5 mln dlrs it said cash flow per share this year should be 2 50 to three dlrs reuter 3'"
      ]
     },
     "execution_count": 42,
     "metadata": {},
     "output_type": "execute_result"
    }
   ],
   "source": [
    "# Gets database dictionary\n",
    "word_index_dict = reuters.get_word_index()\n",
    "\n",
    "# Reverses the order of key and value pairs to search word against its index found in training data \n",
    "index_word_dict = dict([(key, word) for (word, key) in word_index_dict.items()])\n",
    "\n",
    "# Just checking for training data after joining words after mapping word with its index.\n",
    "# Note that indices in the training data are offset by 3\n",
    "' '.join([index_word_dict.get(index-3, '?') for index in train_data[0]])"
   ]
  },
  {
   "cell_type": "code",
   "execution_count": 43,
   "metadata": {},
   "outputs": [],
   "source": [
    "# Encodes words into vector\n",
    "train_data = vectorize_sequences(train_data)\n",
    "test_data = vectorize_sequences(test_data)\n",
    "\n",
    "validation_data = train_data[:1000]\n",
    "train_data = train_data[1000:]\n",
    "\n",
    "one_hot_train_labels = to_categorical(train_labels)\n",
    "one_hot_validation_labels = one_hot_train_labels[:1000]\n",
    "one_hot_train_labels = one_hot_train_labels[1000:]\n",
    "\n",
    "one_hot_test_labels = to_categorical(test_labels)"
   ]
  },
  {
   "cell_type": "code",
   "execution_count": 44,
   "metadata": {},
   "outputs": [],
   "source": [
    "# Creates model\n",
    "model = models.Sequential()\n",
    "model.add(layers.Dense(64, activation='relu', input_shape=(10000,)))\n",
    "model.add(layers.Dense(64, activation='relu'))\n",
    "model.add(layers.Dense(46, activation='softmax'))\n",
    "\n",
    "model.compile(optimizer='rmsprop', loss='categorical_crossentropy', metrics=['accuracy'])"
   ]
  },
  {
   "cell_type": "code",
   "execution_count": 45,
   "metadata": {},
   "outputs": [
    {
     "name": "stdout",
     "output_type": "stream",
     "text": [
      "Train on 7982 samples, validate on 1000 samples\n",
      "Epoch 1/20\n",
      "7982/7982 [==============================] - 1s 72us/step - loss: 2.4923 - accuracy: 0.5459 - val_loss: 1.6713 - val_accuracy: 0.6740\n",
      "Epoch 2/20\n",
      "7982/7982 [==============================] - 0s 54us/step - loss: 1.3520 - accuracy: 0.7140 - val_loss: 1.2813 - val_accuracy: 0.7260\n",
      "Epoch 3/20\n",
      "7982/7982 [==============================] - 0s 58us/step - loss: 1.0074 - accuracy: 0.7834 - val_loss: 1.1475 - val_accuracy: 0.7430\n",
      "Epoch 4/20\n",
      "7982/7982 [==============================] - 0s 61us/step - loss: 0.7969 - accuracy: 0.8297 - val_loss: 1.0376 - val_accuracy: 0.7820\n",
      "Epoch 5/20\n",
      "7982/7982 [==============================] - 1s 64us/step - loss: 0.6362 - accuracy: 0.8637 - val_loss: 0.9980 - val_accuracy: 0.8000\n",
      "Epoch 6/20\n",
      "7982/7982 [==============================] - 1s 70us/step - loss: 0.5103 - accuracy: 0.8949 - val_loss: 0.9479 - val_accuracy: 0.8130\n",
      "Epoch 7/20\n",
      "7982/7982 [==============================] - 1s 66us/step - loss: 0.4141 - accuracy: 0.9123 - val_loss: 0.9308 - val_accuracy: 0.8130\n",
      "Epoch 8/20\n",
      "7982/7982 [==============================] - 0s 56us/step - loss: 0.3386 - accuracy: 0.9281 - val_loss: 0.9171 - val_accuracy: 0.8210\n",
      "Epoch 9/20\n",
      "7982/7982 [==============================] - 0s 58us/step - loss: 0.2835 - accuracy: 0.9372 - val_loss: 0.9230 - val_accuracy: 0.8180\n",
      "Epoch 10/20\n",
      "7982/7982 [==============================] - 0s 59us/step - loss: 0.2374 - accuracy: 0.9451 - val_loss: 0.9848 - val_accuracy: 0.8000\n",
      "Epoch 11/20\n",
      "7982/7982 [==============================] - 0s 60us/step - loss: 0.2058 - accuracy: 0.9489 - val_loss: 0.9856 - val_accuracy: 0.8030\n",
      "Epoch 12/20\n",
      "7982/7982 [==============================] - 0s 56us/step - loss: 0.1823 - accuracy: 0.9513 - val_loss: 0.9712 - val_accuracy: 0.8100\n",
      "Epoch 13/20\n",
      "7982/7982 [==============================] - 0s 55us/step - loss: 0.1615 - accuracy: 0.9533 - val_loss: 1.0057 - val_accuracy: 0.8110\n",
      "Epoch 14/20\n",
      "7982/7982 [==============================] - 0s 55us/step - loss: 0.1532 - accuracy: 0.9533 - val_loss: 1.0178 - val_accuracy: 0.8110\n",
      "Epoch 15/20\n",
      "7982/7982 [==============================] - 0s 53us/step - loss: 0.1422 - accuracy: 0.9546 - val_loss: 1.0622 - val_accuracy: 0.8100\n",
      "Epoch 16/20\n",
      "7982/7982 [==============================] - 0s 56us/step - loss: 0.1280 - accuracy: 0.9575 - val_loss: 1.0817 - val_accuracy: 0.8000\n",
      "Epoch 17/20\n",
      "7982/7982 [==============================] - 0s 62us/step - loss: 0.1286 - accuracy: 0.9572 - val_loss: 1.1051 - val_accuracy: 0.8000\n",
      "Epoch 18/20\n",
      "7982/7982 [==============================] - 0s 62us/step - loss: 0.1238 - accuracy: 0.9560 - val_loss: 1.2073 - val_accuracy: 0.7830\n",
      "Epoch 19/20\n",
      "7982/7982 [==============================] - 0s 56us/step - loss: 0.1165 - accuracy: 0.9560 - val_loss: 1.1032 - val_accuracy: 0.8050\n",
      "Epoch 20/20\n",
      "7982/7982 [==============================] - 0s 53us/step - loss: 0.1141 - accuracy: 0.9605 - val_loss: 1.1451 - val_accuracy: 0.8030\n"
     ]
    }
   ],
   "source": [
    "# Trains model with 512 batch size and 20 epochs\n",
    "history = model.fit(train_data, one_hot_train_labels, batch_size=512, epochs=20, \n",
    "                    validation_data=(validation_data, one_hot_validation_labels))"
   ]
  },
  {
   "cell_type": "code",
   "execution_count": 46,
   "metadata": {},
   "outputs": [
    {
     "data": {
      "image/png": "[encoded data removed]",
      "text/plain": [
       "<Figure size 432x288 with 1 Axes>"
      ]
     },
     "metadata": {
      "needs_background": "light"
     },
     "output_type": "display_data"
    }
   ],
   "source": [
    "# Evaluates training and validation performance\n",
    "history_dict = history.history\n",
    "\n",
    "epochs = range(1, len(history_dict[\"accuracy\"]) + 1)\n",
    "validation_losses = history_dict[\"val_loss\"]\n",
    "training_losses = history_dict[\"loss\"]\n",
    "\n",
    "plt.plot(epochs, validation_losses, \"b\", label=\"Validation Loss\")\n",
    "plt.plot(epochs, training_losses, \"bo\", label=\"Training Loss\")\n",
    "plt.title(\"Training and Validation Loss\")\n",
    "plt.xlabel(\"Epochs\")\n",
    "plt.ylabel(\"Loss\")\n",
    "plt.legend()\n",
    "plt.show()"
   ]
  },
  {
   "cell_type": "code",
   "execution_count": 47,
   "metadata": {},
   "outputs": [
    {
     "data": {
      "image/png": "[encoded data removed]",
      "text/plain": [
       "<Figure size 432x288 with 1 Axes>"
      ]
     },
     "metadata": {
      "needs_background": "light"
     },
     "output_type": "display_data"
    }
   ],
   "source": [
    "training_accuracies = history_dict[\"accuracy\"]\n",
    "validation_accuracies = history_dict[\"val_accuracy\"]\n",
    "plt.clf()\n",
    "plt.plot(epochs, training_accuracies, 'bo', label=\"Training Accuracy\")\n",
    "plt.plot(epochs, validation_accuracies, 'b', label=\"Validation Accuracy\")\n",
    "plt.title(\"Training and Validation Accuracy\")\n",
    "plt.xlabel(\"Epochs\")\n",
    "plt.ylabel(\"Accuracy\")\n",
    "plt.legend()\n",
    "plt.show()"
   ]
  },
  {
   "cell_type": "code",
   "execution_count": 48,
   "metadata": {
    "scrolled": true
   },
   "outputs": [
    {
     "name": "stdout",
     "output_type": "stream",
     "text": [
      "2246/2246 [==============================] - 0s 78us/step\n",
      "Model Performance on Test Data: Loss is  1.2803836459043507  and accuracy is  0.780053436756134\n"
     ]
    }
   ],
   "source": [
    "# Evaluates testing performance\n",
    "evaluation = model.evaluate(test_data, one_hot_test_labels)\n",
    "print(\"Model Performance on Test Data: Loss is \", evaluation[0], \" and accuracy is \", evaluation[1])"
   ]
  },
  {
   "cell_type": "code",
   "execution_count": 49,
   "metadata": {},
   "outputs": [
    {
     "name": "stdout",
     "output_type": "stream",
     "text": [
      "Train on 7982 samples, validate on 1000 samples\n",
      "Epoch 1/9\n",
      "7982/7982 [==============================] - 1s 86us/step - loss: 2.5770 - accuracy: 0.5021 - val_loss: 1.7431 - val_accuracy: 0.6280\n",
      "Epoch 2/9\n",
      "7982/7982 [==============================] - 1s 63us/step - loss: 1.4277 - accuracy: 0.6986 - val_loss: 1.3396 - val_accuracy: 0.6940\n",
      "Epoch 3/9\n",
      "7982/7982 [==============================] - 1s 67us/step - loss: 1.0637 - accuracy: 0.7705 - val_loss: 1.1471 - val_accuracy: 0.7480\n",
      "Epoch 4/9\n",
      "7982/7982 [==============================] - 1s 67us/step - loss: 0.8388 - accuracy: 0.8227 - val_loss: 1.0462 - val_accuracy: 0.7750\n",
      "Epoch 5/9\n",
      "7982/7982 [==============================] - 0s 57us/step - loss: 0.6748 - accuracy: 0.8529 - val_loss: 0.9857 - val_accuracy: 0.7870\n",
      "Epoch 6/9\n",
      "7982/7982 [==============================] - 0s 57us/step - loss: 0.5376 - accuracy: 0.8869 - val_loss: 0.9390 - val_accuracy: 0.8000\n",
      "Epoch 7/9\n",
      "7982/7982 [==============================] - 0s 58us/step - loss: 0.4336 - accuracy: 0.9085 - val_loss: 0.9088 - val_accuracy: 0.8080\n",
      "Epoch 8/9\n",
      "7982/7982 [==============================] - 1s 65us/step - loss: 0.3556 - accuracy: 0.9255 - val_loss: 0.9018 - val_accuracy: 0.8110\n",
      "Epoch 9/9\n",
      "7982/7982 [==============================] - 0s 58us/step - loss: 0.2939 - accuracy: 0.9369 - val_loss: 0.9029 - val_accuracy: 0.8160\n"
     ]
    }
   ],
   "source": [
    "# After observing overfitting beyond 9 epochs, model is retrained with 9 epoch only.\n",
    "\n",
    "# Recreates and trains model\n",
    "model = models.Sequential()\n",
    "model.add(layers.Dense(64, activation='relu', input_shape=(10000,)))\n",
    "model.add(layers.Dense(64, activation='relu'))\n",
    "model.add(layers.Dense(46, activation='softmax'))\n",
    "\n",
    "model.compile(optimizer='rmsprop', loss='categorical_crossentropy', metrics=['accuracy'])\n",
    "\n",
    "history = model.fit(train_data, one_hot_train_labels, batch_size=512, epochs=9, \n",
    "                    validation_data=(validation_data, one_hot_validation_labels))"
   ]
  },
  {
   "cell_type": "code",
   "execution_count": 50,
   "metadata": {
    "scrolled": true
   },
   "outputs": [
    {
     "name": "stdout",
     "output_type": "stream",
     "text": [
      "2246/2246 [==============================] - 0s 72us/step\n",
      "Model Performance on Test Data: Loss is  0.9831713995334832  and accuracy is  0.7902938723564148\n"
     ]
    }
   ],
   "source": [
    "# Evaluates testing performance\n",
    "evaluation = model.evaluate(test_data, one_hot_test_labels)\n",
    "print(\"Model Performance on Test Data: Loss is \", evaluation[0], \" and accuracy is \", evaluation[1])"
   ]
  },
  {
   "cell_type": "code",
   "execution_count": 51,
   "metadata": {},
   "outputs": [],
   "source": [
    "# Performs predictions\n",
    "predictions = model.predict(test_data)"
   ]
  },
  {
   "cell_type": "code",
   "execution_count": 52,
   "metadata": {},
   "outputs": [
    {
     "data": {
      "text/plain": [
       "(46,)"
      ]
     },
     "execution_count": 52,
     "metadata": {},
     "output_type": "execute_result"
    }
   ],
   "source": [
    "# Checks if the dimension is same as that of number of topics i.e. 46\n",
    "predictions[0].shape"
   ]
  },
  {
   "cell_type": "code",
   "execution_count": 53,
   "metadata": {},
   "outputs": [
    {
     "data": {
      "text/plain": [
       "1.0"
      ]
     },
     "execution_count": 53,
     "metadata": {},
     "output_type": "execute_result"
    }
   ],
   "source": [
    "## To check predicted probability distributions for all topics for 0th newswire are summed up to 1\n",
    "np.sum(predictions[0])"
   ]
  },
  {
   "cell_type": "code",
   "execution_count": 54,
   "metadata": {},
   "outputs": [
    {
     "data": {
      "text/plain": [
       "3"
      ]
     },
     "execution_count": 54,
     "metadata": {},
     "output_type": "execute_result"
    }
   ],
   "source": [
    "# Gets the ID of topic that has highest predicted probability\n",
    "np.argmax(predictions[0])"
   ]
  },
  {
   "cell_type": "markdown",
   "metadata": {},
   "source": [
    "## Now, consider the above model is baselined and let's experiment with different number hiddent layers, hidden units, optimizers and activation functions."
   ]
  },
  {
   "cell_type": "code",
   "execution_count": 55,
   "metadata": {},
   "outputs": [
    {
     "name": "stdout",
     "output_type": "stream",
     "text": [
      "2246/2246 [==============================] - 0s 60us/step\n",
      "Model Performance on Test Data: Loss is  1.0352552968905848  and accuracy is  0.7742653489112854\n"
     ]
    }
   ],
   "source": [
    "# Recreates and trains model with 32 hidden units\n",
    "model = models.Sequential()\n",
    "model.add(layers.Dense(32, activation='relu', input_shape=(10000,)))\n",
    "model.add(layers.Dense(32, activation='relu'))\n",
    "model.add(layers.Dense(46, activation='softmax'))\n",
    "\n",
    "model.compile(optimizer='rmsprop', loss='categorical_crossentropy', metrics=['accuracy'])\n",
    "\n",
    "history = model.fit(train_data, one_hot_train_labels, batch_size=512, epochs=9, \n",
    "                    validation_data=(validation_data, one_hot_validation_labels), verbose=0)\n",
    "\n",
    "# Evaluates testing performance\n",
    "evaluation = model.evaluate(test_data, one_hot_test_labels)\n",
    "print(\"Model Performance on Test Data: Loss is \", evaluation[0], \" and accuracy is \", evaluation[1])"
   ]
  },
  {
   "cell_type": "code",
   "execution_count": 56,
   "metadata": {},
   "outputs": [
    {
     "name": "stdout",
     "output_type": "stream",
     "text": [
      "2246/2246 [==============================] - 0s 101us/step\n",
      "Model Performance on Test Data: Loss is  1.1151807418595652  and accuracy is  0.7804986834526062\n"
     ]
    }
   ],
   "source": [
    "# Recreates and trains model with 128 hidden units\n",
    "model = models.Sequential()\n",
    "model.add(layers.Dense(128, activation='relu', input_shape=(10000,)))\n",
    "model.add(layers.Dense(128, activation='relu'))\n",
    "model.add(layers.Dense(46, activation='softmax'))\n",
    "\n",
    "model.compile(optimizer='rmsprop', loss='categorical_crossentropy', metrics=['accuracy'])\n",
    "\n",
    "history = model.fit(train_data, one_hot_train_labels, batch_size=512, epochs=9, \n",
    "                    validation_data=(validation_data, one_hot_validation_labels), verbose=0)\n",
    "\n",
    "# Evaluates testing performance\n",
    "evaluation = model.evaluate(test_data, one_hot_test_labels)\n",
    "print(\"Model Performance on Test Data: Loss is \", evaluation[0], \" and accuracy is \", evaluation[1])"
   ]
  },
  {
   "cell_type": "code",
   "execution_count": 57,
   "metadata": {},
   "outputs": [
    {
     "name": "stdout",
     "output_type": "stream",
     "text": [
      "2246/2246 [==============================] - 0s 75us/step\n",
      "Model Performance on Test Data: Loss is  0.9055948191631721  and accuracy is  0.792965292930603\n"
     ]
    }
   ],
   "source": [
    "# Recreates and trains model with 1 hidden unit\n",
    "model = models.Sequential()\n",
    "model.add(layers.Dense(64, activation='relu', input_shape=(10000,)))\n",
    "model.add(layers.Dense(46, activation='softmax'))\n",
    "\n",
    "model.compile(optimizer='rmsprop', loss='categorical_crossentropy', metrics=['accuracy'])\n",
    "\n",
    "history = model.fit(train_data, one_hot_train_labels, batch_size=512, epochs=9, \n",
    "                    validation_data=(validation_data, one_hot_validation_labels), verbose=0)\n",
    "\n",
    "# Evaluates testing performance\n",
    "evaluation = model.evaluate(test_data, one_hot_test_labels)\n",
    "print(\"Model Performance on Test Data: Loss is \", evaluation[0], \" and accuracy is \", evaluation[1])"
   ]
  },
  {
   "cell_type": "code",
   "execution_count": 58,
   "metadata": {},
   "outputs": [
    {
     "name": "stdout",
     "output_type": "stream",
     "text": [
      "2246/2246 [==============================] - 0s 93us/step\n",
      "Model Performance on Test Data: Loss is  1.0941259525550442  and accuracy is  0.7756010890007019\n"
     ]
    }
   ],
   "source": [
    "# Recreates and trains model with 1 hidden unit\n",
    "model = models.Sequential()\n",
    "model.add(layers.Dense(64, activation='relu', input_shape=(10000,)))\n",
    "model.add(layers.Dense(64, activation='relu'))\n",
    "model.add(layers.Dense(64, activation='relu'))\n",
    "model.add(layers.Dense(46, activation='softmax'))\n",
    "\n",
    "model.compile(optimizer='rmsprop', loss='categorical_crossentropy', metrics=['accuracy'])\n",
    "\n",
    "history = model.fit(train_data, one_hot_train_labels, batch_size=512, epochs=9, \n",
    "                    validation_data=(validation_data, one_hot_validation_labels), verbose=0)\n",
    "\n",
    "# Evaluates testing performance\n",
    "evaluation = model.evaluate(test_data, one_hot_test_labels)\n",
    "print(\"Model Performance on Test Data: Loss is \", evaluation[0], \" and accuracy is \", evaluation[1])"
   ]
  },
  {
   "cell_type": "markdown",
   "metadata": {},
   "source": [
    "## Below are the observations.\n",
    "\n",
    "    1. Reducing hiddent units less than the number of classification categories is not a good idea as it looses the data representations.\n",
    "    2. There is slight improvement in accuracy with the increase of hiddent units.\n",
    "    3. Increasing hidden layers is not improving accuracy."
   ]
  },
  {
   "cell_type": "code",
   "execution_count": null,
   "metadata": {},
   "outputs": [],
   "source": []
  }
 ],
 "metadata": {
  "kernelspec": {
   "display_name": "Python 3",
   "language": "python",
   "name": "python3"
  },
  "language_info": {
   "codemirror_mode": {
    "name": "ipython",
    "version": 3
   },
   "file_extension": ".py",
   "mimetype": "text/x-python",
   "name": "python",
   "nbconvert_exporter": "python",
   "pygments_lexer": "ipython3",
   "version": "3.7.6"
  }
 },
 "nbformat": 4,
 "nbformat_minor": 4
}
