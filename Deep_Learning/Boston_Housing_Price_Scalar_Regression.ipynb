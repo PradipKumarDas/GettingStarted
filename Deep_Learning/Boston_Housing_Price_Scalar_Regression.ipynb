{
 "cells": [
  {
   "cell_type": "code",
   "execution_count": 41,
   "metadata": {},
   "outputs": [],
   "source": [
    "from keras.datasets import boston_housing\n",
    "from keras import models\n",
    "from keras import layers\n",
    "import matplotlib.pyplot as plt\n",
    "import numpy as np"
   ]
  },
  {
   "cell_type": "code",
   "execution_count": 153,
   "metadata": {},
   "outputs": [],
   "source": [
    "# Loads data\n",
    "(train_data, train_labels), (test_data, test_labels) = boston_housing.load_data()"
   ]
  },
  {
   "cell_type": "code",
   "execution_count": 154,
   "metadata": {},
   "outputs": [
    {
     "data": {
      "text/plain": [
       "(404, 13)"
      ]
     },
     "execution_count": 154,
     "metadata": {},
     "output_type": "execute_result"
    }
   ],
   "source": [
    "train_data.shape"
   ]
  },
  {
   "cell_type": "code",
   "execution_count": 155,
   "metadata": {},
   "outputs": [
    {
     "data": {
      "text/plain": [
       "(102, 13)"
      ]
     },
     "execution_count": 155,
     "metadata": {},
     "output_type": "execute_result"
    }
   ],
   "source": [
    "test_data.shape"
   ]
  },
  {
   "cell_type": "code",
   "execution_count": 156,
   "metadata": {},
   "outputs": [],
   "source": [
    "# Prepares data\n",
    "\n",
    "# normalizes data\n",
    "train_data_mean = train_data.mean(axis=0)\n",
    "train_data_std = train_data.std(axis=0)\n",
    "train_data -= train_data_mean\n",
    "train_data /= train_data_std\n",
    "\n",
    "test_data -= train_data_mean\n",
    "test_data /= train_data_std\n",
    "\n",
    "# Seperates validation data\n",
    "validation_samples_count = 104\n",
    "x_validation = train_data[:validation_samples_count]\n",
    "x_train = train_data[validation_samples_count:]\n",
    "\n",
    "y_validation = train_labels[:validation_samples_count]\n",
    "y_train = train_labels[validation_samples_count:]"
   ]
  },
  {
   "cell_type": "code",
   "execution_count": 157,
   "metadata": {},
   "outputs": [
    {
     "data": {
      "text/plain": [
       "array([-0.27224633, -0.48361547, -0.43576161, -0.25683275, -0.1652266 ,\n",
       "       -0.1764426 ,  0.81306188,  0.1166983 , -0.62624905, -0.59517003,\n",
       "        1.14850044,  0.44807713,  0.8252202 ])"
      ]
     },
     "execution_count": 157,
     "metadata": {},
     "output_type": "execute_result"
    }
   ],
   "source": [
    "train_data[0]"
   ]
  },
  {
   "cell_type": "code",
   "execution_count": 158,
   "metadata": {},
   "outputs": [],
   "source": [
    " # Creates model\n",
    "    \n",
    "def create_model():\n",
    "    model = models.Sequential()\n",
    "    model.add(layers.Dense(64, activation='relu', input_shape=(train_data.shape[1],)))\n",
    "    model.add(layers.Dense(64, activation='relu'))\n",
    "    model.add(layers.Dense(1))\n",
    "    \n",
    "    model.compile(optimizer='rmsprop', loss='mse', metrics=['mae'])\n",
    "    \n",
    "    return model"
   ]
  },
  {
   "cell_type": "code",
   "execution_count": 159,
   "metadata": {},
   "outputs": [],
   "source": [
    "# Trains model with Stand-out Validation\n",
    "\n",
    "epoch_count = 100\n",
    "\n",
    "model = create_model()\n",
    "history = model.fit(x_train, y_train, validation_data=(x_validation, y_validation), batch_size=1, epochs=epoch_count, verbose=0)"
   ]
  },
  {
   "cell_type": "code",
   "execution_count": 160,
   "metadata": {},
   "outputs": [
    {
     "data": {
      "text/plain": [
       "2.1495620143413543"
      ]
     },
     "execution_count": 160,
     "metadata": {},
     "output_type": "execute_result"
    }
   ],
   "source": [
    "np.mean(history.history[\"val_mae\"])"
   ]
  },
  {
   "cell_type": "code",
   "execution_count": 162,
   "metadata": {},
   "outputs": [
    {
     "data": {
      "image/png": "[encoded data removed]",
      "text/plain": [
       "<Figure size 432x288 with 1 Axes>"
      ]
     },
     "metadata": {
      "needs_background": "light"
     },
     "output_type": "display_data"
    }
   ],
   "source": [
    "%matplotlib inline\n",
    "\n",
    "plt.plot(range(epoch_count), history.history[\"val_mae\"], \"bo\", label=\"Validation Loss\")\n",
    "plt.plot(range(epoch_count),history.history[\"mae\"], \"b\", label=\"Training Loss\")\n",
    "plt.title(\"Training and Validation Loss\")\n",
    "plt.xlabel(\"Epochs\")\n",
    "plt.ylabel(\"Validation MAE\")\n",
    "plt.legend()\n",
    "plt.show()"
   ]
  },
  {
   "cell_type": "code",
   "execution_count": 82,
   "metadata": {},
   "outputs": [
    {
     "name": "stdout",
     "output_type": "stream",
     "text": [
      "Processing fold #: 0\n",
      "    Average validation MAE  3.1863036131858826\n",
      "Processing fold #: 1\n",
      "    Average validation MAE  2.902030429840088\n",
      "Processing fold #: 2\n",
      "    Average validation MAE  3.2906708216667173\n",
      "Processing fold #: 3\n",
      "    Average validation MAE  2.4764808440208435\n"
     ]
    }
   ],
   "source": [
    "# Now, trains model with K-Fold Validation\n",
    "\n",
    "k_fold_validation_count = 4\n",
    "\n",
    "def train_model(k_fold_validation_count, epoch_count):\n",
    "    validation_samples_count = len(train_data)//k_fold_validation_count\n",
    "    validation_mae_history = []\n",
    "    for i in range(k_fold_validation_count):\n",
    "        print(\"Processing fold #:\", i)\n",
    "        x_validation = train_data[i * validation_samples_count:(i+1)*validation_samples_count]\n",
    "        y_validation = train_labels[i * validation_samples_count:(i+1)*validation_samples_count]\n",
    "\n",
    "        x_train = np.concatenate(\n",
    "            [train_data[:i*validation_samples_count], train_data[(i+1)*validation_samples_count:]], axis=0)\n",
    "        y_train = np.concatenate(\n",
    "            [train_labels[:i*validation_samples_count], train_labels[(i+1)*validation_samples_count:]], axis=0)\n",
    "\n",
    "        model = create_model()\n",
    "        history = model.fit(x_train, y_train, validation_data=(x_validation, y_validation), batch_size=1, epochs=epoch_count, verbose=0)\n",
    "        print(\"    Average validation MAE \", np.average(history.history[\"val_mae\"]))\n",
    "        #validation_mse, validation_mae = model.evaluate(x_validation, y_validation, verbose=0)\n",
    "        validation_mae_history.append(history.history[\"val_mae\"])\n",
    "        \n",
    "    return validation_mae_history\n",
    "\n",
    "validation_mae_history = train_model(4, 100)"
   ]
  },
  {
   "cell_type": "code",
   "execution_count": 101,
   "metadata": {},
   "outputs": [
    {
     "name": "stdout",
     "output_type": "stream",
     "text": [
      "Processing fold #: 0\n",
      "    Average validation MAE  3.9089860172271726\n",
      "Processing fold #: 1\n",
      "    Average validation MAE  3.4532733001708986\n",
      "Processing fold #: 2\n",
      "    Average validation MAE  3.0485620350837705\n",
      "Processing fold #: 3\n",
      "    Average validation MAE  2.804881455898285\n"
     ]
    },
    {
     "data": {
      "image/png": "[encoded data removed]",
      "text/plain": [
       "<Figure size 432x288 with 1 Axes>"
      ]
     },
     "metadata": {
      "needs_background": "light"
     },
     "output_type": "display_data"
    }
   ],
   "source": [
    "# Now, let's train the model over 500 epochs\n",
    "\n",
    "k_fold_validation_count = 4\n",
    "epoch_count = 500\n",
    "validation_mae_history = train_model(4, epoch_count)\n",
    "averaged_mae_across_all_k_fold_validation = np.mean(validation_mae_history, axis=0)\n",
    "\n",
    "plt.plot(range(epoch_count), averaged_mae_across_all_k_fold_validation, label=\"Averaged MAE Across All K-fold Validation\")\n",
    "plt.xlabel(\"Epochs\")\n",
    "plt.ylabel(\"Averaged Validation MAE\")\n",
    "plt.legend()\n",
    "plt.show()"
   ]
  },
  {
   "cell_type": "code",
   "execution_count": 146,
   "metadata": {},
   "outputs": [],
   "source": [
    "# It is difficult to realize the above plat due to MAE scaling issue.\n",
    "# It seems validation MAE is lowest at some epoch between 0 to 100.\n",
    "# Let's get that epoch from history\n",
    "\n",
    "epoch = np.where(averaged_mae_across_all_k_fold_validation == averaged_mae_across_all_k_fold_validation.min())"
   ]
  },
  {
   "cell_type": "code",
   "execution_count": 148,
   "metadata": {},
   "outputs": [
    {
     "data": {
      "text/plain": [
       "array([39])"
      ]
     },
     "execution_count": 148,
     "metadata": {},
     "output_type": "execute_result"
    }
   ],
   "source": [
    "epoch[0]"
   ]
  },
  {
   "cell_type": "code",
   "execution_count": 150,
   "metadata": {},
   "outputs": [
    {
     "data": {
      "image/png": "[encoded data removed]",
      "text/plain": [
       "<Figure size 432x288 with 1 Axes>"
      ]
     },
     "metadata": {
      "needs_background": "light"
     },
     "output_type": "display_data"
    }
   ],
   "source": [
    "# So, validation MAE is lowest at epoch 39\n",
    "# Now, zoom in into the plot in range 10 to 50\n",
    "\n",
    "plt.plot(range(10, 50), averaged_mae_across_all_k_fold_validation[10:50], label=\"Averaged MAE Across All K-fold Validation\")\n",
    "plt.xlabel(\"Epochs\")\n",
    "plt.ylabel(\"Averaged Validation MAE\")\n",
    "plt.legend()\n",
    "plt.show()"
   ]
  },
  {
   "cell_type": "code",
   "execution_count": 171,
   "metadata": {},
   "outputs": [
    {
     "name": "stdout",
     "output_type": "stream",
     "text": [
      "Epoch 1/39\n",
      "404/404 [==============================] - 1s 3ms/step - loss: 162.5955 - mae: 9.0326\n",
      "Epoch 2/39\n",
      "404/404 [==============================] - 1s 3ms/step - loss: 22.4669 - mae: 3.2685\n",
      "Epoch 3/39\n",
      "404/404 [==============================] - 1s 3ms/step - loss: 17.4502 - mae: 2.8103\n",
      "Epoch 4/39\n",
      "404/404 [==============================] - 1s 3ms/step - loss: 14.7331 - mae: 2.5243\n",
      "Epoch 5/39\n",
      "404/404 [==============================] - 1s 3ms/step - loss: 13.4620 - mae: 2.5153\n",
      "Epoch 6/39\n",
      "404/404 [==============================] - 1s 3ms/step - loss: 12.7881 - mae: 2.4289\n",
      "Epoch 7/39\n",
      "404/404 [==============================] - 1s 3ms/step - loss: 12.0055 - mae: 2.4271\n",
      "Epoch 8/39\n",
      "404/404 [==============================] - 1s 3ms/step - loss: 11.4202 - mae: 2.2829\n",
      "Epoch 9/39\n",
      "404/404 [==============================] - 1s 3ms/step - loss: 11.2058 - mae: 2.2615\n",
      "Epoch 10/39\n",
      "404/404 [==============================] - 1s 3ms/step - loss: 10.3613 - mae: 2.1557\n",
      "Epoch 11/39\n",
      "404/404 [==============================] - 1s 3ms/step - loss: 10.0874 - mae: 2.1625\n",
      "Epoch 12/39\n",
      "404/404 [==============================] - 1s 3ms/step - loss: 10.1013 - mae: 2.1153\n",
      "Epoch 13/39\n",
      "404/404 [==============================] - 1s 3ms/step - loss: 9.6505 - mae: 2.1439\n",
      "Epoch 14/39\n",
      "404/404 [==============================] - 1s 3ms/step - loss: 9.4948 - mae: 2.1320\n",
      "Epoch 15/39\n",
      "404/404 [==============================] - 1s 3ms/step - loss: 9.3957 - mae: 2.0845\n",
      "Epoch 16/39\n",
      "404/404 [==============================] - 1s 3ms/step - loss: 8.9029 - mae: 2.0779\n",
      "Epoch 17/39\n",
      "404/404 [==============================] - 1s 3ms/step - loss: 9.1584 - mae: 2.0286\n",
      "Epoch 18/39\n",
      "404/404 [==============================] - 1s 3ms/step - loss: 8.8127 - mae: 2.0568\n",
      "Epoch 19/39\n",
      "404/404 [==============================] - 1s 3ms/step - loss: 8.1880 - mae: 1.9805\n",
      "Epoch 20/39\n",
      "404/404 [==============================] - 1s 3ms/step - loss: 8.4724 - mae: 2.0156\n",
      "Epoch 21/39\n",
      "404/404 [==============================] - 1s 3ms/step - loss: 8.5292 - mae: 2.0381\n",
      "Epoch 22/39\n",
      "404/404 [==============================] - 1s 3ms/step - loss: 8.5025 - mae: 1.9825\n",
      "Epoch 23/39\n",
      "404/404 [==============================] - 1s 3ms/step - loss: 8.4291 - mae: 1.9574\n",
      "Epoch 24/39\n",
      "404/404 [==============================] - 1s 3ms/step - loss: 8.3545 - mae: 1.9260\n",
      "Epoch 25/39\n",
      "404/404 [==============================] - 1s 3ms/step - loss: 8.0289 - mae: 1.9723\n",
      "Epoch 26/39\n",
      "404/404 [==============================] - 1s 3ms/step - loss: 7.7415 - mae: 1.8894\n",
      "Epoch 27/39\n",
      "404/404 [==============================] - 1s 3ms/step - loss: 7.8537 - mae: 1.8764\n",
      "Epoch 28/39\n",
      "404/404 [==============================] - 1s 3ms/step - loss: 7.7827 - mae: 1.9157\n",
      "Epoch 29/39\n",
      "404/404 [==============================] - 1s 3ms/step - loss: 7.7282 - mae: 1.9192\n",
      "Epoch 30/39\n",
      "404/404 [==============================] - 1s 3ms/step - loss: 7.3506 - mae: 1.8654\n",
      "Epoch 31/39\n",
      "404/404 [==============================] - 1s 3ms/step - loss: 7.3850 - mae: 1.8989\n",
      "Epoch 32/39\n",
      "404/404 [==============================] - 1s 3ms/step - loss: 7.1693 - mae: 1.8265\n",
      "Epoch 33/39\n",
      "404/404 [==============================] - 2s 4ms/step - loss: 7.0241 - mae: 1.7651\n",
      "Epoch 34/39\n",
      "404/404 [==============================] - 1s 4ms/step - loss: 7.3649 - mae: 1.8286\n",
      "Epoch 35/39\n",
      "404/404 [==============================] - 1s 3ms/step - loss: 7.1836 - mae: 1.8626\n",
      "Epoch 36/39\n",
      "404/404 [==============================] - 1s 3ms/step - loss: 7.4280 - mae: 1.8354\n",
      "Epoch 37/39\n",
      "404/404 [==============================] - 1s 3ms/step - loss: 7.1232 - mae: 1.7604\n",
      "Epoch 38/39\n",
      "404/404 [==============================] - 1s 3ms/step - loss: 6.8152 - mae: 1.7581\n",
      "Epoch 39/39\n",
      "404/404 [==============================] - 1s 3ms/step - loss: 6.9006 - mae: 1.7487\n",
      "4/4 [==============================] - 0s 2ms/step - loss: 17.4385 - mae: 2.6858\n"
     ]
    }
   ],
   "source": [
    "# Let's now build the final model by (1) combining validation data back into training data (2) with 39 epochs.\n",
    "\n",
    "model = create_model()\n",
    "model.fit(train_data, train_labels, epochs=39, batch_size=1)\n",
    "test_mse, test_mae = model.evaluate(test_data, test_labels)"
   ]
  },
  {
   "cell_type": "code",
   "execution_count": 172,
   "metadata": {},
   "outputs": [
    {
     "name": "stdout",
     "output_type": "stream",
     "text": [
      "Test MSE: 17.438547134399414 , Test MAE: 2.6858274936676025\n"
     ]
    }
   ],
   "source": [
    "print(\"Test MSE:\", test_mse, \", Test MAE:\", test_mae)"
   ]
  }
 ],
 "metadata": {
  "kernelspec": {
   "display_name": "Python 3",
   "language": "python",
   "name": "python3"
  },
  "language_info": {
   "codemirror_mode": {
    "name": "ipython",
    "version": 3
   },
   "file_extension": ".py",
   "mimetype": "text/x-python",
   "name": "python",
   "nbconvert_exporter": "python",
   "pygments_lexer": "ipython3",
   "version": "3.7.6"
  }
 },
 "nbformat": 4,
 "nbformat_minor": 4
}
