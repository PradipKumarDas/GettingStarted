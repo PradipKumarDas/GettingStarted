{
 "cells": [
  {
   "cell_type": "code",
   "execution_count": 1,
   "metadata": {},
   "outputs": [
    {
     "name": "stderr",
     "output_type": "stream",
     "text": [
      "Using TensorFlow backend.\n",
      "/home/pradip/anaconda3/lib/python3.7/site-packages/tensorflow/python/framework/dtypes.py:516: FutureWarning: Passing (type, 1) or '1type' as a synonym of type is deprecated; in a future version of numpy, it will be understood as (type, (1,)) / '(1,)type'.\n",
      "  _np_qint8 = np.dtype([(\"qint8\", np.int8, 1)])\n",
      "/home/pradip/anaconda3/lib/python3.7/site-packages/tensorflow/python/framework/dtypes.py:517: FutureWarning: Passing (type, 1) or '1type' as a synonym of type is deprecated; in a future version of numpy, it will be understood as (type, (1,)) / '(1,)type'.\n",
      "  _np_quint8 = np.dtype([(\"quint8\", np.uint8, 1)])\n",
      "/home/pradip/anaconda3/lib/python3.7/site-packages/tensorflow/python/framework/dtypes.py:518: FutureWarning: Passing (type, 1) or '1type' as a synonym of type is deprecated; in a future version of numpy, it will be understood as (type, (1,)) / '(1,)type'.\n",
      "  _np_qint16 = np.dtype([(\"qint16\", np.int16, 1)])\n",
      "/home/pradip/anaconda3/lib/python3.7/site-packages/tensorflow/python/framework/dtypes.py:519: FutureWarning: Passing (type, 1) or '1type' as a synonym of type is deprecated; in a future version of numpy, it will be understood as (type, (1,)) / '(1,)type'.\n",
      "  _np_quint16 = np.dtype([(\"quint16\", np.uint16, 1)])\n",
      "/home/pradip/anaconda3/lib/python3.7/site-packages/tensorflow/python/framework/dtypes.py:520: FutureWarning: Passing (type, 1) or '1type' as a synonym of type is deprecated; in a future version of numpy, it will be understood as (type, (1,)) / '(1,)type'.\n",
      "  _np_qint32 = np.dtype([(\"qint32\", np.int32, 1)])\n",
      "/home/pradip/anaconda3/lib/python3.7/site-packages/tensorflow/python/framework/dtypes.py:525: FutureWarning: Passing (type, 1) or '1type' as a synonym of type is deprecated; in a future version of numpy, it will be understood as (type, (1,)) / '(1,)type'.\n",
      "  np_resource = np.dtype([(\"resource\", np.ubyte, 1)])\n",
      "/home/pradip/anaconda3/lib/python3.7/site-packages/tensorboard/compat/tensorflow_stub/dtypes.py:541: FutureWarning: Passing (type, 1) or '1type' as a synonym of type is deprecated; in a future version of numpy, it will be understood as (type, (1,)) / '(1,)type'.\n",
      "  _np_qint8 = np.dtype([(\"qint8\", np.int8, 1)])\n",
      "/home/pradip/anaconda3/lib/python3.7/site-packages/tensorboard/compat/tensorflow_stub/dtypes.py:542: FutureWarning: Passing (type, 1) or '1type' as a synonym of type is deprecated; in a future version of numpy, it will be understood as (type, (1,)) / '(1,)type'.\n",
      "  _np_quint8 = np.dtype([(\"quint8\", np.uint8, 1)])\n",
      "/home/pradip/anaconda3/lib/python3.7/site-packages/tensorboard/compat/tensorflow_stub/dtypes.py:543: FutureWarning: Passing (type, 1) or '1type' as a synonym of type is deprecated; in a future version of numpy, it will be understood as (type, (1,)) / '(1,)type'.\n",
      "  _np_qint16 = np.dtype([(\"qint16\", np.int16, 1)])\n",
      "/home/pradip/anaconda3/lib/python3.7/site-packages/tensorboard/compat/tensorflow_stub/dtypes.py:544: FutureWarning: Passing (type, 1) or '1type' as a synonym of type is deprecated; in a future version of numpy, it will be understood as (type, (1,)) / '(1,)type'.\n",
      "  _np_quint16 = np.dtype([(\"quint16\", np.uint16, 1)])\n",
      "/home/pradip/anaconda3/lib/python3.7/site-packages/tensorboard/compat/tensorflow_stub/dtypes.py:545: FutureWarning: Passing (type, 1) or '1type' as a synonym of type is deprecated; in a future version of numpy, it will be understood as (type, (1,)) / '(1,)type'.\n",
      "  _np_qint32 = np.dtype([(\"qint32\", np.int32, 1)])\n",
      "/home/pradip/anaconda3/lib/python3.7/site-packages/tensorboard/compat/tensorflow_stub/dtypes.py:550: FutureWarning: Passing (type, 1) or '1type' as a synonym of type is deprecated; in a future version of numpy, it will be understood as (type, (1,)) / '(1,)type'.\n",
      "  np_resource = np.dtype([(\"resource\", np.ubyte, 1)])\n"
     ]
    }
   ],
   "source": [
    "from keras.datasets import boston_housing\n",
    "from keras import models\n",
    "from keras import layers\n",
    "\n",
    "import matplotlib.pyplot as plt\n",
    "import numpy as np"
   ]
  },
  {
   "cell_type": "code",
   "execution_count": 2,
   "metadata": {},
   "outputs": [
    {
     "name": "stdout",
     "output_type": "stream",
     "text": [
      "Downloading data from https://s3.amazonaws.com/keras-datasets/boston_housing.npz\n",
      "57344/57026 [==============================] - 0s 7us/step\n"
     ]
    }
   ],
   "source": [
    "# Loads data\n",
    "(train_data, train_labels), (test_data, test_labels) = boston_housing.load_data()"
   ]
  },
  {
   "cell_type": "code",
   "execution_count": 3,
   "metadata": {},
   "outputs": [
    {
     "data": {
      "text/plain": [
       "(404, 13)"
      ]
     },
     "execution_count": 3,
     "metadata": {},
     "output_type": "execute_result"
    }
   ],
   "source": [
    "train_data.shape"
   ]
  },
  {
   "cell_type": "code",
   "execution_count": 4,
   "metadata": {},
   "outputs": [
    {
     "data": {
      "text/plain": [
       "(102, 13)"
      ]
     },
     "execution_count": 4,
     "metadata": {},
     "output_type": "execute_result"
    }
   ],
   "source": [
    "test_data.shape"
   ]
  },
  {
   "cell_type": "code",
   "execution_count": 7,
   "metadata": {},
   "outputs": [],
   "source": [
    "# Prepares data\n",
    "\n",
    "# normalizes data\n",
    "train_data_mean = train_data.mean(axis=0)\n",
    "train_data_std = train_data.std(axis=0)\n",
    "train_data -= train_data_mean\n",
    "train_data /= train_data_std\n",
    "\n",
    "test_data -= train_data_mean\n",
    "test_data /= train_data_std\n",
    "\n",
    "# Seperates validation data\n",
    "validation_samples_count = 104\n",
    "x_validation = train_data[:validation_samples_count]\n",
    "x_train = train_data[validation_samples_count:]\n",
    "\n",
    "y_validation = train_labels[:validation_samples_count]\n",
    "y_train = train_labels[validation_samples_count:]"
   ]
  },
  {
   "cell_type": "code",
   "execution_count": 8,
   "metadata": {},
   "outputs": [
    {
     "data": {
      "text/plain": [
       "array([-0.27224633, -0.48361547, -0.43576161, -0.25683275, -0.1652266 ,\n",
       "       -0.1764426 ,  0.81306188,  0.1166983 , -0.62624905, -0.59517003,\n",
       "        1.14850044,  0.44807713,  0.8252202 ])"
      ]
     },
     "execution_count": 8,
     "metadata": {},
     "output_type": "execute_result"
    }
   ],
   "source": [
    "train_data[0]"
   ]
  },
  {
   "cell_type": "code",
   "execution_count": 9,
   "metadata": {},
   "outputs": [],
   "source": [
    " # Creates model\n",
    "    \n",
    "def create_model():\n",
    "    model = models.Sequential()\n",
    "    model.add(layers.Dense(64, activation='relu', input_shape=(train_data.shape[1],)))\n",
    "    model.add(layers.Dense(64, activation='relu'))\n",
    "    model.add(layers.Dense(1))\n",
    "    \n",
    "    model.compile(optimizer='rmsprop', loss='mse', metrics=['mae'])\n",
    "    \n",
    "    return model"
   ]
  },
  {
   "cell_type": "code",
   "execution_count": 10,
   "metadata": {},
   "outputs": [
    {
     "name": "stdout",
     "output_type": "stream",
     "text": [
      "WARNING:tensorflow:From /home/pradip/anaconda3/lib/python3.7/site-packages/keras/backend/tensorflow_backend.py:422: The name tf.global_variables is deprecated. Please use tf.compat.v1.global_variables instead.\n",
      "\n"
     ]
    }
   ],
   "source": [
    "# Trains model with Stand-out Validation\n",
    "\n",
    "epoch_count = 100\n",
    "\n",
    "model = create_model()\n",
    "history = model.fit(x_train, y_train, validation_data=(x_validation, y_validation), \n",
    "                    batch_size=1, epochs=epoch_count, verbose=0)"
   ]
  },
  {
   "cell_type": "code",
   "execution_count": 17,
   "metadata": {},
   "outputs": [
    {
     "data": {
      "text/plain": [
       "dict_keys(['val_loss', 'val_mae', 'loss', 'mae'])"
      ]
     },
     "execution_count": 17,
     "metadata": {},
     "output_type": "execute_result"
    }
   ],
   "source": [
    "history.history.keys()"
   ]
  },
  {
   "cell_type": "code",
   "execution_count": 18,
   "metadata": {},
   "outputs": [
    {
     "data": {
      "text/plain": [
       "2.1182771027088165"
      ]
     },
     "execution_count": 18,
     "metadata": {},
     "output_type": "execute_result"
    }
   ],
   "source": [
    "np.mean(history.history[\"val_mae\"])"
   ]
  },
  {
   "cell_type": "code",
   "execution_count": 21,
   "metadata": {},
   "outputs": [
    {
     "data": {
      "image/png": "[encoded data removed]",
      "text/plain": [
       "<Figure size 432x288 with 1 Axes>"
      ]
     },
     "metadata": {
      "needs_background": "light"
     },
     "output_type": "display_data"
    }
   ],
   "source": [
    "%matplotlib inline\n",
    "\n",
    "plt.plot(range(1, epoch_count + 1), history.history[\"val_mae\"], \"b\", label=\"Validation Loss\")\n",
    "plt.plot(range(1, epoch_count + 1),history.history[\"mae\"], \"bo\", label=\"Training Loss\")\n",
    "plt.title(\"Training and Validation Loss\")\n",
    "plt.xlabel(\"Epochs\")\n",
    "plt.ylabel(\"Validation MAE\")\n",
    "plt.legend()\n",
    "plt.show()"
   ]
  },
  {
   "cell_type": "code",
   "execution_count": 22,
   "metadata": {},
   "outputs": [
    {
     "name": "stdout",
     "output_type": "stream",
     "text": [
      "Processing fold #: 0\n",
      "    Average validation MAE  2.1041031169891355\n",
      "Processing fold #: 1\n",
      "    Average validation MAE  2.537714116573334\n",
      "Processing fold #: 2\n",
      "    Average validation MAE  2.7495487117767334\n",
      "Processing fold #: 3\n",
      "    Average validation MAE  2.5681263542175294\n"
     ]
    }
   ],
   "source": [
    "# Now, trains model with K-Fold Validation\n",
    "\n",
    "k_fold_validation_count = 4\n",
    "\n",
    "def train_model(k_fold_validation_count, epoch_count):\n",
    "    validation_samples_count = len(train_data)//k_fold_validation_count\n",
    "    validation_mae_history = []\n",
    "    for i in range(k_fold_validation_count):\n",
    "        print(\"Processing fold #:\", i)\n",
    "        x_validation = train_data[i * validation_samples_count:(i+1)*validation_samples_count]\n",
    "        y_validation = train_labels[i * validation_samples_count:(i+1)*validation_samples_count]\n",
    "\n",
    "        x_train = np.concatenate(\n",
    "            [train_data[:i*validation_samples_count], train_data[(i+1)*validation_samples_count:]], axis=0)\n",
    "        y_train = np.concatenate(\n",
    "            [train_labels[:i*validation_samples_count], train_labels[(i+1)*validation_samples_count:]], axis=0)\n",
    "\n",
    "        model = create_model()\n",
    "        history = model.fit(x_train, y_train, validation_data=(x_validation, y_validation), \n",
    "                            batch_size=1, epochs=epoch_count, verbose=0)\n",
    "        print(\"    Average validation MAE \", np.average(history.history[\"val_mae\"]))\n",
    "        #validation_mse, validation_mae = model.evaluate(x_validation, y_validation, verbose=0)\n",
    "        validation_mae_history.append(history.history[\"val_mae\"])\n",
    "        \n",
    "    return validation_mae_history\n",
    "\n",
    "validation_mae_history = train_model(4, 100)"
   ]
  },
  {
   "cell_type": "code",
   "execution_count": 23,
   "metadata": {},
   "outputs": [
    {
     "name": "stdout",
     "output_type": "stream",
     "text": [
      "Processing fold #: 0\n",
      "    Average validation MAE  2.287734848022461\n",
      "Processing fold #: 1\n",
      "    Average validation MAE  2.8706929802894594\n",
      "Processing fold #: 2\n",
      "    Average validation MAE  2.860826621055603\n",
      "Processing fold #: 3\n",
      "    Average validation MAE  2.828891839027405\n"
     ]
    },
    {
     "data": {
      "image/png": "[encoded data removed]",
      "text/plain": [
       "<Figure size 432x288 with 1 Axes>"
      ]
     },
     "metadata": {
      "needs_background": "light"
     },
     "output_type": "display_data"
    }
   ],
   "source": [
    "# Now, let's train the model over 500 epochs\n",
    "\n",
    "k_fold_validation_count = 4\n",
    "epoch_count = 500\n",
    "\n",
    "validation_mae_history = train_model(k_fold_validation_count, epoch_count)\n",
    "averaged_mae_across_all_k_fold_validation = np.mean(validation_mae_history, axis=0)\n",
    "\n",
    "plt.plot(range(1, epoch_count + 1), averaged_mae_across_all_k_fold_validation, label=\"Averaged MAE Across All K-fold Validation\")\n",
    "plt.xlabel(\"Epochs\")\n",
    "plt.ylabel(\"Averaged Validation MAE\")\n",
    "plt.legend()\n",
    "plt.show()"
   ]
  },
  {
   "cell_type": "code",
   "execution_count": 39,
   "metadata": {},
   "outputs": [
    {
     "data": {
      "text/plain": [
       "array([4.37867624, 3.22017086, 2.90228927, 2.97433299, 2.86528206,\n",
       "       2.81082463, 2.91342247, 2.58480895, 2.65660566, 2.69696999])"
      ]
     },
     "execution_count": 39,
     "metadata": {},
     "output_type": "execute_result"
    }
   ],
   "source": [
    "averaged_mae_across_all_k_fold_validation[:10]"
   ]
  },
  {
   "cell_type": "code",
   "execution_count": 40,
   "metadata": {},
   "outputs": [
    {
     "data": {
      "image/png": "[encoded data removed]",
      "text/plain": [
       "<Figure size 432x288 with 1 Axes>"
      ]
     },
     "metadata": {
      "needs_background": "light"
     },
     "output_type": "display_data"
    }
   ],
   "source": [
    "# It is difficult to realize the above plat due to MAE scaling issue.\n",
    "# It seems validation MAE is lowest at some epoch between 0 to 100. Let's plot epochs in the range between 25 to 75.\n",
    "\n",
    "plt.plot(range(25, 75), averaged_mae_across_all_k_fold_validation[25:75], \n",
    "         label=\"Averaged MAE Across All K-fold Validation\")\n",
    "plt.xlabel(\"Epochs\")\n",
    "plt.ylabel(\"Averaged Validation MAE\")\n",
    "plt.legend()\n",
    "plt.show()"
   ]
  },
  {
   "cell_type": "code",
   "execution_count": 46,
   "metadata": {},
   "outputs": [
    {
     "data": {
      "text/plain": [
       "52"
      ]
     },
     "execution_count": 46,
     "metadata": {},
     "output_type": "execute_result"
    }
   ],
   "source": [
    "# Let's get that epoch where average MAE is lowest from history\n",
    "\n",
    "epoch_count_min = np.argmin(averaged_mae_across_all_k_fold_validation)\n",
    "# OR epoch = np.where(averaged_mae_across_all_k_fold_validation == averaged_mae_across_all_k_fold_validation.min())\n",
    "\n",
    "epoch_count_min"
   ]
  },
  {
   "cell_type": "code",
   "execution_count": 47,
   "metadata": {},
   "outputs": [
    {
     "name": "stdout",
     "output_type": "stream",
     "text": [
      "Epoch 1/52\n",
      "404/404 [==============================] - 1s 2ms/step - loss: 136.2405 - mae: 8.4679\n",
      "Epoch 2/52\n",
      "404/404 [==============================] - 1s 2ms/step - loss: 22.9251 - mae: 3.0975\n",
      "Epoch 3/52\n",
      "404/404 [==============================] - 1s 2ms/step - loss: 18.9049 - mae: 2.7538\n",
      "Epoch 4/52\n",
      "404/404 [==============================] - 1s 2ms/step - loss: 15.3329 - mae: 2.5860\n",
      "Epoch 5/52\n",
      "404/404 [==============================] - 1s 2ms/step - loss: 14.5902 - mae: 2.4673\n",
      "Epoch 6/52\n",
      "404/404 [==============================] - 1s 2ms/step - loss: 13.2371 - mae: 2.4171\n",
      "Epoch 7/52\n",
      "404/404 [==============================] - 1s 2ms/step - loss: 12.2138 - mae: 2.3383\n",
      "Epoch 8/52\n",
      "404/404 [==============================] - 1s 2ms/step - loss: 12.1968 - mae: 2.3151\n",
      "Epoch 9/52\n",
      "404/404 [==============================] - 1s 2ms/step - loss: 11.5026 - mae: 2.2726\n",
      "Epoch 10/52\n",
      "404/404 [==============================] - 1s 2ms/step - loss: 11.3361 - mae: 2.2357\n",
      "Epoch 11/52\n",
      "404/404 [==============================] - 1s 2ms/step - loss: 10.7591 - mae: 2.1917\n",
      "Epoch 12/52\n",
      "404/404 [==============================] - 1s 2ms/step - loss: 10.6444 - mae: 2.1886\n",
      "Epoch 13/52\n",
      "404/404 [==============================] - 1s 2ms/step - loss: 10.0952 - mae: 2.1225\n",
      "Epoch 14/52\n",
      "404/404 [==============================] - 1s 2ms/step - loss: 10.0418 - mae: 2.0501\n",
      "Epoch 15/52\n",
      "404/404 [==============================] - 1s 2ms/step - loss: 9.4110 - mae: 2.1121\n",
      "Epoch 16/52\n",
      "404/404 [==============================] - 1s 2ms/step - loss: 9.6241 - mae: 2.0292\n",
      "Epoch 17/52\n",
      "404/404 [==============================] - 1s 2ms/step - loss: 9.5973 - mae: 2.0796\n",
      "Epoch 18/52\n",
      "404/404 [==============================] - 1s 2ms/step - loss: 9.0781 - mae: 1.9821\n",
      "Epoch 19/52\n",
      "404/404 [==============================] - 1s 2ms/step - loss: 9.2082 - mae: 1.9815\n",
      "Epoch 20/52\n",
      "404/404 [==============================] - 1s 2ms/step - loss: 8.3252 - mae: 1.9375\n",
      "Epoch 21/52\n",
      "404/404 [==============================] - 1s 2ms/step - loss: 8.8968 - mae: 1.9716\n",
      "Epoch 22/52\n",
      "404/404 [==============================] - 1s 2ms/step - loss: 8.3845 - mae: 1.9234\n",
      "Epoch 23/52\n",
      "404/404 [==============================] - 1s 2ms/step - loss: 8.1345 - mae: 1.9023\n",
      "Epoch 24/52\n",
      "404/404 [==============================] - 1s 2ms/step - loss: 7.8212 - mae: 1.8800\n",
      "Epoch 25/52\n",
      "404/404 [==============================] - 1s 2ms/step - loss: 7.6535 - mae: 1.8632\n",
      "Epoch 26/52\n",
      "404/404 [==============================] - 1s 2ms/step - loss: 8.1982 - mae: 1.8831\n",
      "Epoch 27/52\n",
      "404/404 [==============================] - 1s 2ms/step - loss: 7.9983 - mae: 1.8184\n",
      "Epoch 28/52\n",
      "404/404 [==============================] - 1s 2ms/step - loss: 7.9011 - mae: 1.8351\n",
      "Epoch 29/52\n",
      "404/404 [==============================] - 1s 2ms/step - loss: 7.4502 - mae: 1.8194\n",
      "Epoch 30/52\n",
      "404/404 [==============================] - 1s 2ms/step - loss: 7.5333 - mae: 1.8263\n",
      "Epoch 31/52\n",
      "404/404 [==============================] - 1s 2ms/step - loss: 7.3755 - mae: 1.8208\n",
      "Epoch 32/52\n",
      "404/404 [==============================] - 1s 2ms/step - loss: 7.0866 - mae: 1.7948\n",
      "Epoch 33/52\n",
      "404/404 [==============================] - 1s 2ms/step - loss: 7.8270 - mae: 1.8101\n",
      "Epoch 34/52\n",
      "404/404 [==============================] - 1s 2ms/step - loss: 7.4222 - mae: 1.7534\n",
      "Epoch 35/52\n",
      "404/404 [==============================] - 1s 2ms/step - loss: 6.9556 - mae: 1.7357\n",
      "Epoch 36/52\n",
      "404/404 [==============================] - 1s 2ms/step - loss: 6.3308 - mae: 1.6713\n",
      "Epoch 37/52\n",
      "404/404 [==============================] - 1s 2ms/step - loss: 6.3648 - mae: 1.7274\n",
      "Epoch 38/52\n",
      "404/404 [==============================] - 1s 2ms/step - loss: 6.7530 - mae: 1.6867\n",
      "Epoch 39/52\n",
      "404/404 [==============================] - 1s 2ms/step - loss: 6.5666 - mae: 1.7060\n",
      "Epoch 40/52\n",
      "404/404 [==============================] - 1s 2ms/step - loss: 6.4334 - mae: 1.7172\n",
      "Epoch 41/52\n",
      "404/404 [==============================] - 1s 2ms/step - loss: 6.5802 - mae: 1.6830\n",
      "Epoch 42/52\n",
      "404/404 [==============================] - 1s 2ms/step - loss: 6.5533 - mae: 1.6978\n",
      "Epoch 43/52\n",
      "404/404 [==============================] - 1s 2ms/step - loss: 6.5119 - mae: 1.6657\n",
      "Epoch 44/52\n",
      "404/404 [==============================] - 1s 2ms/step - loss: 6.4510 - mae: 1.6570\n",
      "Epoch 45/52\n",
      "404/404 [==============================] - 1s 2ms/step - loss: 6.2407 - mae: 1.7039\n",
      "Epoch 46/52\n",
      "404/404 [==============================] - 1s 2ms/step - loss: 5.9873 - mae: 1.6310\n",
      "Epoch 47/52\n",
      "404/404 [==============================] - 1s 2ms/step - loss: 5.9796 - mae: 1.6486\n",
      "Epoch 48/52\n",
      "404/404 [==============================] - 1s 2ms/step - loss: 6.1778 - mae: 1.6408\n",
      "Epoch 49/52\n",
      "404/404 [==============================] - 1s 2ms/step - loss: 5.7128 - mae: 1.6190\n",
      "Epoch 50/52\n",
      "404/404 [==============================] - 1s 2ms/step - loss: 6.2066 - mae: 1.6529\n",
      "Epoch 51/52\n",
      "404/404 [==============================] - 1s 2ms/step - loss: 5.7727 - mae: 1.6026\n",
      "Epoch 52/52\n",
      "404/404 [==============================] - 1s 2ms/step - loss: 5.6311 - mae: 1.5712\n",
      "102/102 [==============================] - 0s 463us/step\n"
     ]
    }
   ],
   "source": [
    "# Let's now build the final model with this epoch count after combining validation data back into training data.\n",
    "\n",
    "model = create_model()\n",
    "model.fit(train_data, train_labels, epochs=epoch_count_min, batch_size=1)\n",
    "\n",
    "test_mse, test_mae = model.evaluate(test_data, test_labels)"
   ]
  },
  {
   "cell_type": "code",
   "execution_count": 48,
   "metadata": {},
   "outputs": [
    {
     "name": "stdout",
     "output_type": "stream",
     "text": [
      "Test MSE: 12.966181885962392 , Test MAE: 2.413651704788208\n"
     ]
    }
   ],
   "source": [
    "print(\"Test MSE:\", test_mse, \", Test MAE:\", test_mae)"
   ]
  }
 ],
 "metadata": {
  "kernelspec": {
   "display_name": "Python 3",
   "language": "python",
   "name": "python3"
  },
  "language_info": {
   "codemirror_mode": {
    "name": "ipython",
    "version": 3
   },
   "file_extension": ".py",
   "mimetype": "text/x-python",
   "name": "python",
   "nbconvert_exporter": "python",
   "pygments_lexer": "ipython3",
   "version": "3.7.6"
  }
 },
 "nbformat": 4,
 "nbformat_minor": 4
}
