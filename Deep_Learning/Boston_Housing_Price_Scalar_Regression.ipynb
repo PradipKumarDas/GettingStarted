{
 "cells": [
  {
   "cell_type": "markdown",
   "metadata": {},
   "source": [
    "# Boston Housing Price (Scalar) Regression using Densely Connected Neural Network"
   ]
  },
  {
   "cell_type": "code",
   "execution_count": 4,
   "metadata": {},
   "outputs": [],
   "source": [
    "# Imports required packages\n",
    "\n",
    "from tensorflow.keras.datasets import boston_housing\n",
    "from tensorflow.keras import models\n",
    "from tensorflow.keras import layers\n",
    "\n",
    "import matplotlib.pyplot as plt\n",
    "import numpy as np"
   ]
  },
  {
   "cell_type": "code",
   "execution_count": 5,
   "metadata": {},
   "outputs": [],
   "source": [
    "# Loads preprocessed data\n",
    "\n",
    "(x_train, y_train), (x_test, y_test) = boston_housing.load_data()"
   ]
  },
  {
   "cell_type": "code",
   "execution_count": 6,
   "metadata": {},
   "outputs": [
    {
     "name": "stdout",
     "output_type": "stream",
     "text": [
      "Train data shape: (404, 13) \n",
      "Test data shape: (102, 13)\n"
     ]
    }
   ],
   "source": [
    "# Checks for data shape\n",
    "\n",
    "print(\"Train data shape:\", x_train.shape,\n",
    "      \"\\nTest data shape:\", x_test.shape)"
   ]
  },
  {
   "cell_type": "code",
   "execution_count": 7,
   "metadata": {},
   "outputs": [],
   "source": [
    "# Prepares training and validation data\n",
    "\n",
    "# normalizes data\n",
    "x_train_mean = x_train.mean(axis=0)\n",
    "x_train_std = x_train.std(axis=0)\n",
    "x_train -= x_train_mean\n",
    "x_train /= x_train_std\n",
    "\n",
    "x_test -= x_train_mean\n",
    "x_test /= x_train_std\n",
    "\n",
    "# Seperates validation data\n",
    "val_samples_count = 104\n",
    "\n",
    "x_val = x_train[:val_samples_count]\n",
    "x_train = x_train[val_samples_count:]\n",
    "\n",
    "y_val = y_train[:val_samples_count]\n",
    "y_train = y_train[val_samples_count:]"
   ]
  },
  {
   "cell_type": "code",
   "execution_count": 8,
   "metadata": {},
   "outputs": [
    {
     "name": "stdout",
     "output_type": "stream",
     "text": [
      "Train data shape: (300, 13) \n",
      "Test data shape: (104, 13)\n"
     ]
    }
   ],
   "source": [
    "# Checks for data shape after data split between training and validation\n",
    "\n",
    "print(\"Train data shape:\", x_train.shape,\n",
    "      \"\\nTest data shape:\", x_val.shape)"
   ]
  },
  {
   "cell_type": "code",
   "execution_count": 9,
   "metadata": {},
   "outputs": [],
   "source": [
    "# Function that creates and returms the model\n",
    "    \n",
    "def create_model():\n",
    "    model = models.Sequential()\n",
    "    model.add(layers.Dense(64, activation='relu', input_shape=(x_train.shape[1],)))\n",
    "    model.add(layers.Dense(64, activation='relu'))\n",
    "    model.add(layers.Dense(1))\n",
    "    \n",
    "    model.compile(optimizer='rmsprop', loss='mse', metrics=['mae'])\n",
    "    \n",
    "    return model"
   ]
  },
  {
   "cell_type": "code",
   "execution_count": 43,
   "metadata": {},
   "outputs": [],
   "source": [
    "# Trains model with Stand-out Validation\n",
    "\n",
    "epoch_count = 100\n",
    "\n",
    "model = create_model()\n",
    "\n",
    "history = model.fit(x_train, y_train, \n",
    "                    validation_data=(x_val, y_val), \n",
    "                    batch_size=1, \n",
    "                    epochs=epoch_count, \n",
    "                    verbose=0)"
   ]
  },
  {
   "cell_type": "code",
   "execution_count": 44,
   "metadata": {},
   "outputs": [
    {
     "data": {
      "text/plain": [
       "dict_keys(['loss', 'mae', 'val_loss', 'val_mae'])"
      ]
     },
     "execution_count": 44,
     "metadata": {},
     "output_type": "execute_result"
    }
   ],
   "source": [
    "# Checks for keys in history dictionary\n",
    "\n",
    "history.history.keys()"
   ]
  },
  {
   "cell_type": "code",
   "execution_count": 45,
   "metadata": {
    "scrolled": true
   },
   "outputs": [
    {
     "data": {
      "text/plain": [
       "2.202673131227493"
      ]
     },
     "execution_count": 45,
     "metadata": {},
     "output_type": "execute_result"
    }
   ],
   "source": [
    "# Checks for mean of validation loss\n",
    "\n",
    "np.mean(history.history[\"val_mae\"])"
   ]
  },
  {
   "cell_type": "code",
   "execution_count": 46,
   "metadata": {},
   "outputs": [
    {
     "data": {
      "image/png": "[encoded data removed]",
      "text/plain": [
       "<Figure size 432x288 with 1 Axes>"
      ]
     },
     "metadata": {
      "needs_background": "light"
     },
     "output_type": "display_data"
    },
    {
     "data": {
      "image/png": "[encoded data removed]",
      "text/plain": [
       "<Figure size 432x288 with 1 Axes>"
      ]
     },
     "metadata": {
      "needs_background": "light"
     },
     "output_type": "display_data"
    }
   ],
   "source": [
    "%matplotlib inline\n",
    "\n",
    "plt.plot(range(1, epoch_count + 1), history.history[\"val_loss\"], \"b\", label=\"Validation Loss\")\n",
    "plt.plot(range(1, epoch_count + 1),history.history[\"loss\"], \"bo\", label=\"Training Loss\")\n",
    "plt.title(\"Training and Validation Loss\")\n",
    "plt.xlabel(\"Epochs\")\n",
    "plt.ylabel(\"Loss\")\n",
    "plt.legend()\n",
    "plt.figure()\n",
    "\n",
    "plt.plot(range(1, epoch_count + 1), history.history[\"val_mae\"], \"b\", label=\"Validation Error\")\n",
    "plt.plot(range(1, epoch_count + 1),history.history[\"mae\"], \"bo\", label=\"Training Error\")\n",
    "plt.title(\"Training and Validation Error\")\n",
    "plt.xlabel(\"Epochs\")\n",
    "plt.ylabel(\"MAE\")\n",
    "plt.legend()\n",
    "\n",
    "plt.show()"
   ]
  },
  {
   "cell_type": "markdown",
   "metadata": {},
   "source": [
    "### Now, let's perform the training over K-fold Validation to get averaged validation accuracy"
   ]
  },
  {
   "cell_type": "code",
   "execution_count": 17,
   "metadata": {},
   "outputs": [],
   "source": [
    "# The function that trains model with K-Fold Validation\n",
    "\n",
    "def train_model(k_fold_val_count, epoch_count):\n",
    "    val_samples_count = len(x_train)//k_fold_val_count\n",
    "    val_mae_history = []\n",
    "    for i in range(k_fold_val_count):\n",
    "        print(\"Processing fold\", i+1, \"out of\", k_fold_val_count, \"...\")\n",
    "        x_val_folded = x_train[i * val_samples_count:(i+1) * val_samples_count]\n",
    "        y_val_folded = y_train[i * val_samples_count:(i+1) * val_samples_count]\n",
    "\n",
    "        x_train_folded = np.concatenate(\n",
    "            [x_train[:i*val_samples_count], x_train[(i+1)*val_samples_count:]], axis=0)\n",
    "        y_train_folded = np.concatenate(\n",
    "            [y_train[:i*val_samples_count], y_train[(i+1)*val_samples_count:]], axis=0)\n",
    "\n",
    "        model = create_model()\n",
    "        history = model.fit(x_train_folded, y_train_folded, \n",
    "                            validation_data=(x_val_folded, y_val_folded), \n",
    "                            batch_size=1, epochs=epoch_count, verbose=0)\n",
    "        print(\"    Average validation MAE \", np.average(history.history[\"val_mae\"]))\n",
    "        #validation_mse, validation_mae = model.evaluate(x_validation, y_validation, verbose=0)\n",
    "        val_mae_history.append(history.history[\"val_mae\"])\n",
    "        \n",
    "    return val_mae_history"
   ]
  },
  {
   "cell_type": "code",
   "execution_count": 11,
   "metadata": {},
   "outputs": [],
   "source": [
    "# But before performing K-fold validation based training, lets joins back already splitted \n",
    "# training and validation data because the process itself decides on splitting on the data\n",
    "\n",
    "x_train = np.concatenate([x_train, x_val], axis=0)\n",
    "y_train = np.concatenate([y_train, y_val], axis=0)"
   ]
  },
  {
   "cell_type": "markdown",
   "metadata": {},
   "source": [
    "### INFORMATION:\n",
    "#### Below method <em>\"train_model</em>\" uses K-fold validation approach and takes longer to train the model on CPU. You may consider this notebook to run over GPU configuration."
   ]
  },
  {
   "cell_type": "code",
   "execution_count": 18,
   "metadata": {},
   "outputs": [
    {
     "name": "stdout",
     "output_type": "stream",
     "text": [
      "Processing fold  1 out of 4\n",
      "    Average validation MAE  2.449280090332031\n",
      "Processing fold  2 out of 4\n",
      "    Average validation MAE  2.8060847473144532\n",
      "Processing fold  3 out of 4\n",
      "    Average validation MAE  2.679091444015503\n",
      "Processing fold  4 out of 4\n",
      "    Average validation MAE  2.0672685825824737\n"
     ]
    }
   ],
   "source": [
    "# Now, let's train the model over 100 epochs\n",
    "\n",
    "k_fold_val_count = 4\n",
    "epoch_count = 100\n",
    "\n",
    "val_mae_history = train_model(k_fold_val_count, epoch_count)\n",
    "\n",
    "averaged_mae_across_all_k_fold_validation = np.mean(val_mae_history, axis=0)"
   ]
  },
  {
   "cell_type": "code",
   "execution_count": 19,
   "metadata": {},
   "outputs": [
    {
     "data": {
      "image/png": "[encoded data removed]",
      "text/plain": [
       "<Figure size 432x288 with 1 Axes>"
      ]
     },
     "metadata": {
      "needs_background": "light"
     },
     "output_type": "display_data"
    }
   ],
   "source": [
    "# Plots the training and validation performance\n",
    "\n",
    "plt.plot(range(1, epoch_count+1), \n",
    "         averaged_mae_across_all_k_fold_validation, \n",
    "         label=\"Averaged MAE Across All K-fold Validation\")\n",
    "plt.xlabel(\"Epochs\")\n",
    "plt.ylabel(\"Averaged Validation MAE\")\n",
    "plt.legend()\n",
    "plt.show()"
   ]
  },
  {
   "cell_type": "code",
   "execution_count": 21,
   "metadata": {},
   "outputs": [
    {
     "name": "stdout",
     "output_type": "stream",
     "text": [
      "81\n"
     ]
    }
   ],
   "source": [
    "# Let's get that epoch where average MAE is lowest from history\n",
    "\n",
    "epoch_count_min = np.argmin(averaged_mae_across_all_k_fold_validation)\n",
    "# OR epoch = np.where(averaged_mae_across_all_k_fold_validation == averaged_mae_across_all_k_fold_validation.min())\n",
    "\n",
    "print(epoch_count_min)"
   ]
  },
  {
   "cell_type": "code",
   "execution_count": 24,
   "metadata": {},
   "outputs": [
    {
     "data": {
      "text/plain": [
       "<tensorflow.python.keras.callbacks.History at 0x7fe39d5350d0>"
      ]
     },
     "execution_count": 24,
     "metadata": {},
     "output_type": "execute_result"
    }
   ],
   "source": [
    "# From the plot it is observed that validation performance does not improve after 20th epochs.\n",
    "# Let's now build the final model with 50 epochs\n",
    "\n",
    "epoch_count_min = 50\n",
    "model = create_model()\n",
    "model.fit(x_train, y_train, epochs=epoch_count_min, batch_size=1, verbose=0)"
   ]
  },
  {
   "cell_type": "code",
   "execution_count": 25,
   "metadata": {},
   "outputs": [
    {
     "name": "stdout",
     "output_type": "stream",
     "text": [
      "4/4 [==============================] - 0s 3ms/step - loss: 15.7942 - mae: 2.3423\n"
     ]
    }
   ],
   "source": [
    "# And, then test the above model against test data\n",
    "\n",
    "test_mse, test_mae = model.evaluate(x_test, y_test)"
   ]
  },
  {
   "cell_type": "code",
   "execution_count": 26,
   "metadata": {},
   "outputs": [
    {
     "name": "stdout",
     "output_type": "stream",
     "text": [
      "Test MSE: 15.794160842895508 , Test MAE: 2.3423290252685547\n"
     ]
    }
   ],
   "source": [
    "print(\"Test MSE:\", test_mse, \", Test MAE:\", test_mae)"
   ]
  },
  {
   "cell_type": "code",
   "execution_count": null,
   "metadata": {},
   "outputs": [],
   "source": []
  }
 ],
 "metadata": {
  "kernelspec": {
   "display_name": "Python 3",
   "language": "python",
   "name": "python3"
  },
  "language_info": {
   "codemirror_mode": {
    "name": "ipython",
    "version": 3
   },
   "file_extension": ".py",
   "mimetype": "text/x-python",
   "name": "python",
   "nbconvert_exporter": "python",
   "pygments_lexer": "ipython3",
   "version": "3.7.10"
  }
 },
 "nbformat": 4,
 "nbformat_minor": 4
}
